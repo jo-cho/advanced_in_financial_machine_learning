{
  "nbformat": 4,
  "nbformat_minor": 0,
  "metadata": {
    "colab": {
      "name": "Bet sizing 2",
      "provenance": [],
      "collapsed_sections": [],
      "authorship_tag": "ABX9TyOV5dOtUU+2zbK9BkSX+njA",
      "include_colab_link": true
    },
    "kernelspec": {
      "name": "python3",
      "display_name": "Python 3"
    },
    "accelerator": "GPU"
  },
  "cells": [
    {
      "cell_type": "markdown",
      "metadata": {
        "id": "view-in-github",
        "colab_type": "text"
      },
      "source": [
        "<a href=\"https://colab.research.google.com/github/jo-cho/advances_in_financial_machine_learning/blob/master/Bet_sizing_2.ipynb\" target=\"_parent\"><img src=\"https://colab.research.google.com/assets/colab-badge.svg\" alt=\"Open In Colab\"/></a>"
      ]
    },
    {
      "cell_type": "code",
      "metadata": {
        "id": "5bthg3s23JVw",
        "colab_type": "code",
        "colab": {}
      },
      "source": [
        "# lib\n",
        "import numpy as np\n",
        "import pandas as pd\n",
        "import datetime as dt\n",
        "import matplotlib.pyplot as plt\n",
        "%matplotlib inline\n",
        "import seaborn as sns; sns.set()"
      ],
      "execution_count": 0,
      "outputs": []
    },
    {
      "cell_type": "code",
      "metadata": {
        "id": "P_w5609_w735",
        "colab_type": "code",
        "colab": {}
      },
      "source": [
        "# sklearn\n",
        "\n",
        "from sklearn.decomposition import PCA\n",
        "from sklearn.model_selection import StratifiedKFold\n",
        "from sklearn.model_selection import train_test_split\n",
        "from sklearn.ensemble import RandomForestClassifier, BaggingClassifier\n",
        "from sklearn.metrics import roc_curve, confusion_matrix, accuracy_score, classification_report\n",
        "from sklearn.model_selection import GridSearchCV, RandomizedSearchCV\n",
        "from sklearn import metrics"
      ],
      "execution_count": 0,
      "outputs": []
    },
    {
      "cell_type": "code",
      "metadata": {
        "id": "lefH2Ji6WyLw",
        "colab_type": "code",
        "colab": {}
      },
      "source": [
        "import warnings\n",
        "warnings.filterwarnings(action='ignore')"
      ],
      "execution_count": 0,
      "outputs": []
    },
    {
      "cell_type": "code",
      "metadata": {
        "id": "KvpQ32OS2joc",
        "colab_type": "code",
        "outputId": "7044a299-29aa-4b02-b1d8-04f0bef10c1a",
        "colab": {
          "base_uri": "https://localhost:8080/",
          "height": 128
        }
      },
      "source": [
        "from google.colab import drive\n",
        "drive.mount('/content/drive')"
      ],
      "execution_count": 4,
      "outputs": [
        {
          "output_type": "stream",
          "text": [
            "Go to this URL in a browser: https://accounts.google.com/o/oauth2/auth?client_id=947318989803-6bn6qk8qdgf4n4g3pfee6491hc0brc4i.apps.googleusercontent.com&redirect_uri=urn%3aietf%3awg%3aoauth%3a2.0%3aoob&response_type=code&scope=email%20https%3a%2f%2fwww.googleapis.com%2fauth%2fdocs.test%20https%3a%2f%2fwww.googleapis.com%2fauth%2fdrive%20https%3a%2f%2fwww.googleapis.com%2fauth%2fdrive.photos.readonly%20https%3a%2f%2fwww.googleapis.com%2fauth%2fpeopleapi.readonly\n",
            "\n",
            "Enter your authorization code:\n",
            "··········\n",
            "Mounted at /content/drive\n"
          ],
          "name": "stdout"
        }
      ]
    },
    {
      "cell_type": "code",
      "metadata": {
        "id": "J5F9VG8B2oB0",
        "colab_type": "code",
        "outputId": "df9a5678-5ebe-47ae-e0aa-7e209fe45375",
        "colab": {
          "base_uri": "https://localhost:8080/",
          "height": 128
        }
      },
      "source": [
        "# Thanks to mlfinlab!\n",
        "\n",
        "!pip install mlfinlab\n",
        "from mlfinlab import data_structures, features, filters, labeling, util, sampling"
      ],
      "execution_count": 5,
      "outputs": [
        {
          "output_type": "stream",
          "text": [
            "Collecting mlfinlab\n",
            "\u001b[?25l  Downloading https://files.pythonhosted.org/packages/18/68/0de1f93abffe540476ee8032511913dac57189dd764ab7750225be859816/mlfinlab-0.5.0-py3-none-any.whl (149kB)\n",
            "\r\u001b[K     |██▏                             | 10kB 34.0MB/s eta 0:00:01\r\u001b[K     |████▍                           | 20kB 2.2MB/s eta 0:00:01\r\u001b[K     |██████▋                         | 30kB 3.2MB/s eta 0:00:01\r\u001b[K     |████████▊                       | 40kB 2.1MB/s eta 0:00:01\r\u001b[K     |███████████                     | 51kB 2.6MB/s eta 0:00:01\r\u001b[K     |█████████████▏                  | 61kB 3.1MB/s eta 0:00:01\r\u001b[K     |███████████████▍                | 71kB 3.6MB/s eta 0:00:01\r\u001b[K     |█████████████████▌              | 81kB 4.1MB/s eta 0:00:01\r\u001b[K     |███████████████████▊            | 92kB 4.6MB/s eta 0:00:01\r\u001b[K     |██████████████████████          | 102kB 3.5MB/s eta 0:00:01\r\u001b[K     |████████████████████████▏       | 112kB 3.5MB/s eta 0:00:01\r\u001b[K     |██████████████████████████▎     | 122kB 3.5MB/s eta 0:00:01\r\u001b[K     |████████████████████████████▌   | 133kB 3.5MB/s eta 0:00:01\r\u001b[K     |██████████████████████████████▊ | 143kB 3.5MB/s eta 0:00:01\r\u001b[K     |████████████████████████████████| 153kB 3.5MB/s \n",
            "\u001b[?25hInstalling collected packages: mlfinlab\n",
            "Successfully installed mlfinlab-0.5.0\n"
          ],
          "name": "stdout"
        }
      ]
    },
    {
      "cell_type": "markdown",
      "metadata": {
        "id": "twYwXobOVmCG",
        "colab_type": "text"
      },
      "source": [
        "## META-LABELING"
      ]
    },
    {
      "cell_type": "markdown",
      "metadata": {
        "id": "NeFHQgICirXE",
        "colab_type": "text"
      },
      "source": [
        "### What is meta labeling?"
      ]
    },
    {
      "cell_type": "markdown",
      "metadata": {
        "id": "sEmeWgLwuKo_",
        "colab_type": "text"
      },
      "source": [
        "The first step is to train a primary model (binary classification). \n",
        "\n",
        "Second a threshold level is determined at which the primary model has a high recall, in the coded example you will find that 0.30 is a good threshold, ROC curves could be used to help determine a good level. \n",
        "\n",
        "Third the features from the first model are concatenated with the predictions from the first model, into a new feature set for the secondary model. Meta Labels are used as the target variable in the second model. \n",
        "Now fit the second model. \n",
        "\n",
        "Fourth the prediction from the secondary model is combined with the prediction from the primary model and only where both are true, is your final prediction true. I.e. if your primary model predicts a 3 and your secondary model says you have a high probability of the primary model being correct, is your final prediction a 3, else not 3."
      ]
    },
    {
      "cell_type": "markdown",
      "metadata": {
        "id": "XYj34cC_8aR4",
        "colab_type": "text"
      },
      "source": [
        "Binary classification problems present a trade-off between type-I errors (false positives) and type-II errors (false negatives). In general, increasing the true positive rate of a binary classifier will tend to increase its false positive rate. The receiver operating characteristic (ROC) curve of a binary classifier measures the cost of increasing the true positive rate, in terms of accepting higher false positive rates.\n",
        "\n",
        "Meta-labeling is particularly helpful when you want to achieve higher F1-scores. First, we build a model that achieves high recall, even if the precision is not particularly high. Second, we correct for the low precision by applying meta-labeling to the positives predicted by the primary model."
      ]
    },
    {
      "cell_type": "code",
      "metadata": {
        "id": "lpnKi3rNfYf4",
        "colab_type": "code",
        "outputId": "d72944aa-0da8-4782-f2c8-fd7913481b81",
        "colab": {
          "base_uri": "https://localhost:8080/",
          "height": 697
        }
      },
      "source": [
        "from IPython.core.display import Image\n",
        "Image(filename='/content/drive/My Drive/Colab Notebooks/images/meta-labeling.png')"
      ],
      "execution_count": 6,
      "outputs": [
        {
          "output_type": "execute_result",
          "data": {
            "image/png": "[encoded data removed]",
            "text/plain": [
              "<IPython.core.display.Image object>"
            ]
          },
          "metadata": {
            "tags": []
          },
          "execution_count": 6
        }
      ]
    },
    {
      "cell_type": "markdown",
      "metadata": {
        "id": "PsrMWBgNhBgE",
        "colab_type": "text"
      },
      "source": [
        "### Read in data - dollar bars"
      ]
    },
    {
      "cell_type": "code",
      "metadata": {
        "id": "Lypoa5PW2xIg",
        "colab_type": "code",
        "outputId": "e2c6f6cd-98a9-4261-8ffe-763669838cae",
        "colab": {
          "base_uri": "https://localhost:8080/",
          "height": 90
        }
      },
      "source": [
        "# make dollar bars from tick data\n",
        "raw_dollar_bars = data_structures.get_dollar_bars('/content/drive/My Drive/Colab Notebooks/csv/clean_IVE_tickbidask2.csv', threshold=1_000_000)\n",
        "dollar_bars = raw_dollar_bars.set_index(pd.to_datetime(raw_dollar_bars.date_time))\n",
        "dollar_bars = dollar_bars.drop(columns='date_time')\n",
        "dollar_bars = dollar_bars.reset_index().drop_duplicates(subset='date_time', keep='last').set_index('date_time')"
      ],
      "execution_count": 7,
      "outputs": [
        {
          "output_type": "stream",
          "text": [
            "Reading data in batches:\n",
            "Batch number: 0\n",
            "Returning bars \n",
            "\n"
          ],
          "name": "stdout"
        }
      ]
    },
    {
      "cell_type": "code",
      "metadata": {
        "id": "6J1aOceRiGr7",
        "colab_type": "code",
        "outputId": "0cd3ead4-2af9-4ea5-847e-a7fa7326599e",
        "colab": {
          "base_uri": "https://localhost:8080/",
          "height": 228
        }
      },
      "source": [
        "dollar_bars.head()"
      ],
      "execution_count": 8,
      "outputs": [
        {
          "output_type": "execute_result",
          "data": {
            "text/html": [
              "<div>\n",
              "<style scoped>\n",
              "    .dataframe tbody tr th:only-of-type {\n",
              "        vertical-align: middle;\n",
              "    }\n",
              "\n",
              "    .dataframe tbody tr th {\n",
              "        vertical-align: top;\n",
              "    }\n",
              "\n",
              "    .dataframe thead th {\n",
              "        text-align: right;\n",
              "    }\n",
              "</style>\n",
              "<table border=\"1\" class=\"dataframe\">\n",
              "  <thead>\n",
              "    <tr style=\"text-align: right;\">\n",
              "      <th></th>\n",
              "      <th>tick_num</th>\n",
              "      <th>open</th>\n",
              "      <th>high</th>\n",
              "      <th>low</th>\n",
              "      <th>close</th>\n",
              "      <th>volume</th>\n",
              "      <th>cum_buy_volume</th>\n",
              "      <th>cum_ticks</th>\n",
              "      <th>cum_dollar_value</th>\n",
              "    </tr>\n",
              "    <tr>\n",
              "      <th>date_time</th>\n",
              "      <th></th>\n",
              "      <th></th>\n",
              "      <th></th>\n",
              "      <th></th>\n",
              "      <th></th>\n",
              "      <th></th>\n",
              "      <th></th>\n",
              "      <th></th>\n",
              "      <th></th>\n",
              "    </tr>\n",
              "  </thead>\n",
              "  <tbody>\n",
              "    <tr>\n",
              "      <th>2009-09-28 09:46:35</th>\n",
              "      <td>62</td>\n",
              "      <td>50.79</td>\n",
              "      <td>51.07</td>\n",
              "      <td>50.710</td>\n",
              "      <td>51.07</td>\n",
              "      <td>19844</td>\n",
              "      <td>13264</td>\n",
              "      <td>62</td>\n",
              "      <td>1.010425e+06</td>\n",
              "    </tr>\n",
              "    <tr>\n",
              "      <th>2009-09-28 09:53:49</th>\n",
              "      <td>108</td>\n",
              "      <td>51.07</td>\n",
              "      <td>51.15</td>\n",
              "      <td>51.050</td>\n",
              "      <td>51.14</td>\n",
              "      <td>20324</td>\n",
              "      <td>16274</td>\n",
              "      <td>46</td>\n",
              "      <td>1.038593e+06</td>\n",
              "    </tr>\n",
              "    <tr>\n",
              "      <th>2009-09-28 09:55:26</th>\n",
              "      <td>143</td>\n",
              "      <td>51.14</td>\n",
              "      <td>51.15</td>\n",
              "      <td>51.129</td>\n",
              "      <td>51.14</td>\n",
              "      <td>19622</td>\n",
              "      <td>13098</td>\n",
              "      <td>35</td>\n",
              "      <td>1.003401e+06</td>\n",
              "    </tr>\n",
              "    <tr>\n",
              "      <th>2009-09-28 10:02:52</th>\n",
              "      <td>201</td>\n",
              "      <td>51.14</td>\n",
              "      <td>51.26</td>\n",
              "      <td>51.080</td>\n",
              "      <td>51.25</td>\n",
              "      <td>22319</td>\n",
              "      <td>17454</td>\n",
              "      <td>58</td>\n",
              "      <td>1.142880e+06</td>\n",
              "    </tr>\n",
              "    <tr>\n",
              "      <th>2009-09-28 10:10:21</th>\n",
              "      <td>254</td>\n",
              "      <td>51.25</td>\n",
              "      <td>51.29</td>\n",
              "      <td>51.190</td>\n",
              "      <td>51.29</td>\n",
              "      <td>21519</td>\n",
              "      <td>14254</td>\n",
              "      <td>53</td>\n",
              "      <td>1.103149e+06</td>\n",
              "    </tr>\n",
              "  </tbody>\n",
              "</table>\n",
              "</div>"
            ],
            "text/plain": [
              "                     tick_num   open  ...  cum_ticks  cum_dollar_value\n",
              "date_time                             ...                             \n",
              "2009-09-28 09:46:35        62  50.79  ...         62      1.010425e+06\n",
              "2009-09-28 09:53:49       108  51.07  ...         46      1.038593e+06\n",
              "2009-09-28 09:55:26       143  51.14  ...         35      1.003401e+06\n",
              "2009-09-28 10:02:52       201  51.14  ...         58      1.142880e+06\n",
              "2009-09-28 10:10:21       254  51.25  ...         53      1.103149e+06\n",
              "\n",
              "[5 rows x 9 columns]"
            ]
          },
          "metadata": {
            "tags": []
          },
          "execution_count": 8
        }
      ]
    },
    {
      "cell_type": "code",
      "metadata": {
        "id": "oYC5u9X5jqc5",
        "colab_type": "code",
        "colab": {}
      },
      "source": [
        "close = dollar_bars.close"
      ],
      "execution_count": 0,
      "outputs": []
    },
    {
      "cell_type": "markdown",
      "metadata": {
        "id": "aovQU2FLhcYp",
        "colab_type": "text"
      },
      "source": [
        "### Primary model (side) \n",
        "- Based on the simple moving average cross-over strategy."
      ]
    },
    {
      "cell_type": "code",
      "metadata": {
        "id": "RVZiwS-dPhzs",
        "colab_type": "code",
        "colab": {}
      },
      "source": [
        "fast_window = 20\n",
        "slow_window = 50\n",
        "\n",
        "df = pd.DataFrame()\n",
        "df['fast_mavg'] = close.rolling(window=fast_window, min_periods=fast_window, center=False).mean()\n",
        "df['slow_mavg'] = close.rolling(window=slow_window, min_periods=slow_window, center=False).mean()\n",
        "df['side'] = np.nan\n",
        "\n",
        "long_signals = df['fast_mavg'] >= df['slow_mavg'] \n",
        "short_signals = df['fast_mavg'] < df['slow_mavg'] \n",
        "df.loc[long_signals, 'side'] = 1\n",
        "df.loc[short_signals, 'side'] = -1\n",
        "\n",
        "df['side'] = df['side'].shift(1)\n",
        "\n",
        "side = df['side']"
      ],
      "execution_count": 0,
      "outputs": []
    },
    {
      "cell_type": "code",
      "metadata": {
        "id": "gDT_ozxvj7eU",
        "colab_type": "code",
        "outputId": "aa27ebe2-34ef-4412-a0d3-93e8d468a3e7",
        "colab": {
          "base_uri": "https://localhost:8080/",
          "height": 72
        }
      },
      "source": [
        "side.value_counts()"
      ],
      "execution_count": 11,
      "outputs": [
        {
          "output_type": "execute_result",
          "data": {
            "text/plain": [
              " 1.0    32190\n",
              "-1.0    26367\n",
              "Name: side, dtype: int64"
            ]
          },
          "metadata": {
            "tags": []
          },
          "execution_count": 11
        }
      ]
    },
    {
      "cell_type": "code",
      "metadata": {
        "id": "pT2NSRXx24iv",
        "colab_type": "code",
        "colab": {}
      },
      "source": [
        "# form a tripple-barrier\n",
        "pt_sl = [1,2]\n",
        "\n",
        "target = util.get_daily_vol(close,lookback=50)\n",
        "\n",
        "h = target.mean()*0.5\n",
        "t_events = filters.cusum_filter(close, h) # using symmetric cusum filter get t_events\n",
        "\n",
        "vertical_barrier_times = labeling.add_vertical_barrier(t_events, close, num_days=1)"
      ],
      "execution_count": 0,
      "outputs": []
    },
    {
      "cell_type": "code",
      "metadata": {
        "id": "uAn2kWFFWZZv",
        "colab_type": "code",
        "outputId": "ace369b5-98c9-45a9-bb8e-054c75b8ce54",
        "colab": {
          "base_uri": "https://localhost:8080/",
          "height": 35
        }
      },
      "source": [
        "# events\n",
        "min_ret = 0.005\n",
        "\n",
        "events = labeling.get_events(close, t_events, pt_sl, target, min_ret, num_threads=3, \n",
        "                             vertical_barrier_times = vertical_barrier_times ,side_prediction = side)\n",
        "\n",
        "# label (bin)\n",
        "\n",
        "bin = labeling.get_bins(events, close)"
      ],
      "execution_count": 13,
      "outputs": [
        {
          "output_type": "stream",
          "text": [
            "2020-01-25 06:26:18.007255 100.0% apply_pt_sl_on_t1 done after 0.22 minutes. Remaining 0.0 minutes.\n"
          ],
          "name": "stderr"
        }
      ]
    },
    {
      "cell_type": "code",
      "metadata": {
        "id": "p-p8yHmHW0M7",
        "colab_type": "code",
        "outputId": "7e0926ea-9401-45e7-c56f-0aeaca58dfc7",
        "colab": {
          "base_uri": "https://localhost:8080/",
          "height": 288
        }
      },
      "source": [
        "bin.describe()"
      ],
      "execution_count": 14,
      "outputs": [
        {
          "output_type": "execute_result",
          "data": {
            "text/html": [
              "<div>\n",
              "<style scoped>\n",
              "    .dataframe tbody tr th:only-of-type {\n",
              "        vertical-align: middle;\n",
              "    }\n",
              "\n",
              "    .dataframe tbody tr th {\n",
              "        vertical-align: top;\n",
              "    }\n",
              "\n",
              "    .dataframe thead th {\n",
              "        text-align: right;\n",
              "    }\n",
              "</style>\n",
              "<table border=\"1\" class=\"dataframe\">\n",
              "  <thead>\n",
              "    <tr style=\"text-align: right;\">\n",
              "      <th></th>\n",
              "      <th>ret</th>\n",
              "      <th>trgt</th>\n",
              "      <th>bin</th>\n",
              "      <th>side</th>\n",
              "    </tr>\n",
              "  </thead>\n",
              "  <tbody>\n",
              "    <tr>\n",
              "      <th>count</th>\n",
              "      <td>6404.000000</td>\n",
              "      <td>6410.000000</td>\n",
              "      <td>6410.000000</td>\n",
              "      <td>6404.000000</td>\n",
              "    </tr>\n",
              "    <tr>\n",
              "      <th>mean</th>\n",
              "      <td>-0.000117</td>\n",
              "      <td>0.009983</td>\n",
              "      <td>0.312012</td>\n",
              "      <td>-0.059963</td>\n",
              "    </tr>\n",
              "    <tr>\n",
              "      <th>std</th>\n",
              "      <td>0.013082</td>\n",
              "      <td>0.006454</td>\n",
              "      <td>0.463351</td>\n",
              "      <td>0.998279</td>\n",
              "    </tr>\n",
              "    <tr>\n",
              "      <th>min</th>\n",
              "      <td>-0.237752</td>\n",
              "      <td>0.005000</td>\n",
              "      <td>0.000000</td>\n",
              "      <td>-1.000000</td>\n",
              "    </tr>\n",
              "    <tr>\n",
              "      <th>25%</th>\n",
              "      <td>-0.007115</td>\n",
              "      <td>0.006446</td>\n",
              "      <td>0.000000</td>\n",
              "      <td>-1.000000</td>\n",
              "    </tr>\n",
              "    <tr>\n",
              "      <th>50%</th>\n",
              "      <td>0.001033</td>\n",
              "      <td>0.008225</td>\n",
              "      <td>0.000000</td>\n",
              "      <td>-1.000000</td>\n",
              "    </tr>\n",
              "    <tr>\n",
              "      <th>75%</th>\n",
              "      <td>0.007684</td>\n",
              "      <td>0.011075</td>\n",
              "      <td>1.000000</td>\n",
              "      <td>1.000000</td>\n",
              "    </tr>\n",
              "    <tr>\n",
              "      <th>max</th>\n",
              "      <td>0.373211</td>\n",
              "      <td>0.094337</td>\n",
              "      <td>1.000000</td>\n",
              "      <td>1.000000</td>\n",
              "    </tr>\n",
              "  </tbody>\n",
              "</table>\n",
              "</div>"
            ],
            "text/plain": [
              "               ret         trgt          bin         side\n",
              "count  6404.000000  6410.000000  6410.000000  6404.000000\n",
              "mean     -0.000117     0.009983     0.312012    -0.059963\n",
              "std       0.013082     0.006454     0.463351     0.998279\n",
              "min      -0.237752     0.005000     0.000000    -1.000000\n",
              "25%      -0.007115     0.006446     0.000000    -1.000000\n",
              "50%       0.001033     0.008225     0.000000    -1.000000\n",
              "75%       0.007684     0.011075     1.000000     1.000000\n",
              "max       0.373211     0.094337     1.000000     1.000000"
            ]
          },
          "metadata": {
            "tags": []
          },
          "execution_count": 14
        }
      ]
    },
    {
      "cell_type": "code",
      "metadata": {
        "id": "k-vX3SkcXYOF",
        "colab_type": "code",
        "colab": {}
      },
      "source": [
        "bin.dropna(inplace=True)"
      ],
      "execution_count": 0,
      "outputs": []
    },
    {
      "cell_type": "code",
      "metadata": {
        "id": "i2chOOmHXUAZ",
        "colab_type": "code",
        "outputId": "f8795d04-2931-4bd7-c65a-a4254a228f01",
        "colab": {
          "base_uri": "https://localhost:8080/",
          "height": 72
        }
      },
      "source": [
        "bin.side.value_counts()"
      ],
      "execution_count": 16,
      "outputs": [
        {
          "output_type": "execute_result",
          "data": {
            "text/plain": [
              "-1.0    3394\n",
              " 1.0    3010\n",
              "Name: side, dtype: int64"
            ]
          },
          "metadata": {
            "tags": []
          },
          "execution_count": 16
        }
      ]
    },
    {
      "cell_type": "code",
      "metadata": {
        "id": "rWR7vJWEWnJX",
        "colab_type": "code",
        "outputId": "c6e8c1ce-8e7f-4994-f576-6cf83d578e0a",
        "colab": {
          "base_uri": "https://localhost:8080/",
          "height": 72
        }
      },
      "source": [
        "bin.bin.value_counts()"
      ],
      "execution_count": 17,
      "outputs": [
        {
          "output_type": "execute_result",
          "data": {
            "text/plain": [
              "0    4404\n",
              "1    2000\n",
              "Name: bin, dtype: int64"
            ]
          },
          "metadata": {
            "tags": []
          },
          "execution_count": 17
        }
      ]
    },
    {
      "cell_type": "code",
      "metadata": {
        "id": "wfxFGLbAqC-t",
        "colab_type": "code",
        "colab": {}
      },
      "source": [
        "raw_data = pd.DataFrame(close)\n",
        "\n",
        "log_ret = np.log(raw_data['close']).diff()\n",
        "\n",
        "# Momentum\n",
        "raw_data['mom1'] = raw_data['close'].pct_change(periods=1)\n",
        "raw_data['mom2'] = raw_data['close'].pct_change(periods=2)\n",
        "raw_data['mom3'] = raw_data['close'].pct_change(periods=3)\n",
        "\n",
        "# Volatility\n",
        "raw_data['volatility_50'] = log_ret.rolling(window=50, min_periods=50, center=False).std()\n",
        "raw_data['volatility_31'] = log_ret.rolling(window=31, min_periods=31, center=False).std()\n",
        "raw_data['volatility_15'] = log_ret.rolling(window=15, min_periods=15, center=False).std()\n",
        "\n",
        "# Serial Correlation\n",
        "window_autocorr = 50\n",
        "\n",
        "raw_data['autocorr_1'] = log_ret.rolling(window=window_autocorr, min_periods=window_autocorr, center=False).apply(lambda x: x.autocorr(lag=1), raw=False)\n",
        "raw_data['autocorr_2'] = log_ret.rolling(window=window_autocorr, min_periods=window_autocorr, center=False).apply(lambda x: x.autocorr(lag=2), raw=False)\n",
        "raw_data['autocorr_3'] = log_ret.rolling(window=window_autocorr, min_periods=window_autocorr, center=False).apply(lambda x: x.autocorr(lag=3), raw=False)\n",
        "\n",
        "# Remove look ahead bias\n",
        "raw_data = raw_data.shift(1)"
      ],
      "execution_count": 0,
      "outputs": []
    },
    {
      "cell_type": "code",
      "metadata": {
        "id": "jRbf20dNtVlS",
        "colab_type": "code",
        "outputId": "7c937945-6f70-4c8c-cae9-ca30157d243f",
        "colab": {
          "base_uri": "https://localhost:8080/",
          "height": 228
        }
      },
      "source": [
        "raw_X = raw_data.iloc[:,1:]\n",
        "raw_X.dropna(inplace=True)\n",
        "raw_X.head()"
      ],
      "execution_count": 19,
      "outputs": [
        {
          "output_type": "execute_result",
          "data": {
            "text/html": [
              "<div>\n",
              "<style scoped>\n",
              "    .dataframe tbody tr th:only-of-type {\n",
              "        vertical-align: middle;\n",
              "    }\n",
              "\n",
              "    .dataframe tbody tr th {\n",
              "        vertical-align: top;\n",
              "    }\n",
              "\n",
              "    .dataframe thead th {\n",
              "        text-align: right;\n",
              "    }\n",
              "</style>\n",
              "<table border=\"1\" class=\"dataframe\">\n",
              "  <thead>\n",
              "    <tr style=\"text-align: right;\">\n",
              "      <th></th>\n",
              "      <th>mom1</th>\n",
              "      <th>mom2</th>\n",
              "      <th>mom3</th>\n",
              "      <th>volatility_50</th>\n",
              "      <th>volatility_31</th>\n",
              "      <th>volatility_15</th>\n",
              "      <th>autocorr_1</th>\n",
              "      <th>autocorr_2</th>\n",
              "      <th>autocorr_3</th>\n",
              "    </tr>\n",
              "    <tr>\n",
              "      <th>date_time</th>\n",
              "      <th></th>\n",
              "      <th></th>\n",
              "      <th></th>\n",
              "      <th></th>\n",
              "      <th></th>\n",
              "      <th></th>\n",
              "      <th></th>\n",
              "      <th></th>\n",
              "      <th></th>\n",
              "    </tr>\n",
              "  </thead>\n",
              "  <tbody>\n",
              "    <tr>\n",
              "      <th>2009-09-30 15:42:01</th>\n",
              "      <td>-0.005646</td>\n",
              "      <td>-0.006353</td>\n",
              "      <td>-0.007579</td>\n",
              "      <td>0.002705</td>\n",
              "      <td>0.003341</td>\n",
              "      <td>0.003551</td>\n",
              "      <td>-0.051927</td>\n",
              "      <td>0.216036</td>\n",
              "      <td>-0.302316</td>\n",
              "    </tr>\n",
              "    <tr>\n",
              "      <th>2009-09-30 15:58:56</th>\n",
              "      <td>0.001371</td>\n",
              "      <td>-0.004283</td>\n",
              "      <td>-0.004991</td>\n",
              "      <td>0.002705</td>\n",
              "      <td>0.003353</td>\n",
              "      <td>0.003594</td>\n",
              "      <td>-0.071628</td>\n",
              "      <td>0.205664</td>\n",
              "      <td>-0.310500</td>\n",
              "    </tr>\n",
              "    <tr>\n",
              "      <th>2009-10-01 09:30:07</th>\n",
              "      <td>0.000391</td>\n",
              "      <td>0.001762</td>\n",
              "      <td>-0.003894</td>\n",
              "      <td>0.002706</td>\n",
              "      <td>0.003347</td>\n",
              "      <td>0.003583</td>\n",
              "      <td>-0.070389</td>\n",
              "      <td>0.189256</td>\n",
              "      <td>-0.312039</td>\n",
              "    </tr>\n",
              "    <tr>\n",
              "      <th>2009-10-01 09:39:37</th>\n",
              "      <td>-0.003518</td>\n",
              "      <td>-0.003129</td>\n",
              "      <td>-0.001762</td>\n",
              "      <td>0.002733</td>\n",
              "      <td>0.003394</td>\n",
              "      <td>0.003663</td>\n",
              "      <td>-0.078848</td>\n",
              "      <td>0.180343</td>\n",
              "      <td>-0.242727</td>\n",
              "    </tr>\n",
              "    <tr>\n",
              "      <th>2009-10-01 09:52:26</th>\n",
              "      <td>-0.002942</td>\n",
              "      <td>-0.006450</td>\n",
              "      <td>-0.006062</td>\n",
              "      <td>0.002759</td>\n",
              "      <td>0.003416</td>\n",
              "      <td>0.003565</td>\n",
              "      <td>-0.048314</td>\n",
              "      <td>0.173996</td>\n",
              "      <td>-0.255830</td>\n",
              "    </tr>\n",
              "  </tbody>\n",
              "</table>\n",
              "</div>"
            ],
            "text/plain": [
              "                         mom1      mom2  ...  autocorr_2  autocorr_3\n",
              "date_time                                ...                        \n",
              "2009-09-30 15:42:01 -0.005646 -0.006353  ...    0.216036   -0.302316\n",
              "2009-09-30 15:58:56  0.001371 -0.004283  ...    0.205664   -0.310500\n",
              "2009-10-01 09:30:07  0.000391  0.001762  ...    0.189256   -0.312039\n",
              "2009-10-01 09:39:37 -0.003518 -0.003129  ...    0.180343   -0.242727\n",
              "2009-10-01 09:52:26 -0.002942 -0.006450  ...    0.173996   -0.255830\n",
              "\n",
              "[5 rows x 9 columns]"
            ]
          },
          "metadata": {
            "tags": []
          },
          "execution_count": 19
        }
      ]
    },
    {
      "cell_type": "code",
      "metadata": {
        "id": "2YTsGoXDwAK6",
        "colab_type": "code",
        "outputId": "08d576be-47a2-4933-ac15-722325a4e0cc",
        "colab": {
          "base_uri": "https://localhost:8080/",
          "height": 228
        }
      },
      "source": [
        "# Feature decomposition PCA\n",
        "\n",
        "n=5\n",
        "pca = PCA(n)\n",
        "pca.fit(raw_X)\n",
        "pcaX = pca.transform(raw_X)\n",
        "\n",
        "X = pd.DataFrame(index=raw_X.index)\n",
        "for i in range(n):\n",
        "  a = pd.Series(data=pcaX[:,i],index=raw_X.index,name=i)\n",
        "  X = X.join(a)\n",
        "\n",
        "X['side'] = side\n",
        "\n",
        "X.head()"
      ],
      "execution_count": 20,
      "outputs": [
        {
          "output_type": "execute_result",
          "data": {
            "text/html": [
              "<div>\n",
              "<style scoped>\n",
              "    .dataframe tbody tr th:only-of-type {\n",
              "        vertical-align: middle;\n",
              "    }\n",
              "\n",
              "    .dataframe tbody tr th {\n",
              "        vertical-align: top;\n",
              "    }\n",
              "\n",
              "    .dataframe thead th {\n",
              "        text-align: right;\n",
              "    }\n",
              "</style>\n",
              "<table border=\"1\" class=\"dataframe\">\n",
              "  <thead>\n",
              "    <tr style=\"text-align: right;\">\n",
              "      <th></th>\n",
              "      <th>0</th>\n",
              "      <th>1</th>\n",
              "      <th>2</th>\n",
              "      <th>3</th>\n",
              "      <th>4</th>\n",
              "      <th>side</th>\n",
              "    </tr>\n",
              "    <tr>\n",
              "      <th>date_time</th>\n",
              "      <th></th>\n",
              "      <th></th>\n",
              "      <th></th>\n",
              "      <th></th>\n",
              "      <th></th>\n",
              "      <th></th>\n",
              "    </tr>\n",
              "  </thead>\n",
              "  <tbody>\n",
              "    <tr>\n",
              "      <th>2009-09-30 15:42:01</th>\n",
              "      <td>0.093435</td>\n",
              "      <td>-0.355411</td>\n",
              "      <td>-0.010021</td>\n",
              "      <td>0.011007</td>\n",
              "      <td>0.003954</td>\n",
              "      <td>-1.0</td>\n",
              "    </tr>\n",
              "    <tr>\n",
              "      <th>2009-09-30 15:58:56</th>\n",
              "      <td>0.103315</td>\n",
              "      <td>-0.353263</td>\n",
              "      <td>-0.031490</td>\n",
              "      <td>0.005555</td>\n",
              "      <td>0.003636</td>\n",
              "      <td>-1.0</td>\n",
              "    </tr>\n",
              "    <tr>\n",
              "      <th>2009-10-01 09:30:07</th>\n",
              "      <td>0.093653</td>\n",
              "      <td>-0.345701</td>\n",
              "      <td>-0.042566</td>\n",
              "      <td>0.001394</td>\n",
              "      <td>0.003241</td>\n",
              "      <td>-1.0</td>\n",
              "    </tr>\n",
              "    <tr>\n",
              "      <th>2009-10-01 09:39:37</th>\n",
              "      <td>0.108490</td>\n",
              "      <td>-0.282626</td>\n",
              "      <td>-0.015056</td>\n",
              "      <td>0.004202</td>\n",
              "      <td>0.003426</td>\n",
              "      <td>-1.0</td>\n",
              "    </tr>\n",
              "    <tr>\n",
              "      <th>2009-10-01 09:52:26</th>\n",
              "      <td>0.077217</td>\n",
              "      <td>-0.294765</td>\n",
              "      <td>-0.010693</td>\n",
              "      <td>0.009079</td>\n",
              "      <td>0.003859</td>\n",
              "      <td>-1.0</td>\n",
              "    </tr>\n",
              "  </tbody>\n",
              "</table>\n",
              "</div>"
            ],
            "text/plain": [
              "                            0         1         2         3         4  side\n",
              "date_time                                                                  \n",
              "2009-09-30 15:42:01  0.093435 -0.355411 -0.010021  0.011007  0.003954  -1.0\n",
              "2009-09-30 15:58:56  0.103315 -0.353263 -0.031490  0.005555  0.003636  -1.0\n",
              "2009-10-01 09:30:07  0.093653 -0.345701 -0.042566  0.001394  0.003241  -1.0\n",
              "2009-10-01 09:39:37  0.108490 -0.282626 -0.015056  0.004202  0.003426  -1.0\n",
              "2009-10-01 09:52:26  0.077217 -0.294765 -0.010693  0.009079  0.003859  -1.0"
            ]
          },
          "metadata": {
            "tags": []
          },
          "execution_count": 20
        }
      ]
    },
    {
      "cell_type": "code",
      "metadata": {
        "id": "3PBgcFJGxlI-",
        "colab_type": "code",
        "outputId": "e0cdc200-1d1a-4543-eeed-df2825e8046b",
        "colab": {
          "base_uri": "https://localhost:8080/",
          "height": 35
        }
      },
      "source": [
        "len(X)"
      ],
      "execution_count": 21,
      "outputs": [
        {
          "output_type": "execute_result",
          "data": {
            "text/plain": [
              "58556"
            ]
          },
          "metadata": {
            "tags": []
          },
          "execution_count": 21
        }
      ]
    },
    {
      "cell_type": "code",
      "metadata": {
        "id": "T0BgIS4xtjZt",
        "colab_type": "code",
        "colab": {}
      },
      "source": [
        "tmp_data = X.copy()\n",
        "tmp_data = tmp_data.join([bin.bin, events['t1']])\n",
        "tmp_data.dropna(inplace=True)\n",
        "\n",
        "X = tmp_data.iloc[:,:6]\n",
        "y = tmp_data[['bin']]"
      ],
      "execution_count": 0,
      "outputs": []
    },
    {
      "cell_type": "code",
      "metadata": {
        "id": "QtC_iYLvyHSz",
        "colab_type": "code",
        "colab": {}
      },
      "source": [
        "X_train, X_test, y_train, y_test = train_test_split(X, y, test_size=0.4, shuffle=False)"
      ],
      "execution_count": 0,
      "outputs": []
    },
    {
      "cell_type": "code",
      "metadata": {
        "id": "eoDiKFRqz5Dd",
        "colab_type": "code",
        "colab": {}
      },
      "source": [
        "#avgU = sampling.get_av_uniqueness_from_triple_barrier(events, close, 3).mean()\n",
        "#max_samples = avgU[0]"
      ],
      "execution_count": 0,
      "outputs": []
    },
    {
      "cell_type": "code",
      "metadata": {
        "id": "I2Kd2E7UvOtz",
        "colab_type": "code",
        "colab": {}
      },
      "source": [
        "#clf0 = RandomForestClassifier(n_estimators=1,criterion='entropy',bootstrap = False, class_weight='balanced_subsample')\n",
        "#clf1 = BaggingClassifier(base_estimator=clf0, max_samples=max_samples, max_features=1, n_estimators=1000)\n",
        "#clf1.fit(X_train, y_train.values.ravel())\n",
        "\n",
        "#this is the method in the book"
      ],
      "execution_count": 0,
      "outputs": []
    },
    {
      "cell_type": "code",
      "metadata": {
        "id": "zq1n0S81P4ue",
        "colab_type": "code",
        "colab": {
          "base_uri": "https://localhost:8080/",
          "height": 417
        },
        "outputId": "4d1d0880-475d-4c8e-af8c-c616204a7cca"
      },
      "source": [
        "parameters = {'max_depth':[2, 3, 4, 5, 7],\n",
        "              'n_estimators':[10, 50, 100, 512, 1000]}\n",
        "#hyper-parameter tuning\n",
        "\n",
        "rf = RandomForestClassifier(criterion='entropy', class_weight='balanced_subsample', bootstrap=False)\n",
        "clf = GridSearchCV(rf, parameters, cv=3, scoring='roc_auc')\n",
        "clf.fit(X_train, y_train.values.ravel())"
      ],
      "execution_count": 29,
      "outputs": [
        {
          "output_type": "execute_result",
          "data": {
            "text/plain": [
              "GridSearchCV(cv=3, error_score=nan,\n",
              "             estimator=RandomForestClassifier(bootstrap=False, ccp_alpha=0.0,\n",
              "                                              class_weight='balanced_subsample',\n",
              "                                              criterion='entropy',\n",
              "                                              max_depth=None,\n",
              "                                              max_features='auto',\n",
              "                                              max_leaf_nodes=None,\n",
              "                                              max_samples=None,\n",
              "                                              min_impurity_decrease=0.0,\n",
              "                                              min_impurity_split=None,\n",
              "                                              min_samples_leaf=1,\n",
              "                                              min_samples_split=2,\n",
              "                                              min_weight_fraction_leaf=0.0,\n",
              "                                              n_estimators=100, n_jobs=None,\n",
              "                                              oob_score=False,\n",
              "                                              random_state=None, verbose=0,\n",
              "                                              warm_start=False),\n",
              "             iid='deprecated', n_jobs=None,\n",
              "             param_grid={'max_depth': [2, 3, 4, 5, 7],\n",
              "                         'n_estimators': [10, 50, 100, 512, 1000]},\n",
              "             pre_dispatch='2*n_jobs', refit=True, return_train_score=False,\n",
              "             scoring='roc_auc', verbose=0)"
            ]
          },
          "metadata": {
            "tags": []
          },
          "execution_count": 29
        }
      ]
    },
    {
      "cell_type": "code",
      "metadata": {
        "id": "JE-cvkda5wXW",
        "colab_type": "code",
        "colab": {}
      },
      "source": [
        "#y_pred = clf1.predict(X_test)\n",
        "#y_pred_prob = clf1.predict_proba(X_test)[:, 1] # 1로 예상할 확률"
      ],
      "execution_count": 0,
      "outputs": []
    },
    {
      "cell_type": "code",
      "metadata": {
        "id": "G9oD2-KeZSd9",
        "colab_type": "code",
        "colab": {}
      },
      "source": [
        "y_pred = clf.predict(X_test)\n",
        "y_pred_prob = clf.predict_proba(X_test)[:, 1]"
      ],
      "execution_count": 0,
      "outputs": []
    },
    {
      "cell_type": "code",
      "metadata": {
        "id": "UQKHmmsd0e3F",
        "colab_type": "code",
        "outputId": "da318c47-cd1a-486c-955b-e845c69edde3",
        "colab": {
          "base_uri": "https://localhost:8080/",
          "height": 301
        }
      },
      "source": [
        "fpr_rf, tpr_rf, _ = roc_curve(y_test, y_pred_prob)\n",
        "\n",
        "%matplotlib inline\n",
        "\n",
        "plt.figure(1)\n",
        "plt.plot([0, 1], [0, 1], 'k--')\n",
        "plt.plot(fpr_rf, tpr_rf, label='RF')\n",
        "plt.xlabel('False positive rate')\n",
        "plt.ylabel('True positive rate')\n",
        "plt.title('ROC curve')\n",
        "plt.legend(loc='best')\n",
        "plt.show()"
      ],
      "execution_count": 33,
      "outputs": [
        {
          "output_type": "display_data",
          "data": {
            "image/png": "[encoded data removed]",
            "text/plain": [
              "<Figure size 432x288 with 1 Axes>"
            ]
          },
          "metadata": {
            "tags": []
          }
        }
      ]
    },
    {
      "cell_type": "code",
      "metadata": {
        "id": "9dkg01-O5yWR",
        "colab_type": "code",
        "outputId": "d1c192cb-becd-4978-8e57-1f05d4020c9f",
        "colab": {
          "base_uri": "https://localhost:8080/",
          "height": 503
        }
      },
      "source": [
        "print(classification_report(y_test, y_pred))\n",
        "\n",
        "print(\"Accuracy = \", accuracy_score(y_test, y_pred))\n",
        "print('')\n",
        "print(\"Confusion Matrix\")\n",
        "mat = confusion_matrix(y_test, y_pred)\n",
        "sns.heatmap(mat , annot=True)\n",
        "plt.xlabel('predicted label')\n",
        "plt.ylabel('true label');"
      ],
      "execution_count": 34,
      "outputs": [
        {
          "output_type": "stream",
          "text": [
            "              precision    recall  f1-score   support\n",
            "\n",
            "         0.0       0.65      0.46      0.54      1616\n",
            "         1.0       0.39      0.58      0.46       946\n",
            "\n",
            "    accuracy                           0.50      2562\n",
            "   macro avg       0.52      0.52      0.50      2562\n",
            "weighted avg       0.55      0.50      0.51      2562\n",
            "\n",
            "Accuracy =  0.5035128805620609\n",
            "\n",
            "Confusion Matrix\n"
          ],
          "name": "stdout"
        },
        {
          "output_type": "display_data",
          "data": {
            "image/png": "[encoded data removed]",
            "text/plain": [
              "<Figure size 432x288 with 2 Axes>"
            ]
          },
          "metadata": {
            "tags": []
          }
        }
      ]
    },
    {
      "cell_type": "markdown",
      "metadata": {
        "id": "pUmsGwGV6euL",
        "colab_type": "text"
      },
      "source": [
        "## Bet Sizing"
      ]
    },
    {
      "cell_type": "code",
      "metadata": {
        "id": "zUfHMzWr78ar",
        "colab_type": "code",
        "colab": {}
      },
      "source": [
        "from mlfinlab import bet_sizing as bs"
      ],
      "execution_count": 0,
      "outputs": []
    },
    {
      "cell_type": "code",
      "metadata": {
        "id": "HBRzgVhM6g5j",
        "colab_type": "code",
        "colab": {}
      },
      "source": [
        "p = y_pred_prob"
      ],
      "execution_count": 0,
      "outputs": []
    },
    {
      "cell_type": "code",
      "metadata": {
        "id": "75bIPHHR7UUo",
        "colab_type": "code",
        "outputId": "4cd8c854-a3b2-43af-e060-b3a8359c739c",
        "colab": {
          "base_uri": "https://localhost:8080/",
          "height": 437
        }
      },
      "source": [
        "new_data = y_test.copy()\n",
        "new_data['p'] = p\n",
        "new_data['pred'] = y_pred\n",
        "new_data"
      ],
      "execution_count": 37,
      "outputs": [
        {
          "output_type": "execute_result",
          "data": {
            "text/html": [
              "<div>\n",
              "<style scoped>\n",
              "    .dataframe tbody tr th:only-of-type {\n",
              "        vertical-align: middle;\n",
              "    }\n",
              "\n",
              "    .dataframe tbody tr th {\n",
              "        vertical-align: top;\n",
              "    }\n",
              "\n",
              "    .dataframe thead th {\n",
              "        text-align: right;\n",
              "    }\n",
              "</style>\n",
              "<table border=\"1\" class=\"dataframe\">\n",
              "  <thead>\n",
              "    <tr style=\"text-align: right;\">\n",
              "      <th></th>\n",
              "      <th>bin</th>\n",
              "      <th>p</th>\n",
              "      <th>pred</th>\n",
              "    </tr>\n",
              "    <tr>\n",
              "      <th>date_time</th>\n",
              "      <th></th>\n",
              "      <th></th>\n",
              "      <th></th>\n",
              "    </tr>\n",
              "  </thead>\n",
              "  <tbody>\n",
              "    <tr>\n",
              "      <th>2015-07-09 09:56:21</th>\n",
              "      <td>0.0</td>\n",
              "      <td>0.567667</td>\n",
              "      <td>1.0</td>\n",
              "    </tr>\n",
              "    <tr>\n",
              "      <th>2015-07-09 12:00:31</th>\n",
              "      <td>0.0</td>\n",
              "      <td>0.559007</td>\n",
              "      <td>1.0</td>\n",
              "    </tr>\n",
              "    <tr>\n",
              "      <th>2015-07-09 15:59:28</th>\n",
              "      <td>1.0</td>\n",
              "      <td>0.616522</td>\n",
              "      <td>1.0</td>\n",
              "    </tr>\n",
              "    <tr>\n",
              "      <th>2015-07-10 09:35:27</th>\n",
              "      <td>1.0</td>\n",
              "      <td>0.616522</td>\n",
              "      <td>1.0</td>\n",
              "    </tr>\n",
              "    <tr>\n",
              "      <th>2015-07-10 11:48:00</th>\n",
              "      <td>1.0</td>\n",
              "      <td>0.574191</td>\n",
              "      <td>1.0</td>\n",
              "    </tr>\n",
              "    <tr>\n",
              "      <th>...</th>\n",
              "      <td>...</td>\n",
              "      <td>...</td>\n",
              "      <td>...</td>\n",
              "    </tr>\n",
              "    <tr>\n",
              "      <th>2019-06-12 11:59:18</th>\n",
              "      <td>0.0</td>\n",
              "      <td>0.559007</td>\n",
              "      <td>1.0</td>\n",
              "    </tr>\n",
              "    <tr>\n",
              "      <th>2019-06-13 09:36:29</th>\n",
              "      <td>0.0</td>\n",
              "      <td>0.559509</td>\n",
              "      <td>1.0</td>\n",
              "    </tr>\n",
              "    <tr>\n",
              "      <th>2019-06-18 09:50:22</th>\n",
              "      <td>0.0</td>\n",
              "      <td>0.368544</td>\n",
              "      <td>0.0</td>\n",
              "    </tr>\n",
              "    <tr>\n",
              "      <th>2019-06-18 12:22:51</th>\n",
              "      <td>0.0</td>\n",
              "      <td>0.472226</td>\n",
              "      <td>0.0</td>\n",
              "    </tr>\n",
              "    <tr>\n",
              "      <th>2019-06-19 14:01:58</th>\n",
              "      <td>1.0</td>\n",
              "      <td>0.174398</td>\n",
              "      <td>0.0</td>\n",
              "    </tr>\n",
              "  </tbody>\n",
              "</table>\n",
              "<p>2562 rows × 3 columns</p>\n",
              "</div>"
            ],
            "text/plain": [
              "                     bin         p  pred\n",
              "date_time                               \n",
              "2015-07-09 09:56:21  0.0  0.567667   1.0\n",
              "2015-07-09 12:00:31  0.0  0.559007   1.0\n",
              "2015-07-09 15:59:28  1.0  0.616522   1.0\n",
              "2015-07-10 09:35:27  1.0  0.616522   1.0\n",
              "2015-07-10 11:48:00  1.0  0.574191   1.0\n",
              "...                  ...       ...   ...\n",
              "2019-06-12 11:59:18  0.0  0.559007   1.0\n",
              "2019-06-13 09:36:29  0.0  0.559509   1.0\n",
              "2019-06-18 09:50:22  0.0  0.368544   0.0\n",
              "2019-06-18 12:22:51  0.0  0.472226   0.0\n",
              "2019-06-19 14:01:58  1.0  0.174398   0.0\n",
              "\n",
              "[2562 rows x 3 columns]"
            ]
          },
          "metadata": {
            "tags": []
          },
          "execution_count": 37
        }
      ]
    },
    {
      "cell_type": "code",
      "metadata": {
        "id": "XcNyLMBr6yFU",
        "colab_type": "code",
        "colab": {}
      },
      "source": [
        "# test에 맞추자\n",
        "new_events = events.loc[new_data.index]\n",
        "bs_df = pd.concat([new_events, new_data],axis=1)"
      ],
      "execution_count": 0,
      "outputs": []
    },
    {
      "cell_type": "code",
      "metadata": {
        "id": "lqyt-EMU8QZZ",
        "colab_type": "code",
        "outputId": "9cc9841d-0e38-4262-a4f2-43d8d7689eac",
        "colab": {
          "base_uri": "https://localhost:8080/",
          "height": 437
        }
      },
      "source": [
        "bs_df"
      ],
      "execution_count": 39,
      "outputs": [
        {
          "output_type": "execute_result",
          "data": {
            "text/html": [
              "<div>\n",
              "<style scoped>\n",
              "    .dataframe tbody tr th:only-of-type {\n",
              "        vertical-align: middle;\n",
              "    }\n",
              "\n",
              "    .dataframe tbody tr th {\n",
              "        vertical-align: top;\n",
              "    }\n",
              "\n",
              "    .dataframe thead th {\n",
              "        text-align: right;\n",
              "    }\n",
              "</style>\n",
              "<table border=\"1\" class=\"dataframe\">\n",
              "  <thead>\n",
              "    <tr style=\"text-align: right;\">\n",
              "      <th></th>\n",
              "      <th>t1</th>\n",
              "      <th>trgt</th>\n",
              "      <th>side</th>\n",
              "      <th>pt</th>\n",
              "      <th>sl</th>\n",
              "      <th>bin</th>\n",
              "      <th>p</th>\n",
              "      <th>pred</th>\n",
              "    </tr>\n",
              "    <tr>\n",
              "      <th>date_time</th>\n",
              "      <th></th>\n",
              "      <th></th>\n",
              "      <th></th>\n",
              "      <th></th>\n",
              "      <th></th>\n",
              "      <th></th>\n",
              "      <th></th>\n",
              "      <th></th>\n",
              "    </tr>\n",
              "  </thead>\n",
              "  <tbody>\n",
              "    <tr>\n",
              "      <th>2015-07-09 09:56:21</th>\n",
              "      <td>2015-07-10 09:56:51</td>\n",
              "      <td>0.008702</td>\n",
              "      <td>-1.0</td>\n",
              "      <td>1</td>\n",
              "      <td>2</td>\n",
              "      <td>0.0</td>\n",
              "      <td>0.567667</td>\n",
              "      <td>1.0</td>\n",
              "    </tr>\n",
              "    <tr>\n",
              "      <th>2015-07-09 12:00:31</th>\n",
              "      <td>2015-07-10 12:27:37</td>\n",
              "      <td>0.007981</td>\n",
              "      <td>-1.0</td>\n",
              "      <td>1</td>\n",
              "      <td>2</td>\n",
              "      <td>0.0</td>\n",
              "      <td>0.559007</td>\n",
              "      <td>1.0</td>\n",
              "    </tr>\n",
              "    <tr>\n",
              "      <th>2015-07-09 15:59:28</th>\n",
              "      <td>2015-07-10 09:35:27</td>\n",
              "      <td>0.006833</td>\n",
              "      <td>1.0</td>\n",
              "      <td>1</td>\n",
              "      <td>2</td>\n",
              "      <td>1.0</td>\n",
              "      <td>0.616522</td>\n",
              "      <td>1.0</td>\n",
              "    </tr>\n",
              "    <tr>\n",
              "      <th>2015-07-10 09:35:27</th>\n",
              "      <td>2015-07-13 09:30:23</td>\n",
              "      <td>0.006412</td>\n",
              "      <td>1.0</td>\n",
              "      <td>1</td>\n",
              "      <td>2</td>\n",
              "      <td>1.0</td>\n",
              "      <td>0.616522</td>\n",
              "      <td>1.0</td>\n",
              "    </tr>\n",
              "    <tr>\n",
              "      <th>2015-07-10 11:48:00</th>\n",
              "      <td>2015-07-13 09:30:23</td>\n",
              "      <td>0.005870</td>\n",
              "      <td>1.0</td>\n",
              "      <td>1</td>\n",
              "      <td>2</td>\n",
              "      <td>1.0</td>\n",
              "      <td>0.574191</td>\n",
              "      <td>1.0</td>\n",
              "    </tr>\n",
              "    <tr>\n",
              "      <th>...</th>\n",
              "      <td>...</td>\n",
              "      <td>...</td>\n",
              "      <td>...</td>\n",
              "      <td>...</td>\n",
              "      <td>...</td>\n",
              "      <td>...</td>\n",
              "      <td>...</td>\n",
              "      <td>...</td>\n",
              "    </tr>\n",
              "    <tr>\n",
              "      <th>2019-06-12 11:59:18</th>\n",
              "      <td>2019-06-13 12:16:14</td>\n",
              "      <td>0.005909</td>\n",
              "      <td>-1.0</td>\n",
              "      <td>1</td>\n",
              "      <td>2</td>\n",
              "      <td>0.0</td>\n",
              "      <td>0.559007</td>\n",
              "      <td>1.0</td>\n",
              "    </tr>\n",
              "    <tr>\n",
              "      <th>2019-06-13 09:36:29</th>\n",
              "      <td>2019-06-14 09:48:52</td>\n",
              "      <td>0.005255</td>\n",
              "      <td>-1.0</td>\n",
              "      <td>1</td>\n",
              "      <td>2</td>\n",
              "      <td>0.0</td>\n",
              "      <td>0.559509</td>\n",
              "      <td>1.0</td>\n",
              "    </tr>\n",
              "    <tr>\n",
              "      <th>2019-06-18 09:50:22</th>\n",
              "      <td>2019-06-19 09:57:29</td>\n",
              "      <td>0.005684</td>\n",
              "      <td>-1.0</td>\n",
              "      <td>1</td>\n",
              "      <td>2</td>\n",
              "      <td>0.0</td>\n",
              "      <td>0.368544</td>\n",
              "      <td>0.0</td>\n",
              "    </tr>\n",
              "    <tr>\n",
              "      <th>2019-06-18 12:22:51</th>\n",
              "      <td>2019-06-19 12:33:36</td>\n",
              "      <td>0.007223</td>\n",
              "      <td>1.0</td>\n",
              "      <td>1</td>\n",
              "      <td>2</td>\n",
              "      <td>0.0</td>\n",
              "      <td>0.472226</td>\n",
              "      <td>0.0</td>\n",
              "    </tr>\n",
              "    <tr>\n",
              "      <th>2019-06-19 14:01:58</th>\n",
              "      <td>2019-06-20 09:30:00</td>\n",
              "      <td>0.005663</td>\n",
              "      <td>1.0</td>\n",
              "      <td>1</td>\n",
              "      <td>2</td>\n",
              "      <td>1.0</td>\n",
              "      <td>0.174398</td>\n",
              "      <td>0.0</td>\n",
              "    </tr>\n",
              "  </tbody>\n",
              "</table>\n",
              "<p>2562 rows × 8 columns</p>\n",
              "</div>"
            ],
            "text/plain": [
              "                                     t1      trgt  side  ...  bin         p  pred\n",
              "date_time                                                ...                     \n",
              "2015-07-09 09:56:21 2015-07-10 09:56:51  0.008702  -1.0  ...  0.0  0.567667   1.0\n",
              "2015-07-09 12:00:31 2015-07-10 12:27:37  0.007981  -1.0  ...  0.0  0.559007   1.0\n",
              "2015-07-09 15:59:28 2015-07-10 09:35:27  0.006833   1.0  ...  1.0  0.616522   1.0\n",
              "2015-07-10 09:35:27 2015-07-13 09:30:23  0.006412   1.0  ...  1.0  0.616522   1.0\n",
              "2015-07-10 11:48:00 2015-07-13 09:30:23  0.005870   1.0  ...  1.0  0.574191   1.0\n",
              "...                                 ...       ...   ...  ...  ...       ...   ...\n",
              "2019-06-12 11:59:18 2019-06-13 12:16:14  0.005909  -1.0  ...  0.0  0.559007   1.0\n",
              "2019-06-13 09:36:29 2019-06-14 09:48:52  0.005255  -1.0  ...  0.0  0.559509   1.0\n",
              "2019-06-18 09:50:22 2019-06-19 09:57:29  0.005684  -1.0  ...  0.0  0.368544   0.0\n",
              "2019-06-18 12:22:51 2019-06-19 12:33:36  0.007223   1.0  ...  0.0  0.472226   0.0\n",
              "2019-06-19 14:01:58 2019-06-20 09:30:00  0.005663   1.0  ...  1.0  0.174398   0.0\n",
              "\n",
              "[2562 rows x 8 columns]"
            ]
          },
          "metadata": {
            "tags": []
          },
          "execution_count": 39
        }
      ]
    },
    {
      "cell_type": "markdown",
      "metadata": {
        "id": "R8oXfxfc8fvD",
        "colab_type": "text"
      },
      "source": [
        "### bet size probability"
      ]
    },
    {
      "cell_type": "code",
      "metadata": {
        "id": "n2ei_4N38huh",
        "colab_type": "code",
        "colab": {}
      },
      "source": [
        "m_prob = bs.bet_size_probability(events = bs_df[['t1']], prob = bs_df.p, num_classes=2, num_threads=3)"
      ],
      "execution_count": 0,
      "outputs": []
    },
    {
      "cell_type": "code",
      "metadata": {
        "id": "HMjvm6oW87-v",
        "colab_type": "code",
        "outputId": "cebb2240-7b08-4e81-d26d-766b8882716a",
        "colab": {
          "base_uri": "https://localhost:8080/",
          "height": 254
        }
      },
      "source": [
        "m_prob"
      ],
      "execution_count": 41,
      "outputs": [
        {
          "output_type": "execute_result",
          "data": {
            "text/plain": [
              "date_time\n",
              "2015-07-09 09:56:21    0.108646\n",
              "2015-07-09 12:00:31    0.094602\n",
              "2015-07-09 15:59:28    0.189392\n",
              "2015-07-10 09:35:27    0.189392\n",
              "2015-07-10 11:48:00    0.119269\n",
              "                         ...   \n",
              "2019-06-12 11:59:18    0.094602\n",
              "2019-06-13 09:36:29    0.095414\n",
              "2019-06-18 09:50:22   -0.214761\n",
              "2019-06-18 12:22:51   -0.044367\n",
              "2019-06-19 14:01:58   -0.609154\n",
              "Name: signal, Length: 2562, dtype: float64"
            ]
          },
          "metadata": {
            "tags": []
          },
          "execution_count": 41
        }
      ]
    },
    {
      "cell_type": "markdown",
      "metadata": {
        "id": "KvmeDg5u9Qhl",
        "colab_type": "text"
      },
      "source": [
        "average"
      ]
    },
    {
      "cell_type": "code",
      "metadata": {
        "id": "CWBHmphD9Tdq",
        "colab_type": "code",
        "outputId": "32a81c61-2ea9-487e-d1e4-7bcf15b82919",
        "colab": {
          "base_uri": "https://localhost:8080/",
          "height": 254
        }
      },
      "source": [
        "m_prob_avg = bs.bet_size_probability(events = bs_df[['t1']], prob = bs_df.p, num_classes=2, num_threads=3, average_active=True)\n",
        "m_prob_avg"
      ],
      "execution_count": 42,
      "outputs": [
        {
          "output_type": "stream",
          "text": [
            "2020-01-25 06:41:56.824596 100.0% mp_avg_active_signals done after 0.17 minutes. Remaining 0.0 minutes.\n"
          ],
          "name": "stderr"
        },
        {
          "output_type": "execute_result",
          "data": {
            "text/plain": [
              "2015-07-09 09:56:21    0.108646\n",
              "2015-07-09 12:00:31    0.101624\n",
              "2015-07-09 15:59:28    0.130880\n",
              "2015-07-10 09:35:27    0.130880\n",
              "2015-07-10 09:56:51    0.141997\n",
              "                         ...   \n",
              "2019-06-18 12:22:51   -0.129564\n",
              "2019-06-19 09:57:29   -0.044367\n",
              "2019-06-19 12:33:36    0.000000\n",
              "2019-06-19 14:01:58   -0.609154\n",
              "2019-06-20 09:30:00    0.000000\n",
              "Length: 3830, dtype: float64"
            ]
          },
          "metadata": {
            "tags": []
          },
          "execution_count": 42
        }
      ]
    },
    {
      "cell_type": "code",
      "metadata": {
        "id": "AArwEUGZ9USQ",
        "colab_type": "code",
        "outputId": "96a65938-90ae-4a0f-d486-eba63c3b2351",
        "colab": {
          "base_uri": "https://localhost:8080/",
          "height": 254
        }
      },
      "source": [
        "m_prob_discrete = bs.bet_size_probability(events = bs_df[['t1']], prob = bs_df.p, num_classes=2, num_threads=3, average_active=True, step_size=0.01)\n",
        "m_prob_discrete"
      ],
      "execution_count": 43,
      "outputs": [
        {
          "output_type": "stream",
          "text": [
            "2020-01-25 06:42:07.083783 33.33% mp_avg_active_signals done after 0.16 minutes. Remaining 0.33 minutes.\r2020-01-25 06:42:07.089037 66.67% mp_avg_active_signals done after 0.16 minutes. Remaining 0.08 minutes.\r2020-01-25 06:42:07.440236 100.0% mp_avg_active_signals done after 0.17 minutes. Remaining 0.0 minutes.\n"
          ],
          "name": "stderr"
        },
        {
          "output_type": "execute_result",
          "data": {
            "text/plain": [
              "2015-07-09 09:56:21    0.11\n",
              "2015-07-09 12:00:31    0.10\n",
              "2015-07-09 15:59:28    0.13\n",
              "2015-07-10 09:35:27    0.13\n",
              "2015-07-10 09:56:51    0.14\n",
              "                       ... \n",
              "2019-06-18 12:22:51   -0.13\n",
              "2019-06-19 09:57:29   -0.04\n",
              "2019-06-19 12:33:36    0.00\n",
              "2019-06-19 14:01:58   -0.61\n",
              "2019-06-20 09:30:00    0.00\n",
              "Length: 3830, dtype: float64"
            ]
          },
          "metadata": {
            "tags": []
          },
          "execution_count": 43
        }
      ]
    },
    {
      "cell_type": "markdown",
      "metadata": {
        "id": "2Islsd4M729B",
        "colab_type": "text"
      },
      "source": [
        "### bet size reserve"
      ]
    },
    {
      "cell_type": "code",
      "metadata": {
        "id": "dIgIVhFu70XZ",
        "colab_type": "code",
        "outputId": "a199f7b0-1172-41db-bccf-622a17d6a3bc",
        "colab": {
          "base_uri": "https://localhost:8080/",
          "height": 35
        }
      },
      "source": [
        "m_reserve = bs.bet_sizing.bet_size_reserve(events_t1=bs_df['t1'], sides=bs_df.side, return_parameters=True, fit_runs=50)"
      ],
      "execution_count": 44,
      "outputs": [
        {
          "output_type": "stream",
          "text": [
            "|#########################| Completed 50 of 50 fitting rounds."
          ],
          "name": "stderr"
        }
      ]
    },
    {
      "cell_type": "code",
      "metadata": {
        "id": "D7T72qjx75c5",
        "colab_type": "code",
        "outputId": "f18d522a-541f-454e-c5bf-d68044538d40",
        "colab": {
          "base_uri": "https://localhost:8080/",
          "height": 437
        }
      },
      "source": [
        "m_reserve[0]"
      ],
      "execution_count": 45,
      "outputs": [
        {
          "output_type": "execute_result",
          "data": {
            "text/html": [
              "<div>\n",
              "<style scoped>\n",
              "    .dataframe tbody tr th:only-of-type {\n",
              "        vertical-align: middle;\n",
              "    }\n",
              "\n",
              "    .dataframe tbody tr th {\n",
              "        vertical-align: top;\n",
              "    }\n",
              "\n",
              "    .dataframe thead th {\n",
              "        text-align: right;\n",
              "    }\n",
              "</style>\n",
              "<table border=\"1\" class=\"dataframe\">\n",
              "  <thead>\n",
              "    <tr style=\"text-align: right;\">\n",
              "      <th></th>\n",
              "      <th>t1</th>\n",
              "      <th>side</th>\n",
              "      <th>active_long</th>\n",
              "      <th>active_short</th>\n",
              "      <th>c_t</th>\n",
              "      <th>bet_size</th>\n",
              "    </tr>\n",
              "    <tr>\n",
              "      <th>date_time</th>\n",
              "      <th></th>\n",
              "      <th></th>\n",
              "      <th></th>\n",
              "      <th></th>\n",
              "      <th></th>\n",
              "      <th></th>\n",
              "    </tr>\n",
              "  </thead>\n",
              "  <tbody>\n",
              "    <tr>\n",
              "      <th>2015-07-09 09:56:21</th>\n",
              "      <td>2015-07-10 09:56:51</td>\n",
              "      <td>-1.0</td>\n",
              "      <td>0</td>\n",
              "      <td>1</td>\n",
              "      <td>-1</td>\n",
              "      <td>-0.151861</td>\n",
              "    </tr>\n",
              "    <tr>\n",
              "      <th>2015-07-09 12:00:31</th>\n",
              "      <td>2015-07-10 12:27:37</td>\n",
              "      <td>-1.0</td>\n",
              "      <td>0</td>\n",
              "      <td>2</td>\n",
              "      <td>-2</td>\n",
              "      <td>-0.305167</td>\n",
              "    </tr>\n",
              "    <tr>\n",
              "      <th>2015-07-09 15:59:28</th>\n",
              "      <td>2015-07-10 09:35:27</td>\n",
              "      <td>1.0</td>\n",
              "      <td>1</td>\n",
              "      <td>2</td>\n",
              "      <td>-1</td>\n",
              "      <td>-0.151861</td>\n",
              "    </tr>\n",
              "    <tr>\n",
              "      <th>2015-07-10 09:35:27</th>\n",
              "      <td>2015-07-13 09:30:23</td>\n",
              "      <td>1.0</td>\n",
              "      <td>1</td>\n",
              "      <td>2</td>\n",
              "      <td>-1</td>\n",
              "      <td>-0.151861</td>\n",
              "    </tr>\n",
              "    <tr>\n",
              "      <th>2015-07-10 11:48:00</th>\n",
              "      <td>2015-07-13 09:30:23</td>\n",
              "      <td>1.0</td>\n",
              "      <td>2</td>\n",
              "      <td>1</td>\n",
              "      <td>1</td>\n",
              "      <td>0.213739</td>\n",
              "    </tr>\n",
              "    <tr>\n",
              "      <th>...</th>\n",
              "      <td>...</td>\n",
              "      <td>...</td>\n",
              "      <td>...</td>\n",
              "      <td>...</td>\n",
              "      <td>...</td>\n",
              "      <td>...</td>\n",
              "    </tr>\n",
              "    <tr>\n",
              "      <th>2019-06-12 11:59:18</th>\n",
              "      <td>2019-06-13 12:16:14</td>\n",
              "      <td>-1.0</td>\n",
              "      <td>3</td>\n",
              "      <td>1</td>\n",
              "      <td>2</td>\n",
              "      <td>0.405732</td>\n",
              "    </tr>\n",
              "    <tr>\n",
              "      <th>2019-06-13 09:36:29</th>\n",
              "      <td>2019-06-14 09:48:52</td>\n",
              "      <td>-1.0</td>\n",
              "      <td>0</td>\n",
              "      <td>2</td>\n",
              "      <td>-2</td>\n",
              "      <td>-0.305167</td>\n",
              "    </tr>\n",
              "    <tr>\n",
              "      <th>2019-06-18 09:50:22</th>\n",
              "      <td>2019-06-19 09:57:29</td>\n",
              "      <td>-1.0</td>\n",
              "      <td>0</td>\n",
              "      <td>1</td>\n",
              "      <td>-1</td>\n",
              "      <td>-0.151861</td>\n",
              "    </tr>\n",
              "    <tr>\n",
              "      <th>2019-06-18 12:22:51</th>\n",
              "      <td>2019-06-19 12:33:36</td>\n",
              "      <td>1.0</td>\n",
              "      <td>1</td>\n",
              "      <td>1</td>\n",
              "      <td>0</td>\n",
              "      <td>0.000000</td>\n",
              "    </tr>\n",
              "    <tr>\n",
              "      <th>2019-06-19 14:01:58</th>\n",
              "      <td>2019-06-20 09:30:00</td>\n",
              "      <td>1.0</td>\n",
              "      <td>1</td>\n",
              "      <td>0</td>\n",
              "      <td>1</td>\n",
              "      <td>0.213739</td>\n",
              "    </tr>\n",
              "  </tbody>\n",
              "</table>\n",
              "<p>2562 rows × 6 columns</p>\n",
              "</div>"
            ],
            "text/plain": [
              "                                     t1  side  ...  c_t  bet_size\n",
              "date_time                                      ...               \n",
              "2015-07-09 09:56:21 2015-07-10 09:56:51  -1.0  ...   -1 -0.151861\n",
              "2015-07-09 12:00:31 2015-07-10 12:27:37  -1.0  ...   -2 -0.305167\n",
              "2015-07-09 15:59:28 2015-07-10 09:35:27   1.0  ...   -1 -0.151861\n",
              "2015-07-10 09:35:27 2015-07-13 09:30:23   1.0  ...   -1 -0.151861\n",
              "2015-07-10 11:48:00 2015-07-13 09:30:23   1.0  ...    1  0.213739\n",
              "...                                 ...   ...  ...  ...       ...\n",
              "2019-06-12 11:59:18 2019-06-13 12:16:14  -1.0  ...    2  0.405732\n",
              "2019-06-13 09:36:29 2019-06-14 09:48:52  -1.0  ...   -2 -0.305167\n",
              "2019-06-18 09:50:22 2019-06-19 09:57:29  -1.0  ...   -1 -0.151861\n",
              "2019-06-18 12:22:51 2019-06-19 12:33:36   1.0  ...    0  0.000000\n",
              "2019-06-19 14:01:58 2019-06-20 09:30:00   1.0  ...    1  0.213739\n",
              "\n",
              "[2562 rows x 6 columns]"
            ]
          },
          "metadata": {
            "tags": []
          },
          "execution_count": 45
        }
      ]
    },
    {
      "cell_type": "code",
      "metadata": {
        "id": "m6vfUje3CBPE",
        "colab_type": "code",
        "colab": {}
      },
      "source": [
        "BetSizeReserve = m_reserve[0].bet_size"
      ],
      "execution_count": 0,
      "outputs": []
    },
    {
      "cell_type": "code",
      "metadata": {
        "id": "NucjJ_DN9vl_",
        "colab_type": "code",
        "outputId": "878f87b0-18fb-4aea-a02a-2c41c557b7ab",
        "colab": {
          "base_uri": "https://localhost:8080/",
          "height": 108
        }
      },
      "source": [
        "m_reserve[1]\n",
        "#parameter for two Gaussian mixture"
      ],
      "execution_count": 47,
      "outputs": [
        {
          "output_type": "execute_result",
          "data": {
            "text/plain": [
              "{'mu_1': -1.44952,\n",
              " 'mu_2': 3.71153,\n",
              " 'p_1': 0.92797,\n",
              " 'sigma_1': 4.10773,\n",
              " 'sigma_2': 2.85437}"
            ]
          },
          "metadata": {
            "tags": []
          },
          "execution_count": 47
        }
      ]
    },
    {
      "cell_type": "markdown",
      "metadata": {
        "id": "6dfB2jjncf5r",
        "colab_type": "text"
      },
      "source": [
        "### bet size budget"
      ]
    },
    {
      "cell_type": "code",
      "metadata": {
        "id": "S2NP_MKf_5s7",
        "colab_type": "code",
        "outputId": "a6bd40f1-20cd-416b-c071-c486ca57e0eb",
        "colab": {
          "base_uri": "https://localhost:8080/",
          "height": 437
        }
      },
      "source": [
        "m_budget = bs.bet_sizing.bet_size_budget(bs_df.t1, bs_df.side)\n",
        "m_budget"
      ],
      "execution_count": 48,
      "outputs": [
        {
          "output_type": "execute_result",
          "data": {
            "text/html": [
              "<div>\n",
              "<style scoped>\n",
              "    .dataframe tbody tr th:only-of-type {\n",
              "        vertical-align: middle;\n",
              "    }\n",
              "\n",
              "    .dataframe tbody tr th {\n",
              "        vertical-align: top;\n",
              "    }\n",
              "\n",
              "    .dataframe thead th {\n",
              "        text-align: right;\n",
              "    }\n",
              "</style>\n",
              "<table border=\"1\" class=\"dataframe\">\n",
              "  <thead>\n",
              "    <tr style=\"text-align: right;\">\n",
              "      <th></th>\n",
              "      <th>t1</th>\n",
              "      <th>side</th>\n",
              "      <th>active_long</th>\n",
              "      <th>active_short</th>\n",
              "      <th>bet_size</th>\n",
              "    </tr>\n",
              "    <tr>\n",
              "      <th>date_time</th>\n",
              "      <th></th>\n",
              "      <th></th>\n",
              "      <th></th>\n",
              "      <th></th>\n",
              "      <th></th>\n",
              "    </tr>\n",
              "  </thead>\n",
              "  <tbody>\n",
              "    <tr>\n",
              "      <th>2015-07-09 09:56:21</th>\n",
              "      <td>2015-07-10 09:56:51</td>\n",
              "      <td>-1.0</td>\n",
              "      <td>0</td>\n",
              "      <td>1</td>\n",
              "      <td>-0.035714</td>\n",
              "    </tr>\n",
              "    <tr>\n",
              "      <th>2015-07-09 12:00:31</th>\n",
              "      <td>2015-07-10 12:27:37</td>\n",
              "      <td>-1.0</td>\n",
              "      <td>0</td>\n",
              "      <td>2</td>\n",
              "      <td>-0.071429</td>\n",
              "    </tr>\n",
              "    <tr>\n",
              "      <th>2015-07-09 15:59:28</th>\n",
              "      <td>2015-07-10 09:35:27</td>\n",
              "      <td>1.0</td>\n",
              "      <td>1</td>\n",
              "      <td>2</td>\n",
              "      <td>0.000000</td>\n",
              "    </tr>\n",
              "    <tr>\n",
              "      <th>2015-07-10 09:35:27</th>\n",
              "      <td>2015-07-13 09:30:23</td>\n",
              "      <td>1.0</td>\n",
              "      <td>1</td>\n",
              "      <td>2</td>\n",
              "      <td>0.000000</td>\n",
              "    </tr>\n",
              "    <tr>\n",
              "      <th>2015-07-10 11:48:00</th>\n",
              "      <td>2015-07-13 09:30:23</td>\n",
              "      <td>1.0</td>\n",
              "      <td>2</td>\n",
              "      <td>1</td>\n",
              "      <td>0.107143</td>\n",
              "    </tr>\n",
              "    <tr>\n",
              "      <th>...</th>\n",
              "      <td>...</td>\n",
              "      <td>...</td>\n",
              "      <td>...</td>\n",
              "      <td>...</td>\n",
              "      <td>...</td>\n",
              "    </tr>\n",
              "    <tr>\n",
              "      <th>2019-06-12 11:59:18</th>\n",
              "      <td>2019-06-13 12:16:14</td>\n",
              "      <td>-1.0</td>\n",
              "      <td>3</td>\n",
              "      <td>1</td>\n",
              "      <td>0.178571</td>\n",
              "    </tr>\n",
              "    <tr>\n",
              "      <th>2019-06-13 09:36:29</th>\n",
              "      <td>2019-06-14 09:48:52</td>\n",
              "      <td>-1.0</td>\n",
              "      <td>0</td>\n",
              "      <td>2</td>\n",
              "      <td>-0.071429</td>\n",
              "    </tr>\n",
              "    <tr>\n",
              "      <th>2019-06-18 09:50:22</th>\n",
              "      <td>2019-06-19 09:57:29</td>\n",
              "      <td>-1.0</td>\n",
              "      <td>0</td>\n",
              "      <td>1</td>\n",
              "      <td>-0.035714</td>\n",
              "    </tr>\n",
              "    <tr>\n",
              "      <th>2019-06-18 12:22:51</th>\n",
              "      <td>2019-06-19 12:33:36</td>\n",
              "      <td>1.0</td>\n",
              "      <td>1</td>\n",
              "      <td>1</td>\n",
              "      <td>0.035714</td>\n",
              "    </tr>\n",
              "    <tr>\n",
              "      <th>2019-06-19 14:01:58</th>\n",
              "      <td>2019-06-20 09:30:00</td>\n",
              "      <td>1.0</td>\n",
              "      <td>1</td>\n",
              "      <td>0</td>\n",
              "      <td>0.071429</td>\n",
              "    </tr>\n",
              "  </tbody>\n",
              "</table>\n",
              "<p>2562 rows × 5 columns</p>\n",
              "</div>"
            ],
            "text/plain": [
              "                                     t1  side  ...  active_short  bet_size\n",
              "date_time                                      ...                        \n",
              "2015-07-09 09:56:21 2015-07-10 09:56:51  -1.0  ...             1 -0.035714\n",
              "2015-07-09 12:00:31 2015-07-10 12:27:37  -1.0  ...             2 -0.071429\n",
              "2015-07-09 15:59:28 2015-07-10 09:35:27   1.0  ...             2  0.000000\n",
              "2015-07-10 09:35:27 2015-07-13 09:30:23   1.0  ...             2  0.000000\n",
              "2015-07-10 11:48:00 2015-07-13 09:30:23   1.0  ...             1  0.107143\n",
              "...                                 ...   ...  ...           ...       ...\n",
              "2019-06-12 11:59:18 2019-06-13 12:16:14  -1.0  ...             1  0.178571\n",
              "2019-06-13 09:36:29 2019-06-14 09:48:52  -1.0  ...             2 -0.071429\n",
              "2019-06-18 09:50:22 2019-06-19 09:57:29  -1.0  ...             1 -0.035714\n",
              "2019-06-18 12:22:51 2019-06-19 12:33:36   1.0  ...             1  0.035714\n",
              "2019-06-19 14:01:58 2019-06-20 09:30:00   1.0  ...             0  0.071429\n",
              "\n",
              "[2562 rows x 5 columns]"
            ]
          },
          "metadata": {
            "tags": []
          },
          "execution_count": 48
        }
      ]
    },
    {
      "cell_type": "code",
      "metadata": {
        "id": "04NQKAnVBjKt",
        "colab_type": "code",
        "colab": {}
      },
      "source": [
        "BetSizeBudget = m_budget.bet_size"
      ],
      "execution_count": 0,
      "outputs": []
    },
    {
      "cell_type": "markdown",
      "metadata": {
        "id": "lAjfISA7_qvn",
        "colab_type": "text"
      },
      "source": [
        "overview"
      ]
    },
    {
      "cell_type": "code",
      "metadata": {
        "id": "F_2osvUt941C",
        "colab_type": "code",
        "outputId": "7b1ba142-d82c-4db0-f93d-36414d15cc5d",
        "colab": {
          "base_uri": "https://localhost:8080/",
          "height": 407
        }
      },
      "source": [
        "bet_size_0 = pd.DataFrame({'BetSizeProb':m_prob,'BetSizeProbAvg':m_prob_avg,'BetSizeProbDiscrete':m_prob_discrete})\n",
        "bet_size_1 = bet_size_0.join(BetSizeReserve)\n",
        "bet_size = bet_size_1.join(BetSizeBudget,rsuffix='2')\n",
        "bet_size = bet_size.rename(columns={'bet_size':'BetSizeReserve', 'bet_size2':'BetSizeBudget'})\n",
        "bet_size"
      ],
      "execution_count": 50,
      "outputs": [
        {
          "output_type": "execute_result",
          "data": {
            "text/html": [
              "<div>\n",
              "<style scoped>\n",
              "    .dataframe tbody tr th:only-of-type {\n",
              "        vertical-align: middle;\n",
              "    }\n",
              "\n",
              "    .dataframe tbody tr th {\n",
              "        vertical-align: top;\n",
              "    }\n",
              "\n",
              "    .dataframe thead th {\n",
              "        text-align: right;\n",
              "    }\n",
              "</style>\n",
              "<table border=\"1\" class=\"dataframe\">\n",
              "  <thead>\n",
              "    <tr style=\"text-align: right;\">\n",
              "      <th></th>\n",
              "      <th>BetSizeProb</th>\n",
              "      <th>BetSizeProbAvg</th>\n",
              "      <th>BetSizeProbDiscrete</th>\n",
              "      <th>BetSizeReserve</th>\n",
              "      <th>BetSizeBudget</th>\n",
              "    </tr>\n",
              "  </thead>\n",
              "  <tbody>\n",
              "    <tr>\n",
              "      <th>2015-07-09 09:56:21</th>\n",
              "      <td>0.108646</td>\n",
              "      <td>0.108646</td>\n",
              "      <td>0.11</td>\n",
              "      <td>-0.151861</td>\n",
              "      <td>-0.035714</td>\n",
              "    </tr>\n",
              "    <tr>\n",
              "      <th>2015-07-09 12:00:31</th>\n",
              "      <td>0.094602</td>\n",
              "      <td>0.101624</td>\n",
              "      <td>0.10</td>\n",
              "      <td>-0.305167</td>\n",
              "      <td>-0.071429</td>\n",
              "    </tr>\n",
              "    <tr>\n",
              "      <th>2015-07-09 15:59:28</th>\n",
              "      <td>0.189392</td>\n",
              "      <td>0.130880</td>\n",
              "      <td>0.13</td>\n",
              "      <td>-0.151861</td>\n",
              "      <td>0.000000</td>\n",
              "    </tr>\n",
              "    <tr>\n",
              "      <th>2015-07-10 09:35:27</th>\n",
              "      <td>0.189392</td>\n",
              "      <td>0.130880</td>\n",
              "      <td>0.13</td>\n",
              "      <td>-0.151861</td>\n",
              "      <td>0.000000</td>\n",
              "    </tr>\n",
              "    <tr>\n",
              "      <th>2015-07-10 09:56:51</th>\n",
              "      <td>NaN</td>\n",
              "      <td>0.141997</td>\n",
              "      <td>0.14</td>\n",
              "      <td>NaN</td>\n",
              "      <td>NaN</td>\n",
              "    </tr>\n",
              "    <tr>\n",
              "      <th>...</th>\n",
              "      <td>...</td>\n",
              "      <td>...</td>\n",
              "      <td>...</td>\n",
              "      <td>...</td>\n",
              "      <td>...</td>\n",
              "    </tr>\n",
              "    <tr>\n",
              "      <th>2019-06-18 12:22:51</th>\n",
              "      <td>-0.044367</td>\n",
              "      <td>-0.129564</td>\n",
              "      <td>-0.13</td>\n",
              "      <td>0.000000</td>\n",
              "      <td>0.035714</td>\n",
              "    </tr>\n",
              "    <tr>\n",
              "      <th>2019-06-19 09:57:29</th>\n",
              "      <td>NaN</td>\n",
              "      <td>-0.044367</td>\n",
              "      <td>-0.04</td>\n",
              "      <td>NaN</td>\n",
              "      <td>NaN</td>\n",
              "    </tr>\n",
              "    <tr>\n",
              "      <th>2019-06-19 12:33:36</th>\n",
              "      <td>NaN</td>\n",
              "      <td>0.000000</td>\n",
              "      <td>0.00</td>\n",
              "      <td>NaN</td>\n",
              "      <td>NaN</td>\n",
              "    </tr>\n",
              "    <tr>\n",
              "      <th>2019-06-19 14:01:58</th>\n",
              "      <td>-0.609154</td>\n",
              "      <td>-0.609154</td>\n",
              "      <td>-0.61</td>\n",
              "      <td>0.213739</td>\n",
              "      <td>0.071429</td>\n",
              "    </tr>\n",
              "    <tr>\n",
              "      <th>2019-06-20 09:30:00</th>\n",
              "      <td>NaN</td>\n",
              "      <td>0.000000</td>\n",
              "      <td>0.00</td>\n",
              "      <td>NaN</td>\n",
              "      <td>NaN</td>\n",
              "    </tr>\n",
              "  </tbody>\n",
              "</table>\n",
              "<p>3830 rows × 5 columns</p>\n",
              "</div>"
            ],
            "text/plain": [
              "                     BetSizeProb  BetSizeProbAvg  ...  BetSizeReserve  BetSizeBudget\n",
              "2015-07-09 09:56:21     0.108646        0.108646  ...       -0.151861      -0.035714\n",
              "2015-07-09 12:00:31     0.094602        0.101624  ...       -0.305167      -0.071429\n",
              "2015-07-09 15:59:28     0.189392        0.130880  ...       -0.151861       0.000000\n",
              "2015-07-10 09:35:27     0.189392        0.130880  ...       -0.151861       0.000000\n",
              "2015-07-10 09:56:51          NaN        0.141997  ...             NaN            NaN\n",
              "...                          ...             ...  ...             ...            ...\n",
              "2019-06-18 12:22:51    -0.044367       -0.129564  ...        0.000000       0.035714\n",
              "2019-06-19 09:57:29          NaN       -0.044367  ...             NaN            NaN\n",
              "2019-06-19 12:33:36          NaN        0.000000  ...             NaN            NaN\n",
              "2019-06-19 14:01:58    -0.609154       -0.609154  ...        0.213739       0.071429\n",
              "2019-06-20 09:30:00          NaN        0.000000  ...             NaN            NaN\n",
              "\n",
              "[3830 rows x 5 columns]"
            ]
          },
          "metadata": {
            "tags": []
          },
          "execution_count": 50
        }
      ]
    },
    {
      "cell_type": "code",
      "metadata": {
        "id": "lSK9HdDhRJIB",
        "colab_type": "code",
        "colab": {}
      },
      "source": [
        "bet_size.dropna(inplace=True)"
      ],
      "execution_count": 0,
      "outputs": []
    },
    {
      "cell_type": "markdown",
      "metadata": {
        "id": "tzyV4XujNPeK",
        "colab_type": "text"
      },
      "source": [
        "Plot"
      ]
    },
    {
      "cell_type": "code",
      "metadata": {
        "id": "JLUEVfuhKMbc",
        "colab_type": "code",
        "outputId": "8b574a38-f2db-4174-f4e4-6777afdf2f20",
        "colab": {
          "base_uri": "https://localhost:8080/",
          "height": 412
        }
      },
      "source": [
        "fig, ax = plt.subplots(figsize=(10,6))\n",
        "bet_size_3 = bet_size.drop(['BetSizeProbAvg','BetSizeProbDiscrete'],axis=1)\n",
        "ax.plot(bet_size_3[-100:])\n",
        "\n",
        "ax.legend(labels=bet_size_3.columns,loc='upper left', fontsize=12, title=\"Bet size type\", title_fontsize=10)\n",
        "ax.set_title(\"Bet Size 100 points\", fontsize=14)"
      ],
      "execution_count": 52,
      "outputs": [
        {
          "output_type": "execute_result",
          "data": {
            "text/plain": [
              "Text(0.5, 1.0, 'Bet Size 100 points')"
            ]
          },
          "metadata": {
            "tags": []
          },
          "execution_count": 52
        },
        {
          "output_type": "display_data",
          "data": {
            "image/png": "[encoded data removed]",
            "text/plain": [
              "<Figure size 720x432 with 1 Axes>"
            ]
          },
          "metadata": {
            "tags": []
          }
        }
      ]
    },
    {
      "cell_type": "code",
      "metadata": {
        "id": "yaSu4zBICuFN",
        "colab_type": "code",
        "outputId": "351b0f70-96c3-43d6-8f0a-728f1e62dc1f",
        "colab": {
          "base_uri": "https://localhost:8080/",
          "height": 412
        }
      },
      "source": [
        "fig, ax = plt.subplots(figsize=(10,6))\n",
        "bet_size_4 = bet_size.iloc[:,:3]\n",
        "ax.plot(bet_size_4[-100:])\n",
        "\n",
        "ax.legend(labels=bet_size_4.columns,loc='upper left', fontsize=12, title=\"Bet size type\", title_fontsize=10)\n",
        "ax.set_title(\"Bet Size Prob 100 points\", fontsize=14)"
      ],
      "execution_count": 53,
      "outputs": [
        {
          "output_type": "execute_result",
          "data": {
            "text/plain": [
              "Text(0.5, 1.0, 'Bet Size Prob 100 points')"
            ]
          },
          "metadata": {
            "tags": []
          },
          "execution_count": 53
        },
        {
          "output_type": "display_data",
          "data": {
            "image/png": "[encoded data removed]",
            "text/plain": [
              "<Figure size 720x432 with 1 Axes>"
            ]
          },
          "metadata": {
            "tags": []
          }
        }
      ]
    },
    {
      "cell_type": "code",
      "metadata": {
        "id": "1LRuhbKtNx2N",
        "colab_type": "code",
        "outputId": "98e7b2ba-a3ef-4bd4-830c-b36215596951",
        "colab": {
          "base_uri": "https://localhost:8080/",
          "height": 432
        }
      },
      "source": [
        "fig, ax = plt.subplots(figsize=(10,6))\n",
        "for c in ['BetSizeProb','BetSizeReserve', 'BetSizeBudget']:\n",
        "    ax.hist(bet_size_3[c],  label=c, alpha=0.6, bins=100)\n",
        "ax.legend(loc='upper left', fontsize=12, title=\"Bet size type\", title_fontsize=10)\n",
        "ax.set_xlabel(\"Bet Size, $m_t$\", fontsize=12)\n",
        "ax.set_ylabel(\"Value count\", fontsize=12)\n",
        "ax.set_title(\"Bet Size Distribution\", fontsize=14)"
      ],
      "execution_count": 54,
      "outputs": [
        {
          "output_type": "execute_result",
          "data": {
            "text/plain": [
              "Text(0.5, 1.0, 'Bet Size Distribution')"
            ]
          },
          "metadata": {
            "tags": []
          },
          "execution_count": 54
        },
        {
          "output_type": "display_data",
          "data": {
            "image/png": "[encoded data removed]",
            "text/plain": [
              "<Figure size 720x432 with 1 Axes>"
            ]
          },
          "metadata": {
            "tags": []
          }
        }
      ]
    },
    {
      "cell_type": "code",
      "metadata": {
        "id": "f0LAHHJkNaa1",
        "colab_type": "code",
        "outputId": "03a793ac-f705-4893-c5f8-e8e6f3752441",
        "colab": {
          "base_uri": "https://localhost:8080/",
          "height": 432
        }
      },
      "source": [
        "fig, ax = plt.subplots(figsize=(10,6))\n",
        "for c in ['BetSizeProb','BetSizeProbAvg', 'BetSizeProbDiscrete']:\n",
        "    ax.hist(bet_size_4[c],  label=c, alpha=0.6, bins=100)\n",
        "ax.legend(loc='upper left', fontsize=12, title=\"Bet size type\", title_fontsize=10)\n",
        "ax.set_xlabel(\"Bet Size, $m_t$\", fontsize=12)\n",
        "ax.set_ylabel(\"Value count\", fontsize=12)\n",
        "ax.set_title(\"Bet Size Distribution\", fontsize=14)"
      ],
      "execution_count": 55,
      "outputs": [
        {
          "output_type": "execute_result",
          "data": {
            "text/plain": [
              "Text(0.5, 1.0, 'Bet Size Distribution')"
            ]
          },
          "metadata": {
            "tags": []
          },
          "execution_count": 55
        },
        {
          "output_type": "display_data",
          "data": {
            "image/png": "[encoded data removed]",
            "text/plain": [
              "<Figure size 720x432 with 1 Axes>"
            ]
          },
          "metadata": {
            "tags": []
          }
        }
      ]
    },
    {
      "cell_type": "code",
      "metadata": {
        "id": "NK_HVmubO9hn",
        "colab_type": "code",
        "colab": {}
      },
      "source": [
        ""
      ],
      "execution_count": 0,
      "outputs": []
    },
    {
      "cell_type": "markdown",
      "metadata": {
        "id": "d7YIGyDtPH92",
        "colab_type": "text"
      },
      "source": [
        "## REFERENCE"
      ]
    },
    {
      "cell_type": "markdown",
      "metadata": {
        "id": "ym6rl-oGPJIT",
        "colab_type": "text"
      },
      "source": [
        "Advances in Financial Machine Learning, Lopez de Prado\n",
        "\n",
        "https://github.com/hudson-and-thames/research"
      ]
    },
    {
      "cell_type": "code",
      "metadata": {
        "id": "nPcMO2z3PUCY",
        "colab_type": "code",
        "colab": {}
      },
      "source": [
        ""
      ],
      "execution_count": 0,
      "outputs": []
    }
  ]
}
