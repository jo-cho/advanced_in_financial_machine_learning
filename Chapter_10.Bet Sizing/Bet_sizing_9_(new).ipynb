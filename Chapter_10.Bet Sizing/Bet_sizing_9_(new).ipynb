{
  "nbformat": 4,
  "nbformat_minor": 0,
  "metadata": {
    "colab": {
      "name": "Bet sizing 9 (new)",
      "provenance": [],
      "collapsed_sections": [
        "NjGS3Zfrto_0",
        "OC5-_zZlHNKm",
        "d7YIGyDtPH92"
      ],
      "authorship_tag": "ABX9TyMLjl9Z3L/H1cEAMP8jEuy1",
      "include_colab_link": true
    },
    "kernelspec": {
      "name": "python3",
      "display_name": "Python 3"
    },
    "accelerator": "GPU"
  },
  "cells": [
    {
      "cell_type": "markdown",
      "metadata": {
        "id": "view-in-github",
        "colab_type": "text"
      },
      "source": [
        "<a href=\"https://colab.research.google.com/github/jo-cho/advances_in_financial_machine_learning/blob/master/Bet%20Sizing/Bet_sizing_9_(new).ipynb\" target=\"_parent\"><img src=\"https://colab.research.google.com/assets/colab-badge.svg\" alt=\"Open In Colab\"/></a>"
      ]
    },
    {
      "cell_type": "markdown",
      "metadata": {
        "id": "DIwRLn7gLJPz",
        "colab_type": "text"
      },
      "source": [
        "META-LABELING AND BET SIZING"
      ]
    },
    {
      "cell_type": "markdown",
      "metadata": {
        "id": "wbTFlCVLQfCH",
        "colab_type": "text"
      },
      "source": [
        "This notebook is based on the book *Advances in Financial Machine Learning* by Lopez De Prado. (Chapter 3 and Chapter 10)"
      ]
    },
    {
      "cell_type": "markdown",
      "metadata": {
        "id": "K4EieSjY01qM",
        "colab_type": "text"
      },
      "source": [
        "# IMPORT LIB"
      ]
    },
    {
      "cell_type": "code",
      "metadata": {
        "id": "5bthg3s23JVw",
        "colab_type": "code",
        "colab": {}
      },
      "source": [
        "# lib\n",
        "import numpy as np\n",
        "import pandas as pd\n",
        "import datetime as dt\n",
        "import matplotlib.pyplot as plt\n",
        "%matplotlib inline\n",
        "import seaborn as sns; sns.set()"
      ],
      "execution_count": 0,
      "outputs": []
    },
    {
      "cell_type": "code",
      "metadata": {
        "id": "P_w5609_w735",
        "colab_type": "code",
        "colab": {}
      },
      "source": [
        "# sklearn\n",
        "\n",
        "from sklearn.decomposition import PCA\n",
        "from sklearn.model_selection import StratifiedKFold\n",
        "from sklearn.model_selection import train_test_split\n",
        "from sklearn.tree import DecisionTreeClassifier\n",
        "from sklearn.ensemble import RandomForestClassifier, BaggingClassifier, AdaBoostClassifier, GradientBoostingClassifier\n",
        "from sklearn.svm import SVC\n",
        "from sklearn.metrics import plot_roc_curve\n",
        "from sklearn.metrics import roc_curve, confusion_matrix, accuracy_score, classification_report\n",
        "from sklearn.model_selection import GridSearchCV, RandomizedSearchCV\n",
        "from sklearn import metrics"
      ],
      "execution_count": 0,
      "outputs": []
    },
    {
      "cell_type": "code",
      "metadata": {
        "id": "2nbirv9vkmFg",
        "colab_type": "code",
        "colab": {}
      },
      "source": [
        "!pip install -q ta\n",
        "import ta"
      ],
      "execution_count": 0,
      "outputs": []
    },
    {
      "cell_type": "code",
      "metadata": {
        "id": "lefH2Ji6WyLw",
        "colab_type": "code",
        "colab": {}
      },
      "source": [
        "import warnings\n",
        "warnings.filterwarnings(action='ignore')"
      ],
      "execution_count": 0,
      "outputs": []
    },
    {
      "cell_type": "code",
      "metadata": {
        "id": "KvpQ32OS2joc",
        "colab_type": "code",
        "outputId": "0c2d778b-2322-4fcf-c127-af8a7fc48c14",
        "colab": {
          "base_uri": "https://localhost:8080/",
          "height": 35
        }
      },
      "source": [
        "from google.colab import drive\n",
        "drive.mount('/content/drive')"
      ],
      "execution_count": 6,
      "outputs": [
        {
          "output_type": "stream",
          "text": [
            "Drive already mounted at /content/drive; to attempt to forcibly remount, call drive.mount(\"/content/drive\", force_remount=True).\n"
          ],
          "name": "stdout"
        }
      ]
    },
    {
      "cell_type": "code",
      "metadata": {
        "id": "J5F9VG8B2oB0",
        "colab_type": "code",
        "outputId": "bba88fd6-76f5-40f1-a9f0-a65cf665660d",
        "colab": {
          "base_uri": "https://localhost:8080/",
          "height": 35
        }
      },
      "source": [
        "# Big thanks to mlfinlab!\n",
        "\n",
        "!pip install mlfinlab\n",
        "from mlfinlab import data_structures, features, filters, labeling, util, sampling, cross_validation"
      ],
      "execution_count": 7,
      "outputs": [
        {
          "output_type": "stream",
          "text": [
            "Requirement already satisfied: mlfinlab in /usr/local/lib/python3.6/dist-packages (0.5.0)\n"
          ],
          "name": "stdout"
        }
      ]
    },
    {
      "cell_type": "markdown",
      "metadata": {
        "id": "JXvDEf3VLBLJ",
        "colab_type": "text"
      },
      "source": [
        "# 1. Bet sizing  applying meta-labeling"
      ]
    },
    {
      "cell_type": "markdown",
      "metadata": {
        "id": "IYFn3Y3RLjsH",
        "colab_type": "text"
      },
      "source": [
        "We fit a\n",
        "classifier, such as an SVC or RF, to determine the probability of misclassification, and\n",
        "use that probability to derive the bet size."
      ]
    },
    {
      "cell_type": "markdown",
      "metadata": {
        "id": "eEh_hBTEBsKv",
        "colab_type": "text"
      },
      "source": [
        "### WHY do we use meta-labeling for sizing the bet?"
      ]
    },
    {
      "cell_type": "markdown",
      "metadata": {
        "id": "6khpDfn_Ly0o",
        "colab_type": "text"
      },
      "source": [
        "Advantages\n",
        "1. The ML algorithm that decides the bet sizes is independent of the primary model, allowing for the incorporation of features predictive of false positives (meta-labeling - see below). \n",
        "\n",
        "2. The predicted probability can be directly translated into bet size."
      ]
    },
    {
      "cell_type": "markdown",
      "metadata": {
        "id": "NeFHQgICirXE",
        "colab_type": "text"
      },
      "source": [
        "### What is meta labeling?"
      ]
    },
    {
      "cell_type": "markdown",
      "metadata": {
        "id": "QbpCruzwPA2w",
        "colab_type": "text"
      },
      "source": [
        "Suppose that you have a model for setting the side of the bet (long or short). You just need to learn the size of that bet, which includes the possibility of no bet at all (zero size). This is a situation that practitioners face regularly. We often know whether we want to buy or sell a product, and the only remaining question is **how much money we should risk in such a bet**. We do not want the ML algorithm to learn the side, just\n",
        "to tell us what is the **appropriate size**. We want to build a **secondary ML model** that learns how to use a primary exogenous model."
      ]
    },
    {
      "cell_type": "markdown",
      "metadata": {
        "id": "XYj34cC_8aR4",
        "colab_type": "text"
      },
      "source": [
        "Binary classification problems present a trade-off between type-I errors (false positives) and type-II errors (false negatives). In general, increasing the true positive rate of a binary classifier will tend to increase its false positive rate. The receiver operating characteristic (ROC) curve of a binary classifier measures the cost of increasing the true positive rate, in terms of accepting higher false positive rates.\n",
        "\n",
        "Meta-labeling is particularly helpful when you want to achieve higher F1-scores. First, we build a model that achieves high recall, even if the precision is not particularly high. Second, we correct for the low precision by applying meta-labeling to the positives predicted by the primary model."
      ]
    },
    {
      "cell_type": "markdown",
      "metadata": {
        "id": "OkW31vLYXFts",
        "colab_type": "text"
      },
      "source": [
        "Meta-labeling will increase your F1-score by filtering out the false positives, where the majority of positives have already been identified by the primary model. Stated differently, the role of the secondary ML algorithm is to determine whether a positive from the primary (exogenous) model is true or false. It is not its purpose to come up with a betting opportunity. Its purpose is to determine whether we should act or pass\n",
        "on the opportunity that has been presented.\n",
        "\n"
      ]
    },
    {
      "cell_type": "markdown",
      "metadata": {
        "id": "ftWYDcPgXVkI",
        "colab_type": "text"
      },
      "source": [
        "Advantages of meta-labeling\n",
        "\n",
        "First, ML algorithms are often criticized as black boxes.\n",
        "Meta-labeling allows you to build an ML system on top of a white box (like a fundamental model founded on economic theory). This ability to transform a fundamental model into an ML model should make meta-labeling particularly useful to “quantamental” firms. \n",
        "\n",
        "Second, the effects of overfitting are limited when you apply meta labeling,\n",
        "because ML will not decide the side of your bet, only the size. \n",
        "\n",
        "Third, by decoupling the side prediction from the size prediction, meta-labeling enables sophisticated strategy structures. For instance, consider that the features driving a rally may differ from the features driving a sell-off. In that case, you may want to develop an\n",
        "ML strategy exclusively for long positions, based on the buy recommendations of a primary model, and an ML strategy exclusively for short positions, based on the sell recommendations of an entirely different primary model. \n",
        "\n",
        "Fourth, achieving high accuracy on small bets and low accuracy on large bets will ruin you. As important as identifying good opportunities is to size them properly, so it makes sense to develop an ML algorithm solely focused on getting that critical decision (sizing) right. - Bet Sizing"
      ]
    },
    {
      "cell_type": "markdown",
      "metadata": {
        "id": "sEmeWgLwuKo_",
        "colab_type": "text"
      },
      "source": [
        "3 steps\n",
        "\n",
        "\n",
        "1. Use your forecasts from the primary model, and generate meta-labels. Remember, horizontal barriers do not need to be symmetric in this case.\n",
        "\n",
        "2. Fit your model again on the same training set, but this time using the meta-labels you just generated.\n",
        "\n",
        "3. Combine the “sides” from the first ML model with the “sizes” from the second ML model. I.e. if your primary model predicts a 3 and your secondary model says you have a high probability of the primary model being correct, is your final prediction a 3, else not 3."
      ]
    },
    {
      "cell_type": "code",
      "metadata": {
        "id": "lpnKi3rNfYf4",
        "colab_type": "code",
        "outputId": "f68b11d0-4e11-4c21-d249-4c126e17aaaf",
        "colab": {
          "base_uri": "https://localhost:8080/",
          "height": 697
        }
      },
      "source": [
        "from IPython.core.display import Image\n",
        "Image(filename='/content/drive/My Drive/Colab Notebooks/images/meta-labeling.png')"
      ],
      "execution_count": 8,
      "outputs": [
        {
          "output_type": "execute_result",
          "data": {
            "image/png": "[encoded data removed]",
            "text/plain": [
              "<IPython.core.display.Image object>"
            ]
          },
          "metadata": {
            "tags": []
          },
          "execution_count": 8
        }
      ]
    },
    {
      "cell_type": "code",
      "metadata": {
        "id": "yPPD703Ph0Lx",
        "colab_type": "code",
        "outputId": "42fbc2d8-8eb6-47db-d774-9c5b847f1ea0",
        "colab": {
          "base_uri": "https://localhost:8080/",
          "height": 1000
        }
      },
      "source": [
        "Image(filename='/content/drive/My Drive/Colab Notebooks/images/f1.png')"
      ],
      "execution_count": 9,
      "outputs": [
        {
          "output_type": "execute_result",
          "data": {
            "image/png": "[encoded data removed]",
            "text/plain": [
              "<IPython.core.display.Image object>"
            ]
          },
          "metadata": {
            "tags": []
          },
          "execution_count": 9
        }
      ]
    },
    {
      "cell_type": "markdown",
      "metadata": {
        "id": "qiLQageEiPmD",
        "colab_type": "text"
      },
      "source": [
        "F-score (F1 score) is the harmonic mean of precision and recall"
      ]
    },
    {
      "cell_type": "markdown",
      "metadata": {
        "id": "n98gQKwOsIVz",
        "colab_type": "text"
      },
      "source": [
        "### Steps \n"
      ]
    },
    {
      "cell_type": "markdown",
      "metadata": {
        "id": "Jk10U2TktenW",
        "colab_type": "text"
      },
      "source": [
        "https://hudsonthames.org/does-meta-labeling-add-to-signal-efficacy-triple-barrier-method/\n",
        "\n",
        "1. Compute long short signals for the strategy. For instance, in the mean-reverting strategy, generate a long signal when the close price is below the lower Bollinger band and create a sell signal if the close price is higher than the upper Bollinger band. We call this the “Primary model”.\n",
        "\n",
        "2. Get time stamps of the events using CUSUM (or cumulative sum control chart) filter and point estimate of the volatility. See section 4.2.\n",
        "Determine events when one of the three exit points (profit taking, stop-loss and vertical barrier) occur. Advances in Financial Machine Learning discusses this in Chapter 3. The result of this step is a trade decision – long or short, or 1 or -1.\n",
        "\n",
        "3. Determine the bet size. The prior step tell us the direction of the trade. This step says if we should trade or not – a one or zero decision.\n",
        "Tune the hyper-parameters (max_depth and n_estimators) of Random Forest using grid search and cross-validation. We keep the random state constant for reproducibility of the results.\n",
        "\n",
        "4. Train a machine-learning algorithm (we use Random Forest for illustration) with new features like one to five day serial correlations, one to five-day returns, 50-day volatility, and 14-day RSI. We iterate over this step number of times until we see in-sample results that are acceptable. In other words, we only exit this step when we consider the model to be ready and there is no turning back.\n",
        "\n",
        "5. Evaluate the performance of in sample and out-of-sample or this meta-model model.\n",
        "Evaluate the performance of the “Primary model”\n",
        "Compare the performance of the meta-model and the primary model"
      ]
    },
    {
      "cell_type": "markdown",
      "metadata": {
        "id": "PsrMWBgNhBgE",
        "colab_type": "text"
      },
      "source": [
        "## Read in data - dollar bars"
      ]
    },
    {
      "cell_type": "markdown",
      "metadata": {
        "id": "D6OFatkLi8xp",
        "colab_type": "text"
      },
      "source": [
        "E-mini S&P Future tick data"
      ]
    },
    {
      "cell_type": "code",
      "metadata": {
        "id": "Lypoa5PW2xIg",
        "colab_type": "code",
        "outputId": "b431be4c-33a8-451a-8592-cdfa7e46dcbb",
        "colab": {
          "base_uri": "https://localhost:8080/",
          "height": 90
        }
      },
      "source": [
        "# make dollar bars from tick data\n",
        "threshold = 200_000\n",
        "raw_dollar_bars = data_structures.get_dollar_bars('/content/drive/My Drive/Colab Notebooks/csv/clean_IVE_tickbidask2.csv', threshold=threshold)\n",
        "dollar_bars = raw_dollar_bars.set_index(pd.to_datetime(raw_dollar_bars.date_time))\n",
        "dollar_bars = dollar_bars.drop(columns='date_time')\n",
        "dollar_bars = dollar_bars.reset_index().drop_duplicates(subset='date_time', keep='last').set_index('date_time')"
      ],
      "execution_count": 10,
      "outputs": [
        {
          "output_type": "stream",
          "text": [
            "Reading data in batches:\n",
            "Batch number: 0\n",
            "Returning bars \n",
            "\n"
          ],
          "name": "stdout"
        }
      ]
    },
    {
      "cell_type": "code",
      "metadata": {
        "id": "6J1aOceRiGr7",
        "colab_type": "code",
        "outputId": "755c92e4-9fdf-4940-8a29-bf07ab0d3b16",
        "colab": {
          "base_uri": "https://localhost:8080/",
          "height": 228
        }
      },
      "source": [
        "dollar_bars.head()"
      ],
      "execution_count": 11,
      "outputs": [
        {
          "output_type": "execute_result",
          "data": {
            "text/html": [
              "<div>\n",
              "<style scoped>\n",
              "    .dataframe tbody tr th:only-of-type {\n",
              "        vertical-align: middle;\n",
              "    }\n",
              "\n",
              "    .dataframe tbody tr th {\n",
              "        vertical-align: top;\n",
              "    }\n",
              "\n",
              "    .dataframe thead th {\n",
              "        text-align: right;\n",
              "    }\n",
              "</style>\n",
              "<table border=\"1\" class=\"dataframe\">\n",
              "  <thead>\n",
              "    <tr style=\"text-align: right;\">\n",
              "      <th></th>\n",
              "      <th>tick_num</th>\n",
              "      <th>open</th>\n",
              "      <th>high</th>\n",
              "      <th>low</th>\n",
              "      <th>close</th>\n",
              "      <th>volume</th>\n",
              "      <th>cum_buy_volume</th>\n",
              "      <th>cum_ticks</th>\n",
              "      <th>cum_dollar_value</th>\n",
              "    </tr>\n",
              "    <tr>\n",
              "      <th>date_time</th>\n",
              "      <th></th>\n",
              "      <th></th>\n",
              "      <th></th>\n",
              "      <th></th>\n",
              "      <th></th>\n",
              "      <th></th>\n",
              "      <th></th>\n",
              "      <th></th>\n",
              "      <th></th>\n",
              "    </tr>\n",
              "  </thead>\n",
              "  <tbody>\n",
              "    <tr>\n",
              "      <th>2009-09-28 09:33:08</th>\n",
              "      <td>14</td>\n",
              "      <td>50.79</td>\n",
              "      <td>50.8226</td>\n",
              "      <td>50.7100</td>\n",
              "      <td>50.8200</td>\n",
              "      <td>4136</td>\n",
              "      <td>2598</td>\n",
              "      <td>14</td>\n",
              "      <td>210018.6000</td>\n",
              "    </tr>\n",
              "    <tr>\n",
              "      <th>2009-09-28 09:40:44</th>\n",
              "      <td>32</td>\n",
              "      <td>50.81</td>\n",
              "      <td>50.8500</td>\n",
              "      <td>50.7833</td>\n",
              "      <td>50.7833</td>\n",
              "      <td>4008</td>\n",
              "      <td>966</td>\n",
              "      <td>18</td>\n",
              "      <td>203668.6338</td>\n",
              "    </tr>\n",
              "    <tr>\n",
              "      <th>2009-09-28 09:44:24</th>\n",
              "      <td>45</td>\n",
              "      <td>50.80</td>\n",
              "      <td>50.9300</td>\n",
              "      <td>50.8000</td>\n",
              "      <td>50.9300</td>\n",
              "      <td>4000</td>\n",
              "      <td>3700</td>\n",
              "      <td>13</td>\n",
              "      <td>203577.0000</td>\n",
              "    </tr>\n",
              "    <tr>\n",
              "      <th>2009-09-28 09:46:34</th>\n",
              "      <td>60</td>\n",
              "      <td>51.00</td>\n",
              "      <td>51.0700</td>\n",
              "      <td>51.0000</td>\n",
              "      <td>51.0700</td>\n",
              "      <td>4800</td>\n",
              "      <td>3100</td>\n",
              "      <td>15</td>\n",
              "      <td>245058.0000</td>\n",
              "    </tr>\n",
              "    <tr>\n",
              "      <th>2009-09-28 09:46:35</th>\n",
              "      <td>63</td>\n",
              "      <td>51.07</td>\n",
              "      <td>51.0700</td>\n",
              "      <td>51.0700</td>\n",
              "      <td>51.0700</td>\n",
              "      <td>6200</td>\n",
              "      <td>6200</td>\n",
              "      <td>3</td>\n",
              "      <td>316634.0000</td>\n",
              "    </tr>\n",
              "  </tbody>\n",
              "</table>\n",
              "</div>"
            ],
            "text/plain": [
              "                     tick_num   open  ...  cum_ticks  cum_dollar_value\n",
              "date_time                             ...                             \n",
              "2009-09-28 09:33:08        14  50.79  ...         14       210018.6000\n",
              "2009-09-28 09:40:44        32  50.81  ...         18       203668.6338\n",
              "2009-09-28 09:44:24        45  50.80  ...         13       203577.0000\n",
              "2009-09-28 09:46:34        60  51.00  ...         15       245058.0000\n",
              "2009-09-28 09:46:35        63  51.07  ...          3       316634.0000\n",
              "\n",
              "[5 rows x 9 columns]"
            ]
          },
          "metadata": {
            "tags": []
          },
          "execution_count": 11
        }
      ]
    },
    {
      "cell_type": "code",
      "metadata": {
        "id": "PptJEagCpjaj",
        "colab_type": "code",
        "outputId": "2386a269-875d-4c99-c72b-f07ad68dab92",
        "colab": {
          "base_uri": "https://localhost:8080/",
          "height": 35
        }
      },
      "source": [
        "len(dollar_bars)"
      ],
      "execution_count": 12,
      "outputs": [
        {
          "output_type": "execute_result",
          "data": {
            "text/plain": [
              "217520"
            ]
          },
          "metadata": {
            "tags": []
          },
          "execution_count": 12
        }
      ]
    },
    {
      "cell_type": "code",
      "metadata": {
        "id": "oYC5u9X5jqc5",
        "colab_type": "code",
        "colab": {}
      },
      "source": [
        "close = dollar_bars.close"
      ],
      "execution_count": 0,
      "outputs": []
    },
    {
      "cell_type": "markdown",
      "metadata": {
        "id": "f7blFi_KB4xw",
        "colab_type": "text"
      },
      "source": [
        "Why do we use dollar bars?"
      ]
    },
    {
      "cell_type": "markdown",
      "metadata": {
        "id": "WTEeVnDqICxD",
        "colab_type": "text"
      },
      "source": [
        "See Chapter 2"
      ]
    },
    {
      "cell_type": "markdown",
      "metadata": {
        "id": "aovQU2FLhcYp",
        "colab_type": "text"
      },
      "source": [
        "## 1. Train a primary model (which decides 'sides') "
      ]
    },
    {
      "cell_type": "markdown",
      "metadata": {
        "id": "ZnBFN9QGdAXP",
        "colab_type": "text"
      },
      "source": [
        "### First Option\n",
        "- Based on the simple moving average cross-over strategy."
      ]
    },
    {
      "cell_type": "code",
      "metadata": {
        "id": "RVZiwS-dPhzs",
        "colab_type": "code",
        "colab": {}
      },
      "source": [
        "\n",
        "fast_window = 20\n",
        "slow_window = 50\n",
        "\n",
        "df = pd.DataFrame()\n",
        "df['fast_mavg'] = close.rolling(window=fast_window, min_periods=fast_window, center=False).mean()\n",
        "df['slow_mavg'] = close.rolling(window=slow_window, min_periods=slow_window, center=False).mean()\n",
        "df['side'] = np.nan\n",
        "\n",
        "long_signals = df['fast_mavg'] >= df['slow_mavg'] \n",
        "short_signals = df['fast_mavg'] < df['slow_mavg'] \n",
        "df.loc[long_signals, 'side'] = 1\n",
        "df.loc[short_signals, 'side'] = -1\n",
        "\n",
        "df['side'] = df['side'].shift(1)\n",
        "\n",
        "sma_crossover = df['side']"
      ],
      "execution_count": 0,
      "outputs": []
    },
    {
      "cell_type": "code",
      "metadata": {
        "id": "gDT_ozxvj7eU",
        "colab_type": "code",
        "colab": {}
      },
      "source": [
        "# side = sma_crossover\n",
        "# side.value_counts()"
      ],
      "execution_count": 0,
      "outputs": []
    },
    {
      "cell_type": "markdown",
      "metadata": {
        "id": "LcwaKsjUj135",
        "colab_type": "text"
      },
      "source": [
        "### Second Option\n",
        "- Based on the mean-reverting Bollinger band strategy."
      ]
    },
    {
      "cell_type": "code",
      "metadata": {
        "id": "GUL2IC-RkC_9",
        "colab_type": "code",
        "colab": {}
      },
      "source": [
        "n=60\n",
        "\n",
        "df = pd.DataFrame()\n",
        "\n",
        "df['lower'] = ta.volatility.bollinger_lband(close,n)\n",
        "df['upper'] = ta.volatility.bollinger_hband(close,n)\n",
        "df['close'] = close\n",
        "df['side'] = np.nan\n",
        "\n",
        "long_signals = (df['close'] <= df['lower']) \n",
        "short_signals = (df['close'] >= df['upper']) \n",
        "\n",
        "df.loc[long_signals, 'side'] = 1\n",
        "df.loc[short_signals, 'side'] = -1\n",
        "\n",
        "# Remove Look ahead biase by lagging the signal\n",
        "df['side'] = df['side'].shift(1)\n",
        "\n",
        "bbsignal = df['side']"
      ],
      "execution_count": 0,
      "outputs": []
    },
    {
      "cell_type": "code",
      "metadata": {
        "id": "3rG9xQmumOHP",
        "colab_type": "code",
        "colab": {}
      },
      "source": [
        "f,ax=plt.subplots(figsize=(10,6))\n",
        "# make a plot\n",
        "ax.plot(df.iloc[-1000:,:3])\n",
        "ax.set_ylabel(\"price\")\n",
        "ax.legend(labels = df[:3].columns)\n",
        "ax2=ax.twinx()\n",
        "ax2.plot(df.side.iloc[-1000:],color=\"blue\",marker=\"*\")\n",
        "ax2.set_ylabel(\"side\")\n",
        "plt.show()\n"
      ],
      "execution_count": 0,
      "outputs": []
    },
    {
      "cell_type": "code",
      "metadata": {
        "id": "9BhROWO4l14K",
        "colab_type": "code",
        "outputId": "4b36d99e-f01c-424f-b19e-2177b1b0cdbd",
        "colab": {
          "base_uri": "https://localhost:8080/",
          "height": 72
        }
      },
      "source": [
        "side = bbsignal\n",
        "side.value_counts()"
      ],
      "execution_count": 30,
      "outputs": [
        {
          "output_type": "execute_result",
          "data": {
            "text/plain": [
              "-1.0    16261\n",
              " 1.0    15617\n",
              "Name: side, dtype: int64"
            ]
          },
          "metadata": {
            "tags": []
          },
          "execution_count": 30
        }
      ]
    },
    {
      "cell_type": "markdown",
      "metadata": {
        "id": "OBVi0WcQmt2V",
        "colab_type": "text"
      },
      "source": [
        "### Third Option\n",
        "- Based on Logistic Regression"
      ]
    },
    {
      "cell_type": "markdown",
      "metadata": {
        "id": "TgvhyR3tdDJT",
        "colab_type": "text"
      },
      "source": [
        "## 2. Generate labels (from a primary model)"
      ]
    },
    {
      "cell_type": "markdown",
      "metadata": {
        "id": "_WlxaHNvjGYq",
        "colab_type": "text"
      },
      "source": [
        "Get time stamps of the events using CUSUM filter and point estimate of the volatility."
      ]
    },
    {
      "cell_type": "code",
      "metadata": {
        "id": "pT2NSRXx24iv",
        "colab_type": "code",
        "colab": {}
      },
      "source": [
        "# form a tripple-barrier\n",
        "pt_sl = [1,2]\n",
        "\n",
        "target = util.get_daily_vol(close,lookback=100)\n",
        "\n",
        "h = target.mean()*0.5\n",
        "t_events = filters.cusum_filter(close, h) # using symmetric cusum filter, get t_events\n",
        "\n",
        "vertical_barrier_times = labeling.add_vertical_barrier(t_events, close, num_days=1)"
      ],
      "execution_count": 0,
      "outputs": []
    },
    {
      "cell_type": "code",
      "metadata": {
        "id": "ctkIJntq5ItF",
        "colab_type": "code",
        "colab": {
          "base_uri": "https://localhost:8080/",
          "height": 407
        },
        "outputId": "73e2bb7c-dadc-4127-f35d-680c3128cc1f"
      },
      "source": [
        "events.dropna()"
      ],
      "execution_count": 33,
      "outputs": [
        {
          "output_type": "execute_result",
          "data": {
            "text/html": [
              "<div>\n",
              "<style scoped>\n",
              "    .dataframe tbody tr th:only-of-type {\n",
              "        vertical-align: middle;\n",
              "    }\n",
              "\n",
              "    .dataframe tbody tr th {\n",
              "        vertical-align: top;\n",
              "    }\n",
              "\n",
              "    .dataframe thead th {\n",
              "        text-align: right;\n",
              "    }\n",
              "</style>\n",
              "<table border=\"1\" class=\"dataframe\">\n",
              "  <thead>\n",
              "    <tr style=\"text-align: right;\">\n",
              "      <th></th>\n",
              "      <th>t1</th>\n",
              "      <th>trgt</th>\n",
              "      <th>side</th>\n",
              "      <th>pt</th>\n",
              "      <th>sl</th>\n",
              "    </tr>\n",
              "  </thead>\n",
              "  <tbody>\n",
              "    <tr>\n",
              "      <th>2009-09-30 09:46:02</th>\n",
              "      <td>2009-09-30 13:04:44</td>\n",
              "      <td>0.005880</td>\n",
              "      <td>1.0</td>\n",
              "      <td>1</td>\n",
              "      <td>2</td>\n",
              "    </tr>\n",
              "    <tr>\n",
              "      <th>2009-09-30 09:51:41</th>\n",
              "      <td>2009-09-30 12:53:33</td>\n",
              "      <td>0.006470</td>\n",
              "      <td>1.0</td>\n",
              "      <td>1</td>\n",
              "      <td>2</td>\n",
              "    </tr>\n",
              "    <tr>\n",
              "      <th>2009-09-30 09:57:13</th>\n",
              "      <td>2009-09-30 12:53:33</td>\n",
              "      <td>0.007836</td>\n",
              "      <td>1.0</td>\n",
              "      <td>1</td>\n",
              "      <td>2</td>\n",
              "    </tr>\n",
              "    <tr>\n",
              "      <th>2009-10-01 10:00:32</th>\n",
              "      <td>2009-10-01 13:20:09</td>\n",
              "      <td>0.006084</td>\n",
              "      <td>1.0</td>\n",
              "      <td>1</td>\n",
              "      <td>2</td>\n",
              "    </tr>\n",
              "    <tr>\n",
              "      <th>2009-10-01 13:20:09</th>\n",
              "      <td>2009-10-02 09:29:18</td>\n",
              "      <td>0.006694</td>\n",
              "      <td>1.0</td>\n",
              "      <td>1</td>\n",
              "      <td>2</td>\n",
              "    </tr>\n",
              "    <tr>\n",
              "      <th>...</th>\n",
              "      <td>...</td>\n",
              "      <td>...</td>\n",
              "      <td>...</td>\n",
              "      <td>...</td>\n",
              "      <td>...</td>\n",
              "    </tr>\n",
              "    <tr>\n",
              "      <th>2019-06-12 10:31:07</th>\n",
              "      <td>2019-06-13 09:36:29</td>\n",
              "      <td>0.004624</td>\n",
              "      <td>1.0</td>\n",
              "      <td>1</td>\n",
              "      <td>2</td>\n",
              "    </tr>\n",
              "    <tr>\n",
              "      <th>2019-06-13 09:47:27</th>\n",
              "      <td>2019-06-13 11:09:28</td>\n",
              "      <td>0.003545</td>\n",
              "      <td>-1.0</td>\n",
              "      <td>1</td>\n",
              "      <td>2</td>\n",
              "    </tr>\n",
              "    <tr>\n",
              "      <th>2019-06-13 10:07:58</th>\n",
              "      <td>2019-06-14 10:08:37</td>\n",
              "      <td>0.003626</td>\n",
              "      <td>-1.0</td>\n",
              "      <td>1</td>\n",
              "      <td>2</td>\n",
              "    </tr>\n",
              "    <tr>\n",
              "      <th>2019-06-18 09:39:42</th>\n",
              "      <td>2019-06-19 09:42:00</td>\n",
              "      <td>0.004532</td>\n",
              "      <td>-1.0</td>\n",
              "      <td>1</td>\n",
              "      <td>2</td>\n",
              "    </tr>\n",
              "    <tr>\n",
              "      <th>2019-06-18 09:48:55</th>\n",
              "      <td>2019-06-19 09:54:13</td>\n",
              "      <td>0.005826</td>\n",
              "      <td>-1.0</td>\n",
              "      <td>1</td>\n",
              "      <td>2</td>\n",
              "    </tr>\n",
              "  </tbody>\n",
              "</table>\n",
              "<p>2287 rows × 5 columns</p>\n",
              "</div>"
            ],
            "text/plain": [
              "                                     t1      trgt  side  pt  sl\n",
              "2009-09-30 09:46:02 2009-09-30 13:04:44  0.005880   1.0   1   2\n",
              "2009-09-30 09:51:41 2009-09-30 12:53:33  0.006470   1.0   1   2\n",
              "2009-09-30 09:57:13 2009-09-30 12:53:33  0.007836   1.0   1   2\n",
              "2009-10-01 10:00:32 2009-10-01 13:20:09  0.006084   1.0   1   2\n",
              "2009-10-01 13:20:09 2009-10-02 09:29:18  0.006694   1.0   1   2\n",
              "...                                 ...       ...   ...  ..  ..\n",
              "2019-06-12 10:31:07 2019-06-13 09:36:29  0.004624   1.0   1   2\n",
              "2019-06-13 09:47:27 2019-06-13 11:09:28  0.003545  -1.0   1   2\n",
              "2019-06-13 10:07:58 2019-06-14 10:08:37  0.003626  -1.0   1   2\n",
              "2019-06-18 09:39:42 2019-06-19 09:42:00  0.004532  -1.0   1   2\n",
              "2019-06-18 09:48:55 2019-06-19 09:54:13  0.005826  -1.0   1   2\n",
              "\n",
              "[2287 rows x 5 columns]"
            ]
          },
          "metadata": {
            "tags": []
          },
          "execution_count": 33
        }
      ]
    },
    {
      "cell_type": "code",
      "metadata": {
        "id": "uAn2kWFFWZZv",
        "colab_type": "code",
        "outputId": "8be81039-fdeb-4471-e764-69341c8219c7",
        "colab": {
          "base_uri": "https://localhost:8080/",
          "height": 35
        }
      },
      "source": [
        "# events\n",
        "min_ret = 0.003\n",
        "\n",
        "events = labeling.get_events(close, t_events, pt_sl, target, min_ret, num_threads=3, \n",
        "                             vertical_barrier_times = vertical_barrier_times ,side_prediction = side)\n",
        "\n",
        "# label (bin) - binary classification from the primary model\n",
        "\n",
        "bin = labeling.get_bins(events, close)"
      ],
      "execution_count": 34,
      "outputs": [
        {
          "output_type": "stream",
          "text": [
            "2020-02-01 13:18:29.781509 100.0% apply_pt_sl_on_t1 done after 0.58 minutes. Remaining 0.0 minutes.\n"
          ],
          "name": "stderr"
        }
      ]
    },
    {
      "cell_type": "code",
      "metadata": {
        "id": "k-vX3SkcXYOF",
        "colab_type": "code",
        "colab": {}
      },
      "source": [
        "bin.dropna(inplace=True)"
      ],
      "execution_count": 0,
      "outputs": []
    },
    {
      "cell_type": "code",
      "metadata": {
        "id": "PCIYEmtIlgDl",
        "colab_type": "code",
        "outputId": "6a97fd69-9956-446d-9adf-377bae4548bc",
        "colab": {
          "base_uri": "https://localhost:8080/",
          "height": 407
        }
      },
      "source": [
        "bin"
      ],
      "execution_count": 37,
      "outputs": [
        {
          "output_type": "execute_result",
          "data": {
            "text/html": [
              "<div>\n",
              "<style scoped>\n",
              "    .dataframe tbody tr th:only-of-type {\n",
              "        vertical-align: middle;\n",
              "    }\n",
              "\n",
              "    .dataframe tbody tr th {\n",
              "        vertical-align: top;\n",
              "    }\n",
              "\n",
              "    .dataframe thead th {\n",
              "        text-align: right;\n",
              "    }\n",
              "</style>\n",
              "<table border=\"1\" class=\"dataframe\">\n",
              "  <thead>\n",
              "    <tr style=\"text-align: right;\">\n",
              "      <th></th>\n",
              "      <th>ret</th>\n",
              "      <th>trgt</th>\n",
              "      <th>bin</th>\n",
              "      <th>side</th>\n",
              "    </tr>\n",
              "  </thead>\n",
              "  <tbody>\n",
              "    <tr>\n",
              "      <th>2009-09-30 09:46:02</th>\n",
              "      <td>0.006062</td>\n",
              "      <td>0.005880</td>\n",
              "      <td>1</td>\n",
              "      <td>1.0</td>\n",
              "    </tr>\n",
              "    <tr>\n",
              "      <th>2009-09-30 09:51:41</th>\n",
              "      <td>0.006671</td>\n",
              "      <td>0.006470</td>\n",
              "      <td>1</td>\n",
              "      <td>1.0</td>\n",
              "    </tr>\n",
              "    <tr>\n",
              "      <th>2009-09-30 09:57:13</th>\n",
              "      <td>0.009245</td>\n",
              "      <td>0.007836</td>\n",
              "      <td>1</td>\n",
              "      <td>1.0</td>\n",
              "    </tr>\n",
              "    <tr>\n",
              "      <th>2009-10-01 10:00:32</th>\n",
              "      <td>-0.013202</td>\n",
              "      <td>0.006084</td>\n",
              "      <td>0</td>\n",
              "      <td>1.0</td>\n",
              "    </tr>\n",
              "    <tr>\n",
              "      <th>2009-10-01 16:16:36</th>\n",
              "      <td>-0.019210</td>\n",
              "      <td>0.007672</td>\n",
              "      <td>0</td>\n",
              "      <td>1.0</td>\n",
              "    </tr>\n",
              "    <tr>\n",
              "      <th>...</th>\n",
              "      <td>...</td>\n",
              "      <td>...</td>\n",
              "      <td>...</td>\n",
              "      <td>...</td>\n",
              "    </tr>\n",
              "    <tr>\n",
              "      <th>2019-06-12 10:31:07</th>\n",
              "      <td>0.005050</td>\n",
              "      <td>0.004624</td>\n",
              "      <td>1</td>\n",
              "      <td>1.0</td>\n",
              "    </tr>\n",
              "    <tr>\n",
              "      <th>2019-06-13 09:47:27</th>\n",
              "      <td>0.003839</td>\n",
              "      <td>0.003545</td>\n",
              "      <td>1</td>\n",
              "      <td>-1.0</td>\n",
              "    </tr>\n",
              "    <tr>\n",
              "      <th>2019-06-13 10:07:58</th>\n",
              "      <td>0.002393</td>\n",
              "      <td>0.003626</td>\n",
              "      <td>0</td>\n",
              "      <td>-1.0</td>\n",
              "    </tr>\n",
              "    <tr>\n",
              "      <th>2019-06-18 09:39:42</th>\n",
              "      <td>-0.003816</td>\n",
              "      <td>0.004532</td>\n",
              "      <td>0</td>\n",
              "      <td>-1.0</td>\n",
              "    </tr>\n",
              "    <tr>\n",
              "      <th>2019-06-18 09:48:55</th>\n",
              "      <td>-0.000237</td>\n",
              "      <td>0.005826</td>\n",
              "      <td>0</td>\n",
              "      <td>-1.0</td>\n",
              "    </tr>\n",
              "  </tbody>\n",
              "</table>\n",
              "<p>2346 rows × 4 columns</p>\n",
              "</div>"
            ],
            "text/plain": [
              "                          ret      trgt  bin  side\n",
              "2009-09-30 09:46:02  0.006062  0.005880    1   1.0\n",
              "2009-09-30 09:51:41  0.006671  0.006470    1   1.0\n",
              "2009-09-30 09:57:13  0.009245  0.007836    1   1.0\n",
              "2009-10-01 10:00:32 -0.013202  0.006084    0   1.0\n",
              "2009-10-01 16:16:36 -0.019210  0.007672    0   1.0\n",
              "...                       ...       ...  ...   ...\n",
              "2019-06-12 10:31:07  0.005050  0.004624    1   1.0\n",
              "2019-06-13 09:47:27  0.003839  0.003545    1  -1.0\n",
              "2019-06-13 10:07:58  0.002393  0.003626    0  -1.0\n",
              "2019-06-18 09:39:42 -0.003816  0.004532    0  -1.0\n",
              "2019-06-18 09:48:55 -0.000237  0.005826    0  -1.0\n",
              "\n",
              "[2346 rows x 4 columns]"
            ]
          },
          "metadata": {
            "tags": []
          },
          "execution_count": 37
        }
      ]
    },
    {
      "cell_type": "code",
      "metadata": {
        "id": "i2chOOmHXUAZ",
        "colab_type": "code",
        "outputId": "0a782bb0-2792-47fb-a8af-8f69f376f4b5",
        "colab": {
          "base_uri": "https://localhost:8080/",
          "height": 72
        }
      },
      "source": [
        "bin.side.value_counts()"
      ],
      "execution_count": 38,
      "outputs": [
        {
          "output_type": "execute_result",
          "data": {
            "text/plain": [
              " 1.0    1338\n",
              "-1.0    1008\n",
              "Name: side, dtype: int64"
            ]
          },
          "metadata": {
            "tags": []
          },
          "execution_count": 38
        }
      ]
    },
    {
      "cell_type": "code",
      "metadata": {
        "id": "rWR7vJWEWnJX",
        "colab_type": "code",
        "outputId": "8318899c-c21c-4af0-bd40-082e7b065e6f",
        "colab": {
          "base_uri": "https://localhost:8080/",
          "height": 72
        }
      },
      "source": [
        "bin.bin.value_counts()"
      ],
      "execution_count": 39,
      "outputs": [
        {
          "output_type": "execute_result",
          "data": {
            "text/plain": [
              "0    1361\n",
              "1     985\n",
              "Name: bin, dtype: int64"
            ]
          },
          "metadata": {
            "tags": []
          },
          "execution_count": 39
        }
      ]
    },
    {
      "cell_type": "code",
      "metadata": {
        "id": "0KApHU1FxRwp",
        "colab_type": "code",
        "outputId": "68b409c0-0f59-4c07-f8ca-7a1208e22072",
        "colab": {
          "base_uri": "https://localhost:8080/",
          "height": 235
        }
      },
      "source": [
        "primary_forecast = pd.DataFrame(bin['bin'])\n",
        "primary_forecast['pred'] = 1\n",
        "primary_forecast.columns = ['actual', 'pred']\n",
        "\n",
        "# Performance Metrics\n",
        "actual = primary_forecast['actual']\n",
        "pred = primary_forecast['pred']\n",
        "\n",
        "print(classification_report(actual, pred))\n",
        "\n",
        "print(\"Accuracy = \", accuracy_score(actual,pred))\n",
        "print('')\n",
        "print(\"Confusion Matrix\")\n",
        "mat = confusion_matrix(actual, pred)\n",
        "sns.heatmap(mat , annot=True)\n",
        "plt.xlabel('predicted label')\n",
        "plt.ylabel('true label');"
      ],
      "execution_count": 40,
      "outputs": [
        {
          "output_type": "stream",
          "text": [
            "              precision    recall  f1-score   support\n",
            "\n",
            "           0       0.00      0.00      0.00      1361\n",
            "           1       0.42      1.00      0.59       985\n",
            "\n",
            "    accuracy                           0.42      2346\n",
            "   macro avg       0.21      0.50      0.30      2346\n",
            "weighted avg       0.18      0.42      0.25      2346\n",
            "\n",
            "Accuracy =  0.4198635976129582\n",
            "\n",
            "Confusion Matrix\n"
          ],
          "name": "stdout"
        }
      ]
    },
    {
      "cell_type": "markdown",
      "metadata": {
        "id": "F9U1JJb_dS_8",
        "colab_type": "text"
      },
      "source": [
        "## 3. Features\n"
      ]
    },
    {
      "cell_type": "markdown",
      "metadata": {
        "id": "3a7WNItJA_uj",
        "colab_type": "text"
      },
      "source": [
        "\n",
        "Features - Kara et al. (2011)\n",
        "\n",
        "\n",
        "- Simple 10-day moving average\n",
        "- Weighted 10-day moving average\n",
        "- Momentum\n",
        "- Stochastic K%\n",
        "- Stochastic D%\n",
        "- RSI (Relative Strength Index)\n",
        "- MACD (moving average convergence divergence)\n",
        "- Larry William’s R% \n",
        "- A/D (Accumulation/Distribution) Oscillator\n",
        "- CCI (Commodity Channel Index)"
      ]
    },
    {
      "cell_type": "markdown",
      "metadata": {
        "id": "dP2rXwY0TJIe",
        "colab_type": "text"
      },
      "source": [
        "### from TA"
      ]
    },
    {
      "cell_type": "markdown",
      "metadata": {
        "id": "fUfaDwOgFmza",
        "colab_type": "text"
      },
      "source": [
        "https://github.com/bukosabino/ta"
      ]
    },
    {
      "cell_type": "code",
      "metadata": {
        "id": "N8LDitAvHOkn",
        "colab_type": "code",
        "outputId": "df37d53c-f6f8-4ee8-931a-6c823cf484fc",
        "colab": {
          "base_uri": "https://localhost:8080/",
          "height": 198
        }
      },
      "source": [
        "bars = dollar_bars.iloc[:,1:6]\n",
        "bars = bars.loc[bin.index,:]\n",
        "bars.head()"
      ],
      "execution_count": 41,
      "outputs": [
        {
          "output_type": "execute_result",
          "data": {
            "text/html": [
              "<div>\n",
              "<style scoped>\n",
              "    .dataframe tbody tr th:only-of-type {\n",
              "        vertical-align: middle;\n",
              "    }\n",
              "\n",
              "    .dataframe tbody tr th {\n",
              "        vertical-align: top;\n",
              "    }\n",
              "\n",
              "    .dataframe thead th {\n",
              "        text-align: right;\n",
              "    }\n",
              "</style>\n",
              "<table border=\"1\" class=\"dataframe\">\n",
              "  <thead>\n",
              "    <tr style=\"text-align: right;\">\n",
              "      <th></th>\n",
              "      <th>open</th>\n",
              "      <th>high</th>\n",
              "      <th>low</th>\n",
              "      <th>close</th>\n",
              "      <th>volume</th>\n",
              "    </tr>\n",
              "  </thead>\n",
              "  <tbody>\n",
              "    <tr>\n",
              "      <th>2009-09-30 09:46:02</th>\n",
              "      <td>51.25</td>\n",
              "      <td>51.2500</td>\n",
              "      <td>51.1400</td>\n",
              "      <td>51.1400</td>\n",
              "      <td>4063</td>\n",
              "    </tr>\n",
              "    <tr>\n",
              "      <th>2009-09-30 09:51:41</th>\n",
              "      <td>51.17</td>\n",
              "      <td>51.2000</td>\n",
              "      <td>50.9427</td>\n",
              "      <td>50.9700</td>\n",
              "      <td>4048</td>\n",
              "    </tr>\n",
              "    <tr>\n",
              "      <th>2009-09-30 09:57:13</th>\n",
              "      <td>51.02</td>\n",
              "      <td>51.0652</td>\n",
              "      <td>50.8400</td>\n",
              "      <td>50.8400</td>\n",
              "      <td>4077</td>\n",
              "    </tr>\n",
              "    <tr>\n",
              "      <th>2009-10-01 10:00:32</th>\n",
              "      <td>50.56</td>\n",
              "      <td>50.7500</td>\n",
              "      <td>50.5500</td>\n",
              "      <td>50.7500</td>\n",
              "      <td>4082</td>\n",
              "    </tr>\n",
              "    <tr>\n",
              "      <th>2009-10-01 16:16:36</th>\n",
              "      <td>49.87</td>\n",
              "      <td>50.3166</td>\n",
              "      <td>49.7800</td>\n",
              "      <td>50.3166</td>\n",
              "      <td>112375</td>\n",
              "    </tr>\n",
              "  </tbody>\n",
              "</table>\n",
              "</div>"
            ],
            "text/plain": [
              "                      open     high      low    close  volume\n",
              "2009-09-30 09:46:02  51.25  51.2500  51.1400  51.1400    4063\n",
              "2009-09-30 09:51:41  51.17  51.2000  50.9427  50.9700    4048\n",
              "2009-09-30 09:57:13  51.02  51.0652  50.8400  50.8400    4077\n",
              "2009-10-01 10:00:32  50.56  50.7500  50.5500  50.7500    4082\n",
              "2009-10-01 16:16:36  49.87  50.3166  49.7800  50.3166  112375"
            ]
          },
          "metadata": {
            "tags": []
          },
          "execution_count": 41
        }
      ]
    },
    {
      "cell_type": "markdown",
      "metadata": {
        "id": "YQU4T5p1NKAj",
        "colab_type": "text"
      },
      "source": [
        "Volume\n",
        "- Accumulation/Distribution Index (ADI)\n",
        "-On-Balance Volume (OBV)\n",
        "-Chaikin Money Flow (CMF)\n",
        "-Force Index (FI)\n",
        "-Ease of Movement (EoM, EMV)\n",
        "-Volume-price Trend (VPT)\n",
        "-Negative Volume Index (NVI)\n",
        "\n",
        "Volatility\n",
        "- Average True Range (ATR)\n",
        "- Bollinger Bands (BB)\n",
        "- Keltner Channel (KC)\n",
        "- Donchian Channel (DC)\n",
        "\n",
        "Trend\n",
        "- Moving Average Convergence Divergence (MACD)\n",
        "- Average Directional Movement Index (ADX)\n",
        "- Vortex Indicator (VI)\n",
        "- Trix (TRIX)\n",
        "- Mass Index (MI)\n",
        "- Commodity Channel Index (CCI)\n",
        "- Detrended Price Oscillator (DPO)\n",
        "- KST Oscillator (KST)\n",
        "- Ichimoku Kinkō Hyō (Ichimoku)\n",
        "- Parabolic Stop And Reverse (Parabolic SAR)\n",
        "\n",
        "Momentum\n",
        "- Money Flow Index (MFI)\n",
        "- Relative Strength Index (RSI)\n",
        "- True strength index (TSI)\n",
        "- Ultimate Oscillator (UO)\n",
        "- Stochastic Oscillator (SR)\n",
        "- Williams %R (WR)\n",
        "- Awesome Oscillator (AO)\n",
        "- Kaufman's Adaptive Moving Average (KAMA)\n",
        "- Rate of Change (ROC)\n",
        "\n",
        "Others\n",
        "- Daily Return (DR)\n",
        "- Daily Log Return (DLR)\n",
        "- Cumulative Return (CR)"
      ]
    },
    {
      "cell_type": "code",
      "metadata": {
        "id": "uq2kcsGCA_MO",
        "colab_type": "code",
        "colab": {}
      },
      "source": [
        "ta_features = ta.add_all_ta_features(bars,'open','high','low','close','volume')"
      ],
      "execution_count": 0,
      "outputs": []
    },
    {
      "cell_type": "code",
      "metadata": {
        "id": "nm17c9e8KZW7",
        "colab_type": "code",
        "outputId": "33cc1fef-a660-462b-d782-1187cfd5c073",
        "colab": {
          "base_uri": "https://localhost:8080/",
          "height": 391
        }
      },
      "source": [
        "#look-ahead bias\n",
        "ta_features = ta_features.shift(1)\n",
        "\n",
        "ta_features.head()"
      ],
      "execution_count": 43,
      "outputs": [
        {
          "output_type": "execute_result",
          "data": {
            "text/html": [
              "<div>\n",
              "<style scoped>\n",
              "    .dataframe tbody tr th:only-of-type {\n",
              "        vertical-align: middle;\n",
              "    }\n",
              "\n",
              "    .dataframe tbody tr th {\n",
              "        vertical-align: top;\n",
              "    }\n",
              "\n",
              "    .dataframe thead th {\n",
              "        text-align: right;\n",
              "    }\n",
              "</style>\n",
              "<table border=\"1\" class=\"dataframe\">\n",
              "  <thead>\n",
              "    <tr style=\"text-align: right;\">\n",
              "      <th></th>\n",
              "      <th>open</th>\n",
              "      <th>high</th>\n",
              "      <th>low</th>\n",
              "      <th>close</th>\n",
              "      <th>volume</th>\n",
              "      <th>volume_adi</th>\n",
              "      <th>volume_obv</th>\n",
              "      <th>volume_cmf</th>\n",
              "      <th>volume_fi</th>\n",
              "      <th>volume_em</th>\n",
              "      <th>volume_sma_em</th>\n",
              "      <th>volume_vpt</th>\n",
              "      <th>volume_nvi</th>\n",
              "      <th>volatility_atr</th>\n",
              "      <th>volatility_bbm</th>\n",
              "      <th>volatility_bbh</th>\n",
              "      <th>volatility_bbl</th>\n",
              "      <th>volatility_bbw</th>\n",
              "      <th>volatility_bbhi</th>\n",
              "      <th>volatility_bbli</th>\n",
              "      <th>volatility_kcc</th>\n",
              "      <th>volatility_kch</th>\n",
              "      <th>volatility_kcl</th>\n",
              "      <th>volatility_kchi</th>\n",
              "      <th>volatility_kcli</th>\n",
              "      <th>volatility_dcl</th>\n",
              "      <th>volatility_dch</th>\n",
              "      <th>volatility_dchi</th>\n",
              "      <th>volatility_dcli</th>\n",
              "      <th>trend_macd</th>\n",
              "      <th>trend_macd_signal</th>\n",
              "      <th>trend_macd_diff</th>\n",
              "      <th>trend_ema_fast</th>\n",
              "      <th>trend_ema_slow</th>\n",
              "      <th>trend_adx</th>\n",
              "      <th>trend_adx_pos</th>\n",
              "      <th>trend_adx_neg</th>\n",
              "      <th>trend_vortex_ind_pos</th>\n",
              "      <th>trend_vortex_ind_neg</th>\n",
              "      <th>trend_vortex_ind_diff</th>\n",
              "      <th>trend_trix</th>\n",
              "      <th>trend_mass_index</th>\n",
              "      <th>trend_cci</th>\n",
              "      <th>trend_dpo</th>\n",
              "      <th>trend_kst</th>\n",
              "      <th>trend_kst_sig</th>\n",
              "      <th>trend_kst_diff</th>\n",
              "      <th>trend_ichimoku_a</th>\n",
              "      <th>trend_ichimoku_b</th>\n",
              "      <th>trend_visual_ichimoku_a</th>\n",
              "      <th>trend_visual_ichimoku_b</th>\n",
              "      <th>trend_aroon_up</th>\n",
              "      <th>trend_aroon_down</th>\n",
              "      <th>trend_aroon_ind</th>\n",
              "      <th>trend_psar</th>\n",
              "      <th>trend_psar_up</th>\n",
              "      <th>trend_psar_down</th>\n",
              "      <th>trend_psar_up_indicator</th>\n",
              "      <th>trend_psar_down_indicator</th>\n",
              "      <th>momentum_rsi</th>\n",
              "      <th>momentum_mfi</th>\n",
              "      <th>momentum_tsi</th>\n",
              "      <th>momentum_uo</th>\n",
              "      <th>momentum_stoch</th>\n",
              "      <th>momentum_stoch_signal</th>\n",
              "      <th>momentum_wr</th>\n",
              "      <th>momentum_ao</th>\n",
              "      <th>momentum_kama</th>\n",
              "      <th>momentum_roc</th>\n",
              "      <th>others_dr</th>\n",
              "      <th>others_dlr</th>\n",
              "      <th>others_cr</th>\n",
              "    </tr>\n",
              "  </thead>\n",
              "  <tbody>\n",
              "    <tr>\n",
              "      <th>2009-09-30 09:46:02</th>\n",
              "      <td>NaN</td>\n",
              "      <td>NaN</td>\n",
              "      <td>NaN</td>\n",
              "      <td>NaN</td>\n",
              "      <td>NaN</td>\n",
              "      <td>NaN</td>\n",
              "      <td>NaN</td>\n",
              "      <td>NaN</td>\n",
              "      <td>NaN</td>\n",
              "      <td>NaN</td>\n",
              "      <td>NaN</td>\n",
              "      <td>NaN</td>\n",
              "      <td>NaN</td>\n",
              "      <td>NaN</td>\n",
              "      <td>NaN</td>\n",
              "      <td>NaN</td>\n",
              "      <td>NaN</td>\n",
              "      <td>NaN</td>\n",
              "      <td>NaN</td>\n",
              "      <td>NaN</td>\n",
              "      <td>NaN</td>\n",
              "      <td>NaN</td>\n",
              "      <td>NaN</td>\n",
              "      <td>NaN</td>\n",
              "      <td>NaN</td>\n",
              "      <td>NaN</td>\n",
              "      <td>NaN</td>\n",
              "      <td>NaN</td>\n",
              "      <td>NaN</td>\n",
              "      <td>NaN</td>\n",
              "      <td>NaN</td>\n",
              "      <td>NaN</td>\n",
              "      <td>NaN</td>\n",
              "      <td>NaN</td>\n",
              "      <td>NaN</td>\n",
              "      <td>NaN</td>\n",
              "      <td>NaN</td>\n",
              "      <td>NaN</td>\n",
              "      <td>NaN</td>\n",
              "      <td>NaN</td>\n",
              "      <td>NaN</td>\n",
              "      <td>NaN</td>\n",
              "      <td>NaN</td>\n",
              "      <td>NaN</td>\n",
              "      <td>NaN</td>\n",
              "      <td>NaN</td>\n",
              "      <td>NaN</td>\n",
              "      <td>NaN</td>\n",
              "      <td>NaN</td>\n",
              "      <td>NaN</td>\n",
              "      <td>NaN</td>\n",
              "      <td>NaN</td>\n",
              "      <td>NaN</td>\n",
              "      <td>NaN</td>\n",
              "      <td>NaN</td>\n",
              "      <td>NaN</td>\n",
              "      <td>NaN</td>\n",
              "      <td>NaN</td>\n",
              "      <td>NaN</td>\n",
              "      <td>NaN</td>\n",
              "      <td>NaN</td>\n",
              "      <td>NaN</td>\n",
              "      <td>NaN</td>\n",
              "      <td>NaN</td>\n",
              "      <td>NaN</td>\n",
              "      <td>NaN</td>\n",
              "      <td>NaN</td>\n",
              "      <td>NaN</td>\n",
              "      <td>NaN</td>\n",
              "      <td>NaN</td>\n",
              "      <td>NaN</td>\n",
              "      <td>NaN</td>\n",
              "    </tr>\n",
              "    <tr>\n",
              "      <th>2009-09-30 09:51:41</th>\n",
              "      <td>51.25</td>\n",
              "      <td>51.2500</td>\n",
              "      <td>51.1400</td>\n",
              "      <td>51.14</td>\n",
              "      <td>4063.0</td>\n",
              "      <td>-4063.000000</td>\n",
              "      <td>4063.0</td>\n",
              "      <td>-1.000000</td>\n",
              "      <td>NaN</td>\n",
              "      <td>NaN</td>\n",
              "      <td>NaN</td>\n",
              "      <td>-1444.605825</td>\n",
              "      <td>1000.000000</td>\n",
              "      <td>0.0</td>\n",
              "      <td>51.140000</td>\n",
              "      <td>51.140000</td>\n",
              "      <td>51.140000</td>\n",
              "      <td>0.000000</td>\n",
              "      <td>0.0</td>\n",
              "      <td>0.0</td>\n",
              "      <td>51.176667</td>\n",
              "      <td>51.176667</td>\n",
              "      <td>51.066667</td>\n",
              "      <td>0.0</td>\n",
              "      <td>0.0</td>\n",
              "      <td>51.14</td>\n",
              "      <td>51.14</td>\n",
              "      <td>1.0</td>\n",
              "      <td>1.0</td>\n",
              "      <td>NaN</td>\n",
              "      <td>NaN</td>\n",
              "      <td>NaN</td>\n",
              "      <td>NaN</td>\n",
              "      <td>NaN</td>\n",
              "      <td>0.0</td>\n",
              "      <td>0.0</td>\n",
              "      <td>0.0</td>\n",
              "      <td>NaN</td>\n",
              "      <td>NaN</td>\n",
              "      <td>NaN</td>\n",
              "      <td>NaN</td>\n",
              "      <td>0.0</td>\n",
              "      <td>NaN</td>\n",
              "      <td>28.233684</td>\n",
              "      <td>-355.705851</td>\n",
              "      <td>-355.705851</td>\n",
              "      <td>0.000000</td>\n",
              "      <td>51.19500</td>\n",
              "      <td>51.19500</td>\n",
              "      <td>79.062847</td>\n",
              "      <td>78.346967</td>\n",
              "      <td>4.0</td>\n",
              "      <td>4.0</td>\n",
              "      <td>0.0</td>\n",
              "      <td>51.1400</td>\n",
              "      <td>NaN</td>\n",
              "      <td>NaN</td>\n",
              "      <td>0.0</td>\n",
              "      <td>0.0</td>\n",
              "      <td>100.0</td>\n",
              "      <td>NaN</td>\n",
              "      <td>NaN</td>\n",
              "      <td>NaN</td>\n",
              "      <td>0.000000</td>\n",
              "      <td>0.000000</td>\n",
              "      <td>-100.000000</td>\n",
              "      <td>0.0</td>\n",
              "      <td>NaN</td>\n",
              "      <td>NaN</td>\n",
              "      <td>-35.570585</td>\n",
              "      <td>NaN</td>\n",
              "      <td>0.000000</td>\n",
              "    </tr>\n",
              "    <tr>\n",
              "      <th>2009-09-30 09:57:13</th>\n",
              "      <td>51.17</td>\n",
              "      <td>51.2000</td>\n",
              "      <td>50.9427</td>\n",
              "      <td>50.97</td>\n",
              "      <td>4048.0</td>\n",
              "      <td>-7251.999611</td>\n",
              "      <td>15.0</td>\n",
              "      <td>-0.894094</td>\n",
              "      <td>NaN</td>\n",
              "      <td>-785.947258</td>\n",
              "      <td>-785.947258</td>\n",
              "      <td>-1458.689267</td>\n",
              "      <td>996.675792</td>\n",
              "      <td>0.0</td>\n",
              "      <td>51.055000</td>\n",
              "      <td>51.225000</td>\n",
              "      <td>50.885000</td>\n",
              "      <td>0.340000</td>\n",
              "      <td>0.0</td>\n",
              "      <td>0.0</td>\n",
              "      <td>51.107117</td>\n",
              "      <td>51.107117</td>\n",
              "      <td>50.923467</td>\n",
              "      <td>0.0</td>\n",
              "      <td>0.0</td>\n",
              "      <td>50.97</td>\n",
              "      <td>51.14</td>\n",
              "      <td>0.0</td>\n",
              "      <td>1.0</td>\n",
              "      <td>NaN</td>\n",
              "      <td>NaN</td>\n",
              "      <td>NaN</td>\n",
              "      <td>NaN</td>\n",
              "      <td>NaN</td>\n",
              "      <td>0.0</td>\n",
              "      <td>0.0</td>\n",
              "      <td>0.0</td>\n",
              "      <td>NaN</td>\n",
              "      <td>NaN</td>\n",
              "      <td>NaN</td>\n",
              "      <td>NaN</td>\n",
              "      <td>0.0</td>\n",
              "      <td>-66.666667</td>\n",
              "      <td>28.318684</td>\n",
              "      <td>-356.776735</td>\n",
              "      <td>-356.241293</td>\n",
              "      <td>-0.535442</td>\n",
              "      <td>51.09635</td>\n",
              "      <td>51.09635</td>\n",
              "      <td>79.062847</td>\n",
              "      <td>78.346967</td>\n",
              "      <td>4.0</td>\n",
              "      <td>8.0</td>\n",
              "      <td>-4.0</td>\n",
              "      <td>50.9700</td>\n",
              "      <td>NaN</td>\n",
              "      <td>NaN</td>\n",
              "      <td>0.0</td>\n",
              "      <td>0.0</td>\n",
              "      <td>0.0</td>\n",
              "      <td>NaN</td>\n",
              "      <td>-100.0</td>\n",
              "      <td>NaN</td>\n",
              "      <td>8.883827</td>\n",
              "      <td>4.441913</td>\n",
              "      <td>-91.116173</td>\n",
              "      <td>0.0</td>\n",
              "      <td>NaN</td>\n",
              "      <td>NaN</td>\n",
              "      <td>-0.332421</td>\n",
              "      <td>-0.332975</td>\n",
              "      <td>-0.332421</td>\n",
              "    </tr>\n",
              "    <tr>\n",
              "      <th>2009-10-01 10:00:32</th>\n",
              "      <td>51.02</td>\n",
              "      <td>51.0652</td>\n",
              "      <td>50.8400</td>\n",
              "      <td>50.84</td>\n",
              "      <td>4077.0</td>\n",
              "      <td>-11328.999611</td>\n",
              "      <td>-4062.0</td>\n",
              "      <td>-0.929521</td>\n",
              "      <td>NaN</td>\n",
              "      <td>-655.935737</td>\n",
              "      <td>-720.941497</td>\n",
              "      <td>-23.854864</td>\n",
              "      <td>996.675792</td>\n",
              "      <td>0.0</td>\n",
              "      <td>50.983333</td>\n",
              "      <td>51.229007</td>\n",
              "      <td>50.737660</td>\n",
              "      <td>0.491347</td>\n",
              "      <td>0.0</td>\n",
              "      <td>0.0</td>\n",
              "      <td>51.043100</td>\n",
              "      <td>51.043100</td>\n",
              "      <td>50.845600</td>\n",
              "      <td>0.0</td>\n",
              "      <td>1.0</td>\n",
              "      <td>50.84</td>\n",
              "      <td>51.14</td>\n",
              "      <td>0.0</td>\n",
              "      <td>1.0</td>\n",
              "      <td>NaN</td>\n",
              "      <td>NaN</td>\n",
              "      <td>NaN</td>\n",
              "      <td>NaN</td>\n",
              "      <td>NaN</td>\n",
              "      <td>0.0</td>\n",
              "      <td>0.0</td>\n",
              "      <td>0.0</td>\n",
              "      <td>NaN</td>\n",
              "      <td>NaN</td>\n",
              "      <td>NaN</td>\n",
              "      <td>NaN</td>\n",
              "      <td>0.0</td>\n",
              "      <td>-95.857250</td>\n",
              "      <td>28.390350</td>\n",
              "      <td>-357.679637</td>\n",
              "      <td>-356.720741</td>\n",
              "      <td>-0.958896</td>\n",
              "      <td>51.04500</td>\n",
              "      <td>51.04500</td>\n",
              "      <td>79.062847</td>\n",
              "      <td>78.346967</td>\n",
              "      <td>4.0</td>\n",
              "      <td>12.0</td>\n",
              "      <td>-8.0</td>\n",
              "      <td>51.2500</td>\n",
              "      <td>NaN</td>\n",
              "      <td>51.2500</td>\n",
              "      <td>0.0</td>\n",
              "      <td>1.0</td>\n",
              "      <td>0.0</td>\n",
              "      <td>NaN</td>\n",
              "      <td>-100.0</td>\n",
              "      <td>NaN</td>\n",
              "      <td>0.000000</td>\n",
              "      <td>2.961276</td>\n",
              "      <td>-100.000000</td>\n",
              "      <td>0.0</td>\n",
              "      <td>NaN</td>\n",
              "      <td>NaN</td>\n",
              "      <td>-0.255052</td>\n",
              "      <td>-0.255378</td>\n",
              "      <td>-0.586625</td>\n",
              "    </tr>\n",
              "    <tr>\n",
              "      <th>2009-10-01 16:16:36</th>\n",
              "      <td>50.56</td>\n",
              "      <td>50.7500</td>\n",
              "      <td>50.5500</td>\n",
              "      <td>50.75</td>\n",
              "      <td>4082.0</td>\n",
              "      <td>-7246.999611</td>\n",
              "      <td>-8144.0</td>\n",
              "      <td>-0.445421</td>\n",
              "      <td>NaN</td>\n",
              "      <td>-1482.606565</td>\n",
              "      <td>-974.829853</td>\n",
              "      <td>-17.624670</td>\n",
              "      <td>996.675792</td>\n",
              "      <td>0.0</td>\n",
              "      <td>50.925000</td>\n",
              "      <td>51.218428</td>\n",
              "      <td>50.631572</td>\n",
              "      <td>0.586856</td>\n",
              "      <td>0.0</td>\n",
              "      <td>0.0</td>\n",
              "      <td>50.953158</td>\n",
              "      <td>50.953158</td>\n",
              "      <td>50.755033</td>\n",
              "      <td>0.0</td>\n",
              "      <td>1.0</td>\n",
              "      <td>50.75</td>\n",
              "      <td>51.14</td>\n",
              "      <td>0.0</td>\n",
              "      <td>1.0</td>\n",
              "      <td>NaN</td>\n",
              "      <td>NaN</td>\n",
              "      <td>NaN</td>\n",
              "      <td>NaN</td>\n",
              "      <td>NaN</td>\n",
              "      <td>0.0</td>\n",
              "      <td>0.0</td>\n",
              "      <td>0.0</td>\n",
              "      <td>NaN</td>\n",
              "      <td>NaN</td>\n",
              "      <td>NaN</td>\n",
              "      <td>NaN</td>\n",
              "      <td>0.0</td>\n",
              "      <td>-116.838972</td>\n",
              "      <td>28.448684</td>\n",
              "      <td>-358.414557</td>\n",
              "      <td>-357.144195</td>\n",
              "      <td>-1.270362</td>\n",
              "      <td>50.90000</td>\n",
              "      <td>50.90000</td>\n",
              "      <td>79.062847</td>\n",
              "      <td>78.346967</td>\n",
              "      <td>4.0</td>\n",
              "      <td>16.0</td>\n",
              "      <td>-12.0</td>\n",
              "      <td>51.2418</td>\n",
              "      <td>NaN</td>\n",
              "      <td>51.2418</td>\n",
              "      <td>0.0</td>\n",
              "      <td>0.0</td>\n",
              "      <td>0.0</td>\n",
              "      <td>NaN</td>\n",
              "      <td>-100.0</td>\n",
              "      <td>NaN</td>\n",
              "      <td>28.571429</td>\n",
              "      <td>12.485085</td>\n",
              "      <td>-71.428571</td>\n",
              "      <td>0.0</td>\n",
              "      <td>NaN</td>\n",
              "      <td>NaN</td>\n",
              "      <td>-0.177026</td>\n",
              "      <td>-0.177183</td>\n",
              "      <td>-0.762612</td>\n",
              "    </tr>\n",
              "  </tbody>\n",
              "</table>\n",
              "</div>"
            ],
            "text/plain": [
              "                      open     high      low  ...  others_dr  others_dlr  others_cr\n",
              "2009-09-30 09:46:02    NaN      NaN      NaN  ...        NaN         NaN        NaN\n",
              "2009-09-30 09:51:41  51.25  51.2500  51.1400  ... -35.570585         NaN   0.000000\n",
              "2009-09-30 09:57:13  51.17  51.2000  50.9427  ...  -0.332421   -0.332975  -0.332421\n",
              "2009-10-01 10:00:32  51.02  51.0652  50.8400  ...  -0.255052   -0.255378  -0.586625\n",
              "2009-10-01 16:16:36  50.56  50.7500  50.5500  ...  -0.177026   -0.177183  -0.762612\n",
              "\n",
              "[5 rows x 72 columns]"
            ]
          },
          "metadata": {
            "tags": []
          },
          "execution_count": 43
        }
      ]
    },
    {
      "cell_type": "code",
      "metadata": {
        "id": "KRgoUw3sK8Qb",
        "colab_type": "code",
        "outputId": "0d6e4377-c6c2-4799-9c95-03245ebc4567",
        "colab": {
          "base_uri": "https://localhost:8080/",
          "height": 381
        }
      },
      "source": [
        "ta_features.columns"
      ],
      "execution_count": 44,
      "outputs": [
        {
          "output_type": "execute_result",
          "data": {
            "text/plain": [
              "Index(['open', 'high', 'low', 'close', 'volume', 'volume_adi', 'volume_obv',\n",
              "       'volume_cmf', 'volume_fi', 'volume_em', 'volume_sma_em', 'volume_vpt',\n",
              "       'volume_nvi', 'volatility_atr', 'volatility_bbm', 'volatility_bbh',\n",
              "       'volatility_bbl', 'volatility_bbw', 'volatility_bbhi',\n",
              "       'volatility_bbli', 'volatility_kcc', 'volatility_kch', 'volatility_kcl',\n",
              "       'volatility_kchi', 'volatility_kcli', 'volatility_dcl',\n",
              "       'volatility_dch', 'volatility_dchi', 'volatility_dcli', 'trend_macd',\n",
              "       'trend_macd_signal', 'trend_macd_diff', 'trend_ema_fast',\n",
              "       'trend_ema_slow', 'trend_adx', 'trend_adx_pos', 'trend_adx_neg',\n",
              "       'trend_vortex_ind_pos', 'trend_vortex_ind_neg', 'trend_vortex_ind_diff',\n",
              "       'trend_trix', 'trend_mass_index', 'trend_cci', 'trend_dpo', 'trend_kst',\n",
              "       'trend_kst_sig', 'trend_kst_diff', 'trend_ichimoku_a',\n",
              "       'trend_ichimoku_b', 'trend_visual_ichimoku_a',\n",
              "       'trend_visual_ichimoku_b', 'trend_aroon_up', 'trend_aroon_down',\n",
              "       'trend_aroon_ind', 'trend_psar', 'trend_psar_up', 'trend_psar_down',\n",
              "       'trend_psar_up_indicator', 'trend_psar_down_indicator', 'momentum_rsi',\n",
              "       'momentum_mfi', 'momentum_tsi', 'momentum_uo', 'momentum_stoch',\n",
              "       'momentum_stoch_signal', 'momentum_wr', 'momentum_ao', 'momentum_kama',\n",
              "       'momentum_roc', 'others_dr', 'others_dlr', 'others_cr'],\n",
              "      dtype='object')"
            ]
          },
          "metadata": {
            "tags": []
          },
          "execution_count": 44
        }
      ]
    },
    {
      "cell_type": "code",
      "metadata": {
        "id": "JAELqopMOhNb",
        "colab_type": "code",
        "colab": {}
      },
      "source": [
        "ta_features_3 = ta_features.loc[:, ['volume_adi', 'volatility_atr', 'trend_macd',\n",
        "                    'trend_cci', 'momentum_rsi', 'momentum_stoch', 'momentum_kama']]"
      ],
      "execution_count": 0,
      "outputs": []
    },
    {
      "cell_type": "code",
      "metadata": {
        "id": "QhLb7M4wQc4U",
        "colab_type": "code",
        "outputId": "43605444-b152-4524-fa59-65db5911f5d0",
        "colab": {
          "base_uri": "https://localhost:8080/",
          "height": 407
        }
      },
      "source": [
        "ta_features_3 = ta_features_3.dropna(axis=1,how='any',thresh=len(ta_features)-20)\n",
        "ta_features_3 = ta_features_3.dropna()\n",
        "ta_features_3"
      ],
      "execution_count": 46,
      "outputs": [
        {
          "output_type": "execute_result",
          "data": {
            "text/html": [
              "<div>\n",
              "<style scoped>\n",
              "    .dataframe tbody tr th:only-of-type {\n",
              "        vertical-align: middle;\n",
              "    }\n",
              "\n",
              "    .dataframe tbody tr th {\n",
              "        vertical-align: top;\n",
              "    }\n",
              "\n",
              "    .dataframe thead th {\n",
              "        text-align: right;\n",
              "    }\n",
              "</style>\n",
              "<table border=\"1\" class=\"dataframe\">\n",
              "  <thead>\n",
              "    <tr style=\"text-align: right;\">\n",
              "      <th></th>\n",
              "      <th>volume_adi</th>\n",
              "      <th>volatility_atr</th>\n",
              "      <th>trend_cci</th>\n",
              "      <th>momentum_rsi</th>\n",
              "      <th>momentum_stoch</th>\n",
              "      <th>momentum_kama</th>\n",
              "    </tr>\n",
              "  </thead>\n",
              "  <tbody>\n",
              "    <tr>\n",
              "      <th>2009-10-05 10:08:24</th>\n",
              "      <td>109120.034278</td>\n",
              "      <td>0.420510</td>\n",
              "      <td>-5.033822</td>\n",
              "      <td>40.135779</td>\n",
              "      <td>44.131068</td>\n",
              "      <td>50.099100</td>\n",
              "    </tr>\n",
              "    <tr>\n",
              "      <th>2009-10-05 10:41:50</th>\n",
              "      <td>105038.034278</td>\n",
              "      <td>0.407459</td>\n",
              "      <td>-12.812807</td>\n",
              "      <td>36.945660</td>\n",
              "      <td>34.466019</td>\n",
              "      <td>50.082564</td>\n",
              "    </tr>\n",
              "    <tr>\n",
              "      <th>2009-10-06 09:34:36</th>\n",
              "      <td>112387.210748</td>\n",
              "      <td>0.386613</td>\n",
              "      <td>-6.360426</td>\n",
              "      <td>41.660925</td>\n",
              "      <td>43.592233</td>\n",
              "      <td>50.082834</td>\n",
              "    </tr>\n",
              "    <tr>\n",
              "      <th>2009-10-06 09:43:53</th>\n",
              "      <td>115333.960748</td>\n",
              "      <td>0.440152</td>\n",
              "      <td>86.385254</td>\n",
              "      <td>57.920118</td>\n",
              "      <td>87.378641</td>\n",
              "      <td>50.089605</td>\n",
              "    </tr>\n",
              "    <tr>\n",
              "      <th>2009-10-06 10:47:27</th>\n",
              "      <td>119089.188630</td>\n",
              "      <td>0.414837</td>\n",
              "      <td>91.831403</td>\n",
              "      <td>60.298063</td>\n",
              "      <td>96.116505</td>\n",
              "      <td>50.106344</td>\n",
              "    </tr>\n",
              "    <tr>\n",
              "      <th>...</th>\n",
              "      <td>...</td>\n",
              "      <td>...</td>\n",
              "      <td>...</td>\n",
              "      <td>...</td>\n",
              "      <td>...</td>\n",
              "      <td>...</td>\n",
              "    </tr>\n",
              "    <tr>\n",
              "      <th>2019-06-12 10:31:07</th>\n",
              "      <td>-29119.309037</td>\n",
              "      <td>0.658923</td>\n",
              "      <td>145.765038</td>\n",
              "      <td>63.601871</td>\n",
              "      <td>100.000000</td>\n",
              "      <td>113.318100</td>\n",
              "    </tr>\n",
              "    <tr>\n",
              "      <th>2019-06-13 09:47:27</th>\n",
              "      <td>-31133.309037</td>\n",
              "      <td>0.648761</td>\n",
              "      <td>118.579833</td>\n",
              "      <td>59.677728</td>\n",
              "      <td>91.305772</td>\n",
              "      <td>113.471809</td>\n",
              "    </tr>\n",
              "    <tr>\n",
              "      <th>2019-06-13 10:07:58</th>\n",
              "      <td>-28870.309037</td>\n",
              "      <td>0.656615</td>\n",
              "      <td>129.107862</td>\n",
              "      <td>62.895196</td>\n",
              "      <td>100.000000</td>\n",
              "      <td>113.725259</td>\n",
              "    </tr>\n",
              "    <tr>\n",
              "      <th>2019-06-18 09:39:42</th>\n",
              "      <td>-28870.309037</td>\n",
              "      <td>0.626953</td>\n",
              "      <td>101.904939</td>\n",
              "      <td>60.329118</td>\n",
              "      <td>93.673111</td>\n",
              "      <td>113.870172</td>\n",
              "    </tr>\n",
              "    <tr>\n",
              "      <th>2019-06-18 09:48:55</th>\n",
              "      <td>-27127.309037</td>\n",
              "      <td>0.583258</td>\n",
              "      <td>95.619365</td>\n",
              "      <td>61.228210</td>\n",
              "      <td>94.848485</td>\n",
              "      <td>114.063988</td>\n",
              "    </tr>\n",
              "  </tbody>\n",
              "</table>\n",
              "<p>2336 rows × 6 columns</p>\n",
              "</div>"
            ],
            "text/plain": [
              "                        volume_adi  ...  momentum_kama\n",
              "2009-10-05 10:08:24  109120.034278  ...      50.099100\n",
              "2009-10-05 10:41:50  105038.034278  ...      50.082564\n",
              "2009-10-06 09:34:36  112387.210748  ...      50.082834\n",
              "2009-10-06 09:43:53  115333.960748  ...      50.089605\n",
              "2009-10-06 10:47:27  119089.188630  ...      50.106344\n",
              "...                            ...  ...            ...\n",
              "2019-06-12 10:31:07  -29119.309037  ...     113.318100\n",
              "2019-06-13 09:47:27  -31133.309037  ...     113.471809\n",
              "2019-06-13 10:07:58  -28870.309037  ...     113.725259\n",
              "2019-06-18 09:39:42  -28870.309037  ...     113.870172\n",
              "2019-06-18 09:48:55  -27127.309037  ...     114.063988\n",
              "\n",
              "[2336 rows x 6 columns]"
            ]
          },
          "metadata": {
            "tags": []
          },
          "execution_count": 46
        }
      ]
    },
    {
      "cell_type": "markdown",
      "metadata": {
        "id": "7fwXJ11cTOuZ",
        "colab_type": "text"
      },
      "source": [
        "### Other features"
      ]
    },
    {
      "cell_type": "markdown",
      "metadata": {
        "id": "Gd8C-yVyTRb2",
        "colab_type": "text"
      },
      "source": [
        "from hudson-thames"
      ]
    },
    {
      "cell_type": "code",
      "metadata": {
        "id": "wfxFGLbAqC-t",
        "colab_type": "code",
        "colab": {}
      },
      "source": [
        "raw_data = pd.DataFrame(bars.close)\n",
        "\n",
        "log_ret = np.log(raw_data['close']).diff()\n",
        "\n",
        "raw_data['sma10'] = raw_data['close'].rolling(window = 10).mean()\n",
        "\n",
        "# Momentum\n",
        "raw_data['mom1'] = raw_data['close'].pct_change(periods=1)\n",
        "raw_data['mom2'] = raw_data['close'].pct_change(periods=2)\n",
        "raw_data['mom3'] = raw_data['close'].pct_change(periods=3)\n",
        "\n",
        "'''# Volatility\n",
        "raw_data['volatility_50'] = log_ret.rolling(window=50, min_periods=50, center=False).std()\n",
        "raw_data['volatility_31'] = log_ret.rolling(window=31, min_periods=31, center=False).std()\n",
        "raw_data['volatility_15'] = log_ret.rolling(window=15, min_periods=15, center=False).std()'''\n",
        "\n",
        "# Serial Correlation\n",
        "window_autocorr = 50\n",
        "\n",
        "raw_data['autocorr_1'] = log_ret.rolling(window=window_autocorr, min_periods=window_autocorr, center=False).apply(lambda x: x.autocorr(lag=1), raw=False)\n",
        "raw_data['autocorr_2'] = log_ret.rolling(window=window_autocorr, min_periods=window_autocorr, center=False).apply(lambda x: x.autocorr(lag=2), raw=False)\n",
        "raw_data['autocorr_3'] = log_ret.rolling(window=window_autocorr, min_periods=window_autocorr, center=False).apply(lambda x: x.autocorr(lag=3), raw=False)\n",
        "\n",
        "# Remove look ahead bias\n",
        "raw_data = raw_data.shift(1)"
      ],
      "execution_count": 0,
      "outputs": []
    },
    {
      "cell_type": "code",
      "metadata": {
        "id": "jfj_uAf0zwO4",
        "colab_type": "code",
        "colab": {}
      },
      "source": [
        "raw_X = raw_data.join(ta_features_3)\n",
        "raw_X = raw_X.iloc[:,1:]\n",
        "raw_X.dropna(inplace=True)"
      ],
      "execution_count": 0,
      "outputs": []
    },
    {
      "cell_type": "code",
      "metadata": {
        "id": "sel6ZcCmHTS9",
        "colab_type": "code",
        "outputId": "a9a4d6e5-5673-40f0-cb98-6cbd818cb277",
        "colab": {
          "base_uri": "https://localhost:8080/",
          "height": 773
        }
      },
      "source": [
        "raw_X"
      ],
      "execution_count": 49,
      "outputs": [
        {
          "output_type": "execute_result",
          "data": {
            "text/html": [
              "<div>\n",
              "<style scoped>\n",
              "    .dataframe tbody tr th:only-of-type {\n",
              "        vertical-align: middle;\n",
              "    }\n",
              "\n",
              "    .dataframe tbody tr th {\n",
              "        vertical-align: top;\n",
              "    }\n",
              "\n",
              "    .dataframe thead th {\n",
              "        text-align: right;\n",
              "    }\n",
              "</style>\n",
              "<table border=\"1\" class=\"dataframe\">\n",
              "  <thead>\n",
              "    <tr style=\"text-align: right;\">\n",
              "      <th></th>\n",
              "      <th>sma10</th>\n",
              "      <th>mom1</th>\n",
              "      <th>mom2</th>\n",
              "      <th>mom3</th>\n",
              "      <th>autocorr_1</th>\n",
              "      <th>autocorr_2</th>\n",
              "      <th>autocorr_3</th>\n",
              "      <th>volume_adi</th>\n",
              "      <th>volatility_atr</th>\n",
              "      <th>trend_cci</th>\n",
              "      <th>momentum_rsi</th>\n",
              "      <th>momentum_stoch</th>\n",
              "      <th>momentum_kama</th>\n",
              "    </tr>\n",
              "  </thead>\n",
              "  <tbody>\n",
              "    <tr>\n",
              "      <th>2009-11-03 09:34:03</th>\n",
              "      <td>49.62249</td>\n",
              "      <td>0.012841</td>\n",
              "      <td>0.013461</td>\n",
              "      <td>0.008524</td>\n",
              "      <td>-0.082592</td>\n",
              "      <td>0.079436</td>\n",
              "      <td>0.250410</td>\n",
              "      <td>132838.403091</td>\n",
              "      <td>0.337979</td>\n",
              "      <td>-41.873496</td>\n",
              "      <td>44.191955</td>\n",
              "      <td>58.289616</td>\n",
              "      <td>50.156455</td>\n",
              "    </tr>\n",
              "    <tr>\n",
              "      <th>2009-11-04 10:00:01</th>\n",
              "      <td>49.59649</td>\n",
              "      <td>-0.009056</td>\n",
              "      <td>0.003669</td>\n",
              "      <td>0.004283</td>\n",
              "      <td>-0.111291</td>\n",
              "      <td>0.074601</td>\n",
              "      <td>0.253757</td>\n",
              "      <td>130976.713436</td>\n",
              "      <td>0.365181</td>\n",
              "      <td>-96.419640</td>\n",
              "      <td>39.898028</td>\n",
              "      <td>20.817720</td>\n",
              "      <td>50.144877</td>\n",
              "    </tr>\n",
              "    <tr>\n",
              "      <th>2009-11-04 15:41:23</th>\n",
              "      <td>49.63549</td>\n",
              "      <td>0.022543</td>\n",
              "      <td>0.013282</td>\n",
              "      <td>0.026294</td>\n",
              "      <td>-0.151382</td>\n",
              "      <td>0.140220</td>\n",
              "      <td>0.252032</td>\n",
              "      <td>135208.713436</td>\n",
              "      <td>0.439663</td>\n",
              "      <td>94.953706</td>\n",
              "      <td>52.228404</td>\n",
              "      <td>100.000000</td>\n",
              "      <td>50.148053</td>\n",
              "    </tr>\n",
              "    <tr>\n",
              "      <th>2009-11-04 15:50:50</th>\n",
              "      <td>49.61040</td>\n",
              "      <td>-0.008143</td>\n",
              "      <td>0.014216</td>\n",
              "      <td>0.005031</td>\n",
              "      <td>-0.186674</td>\n",
              "      <td>0.158134</td>\n",
              "      <td>0.215134</td>\n",
              "      <td>131041.713436</td>\n",
              "      <td>0.436697</td>\n",
              "      <td>30.599894</td>\n",
              "      <td>48.287735</td>\n",
              "      <td>69.852941</td>\n",
              "      <td>50.145915</td>\n",
              "    </tr>\n",
              "    <tr>\n",
              "      <th>2009-11-05 09:30:09</th>\n",
              "      <td>49.58740</td>\n",
              "      <td>-0.003805</td>\n",
              "      <td>-0.011917</td>\n",
              "      <td>0.010357</td>\n",
              "      <td>-0.237581</td>\n",
              "      <td>0.134555</td>\n",
              "      <td>0.217318</td>\n",
              "      <td>127415.580103</td>\n",
              "      <td>0.413027</td>\n",
              "      <td>-3.367553</td>\n",
              "      <td>46.535462</td>\n",
              "      <td>55.882353</td>\n",
              "      <td>50.142075</td>\n",
              "    </tr>\n",
              "    <tr>\n",
              "      <th>...</th>\n",
              "      <td>...</td>\n",
              "      <td>...</td>\n",
              "      <td>...</td>\n",
              "      <td>...</td>\n",
              "      <td>...</td>\n",
              "      <td>...</td>\n",
              "      <td>...</td>\n",
              "      <td>...</td>\n",
              "      <td>...</td>\n",
              "      <td>...</td>\n",
              "      <td>...</td>\n",
              "      <td>...</td>\n",
              "      <td>...</td>\n",
              "    </tr>\n",
              "    <tr>\n",
              "      <th>2019-06-12 10:31:07</th>\n",
              "      <td>113.00729</td>\n",
              "      <td>0.004899</td>\n",
              "      <td>0.009551</td>\n",
              "      <td>0.014573</td>\n",
              "      <td>-0.103322</td>\n",
              "      <td>-0.071258</td>\n",
              "      <td>0.118662</td>\n",
              "      <td>-29119.309037</td>\n",
              "      <td>0.658923</td>\n",
              "      <td>145.765038</td>\n",
              "      <td>63.601871</td>\n",
              "      <td>100.000000</td>\n",
              "      <td>113.318100</td>\n",
              "    </tr>\n",
              "    <tr>\n",
              "      <th>2019-06-13 09:47:27</th>\n",
              "      <td>113.26256</td>\n",
              "      <td>-0.004852</td>\n",
              "      <td>0.000024</td>\n",
              "      <td>0.004653</td>\n",
              "      <td>-0.115929</td>\n",
              "      <td>-0.072053</td>\n",
              "      <td>0.101037</td>\n",
              "      <td>-31133.309037</td>\n",
              "      <td>0.648761</td>\n",
              "      <td>118.579833</td>\n",
              "      <td>59.677728</td>\n",
              "      <td>91.305772</td>\n",
              "      <td>113.471809</td>\n",
              "    </tr>\n",
              "    <tr>\n",
              "      <th>2019-06-13 10:07:58</th>\n",
              "      <td>113.53356</td>\n",
              "      <td>0.006362</td>\n",
              "      <td>0.001480</td>\n",
              "      <td>0.006386</td>\n",
              "      <td>-0.108467</td>\n",
              "      <td>-0.091959</td>\n",
              "      <td>0.119484</td>\n",
              "      <td>-28870.309037</td>\n",
              "      <td>0.656615</td>\n",
              "      <td>129.107862</td>\n",
              "      <td>62.895196</td>\n",
              "      <td>100.000000</td>\n",
              "      <td>113.725259</td>\n",
              "    </tr>\n",
              "    <tr>\n",
              "      <th>2019-06-18 09:39:42</th>\n",
              "      <td>113.79808</td>\n",
              "      <td>-0.003129</td>\n",
              "      <td>0.003213</td>\n",
              "      <td>-0.001654</td>\n",
              "      <td>-0.060287</td>\n",
              "      <td>-0.101669</td>\n",
              "      <td>0.077475</td>\n",
              "      <td>-28870.309037</td>\n",
              "      <td>0.626953</td>\n",
              "      <td>101.904939</td>\n",
              "      <td>60.329118</td>\n",
              "      <td>93.673111</td>\n",
              "      <td>113.870172</td>\n",
              "    </tr>\n",
              "    <tr>\n",
              "      <th>2019-06-18 09:48:55</th>\n",
              "      <td>114.10260</td>\n",
              "      <td>0.001657</td>\n",
              "      <td>-0.001478</td>\n",
              "      <td>0.004875</td>\n",
              "      <td>-0.045093</td>\n",
              "      <td>-0.042176</td>\n",
              "      <td>-0.001452</td>\n",
              "      <td>-27127.309037</td>\n",
              "      <td>0.583258</td>\n",
              "      <td>95.619365</td>\n",
              "      <td>61.228210</td>\n",
              "      <td>94.848485</td>\n",
              "      <td>114.063988</td>\n",
              "    </tr>\n",
              "  </tbody>\n",
              "</table>\n",
              "<p>2295 rows × 13 columns</p>\n",
              "</div>"
            ],
            "text/plain": [
              "                         sma10      mom1  ...  momentum_stoch  momentum_kama\n",
              "2009-11-03 09:34:03   49.62249  0.012841  ...       58.289616      50.156455\n",
              "2009-11-04 10:00:01   49.59649 -0.009056  ...       20.817720      50.144877\n",
              "2009-11-04 15:41:23   49.63549  0.022543  ...      100.000000      50.148053\n",
              "2009-11-04 15:50:50   49.61040 -0.008143  ...       69.852941      50.145915\n",
              "2009-11-05 09:30:09   49.58740 -0.003805  ...       55.882353      50.142075\n",
              "...                        ...       ...  ...             ...            ...\n",
              "2019-06-12 10:31:07  113.00729  0.004899  ...      100.000000     113.318100\n",
              "2019-06-13 09:47:27  113.26256 -0.004852  ...       91.305772     113.471809\n",
              "2019-06-13 10:07:58  113.53356  0.006362  ...      100.000000     113.725259\n",
              "2019-06-18 09:39:42  113.79808 -0.003129  ...       93.673111     113.870172\n",
              "2019-06-18 09:48:55  114.10260  0.001657  ...       94.848485     114.063988\n",
              "\n",
              "[2295 rows x 13 columns]"
            ]
          },
          "metadata": {
            "tags": []
          },
          "execution_count": 49
        }
      ]
    },
    {
      "cell_type": "markdown",
      "metadata": {
        "id": "9lSqiSDQT-8w",
        "colab_type": "text"
      },
      "source": [
        "### PCA"
      ]
    },
    {
      "cell_type": "code",
      "metadata": {
        "id": "2YTsGoXDwAK6",
        "colab_type": "code",
        "outputId": "889a2e8b-da69-4f31-9490-7bc88c8ab651",
        "colab": {
          "base_uri": "https://localhost:8080/",
          "height": 35
        }
      },
      "source": [
        "# Feature decomposition PCA\n",
        "\n",
        "n=5\n",
        "pca = PCA(n)\n",
        "pca.fit(raw_X)\n",
        "pcaX = pca.transform(raw_X)\n",
        "\n",
        "X = pd.DataFrame(index=raw_X.index)\n",
        "for i in range(n):\n",
        "  a = pd.Series(data=pcaX[:,i],index=raw_X.index,name=i)\n",
        "  X = X.join(a)\n",
        "'''\n",
        "\n",
        "# No PCA\n",
        "X = raw_X.copy()'''"
      ],
      "execution_count": 50,
      "outputs": [
        {
          "output_type": "execute_result",
          "data": {
            "text/plain": [
              "'\\n\\n# No PCA\\nX = raw_X.copy()'"
            ]
          },
          "metadata": {
            "tags": []
          },
          "execution_count": 50
        }
      ]
    },
    {
      "cell_type": "markdown",
      "metadata": {
        "id": "Jjr81X7qTae-",
        "colab_type": "text"
      },
      "source": [
        "### Including side from first model"
      ]
    },
    {
      "cell_type": "code",
      "metadata": {
        "id": "rNckNz9Efh1x",
        "colab_type": "code",
        "colab": {}
      },
      "source": [
        "X['side'] = side"
      ],
      "execution_count": 0,
      "outputs": []
    },
    {
      "cell_type": "markdown",
      "metadata": {
        "id": "x7jXvG1VTfSn",
        "colab_type": "text"
      },
      "source": [
        "### Fracdiff"
      ]
    },
    {
      "cell_type": "code",
      "metadata": {
        "id": "shUhprlPtnjR",
        "colab_type": "code",
        "colab": {}
      },
      "source": [
        "#fd = features.fracdiff.frac_diff(bars.close.to_frame(),0.2)"
      ],
      "execution_count": 0,
      "outputs": []
    },
    {
      "cell_type": "code",
      "metadata": {
        "id": "Y7mkiYriuj6X",
        "colab_type": "code",
        "colab": {}
      },
      "source": [
        "#X['fd'] = fd"
      ],
      "execution_count": 0,
      "outputs": []
    },
    {
      "cell_type": "markdown",
      "metadata": {
        "id": "tKgHnKdgTnXm",
        "colab_type": "text"
      },
      "source": [
        "### X"
      ]
    },
    {
      "cell_type": "code",
      "metadata": {
        "id": "kLhM3Oz8M3lt",
        "colab_type": "code",
        "colab": {}
      },
      "source": [
        "X.dropna(inplace=True)"
      ],
      "execution_count": 0,
      "outputs": []
    },
    {
      "cell_type": "code",
      "metadata": {
        "id": "FTpFf2bv1mCH",
        "colab_type": "code",
        "outputId": "a00ea231-9228-45ad-a130-1033e6d7feb9",
        "colab": {
          "base_uri": "https://localhost:8080/",
          "height": 198
        }
      },
      "source": [
        "X.head()"
      ],
      "execution_count": 55,
      "outputs": [
        {
          "output_type": "execute_result",
          "data": {
            "text/html": [
              "<div>\n",
              "<style scoped>\n",
              "    .dataframe tbody tr th:only-of-type {\n",
              "        vertical-align: middle;\n",
              "    }\n",
              "\n",
              "    .dataframe tbody tr th {\n",
              "        vertical-align: top;\n",
              "    }\n",
              "\n",
              "    .dataframe thead th {\n",
              "        text-align: right;\n",
              "    }\n",
              "</style>\n",
              "<table border=\"1\" class=\"dataframe\">\n",
              "  <thead>\n",
              "    <tr style=\"text-align: right;\">\n",
              "      <th></th>\n",
              "      <th>0</th>\n",
              "      <th>1</th>\n",
              "      <th>2</th>\n",
              "      <th>3</th>\n",
              "      <th>4</th>\n",
              "      <th>side</th>\n",
              "    </tr>\n",
              "  </thead>\n",
              "  <tbody>\n",
              "    <tr>\n",
              "      <th>2009-11-03 09:34:03</th>\n",
              "      <td>-49519.770518</td>\n",
              "      <td>48.263123</td>\n",
              "      <td>48.574760</td>\n",
              "      <td>16.504829</td>\n",
              "      <td>1.730497</td>\n",
              "      <td>-1.0</td>\n",
              "    </tr>\n",
              "    <tr>\n",
              "      <th>2009-11-04 10:00:01</th>\n",
              "      <td>-51381.464310</td>\n",
              "      <td>111.664439</td>\n",
              "      <td>46.245076</td>\n",
              "      <td>-2.298306</td>\n",
              "      <td>-0.198630</td>\n",
              "      <td>-1.0</td>\n",
              "    </tr>\n",
              "    <tr>\n",
              "      <th>2009-11-04 15:41:23</th>\n",
              "      <td>-47149.450858</td>\n",
              "      <td>-94.729148</td>\n",
              "      <td>50.258616</td>\n",
              "      <td>14.059507</td>\n",
              "      <td>6.855062</td>\n",
              "      <td>1.0</td>\n",
              "    </tr>\n",
              "    <tr>\n",
              "      <th>2009-11-04 15:50:50</th>\n",
              "      <td>-51316.455429</td>\n",
              "      <td>-24.445430</td>\n",
              "      <td>48.893908</td>\n",
              "      <td>5.204780</td>\n",
              "      <td>4.095072</td>\n",
              "      <td>1.0</td>\n",
              "    </tr>\n",
              "    <tr>\n",
              "      <th>2009-11-05 09:30:09</th>\n",
              "      <td>-54942.591121</td>\n",
              "      <td>11.938623</td>\n",
              "      <td>48.491098</td>\n",
              "      <td>2.364450</td>\n",
              "      <td>2.390860</td>\n",
              "      <td>1.0</td>\n",
              "    </tr>\n",
              "  </tbody>\n",
              "</table>\n",
              "</div>"
            ],
            "text/plain": [
              "                                0           1  ...         4  side\n",
              "2009-11-03 09:34:03 -49519.770518   48.263123  ...  1.730497  -1.0\n",
              "2009-11-04 10:00:01 -51381.464310  111.664439  ... -0.198630  -1.0\n",
              "2009-11-04 15:41:23 -47149.450858  -94.729148  ...  6.855062   1.0\n",
              "2009-11-04 15:50:50 -51316.455429  -24.445430  ...  4.095072   1.0\n",
              "2009-11-05 09:30:09 -54942.591121   11.938623  ...  2.390860   1.0\n",
              "\n",
              "[5 rows x 6 columns]"
            ]
          },
          "metadata": {
            "tags": []
          },
          "execution_count": 55
        }
      ]
    },
    {
      "cell_type": "code",
      "metadata": {
        "id": "3PBgcFJGxlI-",
        "colab_type": "code",
        "outputId": "bee59203-25bf-4062-f8e6-d633c75ba360",
        "colab": {
          "base_uri": "https://localhost:8080/",
          "height": 35
        }
      },
      "source": [
        "len(X)"
      ],
      "execution_count": 56,
      "outputs": [
        {
          "output_type": "execute_result",
          "data": {
            "text/plain": [
              "2295"
            ]
          },
          "metadata": {
            "tags": []
          },
          "execution_count": 56
        }
      ]
    },
    {
      "cell_type": "markdown",
      "metadata": {
        "id": "--gobRxAdv5D",
        "colab_type": "text"
      },
      "source": [
        "## 4. Fit a second ML model"
      ]
    },
    {
      "cell_type": "code",
      "metadata": {
        "id": "T0BgIS4xtjZt",
        "colab_type": "code",
        "colab": {}
      },
      "source": [
        "tmp_data = X.copy()\n",
        "tmp_data = tmp_data.join(bin.bin)\n",
        "tmp_data.dropna(inplace=True)\n",
        "\n",
        "X = tmp_data.iloc[:,:-1]\n",
        "y = tmp_data[['bin']]"
      ],
      "execution_count": 0,
      "outputs": []
    },
    {
      "cell_type": "code",
      "metadata": {
        "id": "PWNUfeKz3sMU",
        "colab_type": "code",
        "colab": {}
      },
      "source": [
        "t1 = events['t1'].loc[X.index]\n",
        "idx = events.loc[X.index].index"
      ],
      "execution_count": 0,
      "outputs": []
    },
    {
      "cell_type": "code",
      "metadata": {
        "id": "APLe06kDjArq",
        "colab_type": "code",
        "outputId": "a89456ed-da49-49f9-dbee-d8980aace275",
        "colab": {
          "base_uri": "https://localhost:8080/",
          "height": 407
        }
      },
      "source": [
        "X"
      ],
      "execution_count": 59,
      "outputs": [
        {
          "output_type": "execute_result",
          "data": {
            "text/html": [
              "<div>\n",
              "<style scoped>\n",
              "    .dataframe tbody tr th:only-of-type {\n",
              "        vertical-align: middle;\n",
              "    }\n",
              "\n",
              "    .dataframe tbody tr th {\n",
              "        vertical-align: top;\n",
              "    }\n",
              "\n",
              "    .dataframe thead th {\n",
              "        text-align: right;\n",
              "    }\n",
              "</style>\n",
              "<table border=\"1\" class=\"dataframe\">\n",
              "  <thead>\n",
              "    <tr style=\"text-align: right;\">\n",
              "      <th></th>\n",
              "      <th>0</th>\n",
              "      <th>1</th>\n",
              "      <th>2</th>\n",
              "      <th>3</th>\n",
              "      <th>4</th>\n",
              "      <th>side</th>\n",
              "    </tr>\n",
              "  </thead>\n",
              "  <tbody>\n",
              "    <tr>\n",
              "      <th>2009-11-03 09:34:03</th>\n",
              "      <td>-49519.770518</td>\n",
              "      <td>48.263123</td>\n",
              "      <td>48.574760</td>\n",
              "      <td>16.504829</td>\n",
              "      <td>1.730497</td>\n",
              "      <td>-1.0</td>\n",
              "    </tr>\n",
              "    <tr>\n",
              "      <th>2009-11-04 10:00:01</th>\n",
              "      <td>-51381.464310</td>\n",
              "      <td>111.664439</td>\n",
              "      <td>46.245076</td>\n",
              "      <td>-2.298306</td>\n",
              "      <td>-0.198630</td>\n",
              "      <td>-1.0</td>\n",
              "    </tr>\n",
              "    <tr>\n",
              "      <th>2009-11-04 15:41:23</th>\n",
              "      <td>-47149.450858</td>\n",
              "      <td>-94.729148</td>\n",
              "      <td>50.258616</td>\n",
              "      <td>14.059507</td>\n",
              "      <td>6.855062</td>\n",
              "      <td>1.0</td>\n",
              "    </tr>\n",
              "    <tr>\n",
              "      <th>2009-11-04 15:50:50</th>\n",
              "      <td>-51316.455429</td>\n",
              "      <td>-24.445430</td>\n",
              "      <td>48.893908</td>\n",
              "      <td>5.204780</td>\n",
              "      <td>4.095072</td>\n",
              "      <td>1.0</td>\n",
              "    </tr>\n",
              "    <tr>\n",
              "      <th>2009-11-05 09:30:09</th>\n",
              "      <td>-54942.591121</td>\n",
              "      <td>11.938623</td>\n",
              "      <td>48.491098</td>\n",
              "      <td>2.364450</td>\n",
              "      <td>2.390860</td>\n",
              "      <td>1.0</td>\n",
              "    </tr>\n",
              "    <tr>\n",
              "      <th>...</th>\n",
              "      <td>...</td>\n",
              "      <td>...</td>\n",
              "      <td>...</td>\n",
              "      <td>...</td>\n",
              "      <td>...</td>\n",
              "      <td>...</td>\n",
              "    </tr>\n",
              "    <tr>\n",
              "      <th>2019-06-12 10:31:07</th>\n",
              "      <td>-211477.478375</td>\n",
              "      <td>-155.626784</td>\n",
              "      <td>-22.194486</td>\n",
              "      <td>4.910075</td>\n",
              "      <td>2.676496</td>\n",
              "      <td>1.0</td>\n",
              "    </tr>\n",
              "    <tr>\n",
              "      <th>2019-06-13 09:47:27</th>\n",
              "      <td>-213491.480273</td>\n",
              "      <td>-126.979471</td>\n",
              "      <td>-22.585394</td>\n",
              "      <td>4.969214</td>\n",
              "      <td>3.956148</td>\n",
              "      <td>-1.0</td>\n",
              "    </tr>\n",
              "    <tr>\n",
              "      <th>2019-06-13 10:07:58</th>\n",
              "      <td>-211228.479478</td>\n",
              "      <td>-139.766754</td>\n",
              "      <td>-22.679684</td>\n",
              "      <td>10.085257</td>\n",
              "      <td>2.052142</td>\n",
              "      <td>-1.0</td>\n",
              "    </tr>\n",
              "    <tr>\n",
              "      <th>2019-06-18 09:39:42</th>\n",
              "      <td>-211228.481333</td>\n",
              "      <td>-111.821503</td>\n",
              "      <td>-23.137937</td>\n",
              "      <td>12.440555</td>\n",
              "      <td>2.104173</td>\n",
              "      <td>-1.0</td>\n",
              "    </tr>\n",
              "    <tr>\n",
              "      <th>2019-06-18 09:48:55</th>\n",
              "      <td>-209485.481740</td>\n",
              "      <td>-106.199064</td>\n",
              "      <td>-23.547827</td>\n",
              "      <td>15.556517</td>\n",
              "      <td>0.780315</td>\n",
              "      <td>-1.0</td>\n",
              "    </tr>\n",
              "  </tbody>\n",
              "</table>\n",
              "<p>2295 rows × 6 columns</p>\n",
              "</div>"
            ],
            "text/plain": [
              "                                 0           1  ...         4  side\n",
              "2009-11-03 09:34:03  -49519.770518   48.263123  ...  1.730497  -1.0\n",
              "2009-11-04 10:00:01  -51381.464310  111.664439  ... -0.198630  -1.0\n",
              "2009-11-04 15:41:23  -47149.450858  -94.729148  ...  6.855062   1.0\n",
              "2009-11-04 15:50:50  -51316.455429  -24.445430  ...  4.095072   1.0\n",
              "2009-11-05 09:30:09  -54942.591121   11.938623  ...  2.390860   1.0\n",
              "...                            ...         ...  ...       ...   ...\n",
              "2019-06-12 10:31:07 -211477.478375 -155.626784  ...  2.676496   1.0\n",
              "2019-06-13 09:47:27 -213491.480273 -126.979471  ...  3.956148  -1.0\n",
              "2019-06-13 10:07:58 -211228.479478 -139.766754  ...  2.052142  -1.0\n",
              "2019-06-18 09:39:42 -211228.481333 -111.821503  ...  2.104173  -1.0\n",
              "2019-06-18 09:48:55 -209485.481740 -106.199064  ...  0.780315  -1.0\n",
              "\n",
              "[2295 rows x 6 columns]"
            ]
          },
          "metadata": {
            "tags": []
          },
          "execution_count": 59
        }
      ]
    },
    {
      "cell_type": "code",
      "metadata": {
        "id": "7ZITPu0qvKVp",
        "colab_type": "code",
        "colab": {}
      },
      "source": [
        "#skf = cross_validation.PurgedKFold(n_splits=5,samples_info_sets= t1, pct_embargo = 0.01)"
      ],
      "execution_count": 0,
      "outputs": []
    },
    {
      "cell_type": "code",
      "metadata": {
        "id": "QtC_iYLvyHSz",
        "colab_type": "code",
        "colab": {}
      },
      "source": [
        "X_train, X_test, y_train, y_test = train_test_split(X, y, test_size=0.4, shuffle=False)"
      ],
      "execution_count": 0,
      "outputs": []
    },
    {
      "cell_type": "markdown",
      "metadata": {
        "id": "T0D01eCwqdZ8",
        "colab_type": "text"
      },
      "source": [
        "### 1st - Random Forest"
      ]
    },
    {
      "cell_type": "code",
      "metadata": {
        "id": "eoDiKFRqz5Dd",
        "colab_type": "code",
        "outputId": "c02b5314-1fed-4cba-b5ec-64781315cc32",
        "colab": {
          "base_uri": "https://localhost:8080/",
          "height": 72
        }
      },
      "source": [
        "avgU = sampling.get_av_uniqueness_from_triple_barrier(t1.to_frame(), bars.close, 3).mean()\n",
        "max_samples = avgU[0]\n",
        "max_samples"
      ],
      "execution_count": 62,
      "outputs": [
        {
          "output_type": "stream",
          "text": [
            "2020-02-01 13:30:56.288274 100.0% num_concurrent_events done after 0.03 minutes. Remaining 0.0 minutes.\n",
            "2020-02-01 13:30:57.472187 100.0% _get_average_uniqueness done after 0.02 minutes. Remaining 0.0 minutes.\n"
          ],
          "name": "stderr"
        },
        {
          "output_type": "execute_result",
          "data": {
            "text/plain": [
              "0.5885033374242572"
            ]
          },
          "metadata": {
            "tags": []
          },
          "execution_count": 62
        }
      ]
    },
    {
      "cell_type": "code",
      "metadata": {
        "id": "I2Kd2E7UvOtz",
        "colab_type": "code",
        "outputId": "75e0b990-0fb2-408e-afe1-75df4c38a6cd",
        "colab": {
          "base_uri": "https://localhost:8080/",
          "height": 435
        }
      },
      "source": [
        "clf0 = RandomForestClassifier(n_estimators=1,criterion='entropy',bootstrap = False, class_weight='balanced_subsample')\n",
        "clf1 = BaggingClassifier(base_estimator=clf0, max_samples=max_samples, max_features=1, n_estimators=1000)\n",
        "clf1.fit(X_train, y_train.values.ravel())\n",
        "\n",
        "#this is the method in the book"
      ],
      "execution_count": 63,
      "outputs": [
        {
          "output_type": "execute_result",
          "data": {
            "text/plain": [
              "BaggingClassifier(base_estimator=RandomForestClassifier(bootstrap=False,\n",
              "                                                        ccp_alpha=0.0,\n",
              "                                                        class_weight='balanced_subsample',\n",
              "                                                        criterion='entropy',\n",
              "                                                        max_depth=None,\n",
              "                                                        max_features='auto',\n",
              "                                                        max_leaf_nodes=None,\n",
              "                                                        max_samples=None,\n",
              "                                                        min_impurity_decrease=0.0,\n",
              "                                                        min_impurity_split=None,\n",
              "                                                        min_samples_leaf=1,\n",
              "                                                        min_samples_split=2,\n",
              "                                                        min_weight_fraction_leaf=0.0,\n",
              "                                                        n_estimators=1,\n",
              "                                                        n_jobs=None,\n",
              "                                                        oob_score=False,\n",
              "                                                        random_state=None,\n",
              "                                                        verbose=0,\n",
              "                                                        warm_start=False),\n",
              "                  bootstrap=True, bootstrap_features=False, max_features=1,\n",
              "                  max_samples=0.5885033374242572, n_estimators=1000,\n",
              "                  n_jobs=None, oob_score=False, random_state=None, verbose=0,\n",
              "                  warm_start=False)"
            ]
          },
          "metadata": {
            "tags": []
          },
          "execution_count": 63
        }
      ]
    },
    {
      "cell_type": "code",
      "metadata": {
        "id": "zq1n0S81P4ue",
        "colab_type": "code",
        "outputId": "a5223339-0484-47dc-b491-67d815ac2d24",
        "colab": {
          "base_uri": "https://localhost:8080/",
          "height": 55
        }
      },
      "source": [
        "'''parameters = {'max_depth':[2, 3, 5, 7],\n",
        "              'n_estimators':[100, 512, 1000]}\n",
        "#hyper-parameter tuning\n",
        "\n",
        "rf = RandomForestClassifier(criterion='entropy',max_samples=max_samples, class_weight='balanced_subsample')\n",
        "clf = GridSearchCV(rf, parameters, cv=3, n_jobs=3)\n",
        "clf.fit(X_train, y_train.values.ravel())'''"
      ],
      "execution_count": 64,
      "outputs": [
        {
          "output_type": "execute_result",
          "data": {
            "text/plain": [
              "\"parameters = {'max_depth':[2, 3, 5, 7],\\n              'n_estimators':[100, 512, 1000]}\\n#hyper-parameter tuning\\n\\nrf = RandomForestClassifier(criterion='entropy',max_samples=max_samples, class_weight='balanced_subsample')\\nclf = GridSearchCV(rf, parameters, cv=3, n_jobs=3)\\nclf.fit(X_train, y_train.values.ravel())\""
            ]
          },
          "metadata": {
            "tags": []
          },
          "execution_count": 64
        }
      ]
    },
    {
      "cell_type": "code",
      "metadata": {
        "id": "sp2rqWvWWynv",
        "colab_type": "code",
        "colab": {}
      },
      "source": [
        "#clf.best_estimator_"
      ],
      "execution_count": 0,
      "outputs": []
    },
    {
      "cell_type": "markdown",
      "metadata": {
        "id": "andA9X9gTNqb",
        "colab_type": "text"
      },
      "source": [
        "#### Train metrics - RF"
      ]
    },
    {
      "cell_type": "code",
      "metadata": {
        "id": "7KNvBiDMTcme",
        "colab_type": "code",
        "colab": {}
      },
      "source": [
        "y_pred_prob_0 = clf1.predict_proba(X_train)[:, 1]\n",
        "y_pred_0 = clf1.predict(X_train)"
      ],
      "execution_count": 0,
      "outputs": []
    },
    {
      "cell_type": "code",
      "metadata": {
        "id": "HmRhNAvyyUQj",
        "colab_type": "code",
        "colab": {}
      },
      "source": [
        "rf_disp = plot_roc_curve(clf1, X_train, y_train)\n",
        "plt.plot([0, 1], [0, 1], 'k--')\n",
        "plt.show()"
      ],
      "execution_count": 0,
      "outputs": []
    },
    {
      "cell_type": "code",
      "metadata": {
        "id": "qx459WLCTVnW",
        "colab_type": "code",
        "outputId": "dce9322b-4dc0-4adb-b9d7-2333b84125d4",
        "colab": {
          "base_uri": "https://localhost:8080/",
          "height": 235
        }
      },
      "source": [
        "print(classification_report(y_train, y_pred_0))\n",
        "\n",
        "print(\"Accuracy = \", accuracy_score(y_train, y_pred_0))\n",
        "print('')\n",
        "print(\"Confusion Matrix\")\n",
        "mat = confusion_matrix(y_train, y_pred_0)\n",
        "sns.heatmap(mat , annot=True)\n",
        "plt.xlabel('predicted label')\n",
        "plt.ylabel('true label');"
      ],
      "execution_count": 68,
      "outputs": [
        {
          "output_type": "stream",
          "text": [
            "              precision    recall  f1-score   support\n",
            "\n",
            "           0       1.00      1.00      1.00       841\n",
            "           1       1.00      1.00      1.00       536\n",
            "\n",
            "    accuracy                           1.00      1377\n",
            "   macro avg       1.00      1.00      1.00      1377\n",
            "weighted avg       1.00      1.00      1.00      1377\n",
            "\n",
            "Accuracy =  0.9992737835875091\n",
            "\n",
            "Confusion Matrix\n"
          ],
          "name": "stdout"
        }
      ]
    },
    {
      "cell_type": "markdown",
      "metadata": {
        "id": "vyWs38pMwpkE",
        "colab_type": "text"
      },
      "source": [
        "#### Test metrics -RF"
      ]
    },
    {
      "cell_type": "code",
      "metadata": {
        "id": "G9oD2-KeZSd9",
        "colab_type": "code",
        "colab": {}
      },
      "source": [
        "y_pred = clf1.predict(X_test)\n",
        "y_pred_prob = clf1.predict_proba(X_test)[:, 1]"
      ],
      "execution_count": 0,
      "outputs": []
    },
    {
      "cell_type": "code",
      "metadata": {
        "id": "UQKHmmsd0e3F",
        "colab_type": "code",
        "colab": {}
      },
      "source": [
        "rf_disp = plot_roc_curve(clf1, X_test, y_test)\n",
        "plt.plot([0, 1], [0, 1], 'k--')\n",
        "plt.show();"
      ],
      "execution_count": 0,
      "outputs": []
    },
    {
      "cell_type": "code",
      "metadata": {
        "id": "9dkg01-O5yWR",
        "colab_type": "code",
        "outputId": "8f21327a-d72e-4e14-fc5d-5d947670d027",
        "colab": {
          "base_uri": "https://localhost:8080/",
          "height": 235
        }
      },
      "source": [
        "print(classification_report(y_test, y_pred))\n",
        "\n",
        "print(\"Accuracy = \", accuracy_score(y_test, y_pred))\n",
        "print('')\n",
        "print(\"Confusion Matrix\")\n",
        "mat = confusion_matrix(y_test, y_pred)\n",
        "sns.heatmap(mat , annot=True)\n",
        "plt.xlabel('predicted label')\n",
        "plt.ylabel('true label');"
      ],
      "execution_count": 71,
      "outputs": [
        {
          "output_type": "stream",
          "text": [
            "              precision    recall  f1-score   support\n",
            "\n",
            "           0       0.54      0.85      0.66       486\n",
            "           1       0.51      0.17      0.26       432\n",
            "\n",
            "    accuracy                           0.53       918\n",
            "   macro avg       0.53      0.51      0.46       918\n",
            "weighted avg       0.53      0.53      0.47       918\n",
            "\n",
            "Accuracy =  0.5337690631808278\n",
            "\n",
            "Confusion Matrix\n"
          ],
          "name": "stdout"
        }
      ]
    },
    {
      "cell_type": "markdown",
      "metadata": {
        "id": "NjGS3Zfrto_0",
        "colab_type": "text"
      },
      "source": [
        "### 2nd - SVC"
      ]
    },
    {
      "cell_type": "markdown",
      "metadata": {
        "id": "9OEYoB_cNwkq",
        "colab_type": "text"
      },
      "source": [
        "이전 버전으로 보시오."
      ]
    },
    {
      "cell_type": "markdown",
      "metadata": {
        "id": "OC5-_zZlHNKm",
        "colab_type": "text"
      },
      "source": [
        "### 3rd - Boosting"
      ]
    },
    {
      "cell_type": "markdown",
      "metadata": {
        "id": "civJlW_XN2MV",
        "colab_type": "text"
      },
      "source": [
        "이전 버전을 보시오."
      ]
    },
    {
      "cell_type": "markdown",
      "metadata": {
        "id": "pUmsGwGV6euL",
        "colab_type": "text"
      },
      "source": [
        "## 5. Bet Sizing"
      ]
    },
    {
      "cell_type": "markdown",
      "metadata": {
        "id": "U3aIzcOEaS68",
        "colab_type": "text"
      },
      "source": [
        "When num_classes = 2,\n",
        "\n"
      ]
    },
    {
      "cell_type": "markdown",
      "metadata": {
        "id": "wcw4-NlkVg0p",
        "colab_type": "text"
      },
      "source": [
        "$$ z=\\frac{p[x=1]−\\frac{1}{2}}{\\sqrt{p[x=1](1−p[x=1])}} $$\n",
        "\n",
        "$$ m=2Z[z]−1 $$"
      ]
    },
    {
      "cell_type": "code",
      "metadata": {
        "id": "KkZB80jPaoG8",
        "colab_type": "code",
        "colab": {}
      },
      "source": [
        "import scipy.stats as ss\n",
        "p = np.linspace(0.001,1,1000,endpoint=False)\n",
        "z = (p-0.5)/(np.sqrt(p*(1-p)))\n",
        "Z_z = ss.norm.cdf(z)\n",
        "m = (2 * Z_z -1) # np.sign(x)=1 always? increasing function\n",
        "plt.plot(p,m)\n",
        "plt.xlabel('p');\n",
        "plt.ylabel('m:betting size');"
      ],
      "execution_count": 0,
      "outputs": []
    },
    {
      "cell_type": "code",
      "metadata": {
        "id": "zUfHMzWr78ar",
        "colab_type": "code",
        "colab": {}
      },
      "source": [
        "from mlfinlab import bet_sizing as bs"
      ],
      "execution_count": 0,
      "outputs": []
    },
    {
      "cell_type": "code",
      "metadata": {
        "id": "HBRzgVhM6g5j",
        "colab_type": "code",
        "colab": {}
      },
      "source": [
        "p_rf = y_pred_prob # from RF (secondary model)\n",
        "#p = y_pred_prob_svc # from SVM\n",
        "#p_gbc = y_pred_prob_gbc # from Gradient Boosting"
      ],
      "execution_count": 0,
      "outputs": []
    },
    {
      "cell_type": "code",
      "metadata": {
        "id": "75bIPHHR7UUo",
        "colab_type": "code",
        "outputId": "8f41a5ee-2223-4f9b-c425-adfa9be7fb86",
        "colab": {
          "base_uri": "https://localhost:8080/",
          "height": 407
        }
      },
      "source": [
        "new_data = y_test.copy()\n",
        "new_data['bin_pred_rf'] = y_pred\n",
        "#new_data['bin_pred_gbc'] = y_pred_gbc\n",
        "#new_data['p_gbc'] = p_gbc\n",
        "new_data['p_rf'] = p_rf\n",
        "new_data"
      ],
      "execution_count": 217,
      "outputs": [
        {
          "output_type": "execute_result",
          "data": {
            "text/html": [
              "<div>\n",
              "<style scoped>\n",
              "    .dataframe tbody tr th:only-of-type {\n",
              "        vertical-align: middle;\n",
              "    }\n",
              "\n",
              "    .dataframe tbody tr th {\n",
              "        vertical-align: top;\n",
              "    }\n",
              "\n",
              "    .dataframe thead th {\n",
              "        text-align: right;\n",
              "    }\n",
              "</style>\n",
              "<table border=\"1\" class=\"dataframe\">\n",
              "  <thead>\n",
              "    <tr style=\"text-align: right;\">\n",
              "      <th></th>\n",
              "      <th>bin</th>\n",
              "      <th>bin_pred_rf</th>\n",
              "      <th>p_rf</th>\n",
              "    </tr>\n",
              "  </thead>\n",
              "  <tbody>\n",
              "    <tr>\n",
              "      <th>2015-08-24 15:45:59</th>\n",
              "      <td>1</td>\n",
              "      <td>0</td>\n",
              "      <td>0.394455</td>\n",
              "    </tr>\n",
              "    <tr>\n",
              "      <th>2015-08-24 15:46:26</th>\n",
              "      <td>1</td>\n",
              "      <td>0</td>\n",
              "      <td>0.439455</td>\n",
              "    </tr>\n",
              "    <tr>\n",
              "      <th>2015-08-25 09:30:10</th>\n",
              "      <td>1</td>\n",
              "      <td>0</td>\n",
              "      <td>0.262455</td>\n",
              "    </tr>\n",
              "    <tr>\n",
              "      <th>2015-08-25 09:31:13</th>\n",
              "      <td>1</td>\n",
              "      <td>0</td>\n",
              "      <td>0.385455</td>\n",
              "    </tr>\n",
              "    <tr>\n",
              "      <th>2015-08-25 09:35:31</th>\n",
              "      <td>0</td>\n",
              "      <td>0</td>\n",
              "      <td>0.339455</td>\n",
              "    </tr>\n",
              "    <tr>\n",
              "      <th>...</th>\n",
              "      <td>...</td>\n",
              "      <td>...</td>\n",
              "      <td>...</td>\n",
              "    </tr>\n",
              "    <tr>\n",
              "      <th>2019-06-12 10:31:07</th>\n",
              "      <td>1</td>\n",
              "      <td>1</td>\n",
              "      <td>0.518953</td>\n",
              "    </tr>\n",
              "    <tr>\n",
              "      <th>2019-06-13 09:47:27</th>\n",
              "      <td>1</td>\n",
              "      <td>0</td>\n",
              "      <td>0.411191</td>\n",
              "    </tr>\n",
              "    <tr>\n",
              "      <th>2019-06-13 10:07:58</th>\n",
              "      <td>0</td>\n",
              "      <td>1</td>\n",
              "      <td>0.508191</td>\n",
              "    </tr>\n",
              "    <tr>\n",
              "      <th>2019-06-18 09:39:42</th>\n",
              "      <td>0</td>\n",
              "      <td>0</td>\n",
              "      <td>0.493191</td>\n",
              "    </tr>\n",
              "    <tr>\n",
              "      <th>2019-06-18 09:48:55</th>\n",
              "      <td>0</td>\n",
              "      <td>0</td>\n",
              "      <td>0.447191</td>\n",
              "    </tr>\n",
              "  </tbody>\n",
              "</table>\n",
              "<p>918 rows × 3 columns</p>\n",
              "</div>"
            ],
            "text/plain": [
              "                     bin  bin_pred_rf      p_rf\n",
              "2015-08-24 15:45:59    1            0  0.394455\n",
              "2015-08-24 15:46:26    1            0  0.439455\n",
              "2015-08-25 09:30:10    1            0  0.262455\n",
              "2015-08-25 09:31:13    1            0  0.385455\n",
              "2015-08-25 09:35:31    0            0  0.339455\n",
              "...                  ...          ...       ...\n",
              "2019-06-12 10:31:07    1            1  0.518953\n",
              "2019-06-13 09:47:27    1            0  0.411191\n",
              "2019-06-13 10:07:58    0            1  0.508191\n",
              "2019-06-18 09:39:42    0            0  0.493191\n",
              "2019-06-18 09:48:55    0            0  0.447191\n",
              "\n",
              "[918 rows x 3 columns]"
            ]
          },
          "metadata": {
            "tags": []
          },
          "execution_count": 217
        }
      ]
    },
    {
      "cell_type": "code",
      "metadata": {
        "id": "XcNyLMBr6yFU",
        "colab_type": "code",
        "colab": {}
      },
      "source": [
        "# test에 맞추자\n",
        "new_events = events.loc[new_data.index]\n",
        "bs_df = pd.concat([new_events, new_data],axis=1)"
      ],
      "execution_count": 0,
      "outputs": []
    },
    {
      "cell_type": "code",
      "metadata": {
        "id": "lqyt-EMU8QZZ",
        "colab_type": "code",
        "outputId": "0465f8e7-cae3-415c-eca5-11d349963add",
        "colab": {
          "base_uri": "https://localhost:8080/",
          "height": 407
        }
      },
      "source": [
        "bs_df"
      ],
      "execution_count": 219,
      "outputs": [
        {
          "output_type": "execute_result",
          "data": {
            "text/html": [
              "<div>\n",
              "<style scoped>\n",
              "    .dataframe tbody tr th:only-of-type {\n",
              "        vertical-align: middle;\n",
              "    }\n",
              "\n",
              "    .dataframe tbody tr th {\n",
              "        vertical-align: top;\n",
              "    }\n",
              "\n",
              "    .dataframe thead th {\n",
              "        text-align: right;\n",
              "    }\n",
              "</style>\n",
              "<table border=\"1\" class=\"dataframe\">\n",
              "  <thead>\n",
              "    <tr style=\"text-align: right;\">\n",
              "      <th></th>\n",
              "      <th>t1</th>\n",
              "      <th>trgt</th>\n",
              "      <th>side</th>\n",
              "      <th>pt</th>\n",
              "      <th>sl</th>\n",
              "      <th>bin</th>\n",
              "      <th>bin_pred_rf</th>\n",
              "      <th>p_rf</th>\n",
              "    </tr>\n",
              "  </thead>\n",
              "  <tbody>\n",
              "    <tr>\n",
              "      <th>2015-08-24 15:45:59</th>\n",
              "      <td>2015-08-24 15:49:57</td>\n",
              "      <td>0.007838</td>\n",
              "      <td>-1.0</td>\n",
              "      <td>1</td>\n",
              "      <td>2</td>\n",
              "      <td>1</td>\n",
              "      <td>0</td>\n",
              "      <td>0.394455</td>\n",
              "    </tr>\n",
              "    <tr>\n",
              "      <th>2015-08-24 15:46:26</th>\n",
              "      <td>2015-08-24 15:58:26</td>\n",
              "      <td>0.007942</td>\n",
              "      <td>-1.0</td>\n",
              "      <td>1</td>\n",
              "      <td>2</td>\n",
              "      <td>1</td>\n",
              "      <td>0</td>\n",
              "      <td>0.439455</td>\n",
              "    </tr>\n",
              "    <tr>\n",
              "      <th>2015-08-25 09:30:10</th>\n",
              "      <td>2015-08-25 13:26:25</td>\n",
              "      <td>0.014719</td>\n",
              "      <td>-1.0</td>\n",
              "      <td>1</td>\n",
              "      <td>2</td>\n",
              "      <td>1</td>\n",
              "      <td>0</td>\n",
              "      <td>0.262455</td>\n",
              "    </tr>\n",
              "    <tr>\n",
              "      <th>2015-08-25 09:31:13</th>\n",
              "      <td>2015-08-25 15:47:22</td>\n",
              "      <td>0.032742</td>\n",
              "      <td>-1.0</td>\n",
              "      <td>1</td>\n",
              "      <td>2</td>\n",
              "      <td>1</td>\n",
              "      <td>0</td>\n",
              "      <td>0.385455</td>\n",
              "    </tr>\n",
              "    <tr>\n",
              "      <th>2015-08-25 09:35:31</th>\n",
              "      <td>2015-08-26 09:36:28</td>\n",
              "      <td>0.041236</td>\n",
              "      <td>-1.0</td>\n",
              "      <td>1</td>\n",
              "      <td>2</td>\n",
              "      <td>0</td>\n",
              "      <td>0</td>\n",
              "      <td>0.339455</td>\n",
              "    </tr>\n",
              "    <tr>\n",
              "      <th>...</th>\n",
              "      <td>...</td>\n",
              "      <td>...</td>\n",
              "      <td>...</td>\n",
              "      <td>...</td>\n",
              "      <td>...</td>\n",
              "      <td>...</td>\n",
              "      <td>...</td>\n",
              "      <td>...</td>\n",
              "    </tr>\n",
              "    <tr>\n",
              "      <th>2019-06-12 10:31:07</th>\n",
              "      <td>2019-06-13 09:36:29</td>\n",
              "      <td>0.004624</td>\n",
              "      <td>1.0</td>\n",
              "      <td>1</td>\n",
              "      <td>2</td>\n",
              "      <td>1</td>\n",
              "      <td>1</td>\n",
              "      <td>0.518953</td>\n",
              "    </tr>\n",
              "    <tr>\n",
              "      <th>2019-06-13 09:47:27</th>\n",
              "      <td>2019-06-13 11:09:28</td>\n",
              "      <td>0.003545</td>\n",
              "      <td>-1.0</td>\n",
              "      <td>1</td>\n",
              "      <td>2</td>\n",
              "      <td>1</td>\n",
              "      <td>0</td>\n",
              "      <td>0.411191</td>\n",
              "    </tr>\n",
              "    <tr>\n",
              "      <th>2019-06-13 10:07:58</th>\n",
              "      <td>2019-06-14 10:08:37</td>\n",
              "      <td>0.003626</td>\n",
              "      <td>-1.0</td>\n",
              "      <td>1</td>\n",
              "      <td>2</td>\n",
              "      <td>0</td>\n",
              "      <td>1</td>\n",
              "      <td>0.508191</td>\n",
              "    </tr>\n",
              "    <tr>\n",
              "      <th>2019-06-18 09:39:42</th>\n",
              "      <td>2019-06-19 09:42:00</td>\n",
              "      <td>0.004532</td>\n",
              "      <td>-1.0</td>\n",
              "      <td>1</td>\n",
              "      <td>2</td>\n",
              "      <td>0</td>\n",
              "      <td>0</td>\n",
              "      <td>0.493191</td>\n",
              "    </tr>\n",
              "    <tr>\n",
              "      <th>2019-06-18 09:48:55</th>\n",
              "      <td>2019-06-19 09:54:13</td>\n",
              "      <td>0.005826</td>\n",
              "      <td>-1.0</td>\n",
              "      <td>1</td>\n",
              "      <td>2</td>\n",
              "      <td>0</td>\n",
              "      <td>0</td>\n",
              "      <td>0.447191</td>\n",
              "    </tr>\n",
              "  </tbody>\n",
              "</table>\n",
              "<p>918 rows × 8 columns</p>\n",
              "</div>"
            ],
            "text/plain": [
              "                                     t1      trgt  ...  bin_pred_rf      p_rf\n",
              "2015-08-24 15:45:59 2015-08-24 15:49:57  0.007838  ...            0  0.394455\n",
              "2015-08-24 15:46:26 2015-08-24 15:58:26  0.007942  ...            0  0.439455\n",
              "2015-08-25 09:30:10 2015-08-25 13:26:25  0.014719  ...            0  0.262455\n",
              "2015-08-25 09:31:13 2015-08-25 15:47:22  0.032742  ...            0  0.385455\n",
              "2015-08-25 09:35:31 2015-08-26 09:36:28  0.041236  ...            0  0.339455\n",
              "...                                 ...       ...  ...          ...       ...\n",
              "2019-06-12 10:31:07 2019-06-13 09:36:29  0.004624  ...            1  0.518953\n",
              "2019-06-13 09:47:27 2019-06-13 11:09:28  0.003545  ...            0  0.411191\n",
              "2019-06-13 10:07:58 2019-06-14 10:08:37  0.003626  ...            1  0.508191\n",
              "2019-06-18 09:39:42 2019-06-19 09:42:00  0.004532  ...            0  0.493191\n",
              "2019-06-18 09:48:55 2019-06-19 09:54:13  0.005826  ...            0  0.447191\n",
              "\n",
              "[918 rows x 8 columns]"
            ]
          },
          "metadata": {
            "tags": []
          },
          "execution_count": 219
        }
      ]
    },
    {
      "cell_type": "code",
      "metadata": {
        "id": "n2ei_4N38huh",
        "colab_type": "code",
        "outputId": "296e35dc-b3bf-432e-b714-dc31c4974f9a",
        "colab": {
          "base_uri": "https://localhost:8080/",
          "height": 235
        }
      },
      "source": [
        "m_prob_rf = bs.bet_size_probability(events = bs_df[['t1']], prob = bs_df.p_rf, num_classes=2, num_threads=3, pred=bs_df.side)\n",
        "m_prob_rf"
      ],
      "execution_count": 220,
      "outputs": [
        {
          "output_type": "execute_result",
          "data": {
            "text/plain": [
              "2015-08-24 15:45:59    0.170978\n",
              "2015-08-24 15:46:26    0.097091\n",
              "2015-08-25 09:30:10    0.410743\n",
              "2015-08-25 09:31:13    0.186062\n",
              "2015-08-25 09:35:31    0.265422\n",
              "                         ...   \n",
              "2019-06-12 10:31:07    0.030259\n",
              "2019-06-13 09:47:27    0.143231\n",
              "2019-06-13 10:07:58   -0.013071\n",
              "2019-06-18 09:39:42    0.010867\n",
              "2019-06-18 09:48:55    0.084587\n",
              "Name: signal, Length: 918, dtype: float64"
            ]
          },
          "metadata": {
            "tags": []
          },
          "execution_count": 220
        }
      ]
    },
    {
      "cell_type": "code",
      "metadata": {
        "id": "rXNo0o9X-Ngn",
        "colab_type": "code",
        "colab": {
          "base_uri": "https://localhost:8080/",
          "height": 248
        },
        "outputId": "359fa586-2d15-443f-85bd-4606f5cd1223"
      },
      "source": [
        "import matplotlib as mpl\n",
        "from mpl_toolkits.mplot3d import Axes3D\n",
        "\n",
        "fig = plt.figure()\t\t\t\t\t\t\t\n",
        "ax = fig.gca(projection='3d')\n",
        "ax.scatter(bs_df.side,bs_df.p_rf, m_prob_rf)\t\t\t\t\t\t\t\t\t\n",
        "\n",
        "plt.show()"
      ],
      "execution_count": 221,
      "outputs": [
        {
          "output_type": "display_data",
          "data": {
            "image/png": "[encoded data removed]",
            "text/plain": [
              "<Figure size 432x288 with 1 Axes>"
            ]
          },
          "metadata": {
            "tags": []
          }
        }
      ]
    },
    {
      "cell_type": "markdown",
      "metadata": {
        "id": "KvmeDg5u9Qhl",
        "colab_type": "text"
      },
      "source": [
        "average"
      ]
    },
    {
      "cell_type": "code",
      "metadata": {
        "id": "CWBHmphD9Tdq",
        "colab_type": "code",
        "outputId": "f5db8f55-1b41-41ca-bfb5-3d06151df0ff",
        "colab": {
          "base_uri": "https://localhost:8080/",
          "height": 254
        }
      },
      "source": [
        "m_prob_avg_rf = bs.bet_size_probability(events = bs_df[['t1']], prob = bs_df.p_rf, num_classes=2, num_threads=3, average_active=True, pred=bs_df.side)\n",
        "m_prob_avg_rf = m_prob_avg_rf.loc[bs_df.index]\n",
        "m_prob_avg_rf"
      ],
      "execution_count": 222,
      "outputs": [
        {
          "output_type": "stream",
          "text": [
            "2020-02-01 14:47:24.487929 33.33% mp_avg_active_signals done after 0.06 minutes. Remaining 0.12 minutes.\r2020-02-01 14:47:24.630432 66.67% mp_avg_active_signals done after 0.06 minutes. Remaining 0.03 minutes.\r2020-02-01 14:47:24.945637 100.0% mp_avg_active_signals done after 0.07 minutes. Remaining 0.0 minutes.\n"
          ],
          "name": "stderr"
        },
        {
          "output_type": "execute_result",
          "data": {
            "text/plain": [
              "2015-08-24 15:45:59    0.170978\n",
              "2015-08-24 15:46:26    0.134035\n",
              "2015-08-25 09:30:10    0.410743\n",
              "2015-08-25 09:31:13    0.298403\n",
              "2015-08-25 09:35:31    0.287409\n",
              "                         ...   \n",
              "2019-06-12 10:31:07    0.030259\n",
              "2019-06-13 09:47:27    0.143231\n",
              "2019-06-13 10:07:58    0.065080\n",
              "2019-06-18 09:39:42    0.010867\n",
              "2019-06-18 09:48:55    0.047727\n",
              "Length: 918, dtype: float64"
            ]
          },
          "metadata": {
            "tags": []
          },
          "execution_count": 222
        }
      ]
    },
    {
      "cell_type": "code",
      "metadata": {
        "id": "6iHplGv6ef_f",
        "colab_type": "code",
        "outputId": "30ee189b-3d83-4ef6-b1d4-e2241880be67",
        "colab": {
          "base_uri": "https://localhost:8080/",
          "height": 248
        }
      },
      "source": [
        "fig = plt.figure()\t\t\t\t\t\t\t\n",
        "ax = fig.gca(projection='3d')\n",
        "ax.scatter(bs_df.side,bs_df.p_rf, m_prob_avg_rf)\t\t\t\t\t\t\t\t\t\n",
        "\n",
        "plt.show()"
      ],
      "execution_count": 223,
      "outputs": [
        {
          "output_type": "display_data",
          "data": {
            "image/png": "[encoded data removed]",
            "text/plain": [
              "<Figure size 432x288 with 1 Axes>"
            ]
          },
          "metadata": {
            "tags": []
          }
        }
      ]
    },
    {
      "cell_type": "markdown",
      "metadata": {
        "id": "qVOn6vVtK7ui",
        "colab_type": "text"
      },
      "source": [
        "discrete"
      ]
    },
    {
      "cell_type": "code",
      "metadata": {
        "id": "AArwEUGZ9USQ",
        "colab_type": "code",
        "outputId": "af814271-5a03-4836-c270-6d468b198ab3",
        "colab": {
          "base_uri": "https://localhost:8080/",
          "height": 254
        }
      },
      "source": [
        "m_prob_discrete_rf = bs.bet_size_probability(events = bs_df[['t1']], prob = bs_df.p_rf, num_classes=2,pred=bs_df.side, num_threads=3, average_active=True, step_size=0.01)\n",
        "m_prob_discrete_rf = m_prob_discrete_rf.loc[bs_df.index]\n",
        "m_prob_discrete_rf"
      ],
      "execution_count": 224,
      "outputs": [
        {
          "output_type": "stream",
          "text": [
            "2020-02-01 14:47:29.025683 33.33% mp_avg_active_signals done after 0.06 minutes. Remaining 0.12 minutes.\r2020-02-01 14:47:29.039245 66.67% mp_avg_active_signals done after 0.06 minutes. Remaining 0.03 minutes.\r2020-02-01 14:47:29.248151 100.0% mp_avg_active_signals done after 0.06 minutes. Remaining 0.0 minutes.\n"
          ],
          "name": "stderr"
        },
        {
          "output_type": "execute_result",
          "data": {
            "text/plain": [
              "2015-08-24 15:45:59    0.17\n",
              "2015-08-24 15:46:26    0.13\n",
              "2015-08-25 09:30:10    0.41\n",
              "2015-08-25 09:31:13    0.30\n",
              "2015-08-25 09:35:31    0.29\n",
              "                       ... \n",
              "2019-06-12 10:31:07    0.03\n",
              "2019-06-13 09:47:27    0.14\n",
              "2019-06-13 10:07:58    0.07\n",
              "2019-06-18 09:39:42    0.01\n",
              "2019-06-18 09:48:55    0.05\n",
              "Length: 918, dtype: float64"
            ]
          },
          "metadata": {
            "tags": []
          },
          "execution_count": 224
        }
      ]
    },
    {
      "cell_type": "code",
      "metadata": {
        "id": "WKWyZd1belRX",
        "colab_type": "code",
        "outputId": "8b2baee7-fa53-463a-a98a-f9b500e72e7a",
        "colab": {
          "base_uri": "https://localhost:8080/",
          "height": 248
        }
      },
      "source": [
        "fig = plt.figure()\t\t\t\t\t\t\t\n",
        "ax = fig.gca(projection='3d')\n",
        "ax.scatter(bs_df.side,bs_df.p_rf, m_prob_discrete_rf)\t\t\t\t\t\t\t\t\t\n",
        "\n",
        "plt.show()"
      ],
      "execution_count": 225,
      "outputs": [
        {
          "output_type": "display_data",
          "data": {
            "image/png": "[encoded data removed]",
            "text/plain": [
              "<Figure size 432x288 with 1 Axes>"
            ]
          },
          "metadata": {
            "tags": []
          }
        }
      ]
    },
    {
      "cell_type": "code",
      "metadata": {
        "id": "4jvlb-wNBWY7",
        "colab_type": "code",
        "colab": {}
      },
      "source": [
        "bet_sizes_rf = pd.DataFrame({'m_rf':m_prob_rf,'m_avg_rf':m_prob_avg_rf,'m_dis_rf':m_prob_discrete_rf})\n",
        "#bet_sizes_gbc = pd.DataFrame({'m_gb':m_prob_gbc,'m_avg_gb':m_prob_avg_gbc,'m_dis_gb':m_prob_discrete_gbc})"
      ],
      "execution_count": 0,
      "outputs": []
    },
    {
      "cell_type": "code",
      "metadata": {
        "id": "PIxxpT-hB0KH",
        "colab_type": "code",
        "colab": {
          "base_uri": "https://localhost:8080/",
          "height": 412
        },
        "outputId": "35ab1e87-9e6c-438a-a3e2-0e3c3a2272d5"
      },
      "source": [
        "fig, ax = plt.subplots(figsize=(10,6))\n",
        "ax.plot(bet_sizes_rf[-100:])\n",
        "ax.legend(labels=bet_sizes_rf.columns,loc='upper left', fontsize=12, title=\"Bet size type\", title_fontsize=10)\n",
        "ax.set_title(\"Bet Size 100 points\", fontsize=14)"
      ],
      "execution_count": 227,
      "outputs": [
        {
          "output_type": "execute_result",
          "data": {
            "text/plain": [
              "Text(0.5, 1.0, 'Bet Size 100 points')"
            ]
          },
          "metadata": {
            "tags": []
          },
          "execution_count": 227
        },
        {
          "output_type": "display_data",
          "data": {
            "image/png": "[encoded data removed]",
            "text/plain": [
              "<Figure size 720x432 with 1 Axes>"
            ]
          },
          "metadata": {
            "tags": []
          }
        }
      ]
    },
    {
      "cell_type": "code",
      "metadata": {
        "id": "AqzCsr65DZJA",
        "colab_type": "code",
        "colab": {
          "base_uri": "https://localhost:8080/",
          "height": 432
        },
        "outputId": "a955736c-6250-406e-92db-3fbeb9949f64"
      },
      "source": [
        "fig, ax = plt.subplots(figsize=(10,6))\n",
        "for c in ['m_rf','m_avg_rf','m_dis_rf']:\n",
        "    ax.hist(bet_sizes_rf[c],  label=c, alpha=0.4, bins=100)\n",
        "ax.legend(loc='upper left', fontsize=12, title=\"Bet size type\", title_fontsize=10)\n",
        "ax.set_xlabel(\"Bet Size, $m_t$\", fontsize=12)\n",
        "ax.set_ylabel(\"Value count\", fontsize=12)\n",
        "ax.set_title(\"Bet Size Distribution RF\", fontsize=14)"
      ],
      "execution_count": 228,
      "outputs": [
        {
          "output_type": "execute_result",
          "data": {
            "text/plain": [
              "Text(0.5, 1.0, 'Bet Size Distribution RF')"
            ]
          },
          "metadata": {
            "tags": []
          },
          "execution_count": 228
        },
        {
          "output_type": "display_data",
          "data": {
            "image/png": "[encoded data removed]",
            "text/plain": [
              "<Figure size 720x432 with 1 Axes>"
            ]
          },
          "metadata": {
            "tags": []
          }
        }
      ]
    },
    {
      "cell_type": "code",
      "metadata": {
        "id": "3e804ZRgOnnr",
        "colab_type": "code",
        "colab": {
          "base_uri": "https://localhost:8080/",
          "height": 290
        },
        "outputId": "4083f740-f0c7-445f-863b-508325e3638f"
      },
      "source": [
        "m_reserve = bs.bet_sizing.bet_size_reserve(events_t1=bs_df['t1'], sides=bs_df.side, return_parameters=True, fit_runs=25)\n",
        "print(m_reserve[0])\n",
        "print('Parameters are ',m_reserve[1])"
      ],
      "execution_count": 232,
      "outputs": [
        {
          "output_type": "stream",
          "text": [
            "|#########################| Completed 25 of 25 fitting rounds."
          ],
          "name": "stderr"
        },
        {
          "output_type": "stream",
          "text": [
            "                                     t1  side  ...  c_t  bet_size\n",
            "2015-08-24 15:45:59 2015-08-24 15:49:57  -1.0  ...   -1 -0.401315\n",
            "2015-08-24 15:46:26 2015-08-24 15:58:26  -1.0  ...   -2 -0.732590\n",
            "2015-08-25 09:30:10 2015-08-25 13:26:25  -1.0  ...   -1 -0.401315\n",
            "2015-08-25 09:31:13 2015-08-25 15:47:22  -1.0  ...   -2 -0.732590\n",
            "2015-08-25 09:35:31 2015-08-26 09:36:28  -1.0  ...   -3 -0.935450\n",
            "...                                 ...   ...  ...  ...       ...\n",
            "2019-06-12 10:31:07 2019-06-13 09:36:29   1.0  ...    1  0.356361\n",
            "2019-06-13 09:47:27 2019-06-13 11:09:28  -1.0  ...   -1 -0.401315\n",
            "2019-06-13 10:07:58 2019-06-14 10:08:37  -1.0  ...   -2 -0.732590\n",
            "2019-06-18 09:39:42 2019-06-19 09:42:00  -1.0  ...   -1 -0.401315\n",
            "2019-06-18 09:48:55 2019-06-19 09:54:13  -1.0  ...   -2 -0.732590\n",
            "\n",
            "[918 rows x 6 columns]\n",
            "Parameters are  {'mu_1': -1.86634, 'mu_2': 0.8581, 'sigma_1': 0.93868, 'sigma_2': 1.52161, 'p_1': 0.20301}\n"
          ],
          "name": "stdout"
        }
      ]
    },
    {
      "cell_type": "code",
      "metadata": {
        "id": "FUAk7cYQOgqE",
        "colab_type": "code",
        "colab": {
          "base_uri": "https://localhost:8080/",
          "height": 407
        },
        "outputId": "e851adbd-b3da-478d-9d11-e6d62777f360"
      },
      "source": [
        "m_budget = bs.bet_sizing.bet_size_budget(bs_df.t1, bs_df.side)\n",
        "m_budget"
      ],
      "execution_count": 231,
      "outputs": [
        {
          "output_type": "execute_result",
          "data": {
            "text/html": [
              "<div>\n",
              "<style scoped>\n",
              "    .dataframe tbody tr th:only-of-type {\n",
              "        vertical-align: middle;\n",
              "    }\n",
              "\n",
              "    .dataframe tbody tr th {\n",
              "        vertical-align: top;\n",
              "    }\n",
              "\n",
              "    .dataframe thead th {\n",
              "        text-align: right;\n",
              "    }\n",
              "</style>\n",
              "<table border=\"1\" class=\"dataframe\">\n",
              "  <thead>\n",
              "    <tr style=\"text-align: right;\">\n",
              "      <th></th>\n",
              "      <th>t1</th>\n",
              "      <th>side</th>\n",
              "      <th>active_long</th>\n",
              "      <th>active_short</th>\n",
              "      <th>bet_size</th>\n",
              "    </tr>\n",
              "  </thead>\n",
              "  <tbody>\n",
              "    <tr>\n",
              "      <th>2015-08-24 15:45:59</th>\n",
              "      <td>2015-08-24 15:49:57</td>\n",
              "      <td>-1.0</td>\n",
              "      <td>0</td>\n",
              "      <td>1</td>\n",
              "      <td>-0.200000</td>\n",
              "    </tr>\n",
              "    <tr>\n",
              "      <th>2015-08-24 15:46:26</th>\n",
              "      <td>2015-08-24 15:58:26</td>\n",
              "      <td>-1.0</td>\n",
              "      <td>0</td>\n",
              "      <td>2</td>\n",
              "      <td>-0.400000</td>\n",
              "    </tr>\n",
              "    <tr>\n",
              "      <th>2015-08-25 09:30:10</th>\n",
              "      <td>2015-08-25 13:26:25</td>\n",
              "      <td>-1.0</td>\n",
              "      <td>0</td>\n",
              "      <td>1</td>\n",
              "      <td>-0.200000</td>\n",
              "    </tr>\n",
              "    <tr>\n",
              "      <th>2015-08-25 09:31:13</th>\n",
              "      <td>2015-08-25 15:47:22</td>\n",
              "      <td>-1.0</td>\n",
              "      <td>0</td>\n",
              "      <td>2</td>\n",
              "      <td>-0.400000</td>\n",
              "    </tr>\n",
              "    <tr>\n",
              "      <th>2015-08-25 09:35:31</th>\n",
              "      <td>2015-08-26 09:36:28</td>\n",
              "      <td>-1.0</td>\n",
              "      <td>0</td>\n",
              "      <td>3</td>\n",
              "      <td>-0.600000</td>\n",
              "    </tr>\n",
              "    <tr>\n",
              "      <th>...</th>\n",
              "      <td>...</td>\n",
              "      <td>...</td>\n",
              "      <td>...</td>\n",
              "      <td>...</td>\n",
              "      <td>...</td>\n",
              "    </tr>\n",
              "    <tr>\n",
              "      <th>2019-06-12 10:31:07</th>\n",
              "      <td>2019-06-13 09:36:29</td>\n",
              "      <td>1.0</td>\n",
              "      <td>1</td>\n",
              "      <td>0</td>\n",
              "      <td>0.166667</td>\n",
              "    </tr>\n",
              "    <tr>\n",
              "      <th>2019-06-13 09:47:27</th>\n",
              "      <td>2019-06-13 11:09:28</td>\n",
              "      <td>-1.0</td>\n",
              "      <td>0</td>\n",
              "      <td>1</td>\n",
              "      <td>-0.200000</td>\n",
              "    </tr>\n",
              "    <tr>\n",
              "      <th>2019-06-13 10:07:58</th>\n",
              "      <td>2019-06-14 10:08:37</td>\n",
              "      <td>-1.0</td>\n",
              "      <td>0</td>\n",
              "      <td>2</td>\n",
              "      <td>-0.400000</td>\n",
              "    </tr>\n",
              "    <tr>\n",
              "      <th>2019-06-18 09:39:42</th>\n",
              "      <td>2019-06-19 09:42:00</td>\n",
              "      <td>-1.0</td>\n",
              "      <td>0</td>\n",
              "      <td>1</td>\n",
              "      <td>-0.200000</td>\n",
              "    </tr>\n",
              "    <tr>\n",
              "      <th>2019-06-18 09:48:55</th>\n",
              "      <td>2019-06-19 09:54:13</td>\n",
              "      <td>-1.0</td>\n",
              "      <td>0</td>\n",
              "      <td>2</td>\n",
              "      <td>-0.400000</td>\n",
              "    </tr>\n",
              "  </tbody>\n",
              "</table>\n",
              "<p>918 rows × 5 columns</p>\n",
              "</div>"
            ],
            "text/plain": [
              "                                     t1  side  ...  active_short  bet_size\n",
              "2015-08-24 15:45:59 2015-08-24 15:49:57  -1.0  ...             1 -0.200000\n",
              "2015-08-24 15:46:26 2015-08-24 15:58:26  -1.0  ...             2 -0.400000\n",
              "2015-08-25 09:30:10 2015-08-25 13:26:25  -1.0  ...             1 -0.200000\n",
              "2015-08-25 09:31:13 2015-08-25 15:47:22  -1.0  ...             2 -0.400000\n",
              "2015-08-25 09:35:31 2015-08-26 09:36:28  -1.0  ...             3 -0.600000\n",
              "...                                 ...   ...  ...           ...       ...\n",
              "2019-06-12 10:31:07 2019-06-13 09:36:29   1.0  ...             0  0.166667\n",
              "2019-06-13 09:47:27 2019-06-13 11:09:28  -1.0  ...             1 -0.200000\n",
              "2019-06-13 10:07:58 2019-06-14 10:08:37  -1.0  ...             2 -0.400000\n",
              "2019-06-18 09:39:42 2019-06-19 09:42:00  -1.0  ...             1 -0.200000\n",
              "2019-06-18 09:48:55 2019-06-19 09:54:13  -1.0  ...             2 -0.400000\n",
              "\n",
              "[918 rows x 5 columns]"
            ]
          },
          "metadata": {
            "tags": []
          },
          "execution_count": 231
        }
      ]
    },
    {
      "cell_type": "code",
      "metadata": {
        "id": "IzZ7hO8SO2Xb",
        "colab_type": "code",
        "colab": {}
      },
      "source": [
        "bet_sizes_others = pd.DataFrame({'mreserve':m_reserve[0].bet_size,'mbudget':m_budget.bet_size})"
      ],
      "execution_count": 0,
      "outputs": []
    },
    {
      "cell_type": "code",
      "metadata": {
        "id": "I2b0HLz3Dwia",
        "colab_type": "code",
        "colab": {}
      },
      "source": [
        "bet_sizes = pd.concat([bet_sizes_rf, bet_sizes_others], axis=1)\n",
        "data_profit = bet_sizes.copy()\n",
        "data_profit['NoSizeRF'] = (bs_df.side * bs_df.bin_pred_rf).loc[bet_sizes.index]\n",
        "#data_profit['NoSizeGB'] = (bs_df.side * bs_df.bin_pred_gbc).loc[bet_sizes.index]\n",
        "data_profit['primary'] = (bs_df.side * bs_df.bin).loc[bet_sizes.index]\n",
        "data_profit['side'] = (bs_df.side).loc[bet_sizes.index]\n",
        "data_profit['ret'] = bin.ret.loc[bet_sizes.index]\n"
      ],
      "execution_count": 0,
      "outputs": []
    },
    {
      "cell_type": "code",
      "metadata": {
        "id": "S2MCeGqiFPoA",
        "colab_type": "code",
        "colab": {
          "base_uri": "https://localhost:8080/",
          "height": 72
        },
        "outputId": "511c6d95-541d-48d6-9b23-b819e9c6f874"
      },
      "source": [
        "data_profit.columns"
      ],
      "execution_count": 243,
      "outputs": [
        {
          "output_type": "execute_result",
          "data": {
            "text/plain": [
              "Index(['m_rf', 'm_avg_rf', 'm_dis_rf', 'mreserve', 'mbudget', 'NoSizeRF',\n",
              "       'primary', 'side', 'ret'],\n",
              "      dtype='object')"
            ]
          },
          "metadata": {
            "tags": []
          },
          "execution_count": 243
        }
      ]
    },
    {
      "cell_type": "code",
      "metadata": {
        "id": "L0n3L8TQFK6T",
        "colab_type": "code",
        "colab": {}
      },
      "source": [
        "bet_profit = pd.DataFrame()\n",
        "bet_profit['ProbRF'] = data_profit.m_rf * data_profit.ret\n",
        "bet_profit['ProbAvgRF'] = data_profit.m_avg_rf * data_profit.ret\n",
        "bet_profit['ProbDiscreteRF'] = data_profit.m_dis_rf * data_profit.ret\n",
        "bet_profit['NoSizeRF'] = data_profit.NoSizeRF * data_profit.ret\n",
        "bet_profit['PrimaryLabel'] = data_profit.primary * data_profit.ret\n",
        "bet_profit['SidesOnly'] = data_profit.side * data_profit.ret\n",
        "bet_profit['Reserve'] = data_profit.mreserve * data_profit.ret\n",
        "bet_profit['Budget'] = data_profit.mbudget * data_profit.ret"
      ],
      "execution_count": 0,
      "outputs": []
    },
    {
      "cell_type": "code",
      "metadata": {
        "id": "wzY2fOkrGBKV",
        "colab_type": "code",
        "colab": {
          "base_uri": "https://localhost:8080/",
          "height": 385
        },
        "outputId": "18f71ffd-607c-45a7-bcd5-1b08e5f151d2"
      },
      "source": [
        "bet_profit.plot(figsize=(10,6))"
      ],
      "execution_count": 245,
      "outputs": [
        {
          "output_type": "execute_result",
          "data": {
            "text/plain": [
              "<matplotlib.axes._subplots.AxesSubplot at 0x7f45fcc4f748>"
            ]
          },
          "metadata": {
            "tags": []
          },
          "execution_count": 245
        },
        {
          "output_type": "display_data",
          "data": {
            "image/png": "[encoded data removed]",
            "text/plain": [
              "<Figure size 720x432 with 1 Axes>"
            ]
          },
          "metadata": {
            "tags": []
          }
        }
      ]
    },
    {
      "cell_type": "code",
      "metadata": {
        "id": "jFW_JUoJHtss",
        "colab_type": "code",
        "colab": {
          "base_uri": "https://localhost:8080/",
          "height": 385
        },
        "outputId": "e63d8c68-0a78-4dd7-c6e9-9f0ddb7b0c53"
      },
      "source": [
        "bet_profit.cumsum().plot(figsize=(10,6))"
      ],
      "execution_count": 246,
      "outputs": [
        {
          "output_type": "execute_result",
          "data": {
            "text/plain": [
              "<matplotlib.axes._subplots.AxesSubplot at 0x7f45fcb71f98>"
            ]
          },
          "metadata": {
            "tags": []
          },
          "execution_count": 246
        },
        {
          "output_type": "display_data",
          "data": {
            "image/png": "[encoded data removed]",
            "text/plain": [
              "<Figure size 720x432 with 1 Axes>"
            ]
          },
          "metadata": {
            "tags": []
          }
        }
      ]
    },
    {
      "cell_type": "code",
      "metadata": {
        "id": "OT4Fh9tpJfX_",
        "colab_type": "code",
        "colab": {}
      },
      "source": [
        "def sr(df):\n",
        "    out = []\n",
        "    for c in df.columns:\n",
        "        out.append(df[c].mean()/df[c].std())\n",
        "    i = np.argsort(out)\n",
        "    return df.columns[i]"
      ],
      "execution_count": 0,
      "outputs": []
    },
    {
      "cell_type": "code",
      "metadata": {
        "id": "aNMVSZGZM0T4",
        "colab_type": "code",
        "colab": {
          "base_uri": "https://localhost:8080/",
          "height": 72
        },
        "outputId": "8ca9b72b-8f82-49bb-ede1-f39e45e68995"
      },
      "source": [
        "print(sr(bet_profit), '순으로 Sharpe Ratio가 낮음.')"
      ],
      "execution_count": 250,
      "outputs": [
        {
          "output_type": "stream",
          "text": [
            "Index(['Reserve', 'ProbRF', 'Budget', 'SidesOnly', 'ProbDiscreteRF',\n",
            "       'ProbAvgRF', 'NoSizeRF', 'PrimaryLabel'],\n",
            "      dtype='object') 순으로 Sharpe Ratio가 낮음.\n"
          ],
          "name": "stdout"
        }
      ]
    },
    {
      "cell_type": "markdown",
      "metadata": {
        "id": "d7YIGyDtPH92",
        "colab_type": "text"
      },
      "source": [
        "# REFERENCE"
      ]
    },
    {
      "cell_type": "markdown",
      "metadata": {
        "id": "ym6rl-oGPJIT",
        "colab_type": "text"
      },
      "source": [
        "Marcos Lopez de Prado. Advances in Financial Machine Learning. Wiley, 2018\n",
        "\n",
        "https://github.com/hudson-and-thames/research"
      ]
    },
    {
      "cell_type": "markdown",
      "metadata": {
        "id": "nPcMO2z3PUCY",
        "colab_type": "text"
      },
      "source": [
        "Marcos Lopez de Prado and Matthew D. Foreman. “A mixture of Gaussians approach to mathematical portfolio oversight: the EF3M algorithm”. In: Quantitative Finance14.5 (2014), pp. 913–930."
      ]
    },
    {
      "cell_type": "markdown",
      "metadata": {
        "id": "u3TTZaHgIfPi",
        "colab_type": "text"
      },
      "source": [
        "Yakup Kara\n",
        ", Melek Acar Boyacioglu \n",
        ", Ömer Kaan Baykan. \"Predicting direction of stock price index movement using artificial neural\n",
        "networks and support vector machines: The sample of the Istanbul Stock Exchange\"\n"
      ]
    },
    {
      "cell_type": "markdown",
      "metadata": {
        "id": "PYHTGOzHrnWA",
        "colab_type": "text"
      },
      "source": [
        "https://scikit-learn.org/stable/modules/svm.html#scores-and-probabilities"
      ]
    },
    {
      "cell_type": "markdown",
      "metadata": {
        "id": "3gO72SdKRRiw",
        "colab_type": "text"
      },
      "source": [
        "s/o to mlfinlab, ta, pyfolio"
      ]
    }
  ]
}