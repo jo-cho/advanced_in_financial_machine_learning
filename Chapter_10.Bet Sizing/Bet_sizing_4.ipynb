{
  "nbformat": 4,
  "nbformat_minor": 0,
  "metadata": {
    "colab": {
      "name": "Bet sizing 4",
      "provenance": [],
      "collapsed_sections": [],
      "authorship_tag": "ABX9TyM8Eh7E4z/piOQCvd3iJDHk",
      "include_colab_link": true
    },
    "kernelspec": {
      "name": "python3",
      "display_name": "Python 3"
    },
    "accelerator": "GPU"
  },
  "cells": [
    {
      "cell_type": "markdown",
      "metadata": {
        "id": "view-in-github",
        "colab_type": "text"
      },
      "source": [
        "<a href=\"https://colab.research.google.com/github/jo-cho/advances_in_financial_machine_learning/blob/master/Bet%20Sizing/Bet_sizing_4.ipynb\" target=\"_parent\"><img src=\"https://colab.research.google.com/assets/colab-badge.svg\" alt=\"Open In Colab\"/></a>"
      ]
    },
    {
      "cell_type": "markdown",
      "metadata": {
        "id": "DIwRLn7gLJPz",
        "colab_type": "text"
      },
      "source": [
        "BET SIZING"
      ]
    },
    {
      "cell_type": "markdown",
      "metadata": {
        "id": "wbTFlCVLQfCH",
        "colab_type": "text"
      },
      "source": [
        "This notebook is based on the book *Advances in Financial Machine Learning* by Lopez De Prado. (Chapter 3 and Chapter 10)"
      ]
    },
    {
      "cell_type": "code",
      "metadata": {
        "id": "5bthg3s23JVw",
        "colab_type": "code",
        "colab": {}
      },
      "source": [
        "# lib\n",
        "import numpy as np\n",
        "import pandas as pd\n",
        "import datetime as dt\n",
        "import matplotlib.pyplot as plt\n",
        "%matplotlib inline\n",
        "import seaborn as sns; sns.set()"
      ],
      "execution_count": 0,
      "outputs": []
    },
    {
      "cell_type": "code",
      "metadata": {
        "id": "P_w5609_w735",
        "colab_type": "code",
        "colab": {}
      },
      "source": [
        "# sklearn\n",
        "\n",
        "from sklearn.decomposition import PCA\n",
        "from sklearn.model_selection import StratifiedKFold\n",
        "from sklearn.model_selection import train_test_split\n",
        "from sklearn.ensemble import RandomForestClassifier, BaggingClassifier\n",
        "from sklearn.metrics import roc_curve, confusion_matrix, accuracy_score, classification_report\n",
        "from sklearn.model_selection import GridSearchCV, RandomizedSearchCV\n",
        "from sklearn import metrics"
      ],
      "execution_count": 0,
      "outputs": []
    },
    {
      "cell_type": "code",
      "metadata": {
        "id": "2nbirv9vkmFg",
        "colab_type": "code",
        "colab": {
          "base_uri": "https://localhost:8080/",
          "height": 35
        },
        "outputId": "1d4b50f4-63bf-4e6a-db9f-963180e08fc9"
      },
      "source": [
        "!pip install -q ta\n",
        "import ta"
      ],
      "execution_count": 12,
      "outputs": [
        {
          "output_type": "stream",
          "text": [
            "  Building wheel for ta (setup.py) ... \u001b[?25l\u001b[?25hdone\n"
          ],
          "name": "stdout"
        }
      ]
    },
    {
      "cell_type": "code",
      "metadata": {
        "id": "lefH2Ji6WyLw",
        "colab_type": "code",
        "colab": {}
      },
      "source": [
        "import warnings\n",
        "warnings.filterwarnings(action='ignore')"
      ],
      "execution_count": 0,
      "outputs": []
    },
    {
      "cell_type": "code",
      "metadata": {
        "id": "KvpQ32OS2joc",
        "colab_type": "code",
        "outputId": "facef219-dd7e-475a-e8a8-9ae45292882c",
        "colab": {
          "base_uri": "https://localhost:8080/",
          "height": 128
        }
      },
      "source": [
        "from google.colab import drive\n",
        "drive.mount('/content/drive')"
      ],
      "execution_count": 4,
      "outputs": [
        {
          "output_type": "stream",
          "text": [
            "Go to this URL in a browser: https://accounts.google.com/o/oauth2/auth?client_id=947318989803-6bn6qk8qdgf4n4g3pfee6491hc0brc4i.apps.googleusercontent.com&redirect_uri=urn%3aietf%3awg%3aoauth%3a2.0%3aoob&response_type=code&scope=email%20https%3a%2f%2fwww.googleapis.com%2fauth%2fdocs.test%20https%3a%2f%2fwww.googleapis.com%2fauth%2fdrive%20https%3a%2f%2fwww.googleapis.com%2fauth%2fdrive.photos.readonly%20https%3a%2f%2fwww.googleapis.com%2fauth%2fpeopleapi.readonly\n",
            "\n",
            "Enter your authorization code:\n",
            "··········\n",
            "Mounted at /content/drive\n"
          ],
          "name": "stdout"
        }
      ]
    },
    {
      "cell_type": "code",
      "metadata": {
        "id": "J5F9VG8B2oB0",
        "colab_type": "code",
        "outputId": "1f806ccc-fb17-4eb1-fc4b-9741017334fa",
        "colab": {
          "base_uri": "https://localhost:8080/",
          "height": 35
        }
      },
      "source": [
        "# Big thanks to mlfinlab!\n",
        "\n",
        "!pip install mlfinlab\n",
        "from mlfinlab import data_structures, features, filters, labeling, util, sampling, cross_validation"
      ],
      "execution_count": 151,
      "outputs": [
        {
          "output_type": "stream",
          "text": [
            "Requirement already satisfied: mlfinlab in /usr/local/lib/python3.6/dist-packages (0.5.0)\n"
          ],
          "name": "stdout"
        }
      ]
    },
    {
      "cell_type": "markdown",
      "metadata": {
        "id": "JXvDEf3VLBLJ",
        "colab_type": "text"
      },
      "source": [
        "# 1. Bet sizing (probability) - applying meta-labeling"
      ]
    },
    {
      "cell_type": "markdown",
      "metadata": {
        "id": "IYFn3Y3RLjsH",
        "colab_type": "text"
      },
      "source": [
        "We fit a\n",
        "classifier, such as an SVC or RF, to determine the probability of misclassification, and\n",
        "use that probability to derive the bet size."
      ]
    },
    {
      "cell_type": "markdown",
      "metadata": {
        "id": "eEh_hBTEBsKv",
        "colab_type": "text"
      },
      "source": [
        "### WHY do we use meta-labeling for sizing the bet?"
      ]
    },
    {
      "cell_type": "markdown",
      "metadata": {
        "id": "6khpDfn_Ly0o",
        "colab_type": "text"
      },
      "source": [
        "Advantages\n",
        "1. The ML algorithm that decides the bet sizes is independent of the primary model, allowing for the incorporation of features predictive of false positives (see below). \n",
        "\n",
        "2. The predicted probability can be directly translated into bet size."
      ]
    },
    {
      "cell_type": "markdown",
      "metadata": {
        "id": "NeFHQgICirXE",
        "colab_type": "text"
      },
      "source": [
        "### What is meta labeling?"
      ]
    },
    {
      "cell_type": "markdown",
      "metadata": {
        "id": "QbpCruzwPA2w",
        "colab_type": "text"
      },
      "source": [
        "Suppose that you have a model for setting the side of the bet (long or short). You just need to learn the size of that bet, which includes the possibility of no bet at all (zero size). This is a situation that practitioners face regularly. We often know whether we want to buy or sell a product, and the only remaining question is **how much money we should risk in such a bet**. We do not want the ML algorithm to learn the side, just\n",
        "to tell us what is the **appropriate size**. We want to build a **secondary ML model** that learns how to use a primary exogenous model."
      ]
    },
    {
      "cell_type": "markdown",
      "metadata": {
        "id": "XYj34cC_8aR4",
        "colab_type": "text"
      },
      "source": [
        "Binary classification problems present a trade-off between type-I errors (false positives) and type-II errors (false negatives). In general, increasing the true positive rate of a binary classifier will tend to increase its false positive rate. The receiver operating characteristic (ROC) curve of a binary classifier measures the cost of increasing the true positive rate, in terms of accepting higher false positive rates.\n",
        "\n",
        "Meta-labeling is particularly helpful when you want to achieve higher F1-scores. First, we build a model that achieves high recall, even if the precision is not particularly high. Second, we correct for the low precision by applying meta-labeling to the positives predicted by the primary model."
      ]
    },
    {
      "cell_type": "markdown",
      "metadata": {
        "id": "OkW31vLYXFts",
        "colab_type": "text"
      },
      "source": [
        "Meta-labeling will increase your F1-score by filtering out the false positives, where the majority of positives have already been identified by the primary model. Stated differently, the role of the secondary ML algorithm is to determine whether a positive from the primary (exogenous) model is true or false. It is not its purpose to come up with a betting opportunity. Its purpose is to determine **whether we should act or pass\n",
        "on the opportunity that has been presented.**\n",
        "\n"
      ]
    },
    {
      "cell_type": "markdown",
      "metadata": {
        "id": "ftWYDcPgXVkI",
        "colab_type": "text"
      },
      "source": [
        "Advantages of meta-labeling\n",
        "\n",
        "First, ML algorithms are often criticized as black boxes.\n",
        "Meta-labeling allows you to build an ML system on top of a white box (like a fundamental model founded on economic theory). This ability to transform a fundamental model into an ML model should make meta-labeling particularly useful to “quantamental” firms. \n",
        "\n",
        "Second, the effects of overfitting are limited when you apply meta labeling,\n",
        "because ML will not decide the side of your bet, only the size. \n",
        "\n",
        "Third, by decoupling the side prediction from the size prediction, meta-labeling enables sophisticated strategy structures. For instance, consider that the features driving a rally may differ from the features driving a sell-off. In that case, you may want to develop an\n",
        "ML strategy exclusively for long positions, based on the buy recommendations of a primary model, and an ML strategy exclusively for short positions, based on the sell recommendations of an entirely different primary model. \n",
        "\n",
        "Fourth, achieving high accuracy on small bets and low accuracy on large bets will ruin you. As important as identifying good opportunities is to size them properly, so it makes sense to develop an ML algorithm solely focused on getting that critical decision (sizing) right. - Bet Sizing"
      ]
    },
    {
      "cell_type": "markdown",
      "metadata": {
        "id": "sEmeWgLwuKo_",
        "colab_type": "text"
      },
      "source": [
        "Four steps\n",
        "\n",
        "\n",
        "1. Use your forecasts from the primary model, and generate meta-labels. Remember, horizontal barriers do not need to be symmetric in this case.\n",
        "\n",
        "2. Fit your model again on the same training set, but this time using the meta-labels you just generated.\n",
        "\n",
        "3. Combine the “sides” from the first ML model with the “sizes” from the second ML model. I.e. if your primary model predicts a 3 and your secondary model says you have a high probability of the primary model being correct, is your final prediction a 3, else not 3."
      ]
    },
    {
      "cell_type": "code",
      "metadata": {
        "id": "lpnKi3rNfYf4",
        "colab_type": "code",
        "outputId": "e7869294-4655-40ce-f2c1-0215c87b560c",
        "colab": {
          "base_uri": "https://localhost:8080/",
          "height": 697
        }
      },
      "source": [
        "from IPython.core.display import Image\n",
        "Image(filename='/content/drive/My Drive/Colab Notebooks/images/meta-labeling.png')"
      ],
      "execution_count": 6,
      "outputs": [
        {
          "output_type": "execute_result",
          "data": {
            "image/png": "[encoded data removed]",
            "text/plain": [
              "<IPython.core.display.Image object>"
            ]
          },
          "metadata": {
            "tags": []
          },
          "execution_count": 6
        }
      ]
    },
    {
      "cell_type": "markdown",
      "metadata": {
        "id": "n98gQKwOsIVz",
        "colab_type": "text"
      },
      "source": [
        "### Steps \n"
      ]
    },
    {
      "cell_type": "markdown",
      "metadata": {
        "id": "Jk10U2TktenW",
        "colab_type": "text"
      },
      "source": [
        "https://hudsonthames.org/does-meta-labeling-add-to-signal-efficacy-triple-barrier-method/\n",
        "\n",
        "1. Compute long short signals for the strategy. For instance, in the mean-reverting strategy, generate a long signal when the close price is below the lower Bollinger band and create a sell signal if the close price is higher than the upper Bollinger band. We call this the “Primary model”.\n",
        "\n",
        "2. Get time stamps of the events using CUSUM (or cumulative sum control chart) filter and point estimate of the volatility. See section 4.2.\n",
        "Determine events when one of the three exit points (profit taking, stop-loss and vertical barrier) occur. Advances in Financial Machine Learning discusses this in Chapter 3. The result of this step is a trade decision – long or short, or 1 or -1.\n",
        "\n",
        "3. Determine the bet size. The prior step tell us the direction of the trade. This step says if we should trade or not – a one or zero decision.\n",
        "Tune the hyper-parameters (max_depth and n_estimators) of Random Forest using grid search and cross-validation. We keep the random state constant for reproducibility of the results.\n",
        "\n",
        "4. Train a machine-learning algorithm (we use Random Forest for illustration) with new features like one to five day serial correlations, one to five-day returns, 50-day volatility, and 14-day RSI. We iterate over this step number of times until we see in-sample results that are acceptable. In other words, we only exit this step when we consider the model to be ready and there is no turning back.\n",
        "\n",
        "5. Evaluate the performance of in sample and out-of-sample or this meta-model model.\n",
        "Evaluate the performance of the “Primary model”\n",
        "Compare the performance of the meta-model and the primary model"
      ]
    },
    {
      "cell_type": "markdown",
      "metadata": {
        "id": "PsrMWBgNhBgE",
        "colab_type": "text"
      },
      "source": [
        "### Read in data - dollar bars"
      ]
    },
    {
      "cell_type": "markdown",
      "metadata": {
        "id": "D6OFatkLi8xp",
        "colab_type": "text"
      },
      "source": [
        "E-mini S&P Future tick data"
      ]
    },
    {
      "cell_type": "code",
      "metadata": {
        "id": "Lypoa5PW2xIg",
        "colab_type": "code",
        "outputId": "105071b0-67c0-4434-c37c-cc9fa87bb562",
        "colab": {
          "base_uri": "https://localhost:8080/",
          "height": 90
        }
      },
      "source": [
        "# make dollar bars from tick data\n",
        "raw_dollar_bars = data_structures.get_dollar_bars('/content/drive/My Drive/Colab Notebooks/csv/clean_IVE_tickbidask2.csv', threshold=100_000)\n",
        "dollar_bars = raw_dollar_bars.set_index(pd.to_datetime(raw_dollar_bars.date_time))\n",
        "dollar_bars = dollar_bars.drop(columns='date_time')\n",
        "dollar_bars = dollar_bars.reset_index().drop_duplicates(subset='date_time', keep='last').set_index('date_time')"
      ],
      "execution_count": 305,
      "outputs": [
        {
          "output_type": "stream",
          "text": [
            "Reading data in batches:\n",
            "Batch number: 0\n",
            "Returning bars \n",
            "\n"
          ],
          "name": "stdout"
        }
      ]
    },
    {
      "cell_type": "code",
      "metadata": {
        "id": "6J1aOceRiGr7",
        "colab_type": "code",
        "outputId": "d84baf10-2508-4b1a-b851-0f8f8e9d8f30",
        "colab": {
          "base_uri": "https://localhost:8080/",
          "height": 228
        }
      },
      "source": [
        "dollar_bars.head()"
      ],
      "execution_count": 306,
      "outputs": [
        {
          "output_type": "execute_result",
          "data": {
            "text/html": [
              "<div>\n",
              "<style scoped>\n",
              "    .dataframe tbody tr th:only-of-type {\n",
              "        vertical-align: middle;\n",
              "    }\n",
              "\n",
              "    .dataframe tbody tr th {\n",
              "        vertical-align: top;\n",
              "    }\n",
              "\n",
              "    .dataframe thead th {\n",
              "        text-align: right;\n",
              "    }\n",
              "</style>\n",
              "<table border=\"1\" class=\"dataframe\">\n",
              "  <thead>\n",
              "    <tr style=\"text-align: right;\">\n",
              "      <th></th>\n",
              "      <th>tick_num</th>\n",
              "      <th>open</th>\n",
              "      <th>high</th>\n",
              "      <th>low</th>\n",
              "      <th>close</th>\n",
              "      <th>volume</th>\n",
              "      <th>cum_buy_volume</th>\n",
              "      <th>cum_ticks</th>\n",
              "      <th>cum_dollar_value</th>\n",
              "    </tr>\n",
              "    <tr>\n",
              "      <th>date_time</th>\n",
              "      <th></th>\n",
              "      <th></th>\n",
              "      <th></th>\n",
              "      <th></th>\n",
              "      <th></th>\n",
              "      <th></th>\n",
              "      <th></th>\n",
              "      <th></th>\n",
              "      <th></th>\n",
              "    </tr>\n",
              "  </thead>\n",
              "  <tbody>\n",
              "    <tr>\n",
              "      <th>2009-09-28 09:32:06</th>\n",
              "      <td>8</td>\n",
              "      <td>50.79</td>\n",
              "      <td>50.7900</td>\n",
              "      <td>50.7100</td>\n",
              "      <td>50.7800</td>\n",
              "      <td>2338</td>\n",
              "      <td>1600</td>\n",
              "      <td>8</td>\n",
              "      <td>118655.9800</td>\n",
              "    </tr>\n",
              "    <tr>\n",
              "      <th>2009-09-28 09:33:54</th>\n",
              "      <td>16</td>\n",
              "      <td>50.78</td>\n",
              "      <td>50.8226</td>\n",
              "      <td>50.7800</td>\n",
              "      <td>50.8200</td>\n",
              "      <td>1998</td>\n",
              "      <td>1098</td>\n",
              "      <td>8</td>\n",
              "      <td>101525.6200</td>\n",
              "    </tr>\n",
              "    <tr>\n",
              "      <th>2009-09-28 09:37:33</th>\n",
              "      <td>24</td>\n",
              "      <td>50.82</td>\n",
              "      <td>50.8500</td>\n",
              "      <td>50.8000</td>\n",
              "      <td>50.8299</td>\n",
              "      <td>2066</td>\n",
              "      <td>866</td>\n",
              "      <td>8</td>\n",
              "      <td>105001.5634</td>\n",
              "    </tr>\n",
              "    <tr>\n",
              "      <th>2009-09-28 09:41:53</th>\n",
              "      <td>35</td>\n",
              "      <td>50.81</td>\n",
              "      <td>50.8400</td>\n",
              "      <td>50.7833</td>\n",
              "      <td>50.8400</td>\n",
              "      <td>2142</td>\n",
              "      <td>400</td>\n",
              "      <td>11</td>\n",
              "      <td>108836.0704</td>\n",
              "    </tr>\n",
              "    <tr>\n",
              "      <th>2009-09-28 09:44:09</th>\n",
              "      <td>41</td>\n",
              "      <td>50.85</td>\n",
              "      <td>50.9100</td>\n",
              "      <td>50.8300</td>\n",
              "      <td>50.9100</td>\n",
              "      <td>2000</td>\n",
              "      <td>1700</td>\n",
              "      <td>6</td>\n",
              "      <td>101767.0000</td>\n",
              "    </tr>\n",
              "  </tbody>\n",
              "</table>\n",
              "</div>"
            ],
            "text/plain": [
              "                     tick_num   open  ...  cum_ticks  cum_dollar_value\n",
              "date_time                             ...                             \n",
              "2009-09-28 09:32:06         8  50.79  ...          8       118655.9800\n",
              "2009-09-28 09:33:54        16  50.78  ...          8       101525.6200\n",
              "2009-09-28 09:37:33        24  50.82  ...          8       105001.5634\n",
              "2009-09-28 09:41:53        35  50.81  ...         11       108836.0704\n",
              "2009-09-28 09:44:09        41  50.85  ...          6       101767.0000\n",
              "\n",
              "[5 rows x 9 columns]"
            ]
          },
          "metadata": {
            "tags": []
          },
          "execution_count": 306
        }
      ]
    },
    {
      "cell_type": "code",
      "metadata": {
        "id": "PptJEagCpjaj",
        "colab_type": "code",
        "colab": {
          "base_uri": "https://localhost:8080/",
          "height": 35
        },
        "outputId": "4beb4e17-1e76-4bb4-c00b-8aea487adbd9"
      },
      "source": [
        "len(dollar_bars)"
      ],
      "execution_count": 307,
      "outputs": [
        {
          "output_type": "execute_result",
          "data": {
            "text/plain": [
              "347844"
            ]
          },
          "metadata": {
            "tags": []
          },
          "execution_count": 307
        }
      ]
    },
    {
      "cell_type": "code",
      "metadata": {
        "id": "oYC5u9X5jqc5",
        "colab_type": "code",
        "colab": {}
      },
      "source": [
        "close = dollar_bars.close"
      ],
      "execution_count": 0,
      "outputs": []
    },
    {
      "cell_type": "markdown",
      "metadata": {
        "id": "f7blFi_KB4xw",
        "colab_type": "text"
      },
      "source": [
        "Why do we use dollar bars?"
      ]
    },
    {
      "cell_type": "markdown",
      "metadata": {
        "id": "WTEeVnDqICxD",
        "colab_type": "text"
      },
      "source": [
        "See Chapter 2"
      ]
    },
    {
      "cell_type": "markdown",
      "metadata": {
        "id": "aovQU2FLhcYp",
        "colab_type": "text"
      },
      "source": [
        "### 1. Train a primary model (which decides 'sides') "
      ]
    },
    {
      "cell_type": "markdown",
      "metadata": {
        "id": "ZnBFN9QGdAXP",
        "colab_type": "text"
      },
      "source": [
        "- Based on the simple moving average cross-over strategy."
      ]
    },
    {
      "cell_type": "code",
      "metadata": {
        "id": "RVZiwS-dPhzs",
        "colab_type": "code",
        "colab": {}
      },
      "source": [
        "fast_window = 20\n",
        "slow_window = 50\n",
        "\n",
        "df = pd.DataFrame()\n",
        "df['fast_mavg'] = close.rolling(window=fast_window, min_periods=fast_window, center=False).mean()\n",
        "df['slow_mavg'] = close.rolling(window=slow_window, min_periods=slow_window, center=False).mean()\n",
        "df['side'] = np.nan\n",
        "\n",
        "long_signals = df['fast_mavg'] >= df['slow_mavg'] \n",
        "short_signals = df['fast_mavg'] < df['slow_mavg'] \n",
        "df.loc[long_signals, 'side'] = 1\n",
        "df.loc[short_signals, 'side'] = -1\n",
        "\n",
        "df['side'] = df['side'].shift(1)\n",
        "\n",
        "side = df['side']"
      ],
      "execution_count": 0,
      "outputs": []
    },
    {
      "cell_type": "code",
      "metadata": {
        "id": "gDT_ozxvj7eU",
        "colab_type": "code",
        "outputId": "619801e2-7fab-4dc1-ef68-a94c5bfbdee8",
        "colab": {
          "base_uri": "https://localhost:8080/",
          "height": 72
        }
      },
      "source": [
        "side.value_counts()"
      ],
      "execution_count": 0,
      "outputs": [
        {
          "output_type": "execute_result",
          "data": {
            "text/plain": [
              " 1.0    32190\n",
              "-1.0    26367\n",
              "Name: side, dtype: int64"
            ]
          },
          "metadata": {
            "tags": []
          },
          "execution_count": 16
        }
      ]
    },
    {
      "cell_type": "markdown",
      "metadata": {
        "id": "LcwaKsjUj135",
        "colab_type": "text"
      },
      "source": [
        "- Based on the mean-reverting Bollinger band strategy."
      ]
    },
    {
      "cell_type": "code",
      "metadata": {
        "id": "GUL2IC-RkC_9",
        "colab_type": "code",
        "colab": {}
      },
      "source": [
        "n=50\n",
        "\n",
        "df = pd.DataFrame()\n",
        "\n",
        "df['lower'] = ta.volatility.bollinger_lband(close,n)\n",
        "df['upper'] = ta.volatility.bollinger_hband(close,n)\n",
        "df['close'] = close\n",
        "df['side'] = np.nan\n",
        "\n",
        "long_signals = (df['close'] <= df['lower']) \n",
        "short_signals = (df['close'] >= df['upper']) \n",
        "\n",
        "df.loc[long_signals, 'side'] = 1\n",
        "df.loc[short_signals, 'side'] = -1\n",
        "\n",
        "# Remove Look ahead biase by lagging the signal\n",
        "df['side'] = df['side'].shift(1)\n",
        "\n",
        "side = df['side']"
      ],
      "execution_count": 0,
      "outputs": []
    },
    {
      "cell_type": "code",
      "metadata": {
        "id": "3rG9xQmumOHP",
        "colab_type": "code",
        "colab": {
          "base_uri": "https://localhost:8080/",
          "height": 410
        },
        "outputId": "40949055-c06b-46d1-b7fb-c43ca20d8aed"
      },
      "source": [
        "f,ax=plt.subplots(figsize=(10,6))\n",
        "df.iloc[-1000:,:3].plot( alpha=0.6 ,ax=ax)"
      ],
      "execution_count": 310,
      "outputs": [
        {
          "output_type": "execute_result",
          "data": {
            "text/plain": [
              "<matplotlib.axes._subplots.AxesSubplot at 0x7f33e92f3be0>"
            ]
          },
          "metadata": {
            "tags": []
          },
          "execution_count": 310
        },
        {
          "output_type": "display_data",
          "data": {
            "image/png": "[encoded data removed]",
            "text/plain": [
              "<Figure size 720x432 with 1 Axes>"
            ]
          },
          "metadata": {
            "tags": []
          }
        }
      ]
    },
    {
      "cell_type": "code",
      "metadata": {
        "id": "9BhROWO4l14K",
        "colab_type": "code",
        "colab": {
          "base_uri": "https://localhost:8080/",
          "height": 72
        },
        "outputId": "707ad8d3-f9be-4fe9-88a3-972eb64c3755"
      },
      "source": [
        "side.value_counts()"
      ],
      "execution_count": 311,
      "outputs": [
        {
          "output_type": "execute_result",
          "data": {
            "text/plain": [
              " 1.0    24771\n",
              "-1.0    24471\n",
              "Name: side, dtype: int64"
            ]
          },
          "metadata": {
            "tags": []
          },
          "execution_count": 311
        }
      ]
    },
    {
      "cell_type": "markdown",
      "metadata": {
        "id": "TgvhyR3tdDJT",
        "colab_type": "text"
      },
      "source": [
        "### 2. Generate labels (from a primary model)"
      ]
    },
    {
      "cell_type": "markdown",
      "metadata": {
        "id": "_WlxaHNvjGYq",
        "colab_type": "text"
      },
      "source": [
        "Get time stamps of the events using CUSUM filter and point estimate of the volatility."
      ]
    },
    {
      "cell_type": "code",
      "metadata": {
        "id": "pT2NSRXx24iv",
        "colab_type": "code",
        "colab": {}
      },
      "source": [
        "# form a tripple-barrier\n",
        "pt_sl = [1,2]\n",
        "\n",
        "target = util.get_daily_vol(close,lookback=100)\n",
        "\n",
        "h = target.mean()*0.5\n",
        "t_events = filters.cusum_filter(close, h) # using symmetric cusum filter, get t_events\n",
        "\n",
        "vertical_barrier_times = labeling.add_vertical_barrier(t_events, close, num_days=1)"
      ],
      "execution_count": 0,
      "outputs": []
    },
    {
      "cell_type": "code",
      "metadata": {
        "id": "uAn2kWFFWZZv",
        "colab_type": "code",
        "outputId": "65f31015-bae6-4b8f-b86a-4d7d3048904a",
        "colab": {
          "base_uri": "https://localhost:8080/",
          "height": 35
        }
      },
      "source": [
        "# events\n",
        "min_ret = 0.0025\n",
        "\n",
        "events = labeling.get_events(close, t_events, pt_sl, target, min_ret, num_threads=3, \n",
        "                             vertical_barrier_times = vertical_barrier_times ,side_prediction = side)\n",
        "\n",
        "# label (bin) - binary classification from the primary model\n",
        "\n",
        "bin = labeling.get_bins(events, close)"
      ],
      "execution_count": 313,
      "outputs": [
        {
          "output_type": "stream",
          "text": [
            "2020-01-30 15:24:30.428864 100.0% apply_pt_sl_on_t1 done after 0.94 minutes. Remaining 0.0 minutes.\n"
          ],
          "name": "stderr"
        }
      ]
    },
    {
      "cell_type": "code",
      "metadata": {
        "id": "PCIYEmtIlgDl",
        "colab_type": "code",
        "colab": {
          "base_uri": "https://localhost:8080/",
          "height": 198
        },
        "outputId": "4e029ff3-57c1-4b03-a76c-584d6541d01b"
      },
      "source": [
        "bin.head()"
      ],
      "execution_count": 314,
      "outputs": [
        {
          "output_type": "execute_result",
          "data": {
            "text/html": [
              "<div>\n",
              "<style scoped>\n",
              "    .dataframe tbody tr th:only-of-type {\n",
              "        vertical-align: middle;\n",
              "    }\n",
              "\n",
              "    .dataframe tbody tr th {\n",
              "        vertical-align: top;\n",
              "    }\n",
              "\n",
              "    .dataframe thead th {\n",
              "        text-align: right;\n",
              "    }\n",
              "</style>\n",
              "<table border=\"1\" class=\"dataframe\">\n",
              "  <thead>\n",
              "    <tr style=\"text-align: right;\">\n",
              "      <th></th>\n",
              "      <th>ret</th>\n",
              "      <th>trgt</th>\n",
              "      <th>bin</th>\n",
              "      <th>side</th>\n",
              "    </tr>\n",
              "  </thead>\n",
              "  <tbody>\n",
              "    <tr>\n",
              "      <th>2009-09-29 09:59:17</th>\n",
              "      <td>NaN</td>\n",
              "      <td>0.002765</td>\n",
              "      <td>0</td>\n",
              "      <td>NaN</td>\n",
              "    </tr>\n",
              "    <tr>\n",
              "      <th>2009-09-29 10:00:21</th>\n",
              "      <td>NaN</td>\n",
              "      <td>0.002991</td>\n",
              "      <td>0</td>\n",
              "      <td>NaN</td>\n",
              "    </tr>\n",
              "    <tr>\n",
              "      <th>2009-09-29 10:02:38</th>\n",
              "      <td>NaN</td>\n",
              "      <td>0.004096</td>\n",
              "      <td>0</td>\n",
              "      <td>NaN</td>\n",
              "    </tr>\n",
              "    <tr>\n",
              "      <th>2009-09-29 10:11:36</th>\n",
              "      <td>NaN</td>\n",
              "      <td>0.004886</td>\n",
              "      <td>0</td>\n",
              "      <td>NaN</td>\n",
              "    </tr>\n",
              "    <tr>\n",
              "      <th>2009-09-29 10:24:50</th>\n",
              "      <td>NaN</td>\n",
              "      <td>0.004375</td>\n",
              "      <td>0</td>\n",
              "      <td>NaN</td>\n",
              "    </tr>\n",
              "  </tbody>\n",
              "</table>\n",
              "</div>"
            ],
            "text/plain": [
              "                     ret      trgt  bin  side\n",
              "2009-09-29 09:59:17  NaN  0.002765    0   NaN\n",
              "2009-09-29 10:00:21  NaN  0.002991    0   NaN\n",
              "2009-09-29 10:02:38  NaN  0.004096    0   NaN\n",
              "2009-09-29 10:11:36  NaN  0.004886    0   NaN\n",
              "2009-09-29 10:24:50  NaN  0.004375    0   NaN"
            ]
          },
          "metadata": {
            "tags": []
          },
          "execution_count": 314
        }
      ]
    },
    {
      "cell_type": "code",
      "metadata": {
        "id": "k-vX3SkcXYOF",
        "colab_type": "code",
        "colab": {}
      },
      "source": [
        "bin.dropna(inplace=True)"
      ],
      "execution_count": 0,
      "outputs": []
    },
    {
      "cell_type": "code",
      "metadata": {
        "id": "i2chOOmHXUAZ",
        "colab_type": "code",
        "outputId": "d834b848-d55e-47a6-e13c-fc26218f3121",
        "colab": {
          "base_uri": "https://localhost:8080/",
          "height": 72
        }
      },
      "source": [
        "bin.side.value_counts()"
      ],
      "execution_count": 316,
      "outputs": [
        {
          "output_type": "execute_result",
          "data": {
            "text/plain": [
              " 1.0    1841\n",
              "-1.0    1497\n",
              "Name: side, dtype: int64"
            ]
          },
          "metadata": {
            "tags": []
          },
          "execution_count": 316
        }
      ]
    },
    {
      "cell_type": "code",
      "metadata": {
        "id": "rWR7vJWEWnJX",
        "colab_type": "code",
        "outputId": "fa85e4a9-76ae-441b-ffa1-75ef16763aa9",
        "colab": {
          "base_uri": "https://localhost:8080/",
          "height": 72
        }
      },
      "source": [
        "bin.bin.value_counts()"
      ],
      "execution_count": 317,
      "outputs": [
        {
          "output_type": "execute_result",
          "data": {
            "text/plain": [
              "0    1799\n",
              "1    1539\n",
              "Name: bin, dtype: int64"
            ]
          },
          "metadata": {
            "tags": []
          },
          "execution_count": 317
        }
      ]
    },
    {
      "cell_type": "code",
      "metadata": {
        "id": "0KApHU1FxRwp",
        "colab_type": "code",
        "colab": {
          "base_uri": "https://localhost:8080/",
          "height": 503
        },
        "outputId": "249fa746-b131-492b-fb50-8c78309206c8"
      },
      "source": [
        "primary_forecast = pd.DataFrame(bin['bin'])\n",
        "primary_forecast['pred'] = 1\n",
        "primary_forecast.columns = ['actual', 'pred']\n",
        "\n",
        "# Performance Metrics\n",
        "actual = primary_forecast['actual']\n",
        "pred = primary_forecast['pred']\n",
        "\n",
        "print(classification_report(actual, pred))\n",
        "\n",
        "print(\"Accuracy = \", accuracy_score(actual,pred))\n",
        "print('')\n",
        "print(\"Confusion Matrix\")\n",
        "mat = confusion_matrix(actual, pred)\n",
        "sns.heatmap(mat , annot=True)\n",
        "plt.xlabel('predicted label')\n",
        "plt.ylabel('true label');"
      ],
      "execution_count": 318,
      "outputs": [
        {
          "output_type": "stream",
          "text": [
            "              precision    recall  f1-score   support\n",
            "\n",
            "           0       0.00      0.00      0.00      1799\n",
            "           1       0.46      1.00      0.63      1539\n",
            "\n",
            "    accuracy                           0.46      3338\n",
            "   macro avg       0.23      0.50      0.32      3338\n",
            "weighted avg       0.21      0.46      0.29      3338\n",
            "\n",
            "Accuracy =  0.4610545236668664\n",
            "\n",
            "Confusion Matrix\n"
          ],
          "name": "stdout"
        },
        {
          "output_type": "display_data",
          "data": {
            "image/png": "[encoded data removed]",
            "text/plain": [
              "<Figure size 432x288 with 2 Axes>"
            ]
          },
          "metadata": {
            "tags": []
          }
        }
      ]
    },
    {
      "cell_type": "markdown",
      "metadata": {
        "id": "F9U1JJb_dS_8",
        "colab_type": "text"
      },
      "source": [
        "### 3. Features\n"
      ]
    },
    {
      "cell_type": "markdown",
      "metadata": {
        "id": "3a7WNItJA_uj",
        "colab_type": "text"
      },
      "source": [
        "\n",
        "Features - Kara et al. (2011)\n",
        "\n",
        "\n",
        "- Simple 10-day moving average\n",
        "- Weighted 10-day moving average\n",
        "- Momentum\n",
        "- Stochastic K%\n",
        "- Stochastic D%\n",
        "- RSI (Relative Strength Index)\n",
        "- MACD (moving average convergence divergence)\n",
        "- Larry William’s R% \n",
        "- A/D (Accumulation/Distribution) Oscillator\n",
        "- CCI (Commodity Channel Index)"
      ]
    },
    {
      "cell_type": "markdown",
      "metadata": {
        "id": "fUfaDwOgFmza",
        "colab_type": "text"
      },
      "source": [
        "https://github.com/bukosabino/ta"
      ]
    },
    {
      "cell_type": "code",
      "metadata": {
        "id": "N8LDitAvHOkn",
        "colab_type": "code",
        "outputId": "8961f2ff-d25b-4185-dd9a-19945d164b95",
        "colab": {
          "base_uri": "https://localhost:8080/",
          "height": 228
        }
      },
      "source": [
        "bars = dollar_bars.iloc[:,1:6]\n",
        "bars.head()"
      ],
      "execution_count": 319,
      "outputs": [
        {
          "output_type": "execute_result",
          "data": {
            "text/html": [
              "<div>\n",
              "<style scoped>\n",
              "    .dataframe tbody tr th:only-of-type {\n",
              "        vertical-align: middle;\n",
              "    }\n",
              "\n",
              "    .dataframe tbody tr th {\n",
              "        vertical-align: top;\n",
              "    }\n",
              "\n",
              "    .dataframe thead th {\n",
              "        text-align: right;\n",
              "    }\n",
              "</style>\n",
              "<table border=\"1\" class=\"dataframe\">\n",
              "  <thead>\n",
              "    <tr style=\"text-align: right;\">\n",
              "      <th></th>\n",
              "      <th>open</th>\n",
              "      <th>high</th>\n",
              "      <th>low</th>\n",
              "      <th>close</th>\n",
              "      <th>volume</th>\n",
              "    </tr>\n",
              "    <tr>\n",
              "      <th>date_time</th>\n",
              "      <th></th>\n",
              "      <th></th>\n",
              "      <th></th>\n",
              "      <th></th>\n",
              "      <th></th>\n",
              "    </tr>\n",
              "  </thead>\n",
              "  <tbody>\n",
              "    <tr>\n",
              "      <th>2009-09-28 09:32:06</th>\n",
              "      <td>50.79</td>\n",
              "      <td>50.7900</td>\n",
              "      <td>50.7100</td>\n",
              "      <td>50.7800</td>\n",
              "      <td>2338</td>\n",
              "    </tr>\n",
              "    <tr>\n",
              "      <th>2009-09-28 09:33:54</th>\n",
              "      <td>50.78</td>\n",
              "      <td>50.8226</td>\n",
              "      <td>50.7800</td>\n",
              "      <td>50.8200</td>\n",
              "      <td>1998</td>\n",
              "    </tr>\n",
              "    <tr>\n",
              "      <th>2009-09-28 09:37:33</th>\n",
              "      <td>50.82</td>\n",
              "      <td>50.8500</td>\n",
              "      <td>50.8000</td>\n",
              "      <td>50.8299</td>\n",
              "      <td>2066</td>\n",
              "    </tr>\n",
              "    <tr>\n",
              "      <th>2009-09-28 09:41:53</th>\n",
              "      <td>50.81</td>\n",
              "      <td>50.8400</td>\n",
              "      <td>50.7833</td>\n",
              "      <td>50.8400</td>\n",
              "      <td>2142</td>\n",
              "    </tr>\n",
              "    <tr>\n",
              "      <th>2009-09-28 09:44:09</th>\n",
              "      <td>50.85</td>\n",
              "      <td>50.9100</td>\n",
              "      <td>50.8300</td>\n",
              "      <td>50.9100</td>\n",
              "      <td>2000</td>\n",
              "    </tr>\n",
              "  </tbody>\n",
              "</table>\n",
              "</div>"
            ],
            "text/plain": [
              "                      open     high      low    close  volume\n",
              "date_time                                                    \n",
              "2009-09-28 09:32:06  50.79  50.7900  50.7100  50.7800    2338\n",
              "2009-09-28 09:33:54  50.78  50.8226  50.7800  50.8200    1998\n",
              "2009-09-28 09:37:33  50.82  50.8500  50.8000  50.8299    2066\n",
              "2009-09-28 09:41:53  50.81  50.8400  50.7833  50.8400    2142\n",
              "2009-09-28 09:44:09  50.85  50.9100  50.8300  50.9100    2000"
            ]
          },
          "metadata": {
            "tags": []
          },
          "execution_count": 319
        }
      ]
    },
    {
      "cell_type": "markdown",
      "metadata": {
        "id": "YQU4T5p1NKAj",
        "colab_type": "text"
      },
      "source": [
        "Volume\n",
        "- Accumulation/Distribution Index (ADI)\n",
        "-On-Balance Volume (OBV)\n",
        "-Chaikin Money Flow (CMF)\n",
        "-Force Index (FI)\n",
        "-Ease of Movement (EoM, EMV)\n",
        "-Volume-price Trend (VPT)\n",
        "-Negative Volume Index (NVI)\n",
        "\n",
        "Volatility\n",
        "- Average True Range (ATR)\n",
        "- Bollinger Bands (BB)\n",
        "- Keltner Channel (KC)\n",
        "- Donchian Channel (DC)\n",
        "\n",
        "Trend\n",
        "- Moving Average Convergence Divergence (MACD)\n",
        "- Average Directional Movement Index (ADX)\n",
        "- Vortex Indicator (VI)\n",
        "- Trix (TRIX)\n",
        "- Mass Index (MI)\n",
        "- Commodity Channel Index (CCI)\n",
        "- Detrended Price Oscillator (DPO)\n",
        "- KST Oscillator (KST)\n",
        "- Ichimoku Kinkō Hyō (Ichimoku)\n",
        "- Parabolic Stop And Reverse (Parabolic SAR)\n",
        "\n",
        "Momentum\n",
        "- Money Flow Index (MFI)\n",
        "- Relative Strength Index (RSI)\n",
        "- True strength index (TSI)\n",
        "- Ultimate Oscillator (UO)\n",
        "- Stochastic Oscillator (SR)\n",
        "- Williams %R (WR)\n",
        "- Awesome Oscillator (AO)\n",
        "- Kaufman's Adaptive Moving Average (KAMA)\n",
        "- Rate of Change (ROC)\n",
        "\n",
        "Others\n",
        "- Daily Return (DR)\n",
        "- Daily Log Return (DLR)\n",
        "- Cumulative Return (CR)"
      ]
    },
    {
      "cell_type": "code",
      "metadata": {
        "id": "uq2kcsGCA_MO",
        "colab_type": "code",
        "colab": {}
      },
      "source": [
        "ta_features = ta.add_all_ta_features(bars,'open','high','low','close','volume')"
      ],
      "execution_count": 0,
      "outputs": []
    },
    {
      "cell_type": "code",
      "metadata": {
        "id": "nm17c9e8KZW7",
        "colab_type": "code",
        "outputId": "a4ce2638-ae55-4b2a-9f2e-8637d36e2669",
        "colab": {
          "base_uri": "https://localhost:8080/",
          "height": 421
        }
      },
      "source": [
        "#look-ahead bias\n",
        "ta_features = ta_features.shift(1)\n",
        "\n",
        "ta_features.head()"
      ],
      "execution_count": 321,
      "outputs": [
        {
          "output_type": "execute_result",
          "data": {
            "text/html": [
              "<div>\n",
              "<style scoped>\n",
              "    .dataframe tbody tr th:only-of-type {\n",
              "        vertical-align: middle;\n",
              "    }\n",
              "\n",
              "    .dataframe tbody tr th {\n",
              "        vertical-align: top;\n",
              "    }\n",
              "\n",
              "    .dataframe thead th {\n",
              "        text-align: right;\n",
              "    }\n",
              "</style>\n",
              "<table border=\"1\" class=\"dataframe\">\n",
              "  <thead>\n",
              "    <tr style=\"text-align: right;\">\n",
              "      <th></th>\n",
              "      <th>open</th>\n",
              "      <th>high</th>\n",
              "      <th>low</th>\n",
              "      <th>close</th>\n",
              "      <th>volume</th>\n",
              "      <th>volume_adi</th>\n",
              "      <th>volume_obv</th>\n",
              "      <th>volume_cmf</th>\n",
              "      <th>volume_fi</th>\n",
              "      <th>volume_em</th>\n",
              "      <th>volume_sma_em</th>\n",
              "      <th>volume_vpt</th>\n",
              "      <th>volume_nvi</th>\n",
              "      <th>volatility_atr</th>\n",
              "      <th>volatility_bbm</th>\n",
              "      <th>volatility_bbh</th>\n",
              "      <th>volatility_bbl</th>\n",
              "      <th>volatility_bbw</th>\n",
              "      <th>volatility_bbhi</th>\n",
              "      <th>volatility_bbli</th>\n",
              "      <th>volatility_kcc</th>\n",
              "      <th>volatility_kch</th>\n",
              "      <th>volatility_kcl</th>\n",
              "      <th>volatility_kchi</th>\n",
              "      <th>volatility_kcli</th>\n",
              "      <th>volatility_dcl</th>\n",
              "      <th>volatility_dch</th>\n",
              "      <th>volatility_dchi</th>\n",
              "      <th>volatility_dcli</th>\n",
              "      <th>trend_macd</th>\n",
              "      <th>trend_macd_signal</th>\n",
              "      <th>trend_macd_diff</th>\n",
              "      <th>trend_ema_fast</th>\n",
              "      <th>trend_ema_slow</th>\n",
              "      <th>trend_adx</th>\n",
              "      <th>trend_adx_pos</th>\n",
              "      <th>trend_adx_neg</th>\n",
              "      <th>trend_vortex_ind_pos</th>\n",
              "      <th>trend_vortex_ind_neg</th>\n",
              "      <th>trend_vortex_ind_diff</th>\n",
              "      <th>trend_trix</th>\n",
              "      <th>trend_mass_index</th>\n",
              "      <th>trend_cci</th>\n",
              "      <th>trend_dpo</th>\n",
              "      <th>trend_kst</th>\n",
              "      <th>trend_kst_sig</th>\n",
              "      <th>trend_kst_diff</th>\n",
              "      <th>trend_ichimoku_a</th>\n",
              "      <th>trend_ichimoku_b</th>\n",
              "      <th>trend_visual_ichimoku_a</th>\n",
              "      <th>trend_visual_ichimoku_b</th>\n",
              "      <th>trend_aroon_up</th>\n",
              "      <th>trend_aroon_down</th>\n",
              "      <th>trend_aroon_ind</th>\n",
              "      <th>trend_psar</th>\n",
              "      <th>trend_psar_up</th>\n",
              "      <th>trend_psar_down</th>\n",
              "      <th>trend_psar_up_indicator</th>\n",
              "      <th>trend_psar_down_indicator</th>\n",
              "      <th>momentum_rsi</th>\n",
              "      <th>momentum_mfi</th>\n",
              "      <th>momentum_tsi</th>\n",
              "      <th>momentum_uo</th>\n",
              "      <th>momentum_stoch</th>\n",
              "      <th>momentum_stoch_signal</th>\n",
              "      <th>momentum_wr</th>\n",
              "      <th>momentum_ao</th>\n",
              "      <th>momentum_kama</th>\n",
              "      <th>momentum_roc</th>\n",
              "      <th>others_dr</th>\n",
              "      <th>others_dlr</th>\n",
              "      <th>others_cr</th>\n",
              "    </tr>\n",
              "    <tr>\n",
              "      <th>date_time</th>\n",
              "      <th></th>\n",
              "      <th></th>\n",
              "      <th></th>\n",
              "      <th></th>\n",
              "      <th></th>\n",
              "      <th></th>\n",
              "      <th></th>\n",
              "      <th></th>\n",
              "      <th></th>\n",
              "      <th></th>\n",
              "      <th></th>\n",
              "      <th></th>\n",
              "      <th></th>\n",
              "      <th></th>\n",
              "      <th></th>\n",
              "      <th></th>\n",
              "      <th></th>\n",
              "      <th></th>\n",
              "      <th></th>\n",
              "      <th></th>\n",
              "      <th></th>\n",
              "      <th></th>\n",
              "      <th></th>\n",
              "      <th></th>\n",
              "      <th></th>\n",
              "      <th></th>\n",
              "      <th></th>\n",
              "      <th></th>\n",
              "      <th></th>\n",
              "      <th></th>\n",
              "      <th></th>\n",
              "      <th></th>\n",
              "      <th></th>\n",
              "      <th></th>\n",
              "      <th></th>\n",
              "      <th></th>\n",
              "      <th></th>\n",
              "      <th></th>\n",
              "      <th></th>\n",
              "      <th></th>\n",
              "      <th></th>\n",
              "      <th></th>\n",
              "      <th></th>\n",
              "      <th></th>\n",
              "      <th></th>\n",
              "      <th></th>\n",
              "      <th></th>\n",
              "      <th></th>\n",
              "      <th></th>\n",
              "      <th></th>\n",
              "      <th></th>\n",
              "      <th></th>\n",
              "      <th></th>\n",
              "      <th></th>\n",
              "      <th></th>\n",
              "      <th></th>\n",
              "      <th></th>\n",
              "      <th></th>\n",
              "      <th></th>\n",
              "      <th></th>\n",
              "      <th></th>\n",
              "      <th></th>\n",
              "      <th></th>\n",
              "      <th></th>\n",
              "      <th></th>\n",
              "      <th></th>\n",
              "      <th></th>\n",
              "      <th></th>\n",
              "      <th></th>\n",
              "      <th></th>\n",
              "      <th></th>\n",
              "      <th></th>\n",
              "    </tr>\n",
              "  </thead>\n",
              "  <tbody>\n",
              "    <tr>\n",
              "      <th>2009-09-28 09:32:06</th>\n",
              "      <td>NaN</td>\n",
              "      <td>NaN</td>\n",
              "      <td>NaN</td>\n",
              "      <td>NaN</td>\n",
              "      <td>NaN</td>\n",
              "      <td>NaN</td>\n",
              "      <td>NaN</td>\n",
              "      <td>NaN</td>\n",
              "      <td>NaN</td>\n",
              "      <td>NaN</td>\n",
              "      <td>NaN</td>\n",
              "      <td>NaN</td>\n",
              "      <td>NaN</td>\n",
              "      <td>NaN</td>\n",
              "      <td>NaN</td>\n",
              "      <td>NaN</td>\n",
              "      <td>NaN</td>\n",
              "      <td>NaN</td>\n",
              "      <td>NaN</td>\n",
              "      <td>NaN</td>\n",
              "      <td>NaN</td>\n",
              "      <td>NaN</td>\n",
              "      <td>NaN</td>\n",
              "      <td>NaN</td>\n",
              "      <td>NaN</td>\n",
              "      <td>NaN</td>\n",
              "      <td>NaN</td>\n",
              "      <td>NaN</td>\n",
              "      <td>NaN</td>\n",
              "      <td>NaN</td>\n",
              "      <td>NaN</td>\n",
              "      <td>NaN</td>\n",
              "      <td>NaN</td>\n",
              "      <td>NaN</td>\n",
              "      <td>NaN</td>\n",
              "      <td>NaN</td>\n",
              "      <td>NaN</td>\n",
              "      <td>NaN</td>\n",
              "      <td>NaN</td>\n",
              "      <td>NaN</td>\n",
              "      <td>NaN</td>\n",
              "      <td>NaN</td>\n",
              "      <td>NaN</td>\n",
              "      <td>NaN</td>\n",
              "      <td>NaN</td>\n",
              "      <td>NaN</td>\n",
              "      <td>NaN</td>\n",
              "      <td>NaN</td>\n",
              "      <td>NaN</td>\n",
              "      <td>NaN</td>\n",
              "      <td>NaN</td>\n",
              "      <td>NaN</td>\n",
              "      <td>NaN</td>\n",
              "      <td>NaN</td>\n",
              "      <td>NaN</td>\n",
              "      <td>NaN</td>\n",
              "      <td>NaN</td>\n",
              "      <td>NaN</td>\n",
              "      <td>NaN</td>\n",
              "      <td>NaN</td>\n",
              "      <td>NaN</td>\n",
              "      <td>NaN</td>\n",
              "      <td>NaN</td>\n",
              "      <td>NaN</td>\n",
              "      <td>NaN</td>\n",
              "      <td>NaN</td>\n",
              "      <td>NaN</td>\n",
              "      <td>NaN</td>\n",
              "      <td>NaN</td>\n",
              "      <td>NaN</td>\n",
              "      <td>NaN</td>\n",
              "      <td>NaN</td>\n",
              "    </tr>\n",
              "    <tr>\n",
              "      <th>2009-09-28 09:33:54</th>\n",
              "      <td>50.79</td>\n",
              "      <td>50.7900</td>\n",
              "      <td>50.7100</td>\n",
              "      <td>50.7800</td>\n",
              "      <td>2338.0</td>\n",
              "      <td>1753.500000</td>\n",
              "      <td>2338.0</td>\n",
              "      <td>0.750000</td>\n",
              "      <td>NaN</td>\n",
              "      <td>NaN</td>\n",
              "      <td>NaN</td>\n",
              "      <td>-1010.117414</td>\n",
              "      <td>1000.000000</td>\n",
              "      <td>0.0</td>\n",
              "      <td>50.780000</td>\n",
              "      <td>50.78000</td>\n",
              "      <td>50.780000</td>\n",
              "      <td>0.000000</td>\n",
              "      <td>0.0</td>\n",
              "      <td>0.0</td>\n",
              "      <td>50.760000</td>\n",
              "      <td>50.760000</td>\n",
              "      <td>50.680000</td>\n",
              "      <td>0.0</td>\n",
              "      <td>0.0</td>\n",
              "      <td>50.78</td>\n",
              "      <td>50.7800</td>\n",
              "      <td>1.0</td>\n",
              "      <td>1.0</td>\n",
              "      <td>NaN</td>\n",
              "      <td>NaN</td>\n",
              "      <td>NaN</td>\n",
              "      <td>NaN</td>\n",
              "      <td>NaN</td>\n",
              "      <td>0.0</td>\n",
              "      <td>0.0</td>\n",
              "      <td>0.0</td>\n",
              "      <td>NaN</td>\n",
              "      <td>NaN</td>\n",
              "      <td>NaN</td>\n",
              "      <td>NaN</td>\n",
              "      <td>0.0</td>\n",
              "      <td>NaN</td>\n",
              "      <td>38.631151</td>\n",
              "      <td>-432.061892</td>\n",
              "      <td>-432.061892</td>\n",
              "      <td>0.000000</td>\n",
              "      <td>50.7500</td>\n",
              "      <td>50.7500</td>\n",
              "      <td>89.407103</td>\n",
              "      <td>89.398168</td>\n",
              "      <td>4.0</td>\n",
              "      <td>4.0</td>\n",
              "      <td>0.0</td>\n",
              "      <td>50.78</td>\n",
              "      <td>NaN</td>\n",
              "      <td>NaN</td>\n",
              "      <td>0.0</td>\n",
              "      <td>0.0</td>\n",
              "      <td>100.0</td>\n",
              "      <td>NaN</td>\n",
              "      <td>NaN</td>\n",
              "      <td>NaN</td>\n",
              "      <td>87.500000</td>\n",
              "      <td>87.500000</td>\n",
              "      <td>-12.500000</td>\n",
              "      <td>0.0</td>\n",
              "      <td>NaN</td>\n",
              "      <td>NaN</td>\n",
              "      <td>-43.206189</td>\n",
              "      <td>NaN</td>\n",
              "      <td>0.000000</td>\n",
              "    </tr>\n",
              "    <tr>\n",
              "      <th>2009-09-28 09:37:33</th>\n",
              "      <td>50.78</td>\n",
              "      <td>50.8226</td>\n",
              "      <td>50.7800</td>\n",
              "      <td>50.8200</td>\n",
              "      <td>1998.0</td>\n",
              "      <td>3507.612676</td>\n",
              "      <td>4336.0</td>\n",
              "      <td>0.808951</td>\n",
              "      <td>NaN</td>\n",
              "      <td>109.378378</td>\n",
              "      <td>109.378378</td>\n",
              "      <td>-1008.586857</td>\n",
              "      <td>1000.787712</td>\n",
              "      <td>0.0</td>\n",
              "      <td>50.800000</td>\n",
              "      <td>50.84000</td>\n",
              "      <td>50.760000</td>\n",
              "      <td>0.080000</td>\n",
              "      <td>0.0</td>\n",
              "      <td>0.0</td>\n",
              "      <td>50.783767</td>\n",
              "      <td>50.783767</td>\n",
              "      <td>50.722467</td>\n",
              "      <td>0.0</td>\n",
              "      <td>0.0</td>\n",
              "      <td>50.78</td>\n",
              "      <td>50.8200</td>\n",
              "      <td>1.0</td>\n",
              "      <td>0.0</td>\n",
              "      <td>NaN</td>\n",
              "      <td>NaN</td>\n",
              "      <td>NaN</td>\n",
              "      <td>NaN</td>\n",
              "      <td>NaN</td>\n",
              "      <td>0.0</td>\n",
              "      <td>0.0</td>\n",
              "      <td>0.0</td>\n",
              "      <td>NaN</td>\n",
              "      <td>NaN</td>\n",
              "      <td>NaN</td>\n",
              "      <td>NaN</td>\n",
              "      <td>0.0</td>\n",
              "      <td>66.666667</td>\n",
              "      <td>38.611151</td>\n",
              "      <td>-431.838207</td>\n",
              "      <td>-431.950050</td>\n",
              "      <td>0.111843</td>\n",
              "      <td>50.7663</td>\n",
              "      <td>50.7663</td>\n",
              "      <td>89.407103</td>\n",
              "      <td>89.398168</td>\n",
              "      <td>8.0</td>\n",
              "      <td>4.0</td>\n",
              "      <td>4.0</td>\n",
              "      <td>50.82</td>\n",
              "      <td>NaN</td>\n",
              "      <td>NaN</td>\n",
              "      <td>0.0</td>\n",
              "      <td>0.0</td>\n",
              "      <td>100.0</td>\n",
              "      <td>NaN</td>\n",
              "      <td>100.0</td>\n",
              "      <td>NaN</td>\n",
              "      <td>97.690941</td>\n",
              "      <td>92.595471</td>\n",
              "      <td>-2.309059</td>\n",
              "      <td>0.0</td>\n",
              "      <td>NaN</td>\n",
              "      <td>NaN</td>\n",
              "      <td>0.078771</td>\n",
              "      <td>0.078740</td>\n",
              "      <td>0.078771</td>\n",
              "    </tr>\n",
              "    <tr>\n",
              "      <th>2009-09-28 09:41:53</th>\n",
              "      <td>50.82</td>\n",
              "      <td>50.8500</td>\n",
              "      <td>50.8000</td>\n",
              "      <td>50.8299</td>\n",
              "      <td>2066.0</td>\n",
              "      <td>3912.548676</td>\n",
              "      <td>6402.0</td>\n",
              "      <td>0.611145</td>\n",
              "      <td>NaN</td>\n",
              "      <td>57.357212</td>\n",
              "      <td>83.367795</td>\n",
              "      <td>1.976316</td>\n",
              "      <td>1000.787712</td>\n",
              "      <td>0.0</td>\n",
              "      <td>50.809967</td>\n",
              "      <td>50.85311</td>\n",
              "      <td>50.766823</td>\n",
              "      <td>0.086287</td>\n",
              "      <td>0.0</td>\n",
              "      <td>0.0</td>\n",
              "      <td>50.798056</td>\n",
              "      <td>50.798056</td>\n",
              "      <td>50.740522</td>\n",
              "      <td>0.0</td>\n",
              "      <td>0.0</td>\n",
              "      <td>50.78</td>\n",
              "      <td>50.8299</td>\n",
              "      <td>1.0</td>\n",
              "      <td>0.0</td>\n",
              "      <td>NaN</td>\n",
              "      <td>NaN</td>\n",
              "      <td>NaN</td>\n",
              "      <td>NaN</td>\n",
              "      <td>NaN</td>\n",
              "      <td>0.0</td>\n",
              "      <td>0.0</td>\n",
              "      <td>0.0</td>\n",
              "      <td>NaN</td>\n",
              "      <td>NaN</td>\n",
              "      <td>NaN</td>\n",
              "      <td>NaN</td>\n",
              "      <td>0.0</td>\n",
              "      <td>75.094891</td>\n",
              "      <td>38.601185</td>\n",
              "      <td>-431.726737</td>\n",
              "      <td>-431.875612</td>\n",
              "      <td>0.148875</td>\n",
              "      <td>50.7800</td>\n",
              "      <td>50.7800</td>\n",
              "      <td>89.407103</td>\n",
              "      <td>89.398168</td>\n",
              "      <td>12.0</td>\n",
              "      <td>4.0</td>\n",
              "      <td>8.0</td>\n",
              "      <td>50.79</td>\n",
              "      <td>NaN</td>\n",
              "      <td>50.79</td>\n",
              "      <td>0.0</td>\n",
              "      <td>1.0</td>\n",
              "      <td>100.0</td>\n",
              "      <td>NaN</td>\n",
              "      <td>100.0</td>\n",
              "      <td>NaN</td>\n",
              "      <td>85.642857</td>\n",
              "      <td>90.277933</td>\n",
              "      <td>-14.357143</td>\n",
              "      <td>0.0</td>\n",
              "      <td>NaN</td>\n",
              "      <td>NaN</td>\n",
              "      <td>0.019481</td>\n",
              "      <td>0.019479</td>\n",
              "      <td>0.098267</td>\n",
              "    </tr>\n",
              "    <tr>\n",
              "      <th>2009-09-28 09:44:09</th>\n",
              "      <td>50.81</td>\n",
              "      <td>50.8400</td>\n",
              "      <td>50.7833</td>\n",
              "      <td>50.8400</td>\n",
              "      <td>2142.0</td>\n",
              "      <td>6054.548676</td>\n",
              "      <td>8544.0</td>\n",
              "      <td>0.708632</td>\n",
              "      <td>NaN</td>\n",
              "      <td>-35.338235</td>\n",
              "      <td>43.799118</td>\n",
              "      <td>0.828087</td>\n",
              "      <td>1000.787712</td>\n",
              "      <td>0.0</td>\n",
              "      <td>50.817475</td>\n",
              "      <td>50.86300</td>\n",
              "      <td>50.771950</td>\n",
              "      <td>0.091050</td>\n",
              "      <td>0.0</td>\n",
              "      <td>0.0</td>\n",
              "      <td>50.803817</td>\n",
              "      <td>50.803817</td>\n",
              "      <td>50.746492</td>\n",
              "      <td>0.0</td>\n",
              "      <td>0.0</td>\n",
              "      <td>50.78</td>\n",
              "      <td>50.8400</td>\n",
              "      <td>1.0</td>\n",
              "      <td>0.0</td>\n",
              "      <td>NaN</td>\n",
              "      <td>NaN</td>\n",
              "      <td>NaN</td>\n",
              "      <td>NaN</td>\n",
              "      <td>NaN</td>\n",
              "      <td>0.0</td>\n",
              "      <td>0.0</td>\n",
              "      <td>0.0</td>\n",
              "      <td>NaN</td>\n",
              "      <td>NaN</td>\n",
              "      <td>NaN</td>\n",
              "      <td>NaN</td>\n",
              "      <td>0.0</td>\n",
              "      <td>52.592874</td>\n",
              "      <td>38.593676</td>\n",
              "      <td>-431.642761</td>\n",
              "      <td>-431.817399</td>\n",
              "      <td>0.174638</td>\n",
              "      <td>50.7800</td>\n",
              "      <td>50.7800</td>\n",
              "      <td>89.407103</td>\n",
              "      <td>89.398168</td>\n",
              "      <td>16.0</td>\n",
              "      <td>4.0</td>\n",
              "      <td>12.0</td>\n",
              "      <td>50.80</td>\n",
              "      <td>50.8</td>\n",
              "      <td>NaN</td>\n",
              "      <td>1.0</td>\n",
              "      <td>0.0</td>\n",
              "      <td>100.0</td>\n",
              "      <td>NaN</td>\n",
              "      <td>100.0</td>\n",
              "      <td>NaN</td>\n",
              "      <td>92.857143</td>\n",
              "      <td>92.063647</td>\n",
              "      <td>-7.142857</td>\n",
              "      <td>0.0</td>\n",
              "      <td>NaN</td>\n",
              "      <td>NaN</td>\n",
              "      <td>0.019870</td>\n",
              "      <td>0.019868</td>\n",
              "      <td>0.118157</td>\n",
              "    </tr>\n",
              "  </tbody>\n",
              "</table>\n",
              "</div>"
            ],
            "text/plain": [
              "                      open     high      low  ...  others_dr  others_dlr  others_cr\n",
              "date_time                                     ...                                  \n",
              "2009-09-28 09:32:06    NaN      NaN      NaN  ...        NaN         NaN        NaN\n",
              "2009-09-28 09:33:54  50.79  50.7900  50.7100  ... -43.206189         NaN   0.000000\n",
              "2009-09-28 09:37:33  50.78  50.8226  50.7800  ...   0.078771    0.078740   0.078771\n",
              "2009-09-28 09:41:53  50.82  50.8500  50.8000  ...   0.019481    0.019479   0.098267\n",
              "2009-09-28 09:44:09  50.81  50.8400  50.7833  ...   0.019870    0.019868   0.118157\n",
              "\n",
              "[5 rows x 72 columns]"
            ]
          },
          "metadata": {
            "tags": []
          },
          "execution_count": 321
        }
      ]
    },
    {
      "cell_type": "code",
      "metadata": {
        "id": "KRgoUw3sK8Qb",
        "colab_type": "code",
        "outputId": "5c3566ec-4c2c-4c5d-ebfe-5b33431b0317",
        "colab": {
          "base_uri": "https://localhost:8080/",
          "height": 381
        }
      },
      "source": [
        "ta_features.columns"
      ],
      "execution_count": 322,
      "outputs": [
        {
          "output_type": "execute_result",
          "data": {
            "text/plain": [
              "Index(['open', 'high', 'low', 'close', 'volume', 'volume_adi', 'volume_obv',\n",
              "       'volume_cmf', 'volume_fi', 'volume_em', 'volume_sma_em', 'volume_vpt',\n",
              "       'volume_nvi', 'volatility_atr', 'volatility_bbm', 'volatility_bbh',\n",
              "       'volatility_bbl', 'volatility_bbw', 'volatility_bbhi',\n",
              "       'volatility_bbli', 'volatility_kcc', 'volatility_kch', 'volatility_kcl',\n",
              "       'volatility_kchi', 'volatility_kcli', 'volatility_dcl',\n",
              "       'volatility_dch', 'volatility_dchi', 'volatility_dcli', 'trend_macd',\n",
              "       'trend_macd_signal', 'trend_macd_diff', 'trend_ema_fast',\n",
              "       'trend_ema_slow', 'trend_adx', 'trend_adx_pos', 'trend_adx_neg',\n",
              "       'trend_vortex_ind_pos', 'trend_vortex_ind_neg', 'trend_vortex_ind_diff',\n",
              "       'trend_trix', 'trend_mass_index', 'trend_cci', 'trend_dpo', 'trend_kst',\n",
              "       'trend_kst_sig', 'trend_kst_diff', 'trend_ichimoku_a',\n",
              "       'trend_ichimoku_b', 'trend_visual_ichimoku_a',\n",
              "       'trend_visual_ichimoku_b', 'trend_aroon_up', 'trend_aroon_down',\n",
              "       'trend_aroon_ind', 'trend_psar', 'trend_psar_up', 'trend_psar_down',\n",
              "       'trend_psar_up_indicator', 'trend_psar_down_indicator', 'momentum_rsi',\n",
              "       'momentum_mfi', 'momentum_tsi', 'momentum_uo', 'momentum_stoch',\n",
              "       'momentum_stoch_signal', 'momentum_wr', 'momentum_ao', 'momentum_kama',\n",
              "       'momentum_roc', 'others_dr', 'others_dlr', 'others_cr'],\n",
              "      dtype='object')"
            ]
          },
          "metadata": {
            "tags": []
          },
          "execution_count": 322
        }
      ]
    },
    {
      "cell_type": "code",
      "metadata": {
        "id": "JAELqopMOhNb",
        "colab_type": "code",
        "colab": {}
      },
      "source": [
        "ta_features_3 = ta_features.loc[:, ['volume_adi', 'volatility_atr', 'trend_macd',\n",
        "                    'trend_cci', 'momentum_rsi', 'momentum_stoch', 'momentum_kama']]"
      ],
      "execution_count": 0,
      "outputs": []
    },
    {
      "cell_type": "code",
      "metadata": {
        "id": "QhLb7M4wQc4U",
        "colab_type": "code",
        "outputId": "5698f380-3906-42b3-9cb6-2e277c416bc4",
        "colab": {
          "base_uri": "https://localhost:8080/",
          "height": 437
        }
      },
      "source": [
        "ta_features_3 = ta_features_3.dropna(axis=1,how='any',thresh=len(ta_features)-20)\n",
        "ta_features_3 = ta_features_3.dropna()\n",
        "ta_features_3"
      ],
      "execution_count": 324,
      "outputs": [
        {
          "output_type": "execute_result",
          "data": {
            "text/html": [
              "<div>\n",
              "<style scoped>\n",
              "    .dataframe tbody tr th:only-of-type {\n",
              "        vertical-align: middle;\n",
              "    }\n",
              "\n",
              "    .dataframe tbody tr th {\n",
              "        vertical-align: top;\n",
              "    }\n",
              "\n",
              "    .dataframe thead th {\n",
              "        text-align: right;\n",
              "    }\n",
              "</style>\n",
              "<table border=\"1\" class=\"dataframe\">\n",
              "  <thead>\n",
              "    <tr style=\"text-align: right;\">\n",
              "      <th></th>\n",
              "      <th>volume_adi</th>\n",
              "      <th>volatility_atr</th>\n",
              "      <th>trend_cci</th>\n",
              "      <th>momentum_rsi</th>\n",
              "      <th>momentum_stoch</th>\n",
              "    </tr>\n",
              "    <tr>\n",
              "      <th>date_time</th>\n",
              "      <th></th>\n",
              "      <th></th>\n",
              "      <th></th>\n",
              "      <th></th>\n",
              "      <th></th>\n",
              "    </tr>\n",
              "  </thead>\n",
              "  <tbody>\n",
              "    <tr>\n",
              "      <th>2009-09-28 09:37:33</th>\n",
              "      <td>3507.612676</td>\n",
              "      <td>0.000000</td>\n",
              "      <td>66.666667</td>\n",
              "      <td>100.000000</td>\n",
              "      <td>97.690941</td>\n",
              "    </tr>\n",
              "    <tr>\n",
              "      <th>2009-09-28 09:41:53</th>\n",
              "      <td>3912.548676</td>\n",
              "      <td>0.000000</td>\n",
              "      <td>75.094891</td>\n",
              "      <td>100.000000</td>\n",
              "      <td>85.642857</td>\n",
              "    </tr>\n",
              "    <tr>\n",
              "      <th>2009-09-28 09:44:09</th>\n",
              "      <td>6054.548676</td>\n",
              "      <td>0.000000</td>\n",
              "      <td>52.592874</td>\n",
              "      <td>100.000000</td>\n",
              "      <td>92.857143</td>\n",
              "    </tr>\n",
              "    <tr>\n",
              "      <th>2009-09-28 09:45:02</th>\n",
              "      <td>8054.548676</td>\n",
              "      <td>0.000000</td>\n",
              "      <td>147.444218</td>\n",
              "      <td>100.000000</td>\n",
              "      <td>100.000000</td>\n",
              "    </tr>\n",
              "    <tr>\n",
              "      <th>2009-09-28 09:46:34</th>\n",
              "      <td>10156.548676</td>\n",
              "      <td>0.000000</td>\n",
              "      <td>157.907605</td>\n",
              "      <td>100.000000</td>\n",
              "      <td>100.000000</td>\n",
              "    </tr>\n",
              "    <tr>\n",
              "      <th>...</th>\n",
              "      <td>...</td>\n",
              "      <td>...</td>\n",
              "      <td>...</td>\n",
              "      <td>...</td>\n",
              "      <td>...</td>\n",
              "    </tr>\n",
              "    <tr>\n",
              "      <th>2019-06-28 15:59:35</th>\n",
              "      <td>-392122.253007</td>\n",
              "      <td>0.031394</td>\n",
              "      <td>31.744030</td>\n",
              "      <td>57.430666</td>\n",
              "      <td>43.478261</td>\n",
              "    </tr>\n",
              "    <tr>\n",
              "      <th>2019-06-28 15:59:46</th>\n",
              "      <td>-393300.253007</td>\n",
              "      <td>0.030255</td>\n",
              "      <td>13.393899</td>\n",
              "      <td>54.273821</td>\n",
              "      <td>31.818182</td>\n",
              "    </tr>\n",
              "    <tr>\n",
              "      <th>2019-06-28 15:59:59</th>\n",
              "      <td>-392319.253007</td>\n",
              "      <td>0.031229</td>\n",
              "      <td>32.938847</td>\n",
              "      <td>59.114372</td>\n",
              "      <td>50.000000</td>\n",
              "    </tr>\n",
              "    <tr>\n",
              "      <th>2019-06-28 16:00:00</th>\n",
              "      <td>-394055.253007</td>\n",
              "      <td>0.032106</td>\n",
              "      <td>35.815504</td>\n",
              "      <td>55.926491</td>\n",
              "      <td>40.909091</td>\n",
              "    </tr>\n",
              "    <tr>\n",
              "      <th>2019-06-28 17:29:22</th>\n",
              "      <td>-394055.253007</td>\n",
              "      <td>0.031896</td>\n",
              "      <td>52.490506</td>\n",
              "      <td>59.458223</td>\n",
              "      <td>33.333333</td>\n",
              "    </tr>\n",
              "  </tbody>\n",
              "</table>\n",
              "<p>347842 rows × 5 columns</p>\n",
              "</div>"
            ],
            "text/plain": [
              "                        volume_adi  ...  momentum_stoch\n",
              "date_time                           ...                \n",
              "2009-09-28 09:37:33    3507.612676  ...       97.690941\n",
              "2009-09-28 09:41:53    3912.548676  ...       85.642857\n",
              "2009-09-28 09:44:09    6054.548676  ...       92.857143\n",
              "2009-09-28 09:45:02    8054.548676  ...      100.000000\n",
              "2009-09-28 09:46:34   10156.548676  ...      100.000000\n",
              "...                            ...  ...             ...\n",
              "2019-06-28 15:59:35 -392122.253007  ...       43.478261\n",
              "2019-06-28 15:59:46 -393300.253007  ...       31.818182\n",
              "2019-06-28 15:59:59 -392319.253007  ...       50.000000\n",
              "2019-06-28 16:00:00 -394055.253007  ...       40.909091\n",
              "2019-06-28 17:29:22 -394055.253007  ...       33.333333\n",
              "\n",
              "[347842 rows x 5 columns]"
            ]
          },
          "metadata": {
            "tags": []
          },
          "execution_count": 324
        }
      ]
    },
    {
      "cell_type": "code",
      "metadata": {
        "id": "wfxFGLbAqC-t",
        "colab_type": "code",
        "colab": {}
      },
      "source": [
        "raw_data = pd.DataFrame(close)\n",
        "\n",
        "log_ret = np.log(raw_data['close']).diff()\n",
        "\n",
        "raw_data['sma10'] = raw_data['close'].rolling(window = 10).mean()\n",
        "\n",
        "# Momentum\n",
        "raw_data['mom1'] = raw_data['close'].pct_change(periods=1)\n",
        "raw_data['mom2'] = raw_data['close'].pct_change(periods=2)\n",
        "raw_data['mom3'] = raw_data['close'].pct_change(periods=3)\n",
        "\n",
        "'''# Volatility\n",
        "raw_data['volatility_50'] = log_ret.rolling(window=50, min_periods=50, center=False).std()\n",
        "raw_data['volatility_31'] = log_ret.rolling(window=31, min_periods=31, center=False).std()\n",
        "raw_data['volatility_15'] = log_ret.rolling(window=15, min_periods=15, center=False).std()'''\n",
        "\n",
        "# Serial Correlation\n",
        "window_autocorr = 50\n",
        "\n",
        "raw_data['autocorr_1'] = log_ret.rolling(window=window_autocorr, min_periods=window_autocorr, center=False).apply(lambda x: x.autocorr(lag=1), raw=False)\n",
        "raw_data['autocorr_2'] = log_ret.rolling(window=window_autocorr, min_periods=window_autocorr, center=False).apply(lambda x: x.autocorr(lag=2), raw=False)\n",
        "raw_data['autocorr_3'] = log_ret.rolling(window=window_autocorr, min_periods=window_autocorr, center=False).apply(lambda x: x.autocorr(lag=3), raw=False)\n",
        "\n",
        "# Remove look ahead bias\n",
        "raw_data = raw_data.shift(1)"
      ],
      "execution_count": 0,
      "outputs": []
    },
    {
      "cell_type": "code",
      "metadata": {
        "id": "jfj_uAf0zwO4",
        "colab_type": "code",
        "colab": {}
      },
      "source": [
        "raw_X = raw_data.join(ta_features_3)\n",
        "raw_X = raw_X.iloc[:,1:]\n",
        "raw_X.dropna(inplace=True)"
      ],
      "execution_count": 0,
      "outputs": []
    },
    {
      "cell_type": "code",
      "metadata": {
        "id": "sel6ZcCmHTS9",
        "colab_type": "code",
        "colab": {
          "base_uri": "https://localhost:8080/",
          "height": 421
        },
        "outputId": "f71cfc23-87e2-4ca8-b259-172a723538e0"
      },
      "source": [
        "raw_X.head()"
      ],
      "execution_count": 333,
      "outputs": [
        {
          "output_type": "execute_result",
          "data": {
            "text/html": [
              "<div>\n",
              "<style scoped>\n",
              "    .dataframe tbody tr th:only-of-type {\n",
              "        vertical-align: middle;\n",
              "    }\n",
              "\n",
              "    .dataframe tbody tr th {\n",
              "        vertical-align: top;\n",
              "    }\n",
              "\n",
              "    .dataframe thead th {\n",
              "        text-align: right;\n",
              "    }\n",
              "</style>\n",
              "<table border=\"1\" class=\"dataframe\">\n",
              "  <thead>\n",
              "    <tr style=\"text-align: right;\">\n",
              "      <th></th>\n",
              "      <th>sma10</th>\n",
              "      <th>mom1</th>\n",
              "      <th>mom2</th>\n",
              "      <th>mom3</th>\n",
              "      <th>autocorr_1</th>\n",
              "      <th>autocorr_2</th>\n",
              "      <th>autocorr_3</th>\n",
              "      <th>volume_adi</th>\n",
              "      <th>volatility_atr</th>\n",
              "      <th>trend_cci</th>\n",
              "      <th>momentum_rsi</th>\n",
              "      <th>momentum_stoch</th>\n",
              "    </tr>\n",
              "    <tr>\n",
              "      <th>date_time</th>\n",
              "      <th></th>\n",
              "      <th></th>\n",
              "      <th></th>\n",
              "      <th></th>\n",
              "      <th></th>\n",
              "      <th></th>\n",
              "      <th></th>\n",
              "      <th></th>\n",
              "      <th></th>\n",
              "      <th></th>\n",
              "      <th></th>\n",
              "      <th></th>\n",
              "    </tr>\n",
              "  </thead>\n",
              "  <tbody>\n",
              "    <tr>\n",
              "      <th>2009-09-28 10:30:08</th>\n",
              "      <td>51.23457</td>\n",
              "      <td>-0.000244</td>\n",
              "      <td>-0.000390</td>\n",
              "      <td>-0.000390</td>\n",
              "      <td>0.111248</td>\n",
              "      <td>-0.019038</td>\n",
              "      <td>-0.091295</td>\n",
              "      <td>16414.286212</td>\n",
              "      <td>0.022530</td>\n",
              "      <td>-49.954509</td>\n",
              "      <td>53.022695</td>\n",
              "      <td>41.57741</td>\n",
              "    </tr>\n",
              "    <tr>\n",
              "      <th>2009-09-28 10:31:09</th>\n",
              "      <td>51.23966</td>\n",
              "      <td>0.001171</td>\n",
              "      <td>0.000927</td>\n",
              "      <td>0.000780</td>\n",
              "      <td>0.090115</td>\n",
              "      <td>-0.034099</td>\n",
              "      <td>-0.135601</td>\n",
              "      <td>18669.286212</td>\n",
              "      <td>0.026277</td>\n",
              "      <td>126.129771</td>\n",
              "      <td>62.820619</td>\n",
              "      <td>100.00000</td>\n",
              "    </tr>\n",
              "    <tr>\n",
              "      <th>2009-09-28 10:31:44</th>\n",
              "      <td>51.24886</td>\n",
              "      <td>0.000195</td>\n",
              "      <td>0.001366</td>\n",
              "      <td>0.001122</td>\n",
              "      <td>0.088609</td>\n",
              "      <td>-0.037041</td>\n",
              "      <td>-0.153285</td>\n",
              "      <td>21056.286212</td>\n",
              "      <td>0.025209</td>\n",
              "      <td>158.448681</td>\n",
              "      <td>64.162212</td>\n",
              "      <td>100.00000</td>\n",
              "    </tr>\n",
              "    <tr>\n",
              "      <th>2009-09-28 10:31:45</th>\n",
              "      <td>51.26086</td>\n",
              "      <td>0.000975</td>\n",
              "      <td>0.001170</td>\n",
              "      <td>0.002342</td>\n",
              "      <td>0.089802</td>\n",
              "      <td>-0.001398</td>\n",
              "      <td>-0.172220</td>\n",
              "      <td>23757.286212</td>\n",
              "      <td>0.027688</td>\n",
              "      <td>249.120047</td>\n",
              "      <td>69.992645</td>\n",
              "      <td>100.00000</td>\n",
              "    </tr>\n",
              "    <tr>\n",
              "      <th>2009-09-28 10:32:01</th>\n",
              "      <td>51.27625</td>\n",
              "      <td>0.000000</td>\n",
              "      <td>0.000975</td>\n",
              "      <td>0.001170</td>\n",
              "      <td>-0.025007</td>\n",
              "      <td>-0.055019</td>\n",
              "      <td>-0.172808</td>\n",
              "      <td>23757.286212</td>\n",
              "      <td>0.024919</td>\n",
              "      <td>222.923841</td>\n",
              "      <td>69.992645</td>\n",
              "      <td>100.00000</td>\n",
              "    </tr>\n",
              "  </tbody>\n",
              "</table>\n",
              "</div>"
            ],
            "text/plain": [
              "                        sma10      mom1  ...  momentum_rsi  momentum_stoch\n",
              "date_time                                ...                              \n",
              "2009-09-28 10:30:08  51.23457 -0.000244  ...     53.022695        41.57741\n",
              "2009-09-28 10:31:09  51.23966  0.001171  ...     62.820619       100.00000\n",
              "2009-09-28 10:31:44  51.24886  0.000195  ...     64.162212       100.00000\n",
              "2009-09-28 10:31:45  51.26086  0.000975  ...     69.992645       100.00000\n",
              "2009-09-28 10:32:01  51.27625  0.000000  ...     69.992645       100.00000\n",
              "\n",
              "[5 rows x 12 columns]"
            ]
          },
          "metadata": {
            "tags": []
          },
          "execution_count": 333
        }
      ]
    },
    {
      "cell_type": "markdown",
      "metadata": {
        "id": "9lSqiSDQT-8w",
        "colab_type": "text"
      },
      "source": [
        "PCA"
      ]
    },
    {
      "cell_type": "code",
      "metadata": {
        "id": "2YTsGoXDwAK6",
        "colab_type": "code",
        "outputId": "1759c467-cd29-4545-de50-c7e0aa0c3740",
        "colab": {
          "base_uri": "https://localhost:8080/",
          "height": 35
        }
      },
      "source": [
        "# Feature decomposition PCA\n",
        "\n",
        "n=5\n",
        "pca = PCA(n)\n",
        "pca.fit(raw_X)\n",
        "pcaX = pca.transform(raw_X)\n",
        "\n",
        "X = pd.DataFrame(index=raw_X.index)\n",
        "for i in range(n):\n",
        "  a = pd.Series(data=pcaX[:,i],index=raw_X.index,name=i)\n",
        "  X = X.join(a)\n",
        "'''\n",
        "\n",
        "# No PCA\n",
        "X = raw_X.copy()'''"
      ],
      "execution_count": 327,
      "outputs": [
        {
          "output_type": "execute_result",
          "data": {
            "text/plain": [
              "'\\n\\n# No PCA\\nX = raw_X.copy()'"
            ]
          },
          "metadata": {
            "tags": []
          },
          "execution_count": 327
        }
      ]
    },
    {
      "cell_type": "code",
      "metadata": {
        "id": "rNckNz9Efh1x",
        "colab_type": "code",
        "colab": {}
      },
      "source": [
        "X['side'] = side"
      ],
      "execution_count": 0,
      "outputs": []
    },
    {
      "cell_type": "code",
      "metadata": {
        "id": "shUhprlPtnjR",
        "colab_type": "code",
        "colab": {}
      },
      "source": [
        "ffd = features.fracdiff.frac_diff_ffd(close.to_frame(),0.4)"
      ],
      "execution_count": 0,
      "outputs": []
    },
    {
      "cell_type": "code",
      "metadata": {
        "id": "Y7mkiYriuj6X",
        "colab_type": "code",
        "colab": {}
      },
      "source": [
        "X['ffd'] = ffd"
      ],
      "execution_count": 0,
      "outputs": []
    },
    {
      "cell_type": "code",
      "metadata": {
        "id": "kLhM3Oz8M3lt",
        "colab_type": "code",
        "colab": {}
      },
      "source": [
        "X.dropna(inplace=True)"
      ],
      "execution_count": 0,
      "outputs": []
    },
    {
      "cell_type": "code",
      "metadata": {
        "id": "FTpFf2bv1mCH",
        "colab_type": "code",
        "colab": {
          "base_uri": "https://localhost:8080/",
          "height": 228
        },
        "outputId": "c5bf8d3c-ce34-43ad-b5d9-70bdf4541a79"
      },
      "source": [
        "X.head()"
      ],
      "execution_count": 332,
      "outputs": [
        {
          "output_type": "execute_result",
          "data": {
            "text/html": [
              "<div>\n",
              "<style scoped>\n",
              "    .dataframe tbody tr th:only-of-type {\n",
              "        vertical-align: middle;\n",
              "    }\n",
              "\n",
              "    .dataframe tbody tr th {\n",
              "        vertical-align: top;\n",
              "    }\n",
              "\n",
              "    .dataframe thead th {\n",
              "        text-align: right;\n",
              "    }\n",
              "</style>\n",
              "<table border=\"1\" class=\"dataframe\">\n",
              "  <thead>\n",
              "    <tr style=\"text-align: right;\">\n",
              "      <th></th>\n",
              "      <th>0</th>\n",
              "      <th>1</th>\n",
              "      <th>2</th>\n",
              "      <th>3</th>\n",
              "      <th>4</th>\n",
              "      <th>side</th>\n",
              "      <th>ffd</th>\n",
              "    </tr>\n",
              "    <tr>\n",
              "      <th>date_time</th>\n",
              "      <th></th>\n",
              "      <th></th>\n",
              "      <th></th>\n",
              "      <th></th>\n",
              "      <th></th>\n",
              "      <th></th>\n",
              "      <th></th>\n",
              "    </tr>\n",
              "  </thead>\n",
              "  <tbody>\n",
              "    <tr>\n",
              "      <th>2009-10-14 15:08:13</th>\n",
              "      <td>-1.917113e+06</td>\n",
              "      <td>-307.305743</td>\n",
              "      <td>-25.302772</td>\n",
              "      <td>-43.674973</td>\n",
              "      <td>-7.883854</td>\n",
              "      <td>-1.0</td>\n",
              "      <td>2.073613</td>\n",
              "    </tr>\n",
              "    <tr>\n",
              "      <th>2009-10-14 15:13:06</th>\n",
              "      <td>-1.917764e+06</td>\n",
              "      <td>-288.324497</td>\n",
              "      <td>-25.334982</td>\n",
              "      <td>-41.051055</td>\n",
              "      <td>-5.940096</td>\n",
              "      <td>-1.0</td>\n",
              "      <td>2.119104</td>\n",
              "    </tr>\n",
              "    <tr>\n",
              "      <th>2009-10-14 15:15:36</th>\n",
              "      <td>-1.915884e+06</td>\n",
              "      <td>-273.208339</td>\n",
              "      <td>-25.512498</td>\n",
              "      <td>-25.926891</td>\n",
              "      <td>-0.548038</td>\n",
              "      <td>-1.0</td>\n",
              "      <td>2.081060</td>\n",
              "    </tr>\n",
              "    <tr>\n",
              "      <th>2009-10-14 15:19:32</th>\n",
              "      <td>-1.916862e+06</td>\n",
              "      <td>-221.317225</td>\n",
              "      <td>-25.569126</td>\n",
              "      <td>-23.445491</td>\n",
              "      <td>2.326327</td>\n",
              "      <td>-1.0</td>\n",
              "      <td>2.102613</td>\n",
              "    </tr>\n",
              "    <tr>\n",
              "      <th>2009-10-14 15:21:12</th>\n",
              "      <td>-1.914678e+06</td>\n",
              "      <td>-188.694123</td>\n",
              "      <td>-25.848036</td>\n",
              "      <td>-0.989677</td>\n",
              "      <td>5.651096</td>\n",
              "      <td>-1.0</td>\n",
              "      <td>2.084311</td>\n",
              "    </tr>\n",
              "  </tbody>\n",
              "</table>\n",
              "</div>"
            ],
            "text/plain": [
              "                                0           1  ...  side       ffd\n",
              "date_time                                      ...                \n",
              "2009-10-14 15:08:13 -1.917113e+06 -307.305743  ...  -1.0  2.073613\n",
              "2009-10-14 15:13:06 -1.917764e+06 -288.324497  ...  -1.0  2.119104\n",
              "2009-10-14 15:15:36 -1.915884e+06 -273.208339  ...  -1.0  2.081060\n",
              "2009-10-14 15:19:32 -1.916862e+06 -221.317225  ...  -1.0  2.102613\n",
              "2009-10-14 15:21:12 -1.914678e+06 -188.694123  ...  -1.0  2.084311\n",
              "\n",
              "[5 rows x 7 columns]"
            ]
          },
          "metadata": {
            "tags": []
          },
          "execution_count": 332
        }
      ]
    },
    {
      "cell_type": "code",
      "metadata": {
        "id": "3PBgcFJGxlI-",
        "colab_type": "code",
        "outputId": "b1b752d7-e1a3-45dd-8a73-91d7ae40deb6",
        "colab": {
          "base_uri": "https://localhost:8080/",
          "height": 35
        }
      },
      "source": [
        "len(X)"
      ],
      "execution_count": 334,
      "outputs": [
        {
          "output_type": "execute_result",
          "data": {
            "text/plain": [
              "49038"
            ]
          },
          "metadata": {
            "tags": []
          },
          "execution_count": 334
        }
      ]
    },
    {
      "cell_type": "markdown",
      "metadata": {
        "id": "--gobRxAdv5D",
        "colab_type": "text"
      },
      "source": [
        "### 4. Fit a second ML model"
      ]
    },
    {
      "cell_type": "code",
      "metadata": {
        "id": "T0BgIS4xtjZt",
        "colab_type": "code",
        "colab": {}
      },
      "source": [
        "tmp_data = X.copy()\n",
        "tmp_data = tmp_data.join(bin.bin)\n",
        "tmp_data.dropna(inplace=True)\n",
        "\n",
        "X = tmp_data.iloc[:,:-1]\n",
        "y = tmp_data[['bin']]"
      ],
      "execution_count": 0,
      "outputs": []
    },
    {
      "cell_type": "code",
      "metadata": {
        "id": "PWNUfeKz3sMU",
        "colab_type": "code",
        "colab": {}
      },
      "source": [
        "t1 = events['t1'].loc[X.index]\n",
        "idx = events.loc[X.index].index"
      ],
      "execution_count": 0,
      "outputs": []
    },
    {
      "cell_type": "code",
      "metadata": {
        "id": "APLe06kDjArq",
        "colab_type": "code",
        "outputId": "720b308a-a4e5-43ef-df54-4e9850a83a08",
        "colab": {
          "base_uri": "https://localhost:8080/",
          "height": 437
        }
      },
      "source": [
        "X"
      ],
      "execution_count": 337,
      "outputs": [
        {
          "output_type": "execute_result",
          "data": {
            "text/html": [
              "<div>\n",
              "<style scoped>\n",
              "    .dataframe tbody tr th:only-of-type {\n",
              "        vertical-align: middle;\n",
              "    }\n",
              "\n",
              "    .dataframe tbody tr th {\n",
              "        vertical-align: top;\n",
              "    }\n",
              "\n",
              "    .dataframe thead th {\n",
              "        text-align: right;\n",
              "    }\n",
              "</style>\n",
              "<table border=\"1\" class=\"dataframe\">\n",
              "  <thead>\n",
              "    <tr style=\"text-align: right;\">\n",
              "      <th></th>\n",
              "      <th>0</th>\n",
              "      <th>1</th>\n",
              "      <th>2</th>\n",
              "      <th>3</th>\n",
              "      <th>4</th>\n",
              "      <th>side</th>\n",
              "      <th>ffd</th>\n",
              "    </tr>\n",
              "    <tr>\n",
              "      <th>date_time</th>\n",
              "      <th></th>\n",
              "      <th></th>\n",
              "      <th></th>\n",
              "      <th></th>\n",
              "      <th></th>\n",
              "      <th></th>\n",
              "      <th></th>\n",
              "    </tr>\n",
              "  </thead>\n",
              "  <tbody>\n",
              "    <tr>\n",
              "      <th>2009-10-14 15:29:13</th>\n",
              "      <td>-1.913487e+06</td>\n",
              "      <td>-136.065482</td>\n",
              "      <td>-25.935560</td>\n",
              "      <td>5.968497</td>\n",
              "      <td>9.982708</td>\n",
              "      <td>-1.0</td>\n",
              "      <td>2.150243</td>\n",
              "    </tr>\n",
              "    <tr>\n",
              "      <th>2009-10-15 11:02:54</th>\n",
              "      <td>-1.927254e+06</td>\n",
              "      <td>261.422908</td>\n",
              "      <td>-26.535728</td>\n",
              "      <td>23.061083</td>\n",
              "      <td>6.513996</td>\n",
              "      <td>1.0</td>\n",
              "      <td>2.080379</td>\n",
              "    </tr>\n",
              "    <tr>\n",
              "      <th>2009-10-16 10:01:16</th>\n",
              "      <td>-1.935420e+06</td>\n",
              "      <td>109.187313</td>\n",
              "      <td>-26.114443</td>\n",
              "      <td>-26.328356</td>\n",
              "      <td>-11.656158</td>\n",
              "      <td>1.0</td>\n",
              "      <td>1.777919</td>\n",
              "    </tr>\n",
              "    <tr>\n",
              "      <th>2009-10-19 09:29:30</th>\n",
              "      <td>-1.945376e+06</td>\n",
              "      <td>-115.269290</td>\n",
              "      <td>-26.295827</td>\n",
              "      <td>19.136093</td>\n",
              "      <td>5.838311</td>\n",
              "      <td>-1.0</td>\n",
              "      <td>1.955723</td>\n",
              "    </tr>\n",
              "    <tr>\n",
              "      <th>2009-10-19 10:46:14</th>\n",
              "      <td>-1.938132e+06</td>\n",
              "      <td>-186.666783</td>\n",
              "      <td>-25.918517</td>\n",
              "      <td>-4.256254</td>\n",
              "      <td>-2.325876</td>\n",
              "      <td>-1.0</td>\n",
              "      <td>2.090380</td>\n",
              "    </tr>\n",
              "    <tr>\n",
              "      <th>...</th>\n",
              "      <td>...</td>\n",
              "      <td>...</td>\n",
              "      <td>...</td>\n",
              "      <td>...</td>\n",
              "      <td>...</td>\n",
              "      <td>...</td>\n",
              "      <td>...</td>\n",
              "    </tr>\n",
              "    <tr>\n",
              "      <th>2019-06-14 14:18:53</th>\n",
              "      <td>-2.635556e+06</td>\n",
              "      <td>-197.271422</td>\n",
              "      <td>39.942346</td>\n",
              "      <td>-4.139491</td>\n",
              "      <td>-4.866260</td>\n",
              "      <td>-1.0</td>\n",
              "      <td>4.296596</td>\n",
              "    </tr>\n",
              "    <tr>\n",
              "      <th>2019-06-14 15:22:45</th>\n",
              "      <td>-2.639933e+06</td>\n",
              "      <td>-197.370252</td>\n",
              "      <td>40.286017</td>\n",
              "      <td>-10.587377</td>\n",
              "      <td>11.731790</td>\n",
              "      <td>-1.0</td>\n",
              "      <td>4.368976</td>\n",
              "    </tr>\n",
              "    <tr>\n",
              "      <th>2019-06-18 09:39:40</th>\n",
              "      <td>-2.637934e+06</td>\n",
              "      <td>-197.796451</td>\n",
              "      <td>39.602271</td>\n",
              "      <td>-9.009322</td>\n",
              "      <td>11.037225</td>\n",
              "      <td>-1.0</td>\n",
              "      <td>4.584617</td>\n",
              "    </tr>\n",
              "    <tr>\n",
              "      <th>2019-06-18 09:41:48</th>\n",
              "      <td>-2.637301e+06</td>\n",
              "      <td>-117.641845</td>\n",
              "      <td>39.739755</td>\n",
              "      <td>16.028612</td>\n",
              "      <td>18.073470</td>\n",
              "      <td>-1.0</td>\n",
              "      <td>4.560476</td>\n",
              "    </tr>\n",
              "    <tr>\n",
              "      <th>2019-06-18 09:48:22</th>\n",
              "      <td>-2.635284e+06</td>\n",
              "      <td>-110.750422</td>\n",
              "      <td>39.935865</td>\n",
              "      <td>22.878929</td>\n",
              "      <td>19.596334</td>\n",
              "      <td>-1.0</td>\n",
              "      <td>4.627692</td>\n",
              "    </tr>\n",
              "  </tbody>\n",
              "</table>\n",
              "<p>3317 rows × 7 columns</p>\n",
              "</div>"
            ],
            "text/plain": [
              "                                0           1  ...  side       ffd\n",
              "date_time                                      ...                \n",
              "2009-10-14 15:29:13 -1.913487e+06 -136.065482  ...  -1.0  2.150243\n",
              "2009-10-15 11:02:54 -1.927254e+06  261.422908  ...   1.0  2.080379\n",
              "2009-10-16 10:01:16 -1.935420e+06  109.187313  ...   1.0  1.777919\n",
              "2009-10-19 09:29:30 -1.945376e+06 -115.269290  ...  -1.0  1.955723\n",
              "2009-10-19 10:46:14 -1.938132e+06 -186.666783  ...  -1.0  2.090380\n",
              "...                           ...         ...  ...   ...       ...\n",
              "2019-06-14 14:18:53 -2.635556e+06 -197.271422  ...  -1.0  4.296596\n",
              "2019-06-14 15:22:45 -2.639933e+06 -197.370252  ...  -1.0  4.368976\n",
              "2019-06-18 09:39:40 -2.637934e+06 -197.796451  ...  -1.0  4.584617\n",
              "2019-06-18 09:41:48 -2.637301e+06 -117.641845  ...  -1.0  4.560476\n",
              "2019-06-18 09:48:22 -2.635284e+06 -110.750422  ...  -1.0  4.627692\n",
              "\n",
              "[3317 rows x 7 columns]"
            ]
          },
          "metadata": {
            "tags": []
          },
          "execution_count": 337
        }
      ]
    },
    {
      "cell_type": "code",
      "metadata": {
        "id": "7ZITPu0qvKVp",
        "colab_type": "code",
        "colab": {}
      },
      "source": [
        "#skf = cross_validation.PurgedKFold(n_splits=5,samples_info_sets= t1, pct_embargo = 0.01)"
      ],
      "execution_count": 0,
      "outputs": []
    },
    {
      "cell_type": "code",
      "metadata": {
        "id": "QtC_iYLvyHSz",
        "colab_type": "code",
        "colab": {}
      },
      "source": [
        "X_train, X_test, y_train, y_test = train_test_split(X, y, test_size=0.4, shuffle=False)"
      ],
      "execution_count": 0,
      "outputs": []
    },
    {
      "cell_type": "code",
      "metadata": {
        "id": "eoDiKFRqz5Dd",
        "colab_type": "code",
        "outputId": "b48a8a2d-6f10-4c4a-8964-bd0e2aab7d68",
        "colab": {
          "base_uri": "https://localhost:8080/",
          "height": 72
        }
      },
      "source": [
        "avgU = sampling.get_av_uniqueness_from_triple_barrier(t1.to_frame(), close, 3).mean()\n",
        "max_samples = avgU[0]\n",
        "max_samples"
      ],
      "execution_count": 340,
      "outputs": [
        {
          "output_type": "stream",
          "text": [
            "2020-01-30 15:43:58.918647 100.0% num_concurrent_events done after 0.04 minutes. Remaining 0.0 minutes.\n",
            "2020-01-30 15:44:01.041589 100.0% _get_average_uniqueness done after 0.03 minutes. Remaining 0.0 minutes.\n"
          ],
          "name": "stderr"
        },
        {
          "output_type": "execute_result",
          "data": {
            "text/plain": [
              "0.6113867866821324"
            ]
          },
          "metadata": {
            "tags": []
          },
          "execution_count": 340
        }
      ]
    },
    {
      "cell_type": "code",
      "metadata": {
        "id": "I2Kd2E7UvOtz",
        "colab_type": "code",
        "colab": {
          "base_uri": "https://localhost:8080/",
          "height": 435
        },
        "outputId": "7d7dcf4b-9500-45e9-9f6f-b3e01447d208"
      },
      "source": [
        "clf0 = RandomForestClassifier(n_estimators=1,criterion='entropy',bootstrap = False, class_weight='balanced_subsample')\n",
        "clf1 = BaggingClassifier(base_estimator=clf0, max_samples=max_samples, max_features=1, n_estimators=1000)\n",
        "clf1.fit(X_train, y_train.values.ravel())\n",
        "\n",
        "#this is the method in the book"
      ],
      "execution_count": 341,
      "outputs": [
        {
          "output_type": "execute_result",
          "data": {
            "text/plain": [
              "BaggingClassifier(base_estimator=RandomForestClassifier(bootstrap=False,\n",
              "                                                        ccp_alpha=0.0,\n",
              "                                                        class_weight='balanced_subsample',\n",
              "                                                        criterion='entropy',\n",
              "                                                        max_depth=None,\n",
              "                                                        max_features='auto',\n",
              "                                                        max_leaf_nodes=None,\n",
              "                                                        max_samples=None,\n",
              "                                                        min_impurity_decrease=0.0,\n",
              "                                                        min_impurity_split=None,\n",
              "                                                        min_samples_leaf=1,\n",
              "                                                        min_samples_split=2,\n",
              "                                                        min_weight_fraction_leaf=0.0,\n",
              "                                                        n_estimators=1,\n",
              "                                                        n_jobs=None,\n",
              "                                                        oob_score=False,\n",
              "                                                        random_state=None,\n",
              "                                                        verbose=0,\n",
              "                                                        warm_start=False),\n",
              "                  bootstrap=True, bootstrap_features=False, max_features=1,\n",
              "                  max_samples=0.6113867866821324, n_estimators=1000,\n",
              "                  n_jobs=None, oob_score=False, random_state=None, verbose=0,\n",
              "                  warm_start=False)"
            ]
          },
          "metadata": {
            "tags": []
          },
          "execution_count": 341
        }
      ]
    },
    {
      "cell_type": "code",
      "metadata": {
        "id": "zq1n0S81P4ue",
        "colab_type": "code",
        "outputId": "0ade21c8-fbea-4ebb-e3c4-d3a677418456",
        "colab": {
          "base_uri": "https://localhost:8080/",
          "height": 417
        }
      },
      "source": [
        "parameters = {'max_depth':[2, 3, 5, 7],\n",
        "              'n_estimators':[100, 512, 1000]}\n",
        "#hyper-parameter tuning\n",
        "\n",
        "rf = RandomForestClassifier(criterion='entropy',max_samples=max_samples, class_weight='balanced_subsample')\n",
        "clf = GridSearchCV(rf, parameters, cv=3, n_jobs=3)\n",
        "clf.fit(X_train, y_train.values.ravel())"
      ],
      "execution_count": 379,
      "outputs": [
        {
          "output_type": "execute_result",
          "data": {
            "text/plain": [
              "GridSearchCV(cv=3, error_score=nan,\n",
              "             estimator=RandomForestClassifier(bootstrap=True, ccp_alpha=0.0,\n",
              "                                              class_weight='balanced_subsample',\n",
              "                                              criterion='entropy',\n",
              "                                              max_depth=None,\n",
              "                                              max_features='auto',\n",
              "                                              max_leaf_nodes=None,\n",
              "                                              max_samples=0.6113867866821324,\n",
              "                                              min_impurity_decrease=0.0,\n",
              "                                              min_impurity_split=None,\n",
              "                                              min_samples_leaf=1,\n",
              "                                              min_samples_split=2,\n",
              "                                              min_weight_fraction_leaf=0.0,\n",
              "                                              n_estimators=100, n_jobs=None,\n",
              "                                              oob_score=False,\n",
              "                                              random_state=None, verbose=0,\n",
              "                                              warm_start=False),\n",
              "             iid='deprecated', n_jobs=3,\n",
              "             param_grid={'max_depth': [2, 3, 5, 7],\n",
              "                         'n_estimators': [100, 512, 1000]},\n",
              "             pre_dispatch='2*n_jobs', refit=True, return_train_score=False,\n",
              "             scoring=None, verbose=0)"
            ]
          },
          "metadata": {
            "tags": []
          },
          "execution_count": 379
        }
      ]
    },
    {
      "cell_type": "code",
      "metadata": {
        "id": "sp2rqWvWWynv",
        "colab_type": "code",
        "outputId": "1dafd5f2-fbcc-43cf-cc6c-d1dea0e9b8ec",
        "colab": {
          "base_uri": "https://localhost:8080/",
          "height": 181
        }
      },
      "source": [
        "clf.best_estimator_"
      ],
      "execution_count": 380,
      "outputs": [
        {
          "output_type": "execute_result",
          "data": {
            "text/plain": [
              "RandomForestClassifier(bootstrap=True, ccp_alpha=0.0,\n",
              "                       class_weight='balanced_subsample', criterion='entropy',\n",
              "                       max_depth=2, max_features='auto', max_leaf_nodes=None,\n",
              "                       max_samples=0.6113867866821324,\n",
              "                       min_impurity_decrease=0.0, min_impurity_split=None,\n",
              "                       min_samples_leaf=1, min_samples_split=2,\n",
              "                       min_weight_fraction_leaf=0.0, n_estimators=100,\n",
              "                       n_jobs=None, oob_score=False, random_state=None,\n",
              "                       verbose=0, warm_start=False)"
            ]
          },
          "metadata": {
            "tags": []
          },
          "execution_count": 380
        }
      ]
    },
    {
      "cell_type": "markdown",
      "metadata": {
        "id": "andA9X9gTNqb",
        "colab_type": "text"
      },
      "source": [
        "Train metrics"
      ]
    },
    {
      "cell_type": "code",
      "metadata": {
        "id": "7KNvBiDMTcme",
        "colab_type": "code",
        "colab": {}
      },
      "source": [
        "y_pred_prob_0 = clf1.predict_proba(X_train)[:, 1]\n",
        "y_pred_0 = clf1.predict(X_train)"
      ],
      "execution_count": 0,
      "outputs": []
    },
    {
      "cell_type": "code",
      "metadata": {
        "id": "yvv-fLnQTGBb",
        "colab_type": "code",
        "outputId": "a805bf8f-a677-4d68-81c6-53929fdad8fd",
        "colab": {
          "base_uri": "https://localhost:8080/",
          "height": 301
        }
      },
      "source": [
        "fpr_rf_0, tpr_rf_0, _ = roc_curve(y_train, y_pred_prob_0)\n",
        "\n",
        "%matplotlib inline\n",
        "\n",
        "plt.figure(1)\n",
        "plt.plot([0, 1], [0, 1], 'k--')\n",
        "plt.plot(fpr_rf_0, tpr_rf_0, label='RF')\n",
        "plt.xlabel('False positive rate')\n",
        "plt.ylabel('True positive rate')\n",
        "plt.title('ROC curve (train)')\n",
        "plt.legend(loc='best')\n",
        "plt.show()"
      ],
      "execution_count": 393,
      "outputs": [
        {
          "output_type": "display_data",
          "data": {
            "image/png": "[encoded data removed]",
            "text/plain": [
              "<Figure size 432x288 with 1 Axes>"
            ]
          },
          "metadata": {
            "tags": []
          }
        }
      ]
    },
    {
      "cell_type": "code",
      "metadata": {
        "id": "qx459WLCTVnW",
        "colab_type": "code",
        "outputId": "38a289cd-bc20-4507-bed4-a0526a1fa214",
        "colab": {
          "base_uri": "https://localhost:8080/",
          "height": 503
        }
      },
      "source": [
        "print(classification_report(y_train, y_pred_0))\n",
        "\n",
        "print(\"Accuracy = \", accuracy_score(y_train, y_pred_0))\n",
        "print('')\n",
        "print(\"Confusion Matrix\")\n",
        "mat = confusion_matrix(y_train, y_pred_0)\n",
        "sns.heatmap(mat , annot=True)\n",
        "plt.xlabel('predicted label')\n",
        "plt.ylabel('true label');"
      ],
      "execution_count": 394,
      "outputs": [
        {
          "output_type": "stream",
          "text": [
            "              precision    recall  f1-score   support\n",
            "\n",
            "         0.0       1.00      1.00      1.00      1113\n",
            "         1.0       1.00      1.00      1.00       877\n",
            "\n",
            "    accuracy                           1.00      1990\n",
            "   macro avg       1.00      1.00      1.00      1990\n",
            "weighted avg       1.00      1.00      1.00      1990\n",
            "\n",
            "Accuracy =  0.9994974874371859\n",
            "\n",
            "Confusion Matrix\n"
          ],
          "name": "stdout"
        },
        {
          "output_type": "display_data",
          "data": {
            "image/png": "[encoded data removed]",
            "text/plain": [
              "<Figure size 432x288 with 2 Axes>"
            ]
          },
          "metadata": {
            "tags": []
          }
        }
      ]
    },
    {
      "cell_type": "code",
      "metadata": {
        "id": "G9oD2-KeZSd9",
        "colab_type": "code",
        "colab": {}
      },
      "source": [
        "y_pred = clf1.predict(X_test)\n",
        "y_pred_prob = clf1.predict_proba(X_test)[:, 1]"
      ],
      "execution_count": 0,
      "outputs": []
    },
    {
      "cell_type": "code",
      "metadata": {
        "id": "UQKHmmsd0e3F",
        "colab_type": "code",
        "outputId": "e6570f3c-7577-4cda-d143-2daf550346c5",
        "colab": {
          "base_uri": "https://localhost:8080/",
          "height": 301
        }
      },
      "source": [
        "fpr_rf, tpr_rf, _ = roc_curve(y_test, y_pred_prob)\n",
        "\n",
        "%matplotlib inline\n",
        "\n",
        "plt.figure(1)\n",
        "plt.plot([0, 1], [0, 1], 'k--')\n",
        "plt.plot(fpr_rf, tpr_rf, label='RF')\n",
        "plt.xlabel('False positive rate')\n",
        "plt.ylabel('True positive rate')\n",
        "plt.title('ROC curve')\n",
        "plt.legend(loc='best')\n",
        "plt.show()"
      ],
      "execution_count": 396,
      "outputs": [
        {
          "output_type": "display_data",
          "data": {
            "image/png": "[encoded data removed]",
            "text/plain": [
              "<Figure size 432x288 with 1 Axes>"
            ]
          },
          "metadata": {
            "tags": []
          }
        }
      ]
    },
    {
      "cell_type": "code",
      "metadata": {
        "id": "9dkg01-O5yWR",
        "colab_type": "code",
        "outputId": "36501c4a-8473-4785-c64a-359622dddc3b",
        "colab": {
          "base_uri": "https://localhost:8080/",
          "height": 503
        }
      },
      "source": [
        "print(classification_report(y_test, y_pred))\n",
        "\n",
        "print(\"Accuracy = \", accuracy_score(y_test, y_pred))\n",
        "print('')\n",
        "print(\"Confusion Matrix\")\n",
        "mat = confusion_matrix(y_test, y_pred)\n",
        "sns.heatmap(mat , annot=True)\n",
        "plt.xlabel('predicted label')\n",
        "plt.ylabel('true label');"
      ],
      "execution_count": 397,
      "outputs": [
        {
          "output_type": "stream",
          "text": [
            "              precision    recall  f1-score   support\n",
            "\n",
            "         0.0       0.51      0.77      0.61       674\n",
            "         1.0       0.50      0.25      0.33       653\n",
            "\n",
            "    accuracy                           0.51      1327\n",
            "   macro avg       0.51      0.51      0.47      1327\n",
            "weighted avg       0.51      0.51      0.47      1327\n",
            "\n",
            "Accuracy =  0.5094197437829691\n",
            "\n",
            "Confusion Matrix\n"
          ],
          "name": "stdout"
        },
        {
          "output_type": "display_data",
          "data": {
            "image/png": "[encoded data removed]",
            "text/plain": [
              "<Figure size 432x288 with 2 Axes>"
            ]
          },
          "metadata": {
            "tags": []
          }
        }
      ]
    },
    {
      "cell_type": "markdown",
      "metadata": {
        "id": "pUmsGwGV6euL",
        "colab_type": "text"
      },
      "source": [
        "### Bet Sizing"
      ]
    },
    {
      "cell_type": "markdown",
      "metadata": {
        "id": "U3aIzcOEaS68",
        "colab_type": "text"
      },
      "source": [
        "When num_classes = 2,\n",
        "\n",
        "$$z = \\frac{p[x=1]−\\frac{1}{2}}{\\sqrt{p[x=1](1−p[x=1])}} $$\n",
        "\n",
        "$$m = 2Z [z] − 1$$"
      ]
    },
    {
      "cell_type": "code",
      "metadata": {
        "id": "KkZB80jPaoG8",
        "colab_type": "code",
        "outputId": "4f0ee247-855b-4783-f390-75f10f2b793e",
        "colab": {
          "base_uri": "https://localhost:8080/",
          "height": 285
        }
      },
      "source": [
        "import scipy.stats as ss\n",
        "p = np.linspace(0.001,1,1000,endpoint=False)\n",
        "z = (p-0.5)/(np.sqrt(p*(1-p)))\n",
        "Z_z = ss.norm.cdf(z)\n",
        "m = (2 * Z_z -1) # np.sign(x)=1 always? increasing function\n",
        "plt.plot(z,m)\n",
        "plt.xlim(-3,3)\n",
        "plt.xlabel('z:standardized p');\n",
        "plt.ylabel('m:betting size');"
      ],
      "execution_count": 350,
      "outputs": [
        {
          "output_type": "display_data",
          "data": {
            "image/png": "[encoded data removed]",
            "text/plain": [
              "<Figure size 432x288 with 1 Axes>"
            ]
          },
          "metadata": {
            "tags": []
          }
        }
      ]
    },
    {
      "cell_type": "code",
      "metadata": {
        "id": "zUfHMzWr78ar",
        "colab_type": "code",
        "colab": {}
      },
      "source": [
        "from mlfinlab import bet_sizing as bs"
      ],
      "execution_count": 0,
      "outputs": []
    },
    {
      "cell_type": "code",
      "metadata": {
        "id": "HBRzgVhM6g5j",
        "colab_type": "code",
        "colab": {}
      },
      "source": [
        "p = y_pred_prob # from RF (secondary model)"
      ],
      "execution_count": 0,
      "outputs": []
    },
    {
      "cell_type": "code",
      "metadata": {
        "id": "75bIPHHR7UUo",
        "colab_type": "code",
        "outputId": "49b2649b-937e-4880-da37-b5a95ced8407",
        "colab": {
          "base_uri": "https://localhost:8080/",
          "height": 437
        }
      },
      "source": [
        "new_data = y_test.copy()\n",
        "new_data['p'] = p\n",
        "new_data['pred'] = y_pred\n",
        "new_data"
      ],
      "execution_count": 353,
      "outputs": [
        {
          "output_type": "execute_result",
          "data": {
            "text/html": [
              "<div>\n",
              "<style scoped>\n",
              "    .dataframe tbody tr th:only-of-type {\n",
              "        vertical-align: middle;\n",
              "    }\n",
              "\n",
              "    .dataframe tbody tr th {\n",
              "        vertical-align: top;\n",
              "    }\n",
              "\n",
              "    .dataframe thead th {\n",
              "        text-align: right;\n",
              "    }\n",
              "</style>\n",
              "<table border=\"1\" class=\"dataframe\">\n",
              "  <thead>\n",
              "    <tr style=\"text-align: right;\">\n",
              "      <th></th>\n",
              "      <th>bin</th>\n",
              "      <th>p</th>\n",
              "      <th>pred</th>\n",
              "    </tr>\n",
              "    <tr>\n",
              "      <th>date_time</th>\n",
              "      <th></th>\n",
              "      <th></th>\n",
              "      <th></th>\n",
              "    </tr>\n",
              "  </thead>\n",
              "  <tbody>\n",
              "    <tr>\n",
              "      <th>2015-03-30 09:42:26</th>\n",
              "      <td>0.0</td>\n",
              "      <td>0.341543</td>\n",
              "      <td>0.0</td>\n",
              "    </tr>\n",
              "    <tr>\n",
              "      <th>2015-03-31 15:15:12</th>\n",
              "      <td>0.0</td>\n",
              "      <td>0.445436</td>\n",
              "      <td>0.0</td>\n",
              "    </tr>\n",
              "    <tr>\n",
              "      <th>2015-04-01 09:43:15</th>\n",
              "      <td>1.0</td>\n",
              "      <td>0.381436</td>\n",
              "      <td>0.0</td>\n",
              "    </tr>\n",
              "    <tr>\n",
              "      <th>2015-04-02 09:49:29</th>\n",
              "      <td>1.0</td>\n",
              "      <td>0.367543</td>\n",
              "      <td>0.0</td>\n",
              "    </tr>\n",
              "    <tr>\n",
              "      <th>2015-04-02 09:54:02</th>\n",
              "      <td>1.0</td>\n",
              "      <td>0.392543</td>\n",
              "      <td>0.0</td>\n",
              "    </tr>\n",
              "    <tr>\n",
              "      <th>...</th>\n",
              "      <td>...</td>\n",
              "      <td>...</td>\n",
              "      <td>...</td>\n",
              "    </tr>\n",
              "    <tr>\n",
              "      <th>2019-06-14 14:18:53</th>\n",
              "      <td>1.0</td>\n",
              "      <td>0.358543</td>\n",
              "      <td>0.0</td>\n",
              "    </tr>\n",
              "    <tr>\n",
              "      <th>2019-06-14 15:22:45</th>\n",
              "      <td>1.0</td>\n",
              "      <td>0.408543</td>\n",
              "      <td>0.0</td>\n",
              "    </tr>\n",
              "    <tr>\n",
              "      <th>2019-06-18 09:39:40</th>\n",
              "      <td>0.0</td>\n",
              "      <td>0.386543</td>\n",
              "      <td>0.0</td>\n",
              "    </tr>\n",
              "    <tr>\n",
              "      <th>2019-06-18 09:41:48</th>\n",
              "      <td>0.0</td>\n",
              "      <td>0.328543</td>\n",
              "      <td>0.0</td>\n",
              "    </tr>\n",
              "    <tr>\n",
              "      <th>2019-06-18 09:48:22</th>\n",
              "      <td>0.0</td>\n",
              "      <td>0.252543</td>\n",
              "      <td>0.0</td>\n",
              "    </tr>\n",
              "  </tbody>\n",
              "</table>\n",
              "<p>1327 rows × 3 columns</p>\n",
              "</div>"
            ],
            "text/plain": [
              "                     bin         p  pred\n",
              "date_time                               \n",
              "2015-03-30 09:42:26  0.0  0.341543   0.0\n",
              "2015-03-31 15:15:12  0.0  0.445436   0.0\n",
              "2015-04-01 09:43:15  1.0  0.381436   0.0\n",
              "2015-04-02 09:49:29  1.0  0.367543   0.0\n",
              "2015-04-02 09:54:02  1.0  0.392543   0.0\n",
              "...                  ...       ...   ...\n",
              "2019-06-14 14:18:53  1.0  0.358543   0.0\n",
              "2019-06-14 15:22:45  1.0  0.408543   0.0\n",
              "2019-06-18 09:39:40  0.0  0.386543   0.0\n",
              "2019-06-18 09:41:48  0.0  0.328543   0.0\n",
              "2019-06-18 09:48:22  0.0  0.252543   0.0\n",
              "\n",
              "[1327 rows x 3 columns]"
            ]
          },
          "metadata": {
            "tags": []
          },
          "execution_count": 353
        }
      ]
    },
    {
      "cell_type": "code",
      "metadata": {
        "id": "XcNyLMBr6yFU",
        "colab_type": "code",
        "colab": {}
      },
      "source": [
        "# test에 맞추자\n",
        "new_events = events.loc[new_data.index]\n",
        "bs_df = pd.concat([new_events, new_data],axis=1)"
      ],
      "execution_count": 0,
      "outputs": []
    },
    {
      "cell_type": "code",
      "metadata": {
        "id": "lqyt-EMU8QZZ",
        "colab_type": "code",
        "outputId": "0c4e9830-626c-4efa-f049-0f6df4225075",
        "colab": {
          "base_uri": "https://localhost:8080/",
          "height": 437
        }
      },
      "source": [
        "bs_df"
      ],
      "execution_count": 355,
      "outputs": [
        {
          "output_type": "execute_result",
          "data": {
            "text/html": [
              "<div>\n",
              "<style scoped>\n",
              "    .dataframe tbody tr th:only-of-type {\n",
              "        vertical-align: middle;\n",
              "    }\n",
              "\n",
              "    .dataframe tbody tr th {\n",
              "        vertical-align: top;\n",
              "    }\n",
              "\n",
              "    .dataframe thead th {\n",
              "        text-align: right;\n",
              "    }\n",
              "</style>\n",
              "<table border=\"1\" class=\"dataframe\">\n",
              "  <thead>\n",
              "    <tr style=\"text-align: right;\">\n",
              "      <th></th>\n",
              "      <th>t1</th>\n",
              "      <th>trgt</th>\n",
              "      <th>side</th>\n",
              "      <th>pt</th>\n",
              "      <th>sl</th>\n",
              "      <th>bin</th>\n",
              "      <th>p</th>\n",
              "      <th>pred</th>\n",
              "    </tr>\n",
              "    <tr>\n",
              "      <th>date_time</th>\n",
              "      <th></th>\n",
              "      <th></th>\n",
              "      <th></th>\n",
              "      <th></th>\n",
              "      <th></th>\n",
              "      <th></th>\n",
              "      <th></th>\n",
              "      <th></th>\n",
              "    </tr>\n",
              "  </thead>\n",
              "  <tbody>\n",
              "    <tr>\n",
              "      <th>2015-03-30 09:42:26</th>\n",
              "      <td>2015-03-31 09:44:08</td>\n",
              "      <td>0.004149</td>\n",
              "      <td>-1.0</td>\n",
              "      <td>1</td>\n",
              "      <td>2</td>\n",
              "      <td>0.0</td>\n",
              "      <td>0.341543</td>\n",
              "      <td>0.0</td>\n",
              "    </tr>\n",
              "    <tr>\n",
              "      <th>2015-03-31 15:15:12</th>\n",
              "      <td>2015-04-01 15:16:36</td>\n",
              "      <td>0.005690</td>\n",
              "      <td>1.0</td>\n",
              "      <td>1</td>\n",
              "      <td>2</td>\n",
              "      <td>0.0</td>\n",
              "      <td>0.445436</td>\n",
              "      <td>0.0</td>\n",
              "    </tr>\n",
              "    <tr>\n",
              "      <th>2015-04-01 09:43:15</th>\n",
              "      <td>2015-04-01 11:14:25</td>\n",
              "      <td>0.005201</td>\n",
              "      <td>1.0</td>\n",
              "      <td>1</td>\n",
              "      <td>2</td>\n",
              "      <td>1.0</td>\n",
              "      <td>0.381436</td>\n",
              "      <td>0.0</td>\n",
              "    </tr>\n",
              "    <tr>\n",
              "      <th>2015-04-02 09:49:29</th>\n",
              "      <td>2015-04-06 09:30:00</td>\n",
              "      <td>0.003821</td>\n",
              "      <td>-1.0</td>\n",
              "      <td>1</td>\n",
              "      <td>2</td>\n",
              "      <td>1.0</td>\n",
              "      <td>0.367543</td>\n",
              "      <td>0.0</td>\n",
              "    </tr>\n",
              "    <tr>\n",
              "      <th>2015-04-02 09:54:02</th>\n",
              "      <td>2015-04-06 09:30:00</td>\n",
              "      <td>0.004848</td>\n",
              "      <td>-1.0</td>\n",
              "      <td>1</td>\n",
              "      <td>2</td>\n",
              "      <td>1.0</td>\n",
              "      <td>0.392543</td>\n",
              "      <td>0.0</td>\n",
              "    </tr>\n",
              "    <tr>\n",
              "      <th>...</th>\n",
              "      <td>...</td>\n",
              "      <td>...</td>\n",
              "      <td>...</td>\n",
              "      <td>...</td>\n",
              "      <td>...</td>\n",
              "      <td>...</td>\n",
              "      <td>...</td>\n",
              "      <td>...</td>\n",
              "    </tr>\n",
              "    <tr>\n",
              "      <th>2019-06-14 14:18:53</th>\n",
              "      <td>2019-06-17 09:29:59</td>\n",
              "      <td>0.003587</td>\n",
              "      <td>-1.0</td>\n",
              "      <td>1</td>\n",
              "      <td>2</td>\n",
              "      <td>1.0</td>\n",
              "      <td>0.358543</td>\n",
              "      <td>0.0</td>\n",
              "    </tr>\n",
              "    <tr>\n",
              "      <th>2019-06-14 15:22:45</th>\n",
              "      <td>2019-06-17 09:29:59</td>\n",
              "      <td>0.003128</td>\n",
              "      <td>-1.0</td>\n",
              "      <td>1</td>\n",
              "      <td>2</td>\n",
              "      <td>1.0</td>\n",
              "      <td>0.408543</td>\n",
              "      <td>0.0</td>\n",
              "    </tr>\n",
              "    <tr>\n",
              "      <th>2019-06-18 09:39:40</th>\n",
              "      <td>2019-06-18 11:02:21</td>\n",
              "      <td>0.003985</td>\n",
              "      <td>-1.0</td>\n",
              "      <td>1</td>\n",
              "      <td>2</td>\n",
              "      <td>0.0</td>\n",
              "      <td>0.386543</td>\n",
              "      <td>0.0</td>\n",
              "    </tr>\n",
              "    <tr>\n",
              "      <th>2019-06-18 09:41:48</th>\n",
              "      <td>2019-06-19 09:42:16</td>\n",
              "      <td>0.005405</td>\n",
              "      <td>-1.0</td>\n",
              "      <td>1</td>\n",
              "      <td>2</td>\n",
              "      <td>0.0</td>\n",
              "      <td>0.328543</td>\n",
              "      <td>0.0</td>\n",
              "    </tr>\n",
              "    <tr>\n",
              "      <th>2019-06-18 09:48:22</th>\n",
              "      <td>2019-06-19 09:48:58</td>\n",
              "      <td>0.006365</td>\n",
              "      <td>-1.0</td>\n",
              "      <td>1</td>\n",
              "      <td>2</td>\n",
              "      <td>0.0</td>\n",
              "      <td>0.252543</td>\n",
              "      <td>0.0</td>\n",
              "    </tr>\n",
              "  </tbody>\n",
              "</table>\n",
              "<p>1327 rows × 8 columns</p>\n",
              "</div>"
            ],
            "text/plain": [
              "                                     t1      trgt  side  ...  bin         p  pred\n",
              "date_time                                                ...                     \n",
              "2015-03-30 09:42:26 2015-03-31 09:44:08  0.004149  -1.0  ...  0.0  0.341543   0.0\n",
              "2015-03-31 15:15:12 2015-04-01 15:16:36  0.005690   1.0  ...  0.0  0.445436   0.0\n",
              "2015-04-01 09:43:15 2015-04-01 11:14:25  0.005201   1.0  ...  1.0  0.381436   0.0\n",
              "2015-04-02 09:49:29 2015-04-06 09:30:00  0.003821  -1.0  ...  1.0  0.367543   0.0\n",
              "2015-04-02 09:54:02 2015-04-06 09:30:00  0.004848  -1.0  ...  1.0  0.392543   0.0\n",
              "...                                 ...       ...   ...  ...  ...       ...   ...\n",
              "2019-06-14 14:18:53 2019-06-17 09:29:59  0.003587  -1.0  ...  1.0  0.358543   0.0\n",
              "2019-06-14 15:22:45 2019-06-17 09:29:59  0.003128  -1.0  ...  1.0  0.408543   0.0\n",
              "2019-06-18 09:39:40 2019-06-18 11:02:21  0.003985  -1.0  ...  0.0  0.386543   0.0\n",
              "2019-06-18 09:41:48 2019-06-19 09:42:16  0.005405  -1.0  ...  0.0  0.328543   0.0\n",
              "2019-06-18 09:48:22 2019-06-19 09:48:58  0.006365  -1.0  ...  0.0  0.252543   0.0\n",
              "\n",
              "[1327 rows x 8 columns]"
            ]
          },
          "metadata": {
            "tags": []
          },
          "execution_count": 355
        }
      ]
    },
    {
      "cell_type": "code",
      "metadata": {
        "id": "n2ei_4N38huh",
        "colab_type": "code",
        "colab": {}
      },
      "source": [
        "m_prob = bs.bet_size_probability(events = bs_df[['t1']], prob = bs_df.p, num_classes=2, num_threads=3)"
      ],
      "execution_count": 0,
      "outputs": []
    },
    {
      "cell_type": "code",
      "metadata": {
        "id": "HMjvm6oW87-v",
        "colab_type": "code",
        "outputId": "329ecfff-2407-42ee-c9d4-f5fe3d982a48",
        "colab": {
          "base_uri": "https://localhost:8080/",
          "height": 254
        }
      },
      "source": [
        "m_prob"
      ],
      "execution_count": 357,
      "outputs": [
        {
          "output_type": "execute_result",
          "data": {
            "text/plain": [
              "date_time\n",
              "2015-03-30 09:42:26   -0.261724\n",
              "2015-03-31 15:15:12   -0.087419\n",
              "2015-04-01 09:43:15   -0.192839\n",
              "2015-04-02 09:49:29   -0.216476\n",
              "2015-04-02 09:54:02   -0.174172\n",
              "                         ...   \n",
              "2019-06-14 14:18:53   -0.231979\n",
              "2019-06-14 15:22:45   -0.147596\n",
              "2019-06-18 09:39:40   -0.184232\n",
              "2019-06-18 09:41:48   -0.284924\n",
              "2019-06-18 09:48:22   -0.431023\n",
              "Name: signal, Length: 1327, dtype: float64"
            ]
          },
          "metadata": {
            "tags": []
          },
          "execution_count": 357
        }
      ]
    },
    {
      "cell_type": "code",
      "metadata": {
        "id": "zPYerLS9UxSX",
        "colab_type": "code",
        "outputId": "8183b04b-d5e3-444d-de27-57b34f55d4f8",
        "colab": {
          "base_uri": "https://localhost:8080/",
          "height": 287
        }
      },
      "source": [
        "plt.plot(p, m_prob)\n",
        "plt.xlabel('p');\n",
        "plt.ylabel('m');"
      ],
      "execution_count": 358,
      "outputs": [
        {
          "output_type": "display_data",
          "data": {
            "image/png": "[encoded data removed]",
            "text/plain": [
              "<Figure size 432x288 with 1 Axes>"
            ]
          },
          "metadata": {
            "tags": []
          }
        }
      ]
    },
    {
      "cell_type": "markdown",
      "metadata": {
        "id": "KvmeDg5u9Qhl",
        "colab_type": "text"
      },
      "source": [
        "average"
      ]
    },
    {
      "cell_type": "code",
      "metadata": {
        "id": "CWBHmphD9Tdq",
        "colab_type": "code",
        "outputId": "4a57a5f6-c27a-448e-9765-f7e783dac922",
        "colab": {
          "base_uri": "https://localhost:8080/",
          "height": 35
        }
      },
      "source": [
        "\n",
        "m_prob_avg = bs.bet_size_probability(events = bs_df[['t1']], prob = bs_df.p, num_classes=2, num_threads=3, average_active=True)\n",
        "m_prob_avg = m_prob_avg.loc[bs_df.index]"
      ],
      "execution_count": 359,
      "outputs": [
        {
          "output_type": "stream",
          "text": [
            "2020-01-30 15:45:05.268451 100.0% mp_avg_active_signals done after 0.1 minutes. Remaining 0.0 minutes.\n"
          ],
          "name": "stderr"
        }
      ]
    },
    {
      "cell_type": "code",
      "metadata": {
        "id": "gRBsu4a5ee-Q",
        "colab_type": "code",
        "outputId": "68c55931-ad67-4a87-83d7-9ee1ce707024",
        "colab": {
          "base_uri": "https://localhost:8080/",
          "height": 254
        }
      },
      "source": [
        "m_prob_avg"
      ],
      "execution_count": 360,
      "outputs": [
        {
          "output_type": "execute_result",
          "data": {
            "text/plain": [
              "date_time\n",
              "2015-03-30 09:42:26   -0.261724\n",
              "2015-03-31 15:15:12   -0.087419\n",
              "2015-04-01 09:43:15   -0.140129\n",
              "2015-04-02 09:49:29   -0.216476\n",
              "2015-04-02 09:54:02   -0.195324\n",
              "                         ...   \n",
              "2019-06-14 14:18:53   -0.144413\n",
              "2019-06-14 15:22:45   -0.189788\n",
              "2019-06-18 09:39:40   -0.184232\n",
              "2019-06-18 09:41:48   -0.234578\n",
              "2019-06-18 09:48:22   -0.300060\n",
              "Length: 1327, dtype: float64"
            ]
          },
          "metadata": {
            "tags": []
          },
          "execution_count": 360
        }
      ]
    },
    {
      "cell_type": "code",
      "metadata": {
        "id": "6iHplGv6ef_f",
        "colab_type": "code",
        "outputId": "cb15bbf1-98df-431c-9216-58b6c4522bb1",
        "colab": {
          "base_uri": "https://localhost:8080/",
          "height": 287
        }
      },
      "source": [
        "plt.plot(p, m_prob_avg)\n",
        "plt.xlabel('p');\n",
        "plt.ylabel('m');"
      ],
      "execution_count": 361,
      "outputs": [
        {
          "output_type": "display_data",
          "data": {
            "image/png": "[encoded data removed]",
            "text/plain": [
              "<Figure size 432x288 with 1 Axes>"
            ]
          },
          "metadata": {
            "tags": []
          }
        }
      ]
    },
    {
      "cell_type": "markdown",
      "metadata": {
        "id": "qVOn6vVtK7ui",
        "colab_type": "text"
      },
      "source": [
        "discrete"
      ]
    },
    {
      "cell_type": "code",
      "metadata": {
        "id": "AArwEUGZ9USQ",
        "colab_type": "code",
        "outputId": "c582571f-a782-4169-db00-d732f2ee98f9",
        "colab": {
          "base_uri": "https://localhost:8080/",
          "height": 35
        }
      },
      "source": [
        "m_prob_discrete = bs.bet_size_probability(events = bs_df[['t1']], prob = bs_df.p, num_classes=2, num_threads=3, average_active=True, step_size=0.01)\n",
        "m_prob_discrete = m_prob_discrete.loc[bs_df.index]"
      ],
      "execution_count": 362,
      "outputs": [
        {
          "output_type": "stream",
          "text": [
            "2020-01-30 15:45:11.677736 100.0% mp_avg_active_signals done after 0.1 minutes. Remaining 0.0 minutes.\n"
          ],
          "name": "stderr"
        }
      ]
    },
    {
      "cell_type": "code",
      "metadata": {
        "id": "X-ROKTxiejod",
        "colab_type": "code",
        "outputId": "c9bc2240-cec5-43d8-b8c4-d3afa974b68b",
        "colab": {
          "base_uri": "https://localhost:8080/",
          "height": 254
        }
      },
      "source": [
        "m_prob_discrete"
      ],
      "execution_count": 363,
      "outputs": [
        {
          "output_type": "execute_result",
          "data": {
            "text/plain": [
              "date_time\n",
              "2015-03-30 09:42:26   -0.26\n",
              "2015-03-31 15:15:12   -0.09\n",
              "2015-04-01 09:43:15   -0.14\n",
              "2015-04-02 09:49:29   -0.22\n",
              "2015-04-02 09:54:02   -0.20\n",
              "                       ... \n",
              "2019-06-14 14:18:53   -0.14\n",
              "2019-06-14 15:22:45   -0.19\n",
              "2019-06-18 09:39:40   -0.18\n",
              "2019-06-18 09:41:48   -0.23\n",
              "2019-06-18 09:48:22   -0.30\n",
              "Length: 1327, dtype: float64"
            ]
          },
          "metadata": {
            "tags": []
          },
          "execution_count": 363
        }
      ]
    },
    {
      "cell_type": "code",
      "metadata": {
        "id": "WKWyZd1belRX",
        "colab_type": "code",
        "outputId": "e9f64880-7f3a-4c99-e05f-5bc15e1c8496",
        "colab": {
          "base_uri": "https://localhost:8080/",
          "height": 287
        }
      },
      "source": [
        "plt.plot(p, m_prob_discrete)\n",
        "plt.xlabel('z');\n",
        "plt.ylabel('m');"
      ],
      "execution_count": 364,
      "outputs": [
        {
          "output_type": "display_data",
          "data": {
            "image/png": "[encoded data removed]",
            "text/plain": [
              "<Figure size 432x288 with 1 Axes>"
            ]
          },
          "metadata": {
            "tags": []
          }
        }
      ]
    },
    {
      "cell_type": "markdown",
      "metadata": {
        "id": "2Islsd4M729B",
        "colab_type": "text"
      },
      "source": [
        "# Bet Sizing (reserve)"
      ]
    },
    {
      "cell_type": "markdown",
      "metadata": {
        "id": "Vd1vjCy2bFCj",
        "colab_type": "text"
      },
      "source": [
        "$c_t = c_{t,l} - c_{t,s} $ \n",
        "\n",
        "where $c_{t,l}$ is the number of concurrent long bets at\n",
        "time $t$, and $c_{t,s}$ is the number of concurrent short bets at time $t$"
      ]
    },
    {
      "cell_type": "markdown",
      "metadata": {
        "id": "a0TNtSZObFbu",
        "colab_type": "text"
      },
      "source": [
        "$$m_t = \\begin{cases}\n",
        "  \\frac{F[c_t]-F[0]}{1-F[0]} & \\text{if}\\ c_t \\ge 0 \\\\\n",
        "  \\frac{F[c_t]-F[0]}{F[0]} & \\text{if}\\ c_t < 0\n",
        "\\end{cases}$$"
      ]
    },
    {
      "cell_type": "markdown",
      "metadata": {
        "id": "3MRoxXDfbI6c",
        "colab_type": "text"
      },
      "source": [
        "where $F[x]$ is CDF of the fitted mixture of two Gaussians for a value x."
      ]
    },
    {
      "cell_type": "markdown",
      "metadata": {
        "id": "DxE91yzBFKHg",
        "colab_type": "text"
      },
      "source": [
        "EF3M Algorithm\n",
        "\n",
        "\n",
        "\n",
        "https://github.com/hudson-and-thames/research/blob/master/Chapter10/ef3m_testing.ipynb"
      ]
    },
    {
      "cell_type": "code",
      "metadata": {
        "id": "dIgIVhFu70XZ",
        "colab_type": "code",
        "outputId": "8e6aad1a-c210-402d-e7eb-06aac2c340d3",
        "colab": {
          "base_uri": "https://localhost:8080/",
          "height": 35
        }
      },
      "source": [
        "m_reserve = bs.bet_sizing.bet_size_reserve(events_t1=bs_df['t1'], sides=bs_df.side, return_parameters=True, fit_runs=25)"
      ],
      "execution_count": 365,
      "outputs": [
        {
          "output_type": "stream",
          "text": [
            "|#########################| Completed 25 of 25 fitting rounds."
          ],
          "name": "stderr"
        }
      ]
    },
    {
      "cell_type": "code",
      "metadata": {
        "id": "D7T72qjx75c5",
        "colab_type": "code",
        "outputId": "21f4344d-ea8e-4582-bcf8-9dbf20de7ded",
        "colab": {
          "base_uri": "https://localhost:8080/",
          "height": 437
        }
      },
      "source": [
        "m_reserve[0]"
      ],
      "execution_count": 366,
      "outputs": [
        {
          "output_type": "execute_result",
          "data": {
            "text/html": [
              "<div>\n",
              "<style scoped>\n",
              "    .dataframe tbody tr th:only-of-type {\n",
              "        vertical-align: middle;\n",
              "    }\n",
              "\n",
              "    .dataframe tbody tr th {\n",
              "        vertical-align: top;\n",
              "    }\n",
              "\n",
              "    .dataframe thead th {\n",
              "        text-align: right;\n",
              "    }\n",
              "</style>\n",
              "<table border=\"1\" class=\"dataframe\">\n",
              "  <thead>\n",
              "    <tr style=\"text-align: right;\">\n",
              "      <th></th>\n",
              "      <th>t1</th>\n",
              "      <th>side</th>\n",
              "      <th>active_long</th>\n",
              "      <th>active_short</th>\n",
              "      <th>c_t</th>\n",
              "      <th>bet_size</th>\n",
              "    </tr>\n",
              "    <tr>\n",
              "      <th>date_time</th>\n",
              "      <th></th>\n",
              "      <th></th>\n",
              "      <th></th>\n",
              "      <th></th>\n",
              "      <th></th>\n",
              "      <th></th>\n",
              "    </tr>\n",
              "  </thead>\n",
              "  <tbody>\n",
              "    <tr>\n",
              "      <th>2015-03-30 09:42:26</th>\n",
              "      <td>2015-03-31 09:44:08</td>\n",
              "      <td>-1.0</td>\n",
              "      <td>0</td>\n",
              "      <td>1</td>\n",
              "      <td>-1</td>\n",
              "      <td>-0.444139</td>\n",
              "    </tr>\n",
              "    <tr>\n",
              "      <th>2015-03-31 15:15:12</th>\n",
              "      <td>2015-04-01 15:16:36</td>\n",
              "      <td>1.0</td>\n",
              "      <td>1</td>\n",
              "      <td>0</td>\n",
              "      <td>1</td>\n",
              "      <td>0.391913</td>\n",
              "    </tr>\n",
              "    <tr>\n",
              "      <th>2015-04-01 09:43:15</th>\n",
              "      <td>2015-04-01 11:14:25</td>\n",
              "      <td>1.0</td>\n",
              "      <td>2</td>\n",
              "      <td>0</td>\n",
              "      <td>2</td>\n",
              "      <td>0.709847</td>\n",
              "    </tr>\n",
              "    <tr>\n",
              "      <th>2015-04-02 09:49:29</th>\n",
              "      <td>2015-04-06 09:30:00</td>\n",
              "      <td>-1.0</td>\n",
              "      <td>0</td>\n",
              "      <td>1</td>\n",
              "      <td>-1</td>\n",
              "      <td>-0.444139</td>\n",
              "    </tr>\n",
              "    <tr>\n",
              "      <th>2015-04-02 09:54:02</th>\n",
              "      <td>2015-04-06 09:30:00</td>\n",
              "      <td>-1.0</td>\n",
              "      <td>0</td>\n",
              "      <td>2</td>\n",
              "      <td>-2</td>\n",
              "      <td>-0.762474</td>\n",
              "    </tr>\n",
              "    <tr>\n",
              "      <th>...</th>\n",
              "      <td>...</td>\n",
              "      <td>...</td>\n",
              "      <td>...</td>\n",
              "      <td>...</td>\n",
              "      <td>...</td>\n",
              "      <td>...</td>\n",
              "    </tr>\n",
              "    <tr>\n",
              "      <th>2019-06-14 14:18:53</th>\n",
              "      <td>2019-06-17 09:29:59</td>\n",
              "      <td>-1.0</td>\n",
              "      <td>1</td>\n",
              "      <td>1</td>\n",
              "      <td>0</td>\n",
              "      <td>0.000000</td>\n",
              "    </tr>\n",
              "    <tr>\n",
              "      <th>2019-06-14 15:22:45</th>\n",
              "      <td>2019-06-17 09:29:59</td>\n",
              "      <td>-1.0</td>\n",
              "      <td>0</td>\n",
              "      <td>2</td>\n",
              "      <td>-2</td>\n",
              "      <td>-0.762474</td>\n",
              "    </tr>\n",
              "    <tr>\n",
              "      <th>2019-06-18 09:39:40</th>\n",
              "      <td>2019-06-18 11:02:21</td>\n",
              "      <td>-1.0</td>\n",
              "      <td>0</td>\n",
              "      <td>1</td>\n",
              "      <td>-1</td>\n",
              "      <td>-0.444139</td>\n",
              "    </tr>\n",
              "    <tr>\n",
              "      <th>2019-06-18 09:41:48</th>\n",
              "      <td>2019-06-19 09:42:16</td>\n",
              "      <td>-1.0</td>\n",
              "      <td>0</td>\n",
              "      <td>2</td>\n",
              "      <td>-2</td>\n",
              "      <td>-0.762474</td>\n",
              "    </tr>\n",
              "    <tr>\n",
              "      <th>2019-06-18 09:48:22</th>\n",
              "      <td>2019-06-19 09:48:58</td>\n",
              "      <td>-1.0</td>\n",
              "      <td>0</td>\n",
              "      <td>3</td>\n",
              "      <td>-3</td>\n",
              "      <td>-0.926272</td>\n",
              "    </tr>\n",
              "  </tbody>\n",
              "</table>\n",
              "<p>1327 rows × 6 columns</p>\n",
              "</div>"
            ],
            "text/plain": [
              "                                     t1  side  ...  c_t  bet_size\n",
              "date_time                                      ...               \n",
              "2015-03-30 09:42:26 2015-03-31 09:44:08  -1.0  ...   -1 -0.444139\n",
              "2015-03-31 15:15:12 2015-04-01 15:16:36   1.0  ...    1  0.391913\n",
              "2015-04-01 09:43:15 2015-04-01 11:14:25   1.0  ...    2  0.709847\n",
              "2015-04-02 09:49:29 2015-04-06 09:30:00  -1.0  ...   -1 -0.444139\n",
              "2015-04-02 09:54:02 2015-04-06 09:30:00  -1.0  ...   -2 -0.762474\n",
              "...                                 ...   ...  ...  ...       ...\n",
              "2019-06-14 14:18:53 2019-06-17 09:29:59  -1.0  ...    0  0.000000\n",
              "2019-06-14 15:22:45 2019-06-17 09:29:59  -1.0  ...   -2 -0.762474\n",
              "2019-06-18 09:39:40 2019-06-18 11:02:21  -1.0  ...   -1 -0.444139\n",
              "2019-06-18 09:41:48 2019-06-19 09:42:16  -1.0  ...   -2 -0.762474\n",
              "2019-06-18 09:48:22 2019-06-19 09:48:58  -1.0  ...   -3 -0.926272\n",
              "\n",
              "[1327 rows x 6 columns]"
            ]
          },
          "metadata": {
            "tags": []
          },
          "execution_count": 366
        }
      ]
    },
    {
      "cell_type": "code",
      "metadata": {
        "id": "m6vfUje3CBPE",
        "colab_type": "code",
        "colab": {}
      },
      "source": [
        "BetSizeReserve = m_reserve[0].bet_size"
      ],
      "execution_count": 0,
      "outputs": []
    },
    {
      "cell_type": "code",
      "metadata": {
        "id": "NucjJ_DN9vl_",
        "colab_type": "code",
        "outputId": "9923094e-b749-4814-8731-e3118de3558d",
        "colab": {
          "base_uri": "https://localhost:8080/",
          "height": 108
        }
      },
      "source": [
        "m_reserve[1]\n",
        "#parameter for two Gaussian mixture"
      ],
      "execution_count": 368,
      "outputs": [
        {
          "output_type": "execute_result",
          "data": {
            "text/plain": [
              "{'mu_1': -0.5755,\n",
              " 'mu_2': 1.3866,\n",
              " 'p_1': 0.60401,\n",
              " 'sigma_1': 1.5169,\n",
              " 'sigma_2': 1.40241}"
            ]
          },
          "metadata": {
            "tags": []
          },
          "execution_count": 368
        }
      ]
    },
    {
      "cell_type": "markdown",
      "metadata": {
        "id": "6dfB2jjncf5r",
        "colab_type": "text"
      },
      "source": [
        "# Bet sizing (budget)"
      ]
    },
    {
      "cell_type": "markdown",
      "metadata": {
        "id": "Xm_2_ENYbPge",
        "colab_type": "text"
      },
      "source": [
        "$$ m_t = c_{t,l}\\frac{1}{max_i[c_{i,l}]} − c_{t,s}\\frac{1}{max_i[c_{i,s}]} $$"
      ]
    },
    {
      "cell_type": "code",
      "metadata": {
        "id": "S2NP_MKf_5s7",
        "colab_type": "code",
        "outputId": "95510f68-e4f7-4470-8e29-91b29195128b",
        "colab": {
          "base_uri": "https://localhost:8080/",
          "height": 437
        }
      },
      "source": [
        "m_budget = bs.bet_sizing.bet_size_budget(bs_df.t1, bs_df.side)\n",
        "m_budget"
      ],
      "execution_count": 369,
      "outputs": [
        {
          "output_type": "execute_result",
          "data": {
            "text/html": [
              "<div>\n",
              "<style scoped>\n",
              "    .dataframe tbody tr th:only-of-type {\n",
              "        vertical-align: middle;\n",
              "    }\n",
              "\n",
              "    .dataframe tbody tr th {\n",
              "        vertical-align: top;\n",
              "    }\n",
              "\n",
              "    .dataframe thead th {\n",
              "        text-align: right;\n",
              "    }\n",
              "</style>\n",
              "<table border=\"1\" class=\"dataframe\">\n",
              "  <thead>\n",
              "    <tr style=\"text-align: right;\">\n",
              "      <th></th>\n",
              "      <th>t1</th>\n",
              "      <th>side</th>\n",
              "      <th>active_long</th>\n",
              "      <th>active_short</th>\n",
              "      <th>bet_size</th>\n",
              "    </tr>\n",
              "    <tr>\n",
              "      <th>date_time</th>\n",
              "      <th></th>\n",
              "      <th></th>\n",
              "      <th></th>\n",
              "      <th></th>\n",
              "      <th></th>\n",
              "    </tr>\n",
              "  </thead>\n",
              "  <tbody>\n",
              "    <tr>\n",
              "      <th>2015-03-30 09:42:26</th>\n",
              "      <td>2015-03-31 09:44:08</td>\n",
              "      <td>-1.0</td>\n",
              "      <td>0</td>\n",
              "      <td>1</td>\n",
              "      <td>-0.166667</td>\n",
              "    </tr>\n",
              "    <tr>\n",
              "      <th>2015-03-31 15:15:12</th>\n",
              "      <td>2015-04-01 15:16:36</td>\n",
              "      <td>1.0</td>\n",
              "      <td>1</td>\n",
              "      <td>0</td>\n",
              "      <td>0.142857</td>\n",
              "    </tr>\n",
              "    <tr>\n",
              "      <th>2015-04-01 09:43:15</th>\n",
              "      <td>2015-04-01 11:14:25</td>\n",
              "      <td>1.0</td>\n",
              "      <td>2</td>\n",
              "      <td>0</td>\n",
              "      <td>0.285714</td>\n",
              "    </tr>\n",
              "    <tr>\n",
              "      <th>2015-04-02 09:49:29</th>\n",
              "      <td>2015-04-06 09:30:00</td>\n",
              "      <td>-1.0</td>\n",
              "      <td>0</td>\n",
              "      <td>1</td>\n",
              "      <td>-0.166667</td>\n",
              "    </tr>\n",
              "    <tr>\n",
              "      <th>2015-04-02 09:54:02</th>\n",
              "      <td>2015-04-06 09:30:00</td>\n",
              "      <td>-1.0</td>\n",
              "      <td>0</td>\n",
              "      <td>2</td>\n",
              "      <td>-0.333333</td>\n",
              "    </tr>\n",
              "    <tr>\n",
              "      <th>...</th>\n",
              "      <td>...</td>\n",
              "      <td>...</td>\n",
              "      <td>...</td>\n",
              "      <td>...</td>\n",
              "      <td>...</td>\n",
              "    </tr>\n",
              "    <tr>\n",
              "      <th>2019-06-14 14:18:53</th>\n",
              "      <td>2019-06-17 09:29:59</td>\n",
              "      <td>-1.0</td>\n",
              "      <td>1</td>\n",
              "      <td>1</td>\n",
              "      <td>-0.023810</td>\n",
              "    </tr>\n",
              "    <tr>\n",
              "      <th>2019-06-14 15:22:45</th>\n",
              "      <td>2019-06-17 09:29:59</td>\n",
              "      <td>-1.0</td>\n",
              "      <td>0</td>\n",
              "      <td>2</td>\n",
              "      <td>-0.333333</td>\n",
              "    </tr>\n",
              "    <tr>\n",
              "      <th>2019-06-18 09:39:40</th>\n",
              "      <td>2019-06-18 11:02:21</td>\n",
              "      <td>-1.0</td>\n",
              "      <td>0</td>\n",
              "      <td>1</td>\n",
              "      <td>-0.166667</td>\n",
              "    </tr>\n",
              "    <tr>\n",
              "      <th>2019-06-18 09:41:48</th>\n",
              "      <td>2019-06-19 09:42:16</td>\n",
              "      <td>-1.0</td>\n",
              "      <td>0</td>\n",
              "      <td>2</td>\n",
              "      <td>-0.333333</td>\n",
              "    </tr>\n",
              "    <tr>\n",
              "      <th>2019-06-18 09:48:22</th>\n",
              "      <td>2019-06-19 09:48:58</td>\n",
              "      <td>-1.0</td>\n",
              "      <td>0</td>\n",
              "      <td>3</td>\n",
              "      <td>-0.500000</td>\n",
              "    </tr>\n",
              "  </tbody>\n",
              "</table>\n",
              "<p>1327 rows × 5 columns</p>\n",
              "</div>"
            ],
            "text/plain": [
              "                                     t1  side  ...  active_short  bet_size\n",
              "date_time                                      ...                        \n",
              "2015-03-30 09:42:26 2015-03-31 09:44:08  -1.0  ...             1 -0.166667\n",
              "2015-03-31 15:15:12 2015-04-01 15:16:36   1.0  ...             0  0.142857\n",
              "2015-04-01 09:43:15 2015-04-01 11:14:25   1.0  ...             0  0.285714\n",
              "2015-04-02 09:49:29 2015-04-06 09:30:00  -1.0  ...             1 -0.166667\n",
              "2015-04-02 09:54:02 2015-04-06 09:30:00  -1.0  ...             2 -0.333333\n",
              "...                                 ...   ...  ...           ...       ...\n",
              "2019-06-14 14:18:53 2019-06-17 09:29:59  -1.0  ...             1 -0.023810\n",
              "2019-06-14 15:22:45 2019-06-17 09:29:59  -1.0  ...             2 -0.333333\n",
              "2019-06-18 09:39:40 2019-06-18 11:02:21  -1.0  ...             1 -0.166667\n",
              "2019-06-18 09:41:48 2019-06-19 09:42:16  -1.0  ...             2 -0.333333\n",
              "2019-06-18 09:48:22 2019-06-19 09:48:58  -1.0  ...             3 -0.500000\n",
              "\n",
              "[1327 rows x 5 columns]"
            ]
          },
          "metadata": {
            "tags": []
          },
          "execution_count": 369
        }
      ]
    },
    {
      "cell_type": "code",
      "metadata": {
        "id": "04NQKAnVBjKt",
        "colab_type": "code",
        "colab": {}
      },
      "source": [
        "BetSizeBudget = m_budget.bet_size"
      ],
      "execution_count": 0,
      "outputs": []
    },
    {
      "cell_type": "markdown",
      "metadata": {
        "id": "lAjfISA7_qvn",
        "colab_type": "text"
      },
      "source": [
        "# Overview"
      ]
    },
    {
      "cell_type": "code",
      "metadata": {
        "id": "F_2osvUt941C",
        "colab_type": "code",
        "outputId": "f58d9363-981e-4636-be71-3b4bd7fd2ff1",
        "colab": {
          "base_uri": "https://localhost:8080/",
          "height": 228
        }
      },
      "source": [
        "bet_size_0 = pd.DataFrame({'BetSizeProb':m_prob,'BetSizeProbAvg':m_prob_avg,'BetSizeProbDiscrete':m_prob_discrete})\n",
        "bet_size_1 = bet_size_0.join(BetSizeReserve)\n",
        "bet_size = bet_size_1.join(BetSizeBudget,rsuffix='2')\n",
        "bet_size = bet_size.rename(columns={'bet_size':'BetSizeReserve', 'bet_size2':'BetSizeBudget'})\n",
        "bet_size['NoSize'] = bs_df.side*bs_df.bin\n",
        "bet_size.head()"
      ],
      "execution_count": 450,
      "outputs": [
        {
          "output_type": "execute_result",
          "data": {
            "text/html": [
              "<div>\n",
              "<style scoped>\n",
              "    .dataframe tbody tr th:only-of-type {\n",
              "        vertical-align: middle;\n",
              "    }\n",
              "\n",
              "    .dataframe tbody tr th {\n",
              "        vertical-align: top;\n",
              "    }\n",
              "\n",
              "    .dataframe thead th {\n",
              "        text-align: right;\n",
              "    }\n",
              "</style>\n",
              "<table border=\"1\" class=\"dataframe\">\n",
              "  <thead>\n",
              "    <tr style=\"text-align: right;\">\n",
              "      <th></th>\n",
              "      <th>BetSizeProb</th>\n",
              "      <th>BetSizeProbAvg</th>\n",
              "      <th>BetSizeProbDiscrete</th>\n",
              "      <th>BetSizeReserve</th>\n",
              "      <th>BetSizeBudget</th>\n",
              "      <th>NoSize</th>\n",
              "    </tr>\n",
              "    <tr>\n",
              "      <th>date_time</th>\n",
              "      <th></th>\n",
              "      <th></th>\n",
              "      <th></th>\n",
              "      <th></th>\n",
              "      <th></th>\n",
              "      <th></th>\n",
              "    </tr>\n",
              "  </thead>\n",
              "  <tbody>\n",
              "    <tr>\n",
              "      <th>2015-03-30 09:42:26</th>\n",
              "      <td>-0.261724</td>\n",
              "      <td>-0.261724</td>\n",
              "      <td>-0.26</td>\n",
              "      <td>-0.444139</td>\n",
              "      <td>-0.166667</td>\n",
              "      <td>-0.0</td>\n",
              "    </tr>\n",
              "    <tr>\n",
              "      <th>2015-03-31 15:15:12</th>\n",
              "      <td>-0.087419</td>\n",
              "      <td>-0.087419</td>\n",
              "      <td>-0.09</td>\n",
              "      <td>0.391913</td>\n",
              "      <td>0.142857</td>\n",
              "      <td>0.0</td>\n",
              "    </tr>\n",
              "    <tr>\n",
              "      <th>2015-04-01 09:43:15</th>\n",
              "      <td>-0.192839</td>\n",
              "      <td>-0.140129</td>\n",
              "      <td>-0.14</td>\n",
              "      <td>0.709847</td>\n",
              "      <td>0.285714</td>\n",
              "      <td>1.0</td>\n",
              "    </tr>\n",
              "    <tr>\n",
              "      <th>2015-04-02 09:49:29</th>\n",
              "      <td>-0.216476</td>\n",
              "      <td>-0.216476</td>\n",
              "      <td>-0.22</td>\n",
              "      <td>-0.444139</td>\n",
              "      <td>-0.166667</td>\n",
              "      <td>-1.0</td>\n",
              "    </tr>\n",
              "    <tr>\n",
              "      <th>2015-04-02 09:54:02</th>\n",
              "      <td>-0.174172</td>\n",
              "      <td>-0.195324</td>\n",
              "      <td>-0.20</td>\n",
              "      <td>-0.762474</td>\n",
              "      <td>-0.333333</td>\n",
              "      <td>-1.0</td>\n",
              "    </tr>\n",
              "  </tbody>\n",
              "</table>\n",
              "</div>"
            ],
            "text/plain": [
              "                     BetSizeProb  BetSizeProbAvg  ...  BetSizeBudget  NoSize\n",
              "date_time                                         ...                       \n",
              "2015-03-30 09:42:26    -0.261724       -0.261724  ...      -0.166667    -0.0\n",
              "2015-03-31 15:15:12    -0.087419       -0.087419  ...       0.142857     0.0\n",
              "2015-04-01 09:43:15    -0.192839       -0.140129  ...       0.285714     1.0\n",
              "2015-04-02 09:49:29    -0.216476       -0.216476  ...      -0.166667    -1.0\n",
              "2015-04-02 09:54:02    -0.174172       -0.195324  ...      -0.333333    -1.0\n",
              "\n",
              "[5 rows x 6 columns]"
            ]
          },
          "metadata": {
            "tags": []
          },
          "execution_count": 450
        }
      ]
    },
    {
      "cell_type": "code",
      "metadata": {
        "id": "lSK9HdDhRJIB",
        "colab_type": "code",
        "colab": {}
      },
      "source": [
        "bet_size.dropna(inplace=True)"
      ],
      "execution_count": 0,
      "outputs": []
    },
    {
      "cell_type": "markdown",
      "metadata": {
        "id": "tzyV4XujNPeK",
        "colab_type": "text"
      },
      "source": [
        "Plot"
      ]
    },
    {
      "cell_type": "code",
      "metadata": {
        "id": "JLUEVfuhKMbc",
        "colab_type": "code",
        "outputId": "b5033c5b-36ff-4e80-cca2-71b2db8fceb2",
        "colab": {
          "base_uri": "https://localhost:8080/",
          "height": 412
        }
      },
      "source": [
        "fig, ax = plt.subplots(figsize=(10,6))\n",
        "bet_size_3 = bet_size.drop(['BetSizeProbAvg','BetSizeProbDiscrete','NoSize'],axis=1)\n",
        "ax.plot(bet_size_3[-100:])\n",
        "\n",
        "ax.legend(labels=bet_size_3.columns,loc='upper left', fontsize=12, title=\"Bet size type\", title_fontsize=10)\n",
        "ax.set_title(\"Bet Size 100 points\", fontsize=14)"
      ],
      "execution_count": 453,
      "outputs": [
        {
          "output_type": "execute_result",
          "data": {
            "text/plain": [
              "Text(0.5, 1.0, 'Bet Size 100 points')"
            ]
          },
          "metadata": {
            "tags": []
          },
          "execution_count": 453
        },
        {
          "output_type": "display_data",
          "data": {
            "image/png": "[encoded data removed]",
            "text/plain": [
              "<Figure size 720x432 with 1 Axes>"
            ]
          },
          "metadata": {
            "tags": []
          }
        }
      ]
    },
    {
      "cell_type": "code",
      "metadata": {
        "id": "yaSu4zBICuFN",
        "colab_type": "code",
        "outputId": "cff05362-b176-410e-b19d-63208a99eeb9",
        "colab": {
          "base_uri": "https://localhost:8080/",
          "height": 412
        }
      },
      "source": [
        "fig, ax = plt.subplots(figsize=(10,6))\n",
        "bet_size_4 = bet_size.iloc[:,:3]\n",
        "ax.plot(bet_size_4[-100:])\n",
        "\n",
        "ax.legend(labels=bet_size_4.columns,loc='upper left', fontsize=12, title=\"Bet size type\", title_fontsize=10)\n",
        "ax.set_title(\"Bet Size Prob 100 points\", fontsize=14)"
      ],
      "execution_count": 454,
      "outputs": [
        {
          "output_type": "execute_result",
          "data": {
            "text/plain": [
              "Text(0.5, 1.0, 'Bet Size Prob 100 points')"
            ]
          },
          "metadata": {
            "tags": []
          },
          "execution_count": 454
        },
        {
          "output_type": "display_data",
          "data": {
            "image/png": "[encoded data removed]",
            "text/plain": [
              "<Figure size 720x432 with 1 Axes>"
            ]
          },
          "metadata": {
            "tags": []
          }
        }
      ]
    },
    {
      "cell_type": "code",
      "metadata": {
        "id": "1LRuhbKtNx2N",
        "colab_type": "code",
        "outputId": "719dbd6a-e581-41c0-e2b0-7d335cb81f8b",
        "colab": {
          "base_uri": "https://localhost:8080/",
          "height": 432
        }
      },
      "source": [
        "fig, ax = plt.subplots(figsize=(10,6))\n",
        "for c in ['BetSizeProb','BetSizeReserve', 'BetSizeBudget','NoSize']:\n",
        "    ax.hist(bet_size[c],  label=c, alpha=0.4, bins=100)\n",
        "ax.legend(loc='upper left', fontsize=12, title=\"Bet size type\", title_fontsize=10)\n",
        "ax.set_xlabel(\"Bet Size, $m_t$\", fontsize=12)\n",
        "ax.set_ylabel(\"Value count\", fontsize=12)\n",
        "ax.set_title(\"Bet Size Distribution\", fontsize=14)"
      ],
      "execution_count": 457,
      "outputs": [
        {
          "output_type": "execute_result",
          "data": {
            "text/plain": [
              "Text(0.5, 1.0, 'Bet Size Distribution')"
            ]
          },
          "metadata": {
            "tags": []
          },
          "execution_count": 457
        },
        {
          "output_type": "display_data",
          "data": {
            "image/png": "[encoded data removed]",
            "text/plain": [
              "<Figure size 720x432 with 1 Axes>"
            ]
          },
          "metadata": {
            "tags": []
          }
        }
      ]
    },
    {
      "cell_type": "code",
      "metadata": {
        "id": "f0LAHHJkNaa1",
        "colab_type": "code",
        "outputId": "72e12ae7-466b-49f4-c746-e48c49ad4a32",
        "colab": {
          "base_uri": "https://localhost:8080/",
          "height": 432
        }
      },
      "source": [
        "fig, ax = plt.subplots(figsize=(10,6))\n",
        "for c in ['BetSizeProb','BetSizeProbAvg', 'BetSizeProbDiscrete']:\n",
        "    ax.hist(bet_size_4[c],  label=c, alpha=0.6, bins=100)\n",
        "ax.legend(loc='upper left', fontsize=12, title=\"Bet size type\", title_fontsize=10)\n",
        "ax.set_xlabel(\"Bet Size, $m_t$\", fontsize=12)\n",
        "ax.set_ylabel(\"Value count\", fontsize=12)\n",
        "ax.set_title(\"Bet Size Distribution\", fontsize=14)"
      ],
      "execution_count": 376,
      "outputs": [
        {
          "output_type": "execute_result",
          "data": {
            "text/plain": [
              "Text(0.5, 1.0, 'Bet Size Distribution')"
            ]
          },
          "metadata": {
            "tags": []
          },
          "execution_count": 376
        },
        {
          "output_type": "display_data",
          "data": {
            "image/png": "[encoded data removed]",
            "text/plain": [
              "<Figure size 720x432 with 1 Axes>"
            ]
          },
          "metadata": {
            "tags": []
          }
        }
      ]
    },
    {
      "cell_type": "markdown",
      "metadata": {
        "id": "5i6tP8yBCm50",
        "colab_type": "text"
      },
      "source": [
        "profit"
      ]
    },
    {
      "cell_type": "code",
      "metadata": {
        "id": "NK_HVmubO9hn",
        "colab_type": "code",
        "colab": {}
      },
      "source": [
        "data_profit = bet_size.copy()\n",
        "data_profit['NoSize'] = (bs_df.side*bs_df.bin).loc[bet_size.index] \n",
        "data_profit['close'] = close.loc[bet_size.index]"
      ],
      "execution_count": 0,
      "outputs": []
    },
    {
      "cell_type": "code",
      "metadata": {
        "id": "Y0ECk-VuMIw3",
        "colab_type": "code",
        "colab": {
          "base_uri": "https://localhost:8080/",
          "height": 228
        },
        "outputId": "7cd55289-ec94-4839-9038-c3b11795eeb1"
      },
      "source": [
        "data_profit.head()"
      ],
      "execution_count": 443,
      "outputs": [
        {
          "output_type": "execute_result",
          "data": {
            "text/html": [
              "<div>\n",
              "<style scoped>\n",
              "    .dataframe tbody tr th:only-of-type {\n",
              "        vertical-align: middle;\n",
              "    }\n",
              "\n",
              "    .dataframe tbody tr th {\n",
              "        vertical-align: top;\n",
              "    }\n",
              "\n",
              "    .dataframe thead th {\n",
              "        text-align: right;\n",
              "    }\n",
              "</style>\n",
              "<table border=\"1\" class=\"dataframe\">\n",
              "  <thead>\n",
              "    <tr style=\"text-align: right;\">\n",
              "      <th></th>\n",
              "      <th>BetSizeProb</th>\n",
              "      <th>BetSizeProbAvg</th>\n",
              "      <th>BetSizeProbDiscrete</th>\n",
              "      <th>BetSizeReserve</th>\n",
              "      <th>BetSizeBudget</th>\n",
              "      <th>NoSize</th>\n",
              "      <th>close</th>\n",
              "    </tr>\n",
              "    <tr>\n",
              "      <th>date_time</th>\n",
              "      <th></th>\n",
              "      <th></th>\n",
              "      <th></th>\n",
              "      <th></th>\n",
              "      <th></th>\n",
              "      <th></th>\n",
              "      <th></th>\n",
              "    </tr>\n",
              "  </thead>\n",
              "  <tbody>\n",
              "    <tr>\n",
              "      <th>2015-03-30 09:42:26</th>\n",
              "      <td>-0.261724</td>\n",
              "      <td>-0.261724</td>\n",
              "      <td>-0.26</td>\n",
              "      <td>-0.444139</td>\n",
              "      <td>-0.166667</td>\n",
              "      <td>-0.0</td>\n",
              "      <td>92.9100</td>\n",
              "    </tr>\n",
              "    <tr>\n",
              "      <th>2015-03-31 15:15:12</th>\n",
              "      <td>-0.087419</td>\n",
              "      <td>-0.087419</td>\n",
              "      <td>-0.09</td>\n",
              "      <td>0.391913</td>\n",
              "      <td>0.142857</td>\n",
              "      <td>0.0</td>\n",
              "      <td>92.6299</td>\n",
              "    </tr>\n",
              "    <tr>\n",
              "      <th>2015-04-01 09:43:15</th>\n",
              "      <td>-0.192839</td>\n",
              "      <td>-0.140129</td>\n",
              "      <td>-0.14</td>\n",
              "      <td>0.709847</td>\n",
              "      <td>0.285714</td>\n",
              "      <td>1.0</td>\n",
              "      <td>91.9600</td>\n",
              "    </tr>\n",
              "    <tr>\n",
              "      <th>2015-04-02 09:49:29</th>\n",
              "      <td>-0.216476</td>\n",
              "      <td>-0.216476</td>\n",
              "      <td>-0.22</td>\n",
              "      <td>-0.444139</td>\n",
              "      <td>-0.166667</td>\n",
              "      <td>-1.0</td>\n",
              "      <td>92.6000</td>\n",
              "    </tr>\n",
              "    <tr>\n",
              "      <th>2015-04-02 09:54:02</th>\n",
              "      <td>-0.174172</td>\n",
              "      <td>-0.195324</td>\n",
              "      <td>-0.20</td>\n",
              "      <td>-0.762474</td>\n",
              "      <td>-0.333333</td>\n",
              "      <td>-1.0</td>\n",
              "      <td>92.8300</td>\n",
              "    </tr>\n",
              "  </tbody>\n",
              "</table>\n",
              "</div>"
            ],
            "text/plain": [
              "                     BetSizeProb  BetSizeProbAvg  ...  NoSize    close\n",
              "date_time                                         ...                 \n",
              "2015-03-30 09:42:26    -0.261724       -0.261724  ...    -0.0  92.9100\n",
              "2015-03-31 15:15:12    -0.087419       -0.087419  ...     0.0  92.6299\n",
              "2015-04-01 09:43:15    -0.192839       -0.140129  ...     1.0  91.9600\n",
              "2015-04-02 09:49:29    -0.216476       -0.216476  ...    -1.0  92.6000\n",
              "2015-04-02 09:54:02    -0.174172       -0.195324  ...    -1.0  92.8300\n",
              "\n",
              "[5 rows x 7 columns]"
            ]
          },
          "metadata": {
            "tags": []
          },
          "execution_count": 443
        }
      ]
    },
    {
      "cell_type": "code",
      "metadata": {
        "id": "OfYnieujNgBK",
        "colab_type": "code",
        "colab": {}
      },
      "source": [
        "mprob = data_profit.BetSizeProb\n",
        "mproba = data_profit.BetSizeProbAvg\n",
        "mprobd = data_profit.BetSizeProbDiscrete\n",
        "mres = data_profit.BetSizeReserve\n",
        "mbudg = data_profit.BetSizeBudget\n",
        "mclose = data_profit.close\n",
        "mnosize = data_profit.NoSize"
      ],
      "execution_count": 0,
      "outputs": []
    },
    {
      "cell_type": "code",
      "metadata": {
        "id": "r0zUK57RQpw9",
        "colab_type": "code",
        "colab": {}
      },
      "source": [
        "bet_profit = pd.DataFrame()\n",
        "bet_profit['Prob'] = -mprob*mclose\n",
        "bet_profit['ProbAvg'] = -mproba*mclose\n",
        "bet_profit['ProbDiscrete'] = -mprobd*mclose\n",
        "bet_profit['Reserve'] = -mres*mclose\n",
        "bet_profit['Budget'] = -mbudg*mclose\n",
        "bet_profit['NoSize'] = -mnosize*mclose"
      ],
      "execution_count": 0,
      "outputs": []
    },
    {
      "cell_type": "code",
      "metadata": {
        "id": "1JMChcscRfmv",
        "colab_type": "code",
        "colab": {
          "base_uri": "https://localhost:8080/",
          "height": 401
        },
        "outputId": "96be8b4f-c113-4e00-d330-c7fea22e1b5c"
      },
      "source": [
        "bet_profit.cumsum().plot(figsize=(10,6))"
      ],
      "execution_count": 461,
      "outputs": [
        {
          "output_type": "execute_result",
          "data": {
            "text/plain": [
              "<matplotlib.axes._subplots.AxesSubplot at 0x7f33e55c1d30>"
            ]
          },
          "metadata": {
            "tags": []
          },
          "execution_count": 461
        },
        {
          "output_type": "display_data",
          "data": {
            "image/png": "[encoded data removed]",
            "text/plain": [
              "<Figure size 720x432 with 1 Axes>"
            ]
          },
          "metadata": {
            "tags": []
          }
        }
      ]
    },
    {
      "cell_type": "markdown",
      "metadata": {
        "id": "4oAnth47X3Nn",
        "colab_type": "text"
      },
      "source": [
        ""
      ]
    },
    {
      "cell_type": "code",
      "metadata": {
        "id": "xVYOrNzARz58",
        "colab_type": "code",
        "colab": {
          "base_uri": "https://localhost:8080/",
          "height": 54
        },
        "outputId": "b2accb02-69db-4e9f-c7ee-45b86aa28f51"
      },
      "source": [
        "print(X_train.index[0],'부터 ', X_train.index[-1],'까지의 틱 자료의 정보를 이용해', mclose.index[0], '부터 ',mclose.index[-1],'까지의 전략을 세웠다.','\\n',\n",
        "      '전략은 신호가 올 때 마다 1달러 기준으로 계산된 베팅 크기로 사거나 파는 행위를 하는 것이다. 예산은 무한하며 공매도가 가능하다고 가정한다.'\n",
        ")"
      ],
      "execution_count": 474,
      "outputs": [
        {
          "output_type": "stream",
          "text": [
            "2009-10-14 15:29:13 부터  2015-03-30 09:32:47 까지의 틱 자료의 정보를 이용해 2015-03-30 09:42:26 부터  2019-06-18 09:48:22 까지의 전략을 세웠다. \n",
            " 전략은 신호가 올 때 마다 1달러 기준으로 계산된 베팅 크기로 사거나 파는 행위를 하는 것이다. 예산은 무한하며 공매도가 가능하다고 가정한다.\n"
          ],
          "name": "stdout"
        }
      ]
    },
    {
      "cell_type": "markdown",
      "metadata": {
        "id": "SDPbT-CBZvTc",
        "colab_type": "text"
      },
      "source": [
        "결과는 Probability를 기반으로 한 average discrete bet sizing 전략이 가장 많은 수익을 창출한 것으로 나왔다. "
      ]
    },
    {
      "cell_type": "markdown",
      "metadata": {
        "id": "d7YIGyDtPH92",
        "colab_type": "text"
      },
      "source": [
        "# REFERENCE"
      ]
    },
    {
      "cell_type": "markdown",
      "metadata": {
        "id": "ym6rl-oGPJIT",
        "colab_type": "text"
      },
      "source": [
        "Marcos Lopez de Prado. Advances in Financial Machine Learning. Wiley, 2018\n",
        "\n",
        "https://github.com/hudson-and-thames/research"
      ]
    },
    {
      "cell_type": "markdown",
      "metadata": {
        "id": "nPcMO2z3PUCY",
        "colab_type": "text"
      },
      "source": [
        "Marcos Lopez de Prado and Matthew D. Foreman. “A mixture ofGaussians approach to mathematical portfolio oversight: the EF3M algorithm”. In: Quantitative Finance14.5 (2014), pp. 913–930."
      ]
    },
    {
      "cell_type": "markdown",
      "metadata": {
        "id": "u3TTZaHgIfPi",
        "colab_type": "text"
      },
      "source": [
        "Yakup Kara\n",
        ", Melek Acar Boyacioglu \n",
        ", Ömer Kaan Baykan. \"Predicting direction of stock price index movement using artificial neural\n",
        "networks and support vector machines: The sample of the Istanbul Stock Exchange\"\n"
      ]
    },
    {
      "cell_type": "code",
      "metadata": {
        "id": "PYHTGOzHrnWA",
        "colab_type": "code",
        "colab": {}
      },
      "source": [
        ""
      ],
      "execution_count": 0,
      "outputs": []
    }
  ]
}