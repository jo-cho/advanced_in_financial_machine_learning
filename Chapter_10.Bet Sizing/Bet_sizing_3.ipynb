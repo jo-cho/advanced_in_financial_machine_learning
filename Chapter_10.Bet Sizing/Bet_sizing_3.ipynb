{
  "nbformat": 4,
  "nbformat_minor": 0,
  "metadata": {
    "colab": {
      "name": "Bet sizing 3",
      "provenance": [],
      "collapsed_sections": [
        "2Islsd4M729B",
        "6dfB2jjncf5r",
        "lAjfISA7_qvn"
      ],
      "authorship_tag": "ABX9TyNI93Wc9mfK98SQMMJpoZv8",
      "include_colab_link": true
    },
    "kernelspec": {
      "name": "python3",
      "display_name": "Python 3"
    },
    "accelerator": "GPU"
  },
  "cells": [
    {
      "cell_type": "markdown",
      "metadata": {
        "id": "view-in-github",
        "colab_type": "text"
      },
      "source": [
        "<a href=\"https://colab.research.google.com/github/jo-cho/advances_in_financial_machine_learning/blob/master/Bet%20Sizing/Bet_sizing_3.ipynb\" target=\"_parent\"><img src=\"https://colab.research.google.com/assets/colab-badge.svg\" alt=\"Open In Colab\"/></a>"
      ]
    },
    {
      "cell_type": "markdown",
      "metadata": {
        "id": "DIwRLn7gLJPz",
        "colab_type": "text"
      },
      "source": [
        "BET SIZING"
      ]
    },
    {
      "cell_type": "markdown",
      "metadata": {
        "id": "wbTFlCVLQfCH",
        "colab_type": "text"
      },
      "source": [
        "This notebook is based on the book *Advances in Financial Machine Learning* by Lopez De Prado. (Chapter 3 and Chapter 10)"
      ]
    },
    {
      "cell_type": "code",
      "metadata": {
        "id": "5bthg3s23JVw",
        "colab_type": "code",
        "colab": {}
      },
      "source": [
        "# lib\n",
        "import numpy as np\n",
        "import pandas as pd\n",
        "import datetime as dt\n",
        "import matplotlib.pyplot as plt\n",
        "%matplotlib inline\n",
        "import seaborn as sns; sns.set()"
      ],
      "execution_count": 0,
      "outputs": []
    },
    {
      "cell_type": "code",
      "metadata": {
        "id": "P_w5609_w735",
        "colab_type": "code",
        "colab": {}
      },
      "source": [
        "# sklearn\n",
        "\n",
        "from sklearn.decomposition import PCA\n",
        "from sklearn.model_selection import StratifiedKFold\n",
        "from sklearn.model_selection import train_test_split\n",
        "from sklearn.ensemble import RandomForestClassifier, BaggingClassifier\n",
        "from sklearn.metrics import roc_curve, confusion_matrix, accuracy_score, classification_report\n",
        "from sklearn.model_selection import GridSearchCV, RandomizedSearchCV\n",
        "from sklearn import metrics"
      ],
      "execution_count": 0,
      "outputs": []
    },
    {
      "cell_type": "code",
      "metadata": {
        "id": "lefH2Ji6WyLw",
        "colab_type": "code",
        "colab": {}
      },
      "source": [
        "import warnings\n",
        "warnings.filterwarnings(action='ignore')"
      ],
      "execution_count": 0,
      "outputs": []
    },
    {
      "cell_type": "code",
      "metadata": {
        "id": "KvpQ32OS2joc",
        "colab_type": "code",
        "outputId": "a7d4a422-85c2-450f-8e09-360f77672e55",
        "colab": {
          "base_uri": "https://localhost:8080/",
          "height": 128
        }
      },
      "source": [
        "from google.colab import drive\n",
        "drive.mount('/content/drive')"
      ],
      "execution_count": 9,
      "outputs": [
        {
          "output_type": "stream",
          "text": [
            "Go to this URL in a browser: https://accounts.google.com/o/oauth2/auth?client_id=947318989803-6bn6qk8qdgf4n4g3pfee6491hc0brc4i.apps.googleusercontent.com&redirect_uri=urn%3aietf%3awg%3aoauth%3a2.0%3aoob&response_type=code&scope=email%20https%3a%2f%2fwww.googleapis.com%2fauth%2fdocs.test%20https%3a%2f%2fwww.googleapis.com%2fauth%2fdrive%20https%3a%2f%2fwww.googleapis.com%2fauth%2fdrive.photos.readonly%20https%3a%2f%2fwww.googleapis.com%2fauth%2fpeopleapi.readonly\n",
            "\n",
            "Enter your authorization code:\n",
            "··········\n",
            "Mounted at /content/drive\n"
          ],
          "name": "stdout"
        }
      ]
    },
    {
      "cell_type": "code",
      "metadata": {
        "id": "J5F9VG8B2oB0",
        "colab_type": "code",
        "outputId": "dca3d2d0-b52a-4112-ecd6-1dc5bf40dd81",
        "colab": {
          "base_uri": "https://localhost:8080/",
          "height": 128
        }
      },
      "source": [
        "# Big thanks to mlfinlab!\n",
        "\n",
        "!pip install mlfinlab\n",
        "from mlfinlab import data_structures, features, filters, labeling, util, sampling"
      ],
      "execution_count": 10,
      "outputs": [
        {
          "output_type": "stream",
          "text": [
            "Collecting mlfinlab\n",
            "\u001b[?25l  Downloading https://files.pythonhosted.org/packages/18/68/0de1f93abffe540476ee8032511913dac57189dd764ab7750225be859816/mlfinlab-0.5.0-py3-none-any.whl (149kB)\n",
            "\r\u001b[K     |██▏                             | 10kB 33.0MB/s eta 0:00:01\r\u001b[K     |████▍                           | 20kB 2.0MB/s eta 0:00:01\r\u001b[K     |██████▋                         | 30kB 3.0MB/s eta 0:00:01\r\u001b[K     |████████▊                       | 40kB 2.0MB/s eta 0:00:01\r\u001b[K     |███████████                     | 51kB 2.5MB/s eta 0:00:01\r\u001b[K     |█████████████▏                  | 61kB 3.0MB/s eta 0:00:01\r\u001b[K     |███████████████▍                | 71kB 3.4MB/s eta 0:00:01\r\u001b[K     |█████████████████▌              | 81kB 3.9MB/s eta 0:00:01\r\u001b[K     |███████████████████▊            | 92kB 4.3MB/s eta 0:00:01\r\u001b[K     |██████████████████████          | 102kB 3.3MB/s eta 0:00:01\r\u001b[K     |████████████████████████▏       | 112kB 3.3MB/s eta 0:00:01\r\u001b[K     |██████████████████████████▎     | 122kB 3.3MB/s eta 0:00:01\r\u001b[K     |████████████████████████████▌   | 133kB 3.3MB/s eta 0:00:01\r\u001b[K     |██████████████████████████████▊ | 143kB 3.3MB/s eta 0:00:01\r\u001b[K     |████████████████████████████████| 153kB 3.3MB/s \n",
            "\u001b[?25hInstalling collected packages: mlfinlab\n",
            "Successfully installed mlfinlab-0.5.0\n"
          ],
          "name": "stdout"
        }
      ]
    },
    {
      "cell_type": "markdown",
      "metadata": {
        "id": "JXvDEf3VLBLJ",
        "colab_type": "text"
      },
      "source": [
        "# 1. Bet sizing (probability) - applying meta-labeling"
      ]
    },
    {
      "cell_type": "markdown",
      "metadata": {
        "id": "IYFn3Y3RLjsH",
        "colab_type": "text"
      },
      "source": [
        "We fit a\n",
        "classifier, such as an SVC or RF, to determine the probability of misclassification, and\n",
        "use that probability to derive the bet size."
      ]
    },
    {
      "cell_type": "markdown",
      "metadata": {
        "id": "eEh_hBTEBsKv",
        "colab_type": "text"
      },
      "source": [
        "### WHY do we use meta-labeling for sizing the bet?"
      ]
    },
    {
      "cell_type": "markdown",
      "metadata": {
        "id": "6khpDfn_Ly0o",
        "colab_type": "text"
      },
      "source": [
        "Advantages\n",
        "1. The ML algorithm that decides the bet sizes is independent of the primary model, allowing for the incorporation of features predictive of false positives (see below). \n",
        "\n",
        "2. The predicted probability can be directly translated into bet size."
      ]
    },
    {
      "cell_type": "markdown",
      "metadata": {
        "id": "NeFHQgICirXE",
        "colab_type": "text"
      },
      "source": [
        "### What is meta labeling?"
      ]
    },
    {
      "cell_type": "markdown",
      "metadata": {
        "id": "QbpCruzwPA2w",
        "colab_type": "text"
      },
      "source": [
        "Suppose that you have a model for setting the side of the bet (long or short). You just need to learn the size of that bet, which includes the possibility of no bet at all (zero size). This is a situation that practitioners face regularly. We often know whether we want to buy or sell a product, and the only remaining question is **how much money we should risk in such a bet**. We do not want the ML algorithm to learn the side, just\n",
        "to tell us what is the **appropriate size**. We want to build a **secondary ML model** that learns how to use a primary exogenous model."
      ]
    },
    {
      "cell_type": "markdown",
      "metadata": {
        "id": "XYj34cC_8aR4",
        "colab_type": "text"
      },
      "source": [
        "Binary classification problems present a trade-off between type-I errors (false positives) and type-II errors (false negatives). In general, increasing the true positive rate of a binary classifier will tend to increase its false positive rate. The receiver operating characteristic (ROC) curve of a binary classifier measures the cost of increasing the true positive rate, in terms of accepting higher false positive rates.\n",
        "\n",
        "Meta-labeling is particularly helpful when you want to achieve higher F1-scores. First, we build a model that achieves high recall, even if the precision is not particularly high. Second, we correct for the low precision by applying meta-labeling to the positives predicted by the primary model."
      ]
    },
    {
      "cell_type": "markdown",
      "metadata": {
        "id": "OkW31vLYXFts",
        "colab_type": "text"
      },
      "source": [
        "Meta-labeling will increase your F1-score by filtering out the false positives, where the majority of positives have already been identified by the primary model. Stated differently, the role of the secondary ML algorithm is to determine whether a positive from the primary (exogenous) model is true or false. It is not its purpose to come up with a betting opportunity. Its purpose is to determine **whether we should act or pass\n",
        "on the opportunity that has been presented.**\n",
        "\n"
      ]
    },
    {
      "cell_type": "markdown",
      "metadata": {
        "id": "ftWYDcPgXVkI",
        "colab_type": "text"
      },
      "source": [
        "Advantages of meta-labeling\n",
        "\n",
        "First, ML algorithms are often criticized as black boxes.\n",
        "Meta-labeling allows you to build an ML system on top of a white box (like a fundamental model founded on economic theory). This ability to transform a fundamental model into an ML model should make meta-labeling particularly useful to “quantamental” firms. \n",
        "\n",
        "Second, the effects of overfitting are limited when you apply meta labeling,\n",
        "because ML will not decide the side of your bet, only the size. \n",
        "\n",
        "Third, by decoupling the side prediction from the size prediction, meta-labeling enables sophisticated strategy structures. For instance, consider that the features driving a rally may differ from the features driving a sell-off. In that case, you may want to develop an\n",
        "ML strategy exclusively for long positions, based on the buy recommendations of a primary model, and an ML strategy exclusively for short positions, based on the sell recommendations of an entirely different primary model. \n",
        "\n",
        "Fourth, achieving high accuracy on small bets and low accuracy on large bets will ruin you. As important as identifying good opportunities is to size them properly, so it makes sense to develop an ML algorithm solely focused on getting that critical decision (sizing) right. - Bet Sizing"
      ]
    },
    {
      "cell_type": "markdown",
      "metadata": {
        "id": "sEmeWgLwuKo_",
        "colab_type": "text"
      },
      "source": [
        "Four steps\n",
        "\n",
        "\n",
        "1. Use your forecasts from the primary model, and generate meta-labels. Remember, horizontal barriers do not need to be symmetric in this case.\n",
        "\n",
        "2. Fit your model again on the same training set, but this time using the meta-labels you just generated.\n",
        "\n",
        "3. Combine the “sides” from the first ML model with the “sizes” from the second ML model. I.e. if your primary model predicts a 3 and your secondary model says you have a high probability of the primary model being correct, is your final prediction a 3, else not 3."
      ]
    },
    {
      "cell_type": "code",
      "metadata": {
        "id": "lpnKi3rNfYf4",
        "colab_type": "code",
        "outputId": "aeaa2f71-6b04-443a-a86f-d1485f5c4118",
        "colab": {
          "base_uri": "https://localhost:8080/",
          "height": 697
        }
      },
      "source": [
        "from IPython.core.display import Image\n",
        "Image(filename='/content/drive/My Drive/Colab Notebooks/images/meta-labeling.png')"
      ],
      "execution_count": 11,
      "outputs": [
        {
          "output_type": "execute_result",
          "data": {
            "image/png": "[encoded data removed]",
            "text/plain": [
              "<IPython.core.display.Image object>"
            ]
          },
          "metadata": {
            "tags": []
          },
          "execution_count": 11
        }
      ]
    },
    {
      "cell_type": "markdown",
      "metadata": {
        "id": "n98gQKwOsIVz",
        "colab_type": "text"
      },
      "source": [
        "### Steps \n"
      ]
    },
    {
      "cell_type": "markdown",
      "metadata": {
        "id": "Jk10U2TktenW",
        "colab_type": "text"
      },
      "source": [
        "https://hudsonthames.org/does-meta-labeling-add-to-signal-efficacy-triple-barrier-method/\n",
        "\n",
        "1. Compute long short signals for the strategy. For instance, in the mean-reverting strategy, generate a long signal when the close price is below the lower Bollinger band and create a sell signal if the close price is higher than the upper Bollinger band. We call this the “Primary model”.\n",
        "\n",
        "2. Get time stamps of the events using CUSUM (or cumulative sum control chart) filter and point estimate of the volatility. See section 4.2.\n",
        "Determine events when one of the three exit points (profit taking, stop-loss and vertical barrier) occur. Advances in Financial Machine Learning discusses this in Chapter 3. The result of this step is a trade decision – long or short, or 1 or -1.\n",
        "\n",
        "3. Determine the bet size. The prior step tell us the direction of the trade. This step says if we should trade or not – a one or zero decision.\n",
        "Tune the hyper-parameters (max_depth and n_estimators) of Random Forest using grid search and cross-validation. We keep the random state constant for reproducibility of the results.\n",
        "\n",
        "4. Train a machine-learning algorithm (we use Random Forest for illustration) with new features like one to five day serial correlations, one to five-day returns, 50-day volatility, and 14-day RSI. We iterate over this step number of times until we see in-sample results that are acceptable. In other words, we only exit this step when we consider the model to be ready and there is no turning back.\n",
        "\n",
        "5. Evaluate the performance of in sample and out-of-sample or this meta-model model.\n",
        "Evaluate the performance of the “Primary model”\n",
        "Compare the performance of the meta-model and the primary model"
      ]
    },
    {
      "cell_type": "markdown",
      "metadata": {
        "id": "PsrMWBgNhBgE",
        "colab_type": "text"
      },
      "source": [
        "### Read in data - dollar bars"
      ]
    },
    {
      "cell_type": "code",
      "metadata": {
        "id": "Lypoa5PW2xIg",
        "colab_type": "code",
        "outputId": "2123408a-4fd8-43a6-a312-2eae9cde21ca",
        "colab": {
          "base_uri": "https://localhost:8080/",
          "height": 90
        }
      },
      "source": [
        "# make dollar bars from tick data\n",
        "raw_dollar_bars = data_structures.get_dollar_bars('/content/drive/My Drive/Colab Notebooks/csv/clean_IVE_tickbidask2.csv', threshold=1_000_000)\n",
        "dollar_bars = raw_dollar_bars.set_index(pd.to_datetime(raw_dollar_bars.date_time))\n",
        "dollar_bars = dollar_bars.drop(columns='date_time')\n",
        "dollar_bars = dollar_bars.reset_index().drop_duplicates(subset='date_time', keep='last').set_index('date_time')"
      ],
      "execution_count": 12,
      "outputs": [
        {
          "output_type": "stream",
          "text": [
            "Reading data in batches:\n",
            "Batch number: 0\n",
            "Returning bars \n",
            "\n"
          ],
          "name": "stdout"
        }
      ]
    },
    {
      "cell_type": "code",
      "metadata": {
        "id": "6J1aOceRiGr7",
        "colab_type": "code",
        "outputId": "3c700de8-fb8c-4160-c029-a030981e5545",
        "colab": {
          "base_uri": "https://localhost:8080/",
          "height": 228
        }
      },
      "source": [
        "dollar_bars.head()"
      ],
      "execution_count": 13,
      "outputs": [
        {
          "output_type": "execute_result",
          "data": {
            "text/html": [
              "<div>\n",
              "<style scoped>\n",
              "    .dataframe tbody tr th:only-of-type {\n",
              "        vertical-align: middle;\n",
              "    }\n",
              "\n",
              "    .dataframe tbody tr th {\n",
              "        vertical-align: top;\n",
              "    }\n",
              "\n",
              "    .dataframe thead th {\n",
              "        text-align: right;\n",
              "    }\n",
              "</style>\n",
              "<table border=\"1\" class=\"dataframe\">\n",
              "  <thead>\n",
              "    <tr style=\"text-align: right;\">\n",
              "      <th></th>\n",
              "      <th>tick_num</th>\n",
              "      <th>open</th>\n",
              "      <th>high</th>\n",
              "      <th>low</th>\n",
              "      <th>close</th>\n",
              "      <th>volume</th>\n",
              "      <th>cum_buy_volume</th>\n",
              "      <th>cum_ticks</th>\n",
              "      <th>cum_dollar_value</th>\n",
              "    </tr>\n",
              "    <tr>\n",
              "      <th>date_time</th>\n",
              "      <th></th>\n",
              "      <th></th>\n",
              "      <th></th>\n",
              "      <th></th>\n",
              "      <th></th>\n",
              "      <th></th>\n",
              "      <th></th>\n",
              "      <th></th>\n",
              "      <th></th>\n",
              "    </tr>\n",
              "  </thead>\n",
              "  <tbody>\n",
              "    <tr>\n",
              "      <th>2009-09-28 09:46:35</th>\n",
              "      <td>62</td>\n",
              "      <td>50.79</td>\n",
              "      <td>51.07</td>\n",
              "      <td>50.710</td>\n",
              "      <td>51.07</td>\n",
              "      <td>19844</td>\n",
              "      <td>13264</td>\n",
              "      <td>62</td>\n",
              "      <td>1.010425e+06</td>\n",
              "    </tr>\n",
              "    <tr>\n",
              "      <th>2009-09-28 09:53:49</th>\n",
              "      <td>108</td>\n",
              "      <td>51.07</td>\n",
              "      <td>51.15</td>\n",
              "      <td>51.050</td>\n",
              "      <td>51.14</td>\n",
              "      <td>20324</td>\n",
              "      <td>16274</td>\n",
              "      <td>46</td>\n",
              "      <td>1.038593e+06</td>\n",
              "    </tr>\n",
              "    <tr>\n",
              "      <th>2009-09-28 09:55:26</th>\n",
              "      <td>143</td>\n",
              "      <td>51.14</td>\n",
              "      <td>51.15</td>\n",
              "      <td>51.129</td>\n",
              "      <td>51.14</td>\n",
              "      <td>19622</td>\n",
              "      <td>13098</td>\n",
              "      <td>35</td>\n",
              "      <td>1.003401e+06</td>\n",
              "    </tr>\n",
              "    <tr>\n",
              "      <th>2009-09-28 10:02:52</th>\n",
              "      <td>201</td>\n",
              "      <td>51.14</td>\n",
              "      <td>51.26</td>\n",
              "      <td>51.080</td>\n",
              "      <td>51.25</td>\n",
              "      <td>22319</td>\n",
              "      <td>17454</td>\n",
              "      <td>58</td>\n",
              "      <td>1.142880e+06</td>\n",
              "    </tr>\n",
              "    <tr>\n",
              "      <th>2009-09-28 10:10:21</th>\n",
              "      <td>254</td>\n",
              "      <td>51.25</td>\n",
              "      <td>51.29</td>\n",
              "      <td>51.190</td>\n",
              "      <td>51.29</td>\n",
              "      <td>21519</td>\n",
              "      <td>14254</td>\n",
              "      <td>53</td>\n",
              "      <td>1.103149e+06</td>\n",
              "    </tr>\n",
              "  </tbody>\n",
              "</table>\n",
              "</div>"
            ],
            "text/plain": [
              "                     tick_num   open  ...  cum_ticks  cum_dollar_value\n",
              "date_time                             ...                             \n",
              "2009-09-28 09:46:35        62  50.79  ...         62      1.010425e+06\n",
              "2009-09-28 09:53:49       108  51.07  ...         46      1.038593e+06\n",
              "2009-09-28 09:55:26       143  51.14  ...         35      1.003401e+06\n",
              "2009-09-28 10:02:52       201  51.14  ...         58      1.142880e+06\n",
              "2009-09-28 10:10:21       254  51.25  ...         53      1.103149e+06\n",
              "\n",
              "[5 rows x 9 columns]"
            ]
          },
          "metadata": {
            "tags": []
          },
          "execution_count": 13
        }
      ]
    },
    {
      "cell_type": "code",
      "metadata": {
        "id": "oYC5u9X5jqc5",
        "colab_type": "code",
        "colab": {}
      },
      "source": [
        "close = dollar_bars.close"
      ],
      "execution_count": 0,
      "outputs": []
    },
    {
      "cell_type": "markdown",
      "metadata": {
        "id": "f7blFi_KB4xw",
        "colab_type": "text"
      },
      "source": [
        "WHY do we use dollar bars?"
      ]
    },
    {
      "cell_type": "markdown",
      "metadata": {
        "id": "WTEeVnDqICxD",
        "colab_type": "text"
      },
      "source": [
        "See Chapter 2"
      ]
    },
    {
      "cell_type": "markdown",
      "metadata": {
        "id": "aovQU2FLhcYp",
        "colab_type": "text"
      },
      "source": [
        "### 1. Train a primary model (which decides 'sides') "
      ]
    },
    {
      "cell_type": "markdown",
      "metadata": {
        "id": "ZnBFN9QGdAXP",
        "colab_type": "text"
      },
      "source": [
        "- Based on the simple moving average cross-over strategy."
      ]
    },
    {
      "cell_type": "code",
      "metadata": {
        "id": "RVZiwS-dPhzs",
        "colab_type": "code",
        "colab": {}
      },
      "source": [
        "fast_window = 20\n",
        "slow_window = 50\n",
        "\n",
        "df = pd.DataFrame()\n",
        "df['fast_mavg'] = close.rolling(window=fast_window, min_periods=fast_window, center=False).mean()\n",
        "df['slow_mavg'] = close.rolling(window=slow_window, min_periods=slow_window, center=False).mean()\n",
        "df['side'] = np.nan\n",
        "\n",
        "long_signals = df['fast_mavg'] >= df['slow_mavg'] \n",
        "short_signals = df['fast_mavg'] < df['slow_mavg'] \n",
        "df.loc[long_signals, 'side'] = 1\n",
        "df.loc[short_signals, 'side'] = -1\n",
        "\n",
        "df['side'] = df['side'].shift(1)\n",
        "\n",
        "side = df['side']"
      ],
      "execution_count": 0,
      "outputs": []
    },
    {
      "cell_type": "code",
      "metadata": {
        "id": "gDT_ozxvj7eU",
        "colab_type": "code",
        "outputId": "619801e2-7fab-4dc1-ef68-a94c5bfbdee8",
        "colab": {
          "base_uri": "https://localhost:8080/",
          "height": 72
        }
      },
      "source": [
        "side.value_counts()"
      ],
      "execution_count": 16,
      "outputs": [
        {
          "output_type": "execute_result",
          "data": {
            "text/plain": [
              " 1.0    32190\n",
              "-1.0    26367\n",
              "Name: side, dtype: int64"
            ]
          },
          "metadata": {
            "tags": []
          },
          "execution_count": 16
        }
      ]
    },
    {
      "cell_type": "markdown",
      "metadata": {
        "id": "TgvhyR3tdDJT",
        "colab_type": "text"
      },
      "source": [
        "### 2. Generate meta-labels (from a primary model)"
      ]
    },
    {
      "cell_type": "code",
      "metadata": {
        "id": "pT2NSRXx24iv",
        "colab_type": "code",
        "colab": {}
      },
      "source": [
        "# form a tripple-barrier\n",
        "pt_sl = [1,2]\n",
        "\n",
        "target = util.get_daily_vol(close,lookback=50)\n",
        "\n",
        "h = target.mean()*0.5\n",
        "t_events = filters.cusum_filter(close, h) # using symmetric cusum filter get t_events\n",
        "\n",
        "vertical_barrier_times = labeling.add_vertical_barrier(t_events, close, num_days=1)"
      ],
      "execution_count": 0,
      "outputs": []
    },
    {
      "cell_type": "code",
      "metadata": {
        "id": "uAn2kWFFWZZv",
        "colab_type": "code",
        "outputId": "745b629c-54a6-49bb-e09a-a4f3c847b4e9",
        "colab": {
          "base_uri": "https://localhost:8080/",
          "height": 35
        }
      },
      "source": [
        "# events\n",
        "min_ret = 0.005\n",
        "\n",
        "events = labeling.get_events(close, t_events, pt_sl, target, min_ret, num_threads=3, \n",
        "                             vertical_barrier_times = vertical_barrier_times ,side_prediction = side)\n",
        "\n",
        "# label (bin) - binary classification from the primary model\n",
        "\n",
        "bin = labeling.get_bins(events, close)"
      ],
      "execution_count": 18,
      "outputs": [
        {
          "output_type": "stream",
          "text": [
            "2020-01-29 16:27:21.564076 100.0% apply_pt_sl_on_t1 done after 0.21 minutes. Remaining 0.0 minutes.\n"
          ],
          "name": "stderr"
        }
      ]
    },
    {
      "cell_type": "code",
      "metadata": {
        "id": "p-p8yHmHW0M7",
        "colab_type": "code",
        "outputId": "f1115cfa-a331-46fd-aacf-6ce49da1b64b",
        "colab": {
          "base_uri": "https://localhost:8080/",
          "height": 288
        }
      },
      "source": [
        "bin.describe()"
      ],
      "execution_count": 19,
      "outputs": [
        {
          "output_type": "execute_result",
          "data": {
            "text/html": [
              "<div>\n",
              "<style scoped>\n",
              "    .dataframe tbody tr th:only-of-type {\n",
              "        vertical-align: middle;\n",
              "    }\n",
              "\n",
              "    .dataframe tbody tr th {\n",
              "        vertical-align: top;\n",
              "    }\n",
              "\n",
              "    .dataframe thead th {\n",
              "        text-align: right;\n",
              "    }\n",
              "</style>\n",
              "<table border=\"1\" class=\"dataframe\">\n",
              "  <thead>\n",
              "    <tr style=\"text-align: right;\">\n",
              "      <th></th>\n",
              "      <th>ret</th>\n",
              "      <th>trgt</th>\n",
              "      <th>bin</th>\n",
              "      <th>side</th>\n",
              "    </tr>\n",
              "  </thead>\n",
              "  <tbody>\n",
              "    <tr>\n",
              "      <th>count</th>\n",
              "      <td>6404.000000</td>\n",
              "      <td>6410.000000</td>\n",
              "      <td>6410.000000</td>\n",
              "      <td>6404.000000</td>\n",
              "    </tr>\n",
              "    <tr>\n",
              "      <th>mean</th>\n",
              "      <td>-0.000117</td>\n",
              "      <td>0.009983</td>\n",
              "      <td>0.312012</td>\n",
              "      <td>-0.059963</td>\n",
              "    </tr>\n",
              "    <tr>\n",
              "      <th>std</th>\n",
              "      <td>0.013082</td>\n",
              "      <td>0.006454</td>\n",
              "      <td>0.463351</td>\n",
              "      <td>0.998279</td>\n",
              "    </tr>\n",
              "    <tr>\n",
              "      <th>min</th>\n",
              "      <td>-0.237752</td>\n",
              "      <td>0.005000</td>\n",
              "      <td>0.000000</td>\n",
              "      <td>-1.000000</td>\n",
              "    </tr>\n",
              "    <tr>\n",
              "      <th>25%</th>\n",
              "      <td>-0.007115</td>\n",
              "      <td>0.006446</td>\n",
              "      <td>0.000000</td>\n",
              "      <td>-1.000000</td>\n",
              "    </tr>\n",
              "    <tr>\n",
              "      <th>50%</th>\n",
              "      <td>0.001033</td>\n",
              "      <td>0.008225</td>\n",
              "      <td>0.000000</td>\n",
              "      <td>-1.000000</td>\n",
              "    </tr>\n",
              "    <tr>\n",
              "      <th>75%</th>\n",
              "      <td>0.007684</td>\n",
              "      <td>0.011075</td>\n",
              "      <td>1.000000</td>\n",
              "      <td>1.000000</td>\n",
              "    </tr>\n",
              "    <tr>\n",
              "      <th>max</th>\n",
              "      <td>0.373211</td>\n",
              "      <td>0.094337</td>\n",
              "      <td>1.000000</td>\n",
              "      <td>1.000000</td>\n",
              "    </tr>\n",
              "  </tbody>\n",
              "</table>\n",
              "</div>"
            ],
            "text/plain": [
              "               ret         trgt          bin         side\n",
              "count  6404.000000  6410.000000  6410.000000  6404.000000\n",
              "mean     -0.000117     0.009983     0.312012    -0.059963\n",
              "std       0.013082     0.006454     0.463351     0.998279\n",
              "min      -0.237752     0.005000     0.000000    -1.000000\n",
              "25%      -0.007115     0.006446     0.000000    -1.000000\n",
              "50%       0.001033     0.008225     0.000000    -1.000000\n",
              "75%       0.007684     0.011075     1.000000     1.000000\n",
              "max       0.373211     0.094337     1.000000     1.000000"
            ]
          },
          "metadata": {
            "tags": []
          },
          "execution_count": 19
        }
      ]
    },
    {
      "cell_type": "code",
      "metadata": {
        "id": "k-vX3SkcXYOF",
        "colab_type": "code",
        "colab": {}
      },
      "source": [
        "bin.dropna(inplace=True)"
      ],
      "execution_count": 0,
      "outputs": []
    },
    {
      "cell_type": "code",
      "metadata": {
        "id": "i2chOOmHXUAZ",
        "colab_type": "code",
        "outputId": "ff44a15a-e35d-4bb4-d1d8-16fcafb403d9",
        "colab": {
          "base_uri": "https://localhost:8080/",
          "height": 72
        }
      },
      "source": [
        "bin.side.value_counts()"
      ],
      "execution_count": 21,
      "outputs": [
        {
          "output_type": "execute_result",
          "data": {
            "text/plain": [
              "-1.0    3394\n",
              " 1.0    3010\n",
              "Name: side, dtype: int64"
            ]
          },
          "metadata": {
            "tags": []
          },
          "execution_count": 21
        }
      ]
    },
    {
      "cell_type": "code",
      "metadata": {
        "id": "rWR7vJWEWnJX",
        "colab_type": "code",
        "outputId": "9649c077-9b2d-430b-9d50-e85057ce53ae",
        "colab": {
          "base_uri": "https://localhost:8080/",
          "height": 72
        }
      },
      "source": [
        "bin.bin.value_counts()"
      ],
      "execution_count": 22,
      "outputs": [
        {
          "output_type": "execute_result",
          "data": {
            "text/plain": [
              "0    4404\n",
              "1    2000\n",
              "Name: bin, dtype: int64"
            ]
          },
          "metadata": {
            "tags": []
          },
          "execution_count": 22
        }
      ]
    },
    {
      "cell_type": "markdown",
      "metadata": {
        "id": "F9U1JJb_dS_8",
        "colab_type": "text"
      },
      "source": [
        "### 3. Features and primary model predicition\n"
      ]
    },
    {
      "cell_type": "markdown",
      "metadata": {
        "id": "3a7WNItJA_uj",
        "colab_type": "text"
      },
      "source": [
        "\n",
        "Features - Kara et al. (2011)\n",
        "\n",
        "\n",
        "- Simple 10-day moving average\n",
        "- Weighted 10-day moving average\n",
        "- Momentum\n",
        "- Stochastic K%\n",
        "- Stochastic D%\n",
        "- RSI (Relative Strength Index) 100\n",
        "- MACD (moving average convergence divergence)\n",
        "- Larry William’s R% \n",
        "- A/D (Accumulation/Distribution) Oscillator\n",
        "- CCI (Commodity Channel Index)"
      ]
    },
    {
      "cell_type": "code",
      "metadata": {
        "id": "3A9Zu4fzFVxc",
        "colab_type": "code",
        "colab": {}
      },
      "source": [
        "!pip install -q ta"
      ],
      "execution_count": 0,
      "outputs": []
    },
    {
      "cell_type": "markdown",
      "metadata": {
        "id": "fUfaDwOgFmza",
        "colab_type": "text"
      },
      "source": [
        "https://github.com/bukosabino/ta"
      ]
    },
    {
      "cell_type": "code",
      "metadata": {
        "id": "yMrVGUT4FaT3",
        "colab_type": "code",
        "colab": {}
      },
      "source": [
        "import ta"
      ],
      "execution_count": 0,
      "outputs": []
    },
    {
      "cell_type": "code",
      "metadata": {
        "id": "N8LDitAvHOkn",
        "colab_type": "code",
        "colab": {
          "base_uri": "https://localhost:8080/",
          "height": 228
        },
        "outputId": "bc3f4f79-8c96-42d8-e5ba-f3cab2d27d9f"
      },
      "source": [
        "bars = dollar_bars.iloc[:,1:6]\n",
        "bars.head()"
      ],
      "execution_count": 26,
      "outputs": [
        {
          "output_type": "execute_result",
          "data": {
            "text/html": [
              "<div>\n",
              "<style scoped>\n",
              "    .dataframe tbody tr th:only-of-type {\n",
              "        vertical-align: middle;\n",
              "    }\n",
              "\n",
              "    .dataframe tbody tr th {\n",
              "        vertical-align: top;\n",
              "    }\n",
              "\n",
              "    .dataframe thead th {\n",
              "        text-align: right;\n",
              "    }\n",
              "</style>\n",
              "<table border=\"1\" class=\"dataframe\">\n",
              "  <thead>\n",
              "    <tr style=\"text-align: right;\">\n",
              "      <th></th>\n",
              "      <th>open</th>\n",
              "      <th>high</th>\n",
              "      <th>low</th>\n",
              "      <th>close</th>\n",
              "      <th>volume</th>\n",
              "    </tr>\n",
              "    <tr>\n",
              "      <th>date_time</th>\n",
              "      <th></th>\n",
              "      <th></th>\n",
              "      <th></th>\n",
              "      <th></th>\n",
              "      <th></th>\n",
              "    </tr>\n",
              "  </thead>\n",
              "  <tbody>\n",
              "    <tr>\n",
              "      <th>2009-09-28 09:46:35</th>\n",
              "      <td>50.79</td>\n",
              "      <td>51.07</td>\n",
              "      <td>50.710</td>\n",
              "      <td>51.07</td>\n",
              "      <td>19844</td>\n",
              "    </tr>\n",
              "    <tr>\n",
              "      <th>2009-09-28 09:53:49</th>\n",
              "      <td>51.07</td>\n",
              "      <td>51.15</td>\n",
              "      <td>51.050</td>\n",
              "      <td>51.14</td>\n",
              "      <td>20324</td>\n",
              "    </tr>\n",
              "    <tr>\n",
              "      <th>2009-09-28 09:55:26</th>\n",
              "      <td>51.14</td>\n",
              "      <td>51.15</td>\n",
              "      <td>51.129</td>\n",
              "      <td>51.14</td>\n",
              "      <td>19622</td>\n",
              "    </tr>\n",
              "    <tr>\n",
              "      <th>2009-09-28 10:02:52</th>\n",
              "      <td>51.14</td>\n",
              "      <td>51.26</td>\n",
              "      <td>51.080</td>\n",
              "      <td>51.25</td>\n",
              "      <td>22319</td>\n",
              "    </tr>\n",
              "    <tr>\n",
              "      <th>2009-09-28 10:10:21</th>\n",
              "      <td>51.25</td>\n",
              "      <td>51.29</td>\n",
              "      <td>51.190</td>\n",
              "      <td>51.29</td>\n",
              "      <td>21519</td>\n",
              "    </tr>\n",
              "  </tbody>\n",
              "</table>\n",
              "</div>"
            ],
            "text/plain": [
              "                      open   high     low  close  volume\n",
              "date_time                                               \n",
              "2009-09-28 09:46:35  50.79  51.07  50.710  51.07   19844\n",
              "2009-09-28 09:53:49  51.07  51.15  51.050  51.14   20324\n",
              "2009-09-28 09:55:26  51.14  51.15  51.129  51.14   19622\n",
              "2009-09-28 10:02:52  51.14  51.26  51.080  51.25   22319\n",
              "2009-09-28 10:10:21  51.25  51.29  51.190  51.29   21519"
            ]
          },
          "metadata": {
            "tags": []
          },
          "execution_count": 26
        }
      ]
    },
    {
      "cell_type": "markdown",
      "metadata": {
        "id": "YQU4T5p1NKAj",
        "colab_type": "text"
      },
      "source": [
        "Volume\n",
        "- Accumulation/Distribution Index (ADI)\n",
        "-On-Balance Volume (OBV)\n",
        "-Chaikin Money Flow (CMF)\n",
        "-Force Index (FI)\n",
        "-Ease of Movement (EoM, EMV)\n",
        "-Volume-price Trend (VPT)\n",
        "-Negative Volume Index (NVI)\n",
        "\n",
        "Volatility\n",
        "- Average True Range (ATR)\n",
        "- Bollinger Bands (BB)\n",
        "- Keltner Channel (KC)\n",
        "- Donchian Channel (DC)\n",
        "\n",
        "Trend\n",
        "- Moving Average Convergence Divergence (MACD)\n",
        "- Average Directional Movement Index (ADX)\n",
        "- Vortex Indicator (VI)\n",
        "- Trix (TRIX)\n",
        "- Mass Index (MI)\n",
        "- Commodity Channel Index (CCI)\n",
        "- Detrended Price Oscillator (DPO)\n",
        "- KST Oscillator (KST)\n",
        "- Ichimoku Kinkō Hyō (Ichimoku)\n",
        "- Parabolic Stop And Reverse (Parabolic SAR)\n",
        "\n",
        "Momentum\n",
        "- Money Flow Index (MFI)\n",
        "- Relative Strength Index (RSI)\n",
        "- True strength index (TSI)\n",
        "- Ultimate Oscillator (UO)\n",
        "- Stochastic Oscillator (SR)\n",
        "- Williams %R (WR)\n",
        "- Awesome Oscillator (AO)\n",
        "- Kaufman's Adaptive Moving Average (KAMA)\n",
        "- Rate of Change (ROC)\n",
        "\n",
        "Others\n",
        "- Daily Return (DR)\n",
        "- Daily Log Return (DLR)\n",
        "- Cumulative Return (CR)"
      ]
    },
    {
      "cell_type": "code",
      "metadata": {
        "id": "uq2kcsGCA_MO",
        "colab_type": "code",
        "colab": {}
      },
      "source": [
        "ta_features = ta.add_all_ta_features(bars,'open','high','low','close','volume')"
      ],
      "execution_count": 0,
      "outputs": []
    },
    {
      "cell_type": "code",
      "metadata": {
        "id": "nm17c9e8KZW7",
        "colab_type": "code",
        "colab": {
          "base_uri": "https://localhost:8080/",
          "height": 421
        },
        "outputId": "bf8b4c69-b580-407a-ebd9-3cd1f95f8bde"
      },
      "source": [
        "ta_features = ta_features.shift(1)\n",
        "ta_features.head()"
      ],
      "execution_count": 334,
      "outputs": [
        {
          "output_type": "execute_result",
          "data": {
            "text/html": [
              "<div>\n",
              "<style scoped>\n",
              "    .dataframe tbody tr th:only-of-type {\n",
              "        vertical-align: middle;\n",
              "    }\n",
              "\n",
              "    .dataframe tbody tr th {\n",
              "        vertical-align: top;\n",
              "    }\n",
              "\n",
              "    .dataframe thead th {\n",
              "        text-align: right;\n",
              "    }\n",
              "</style>\n",
              "<table border=\"1\" class=\"dataframe\">\n",
              "  <thead>\n",
              "    <tr style=\"text-align: right;\">\n",
              "      <th></th>\n",
              "      <th>open</th>\n",
              "      <th>high</th>\n",
              "      <th>low</th>\n",
              "      <th>close</th>\n",
              "      <th>volume</th>\n",
              "      <th>volume_adi</th>\n",
              "      <th>volume_obv</th>\n",
              "      <th>volume_cmf</th>\n",
              "      <th>volume_fi</th>\n",
              "      <th>volume_em</th>\n",
              "      <th>volume_sma_em</th>\n",
              "      <th>volume_vpt</th>\n",
              "      <th>volume_nvi</th>\n",
              "      <th>volatility_atr</th>\n",
              "      <th>volatility_bbm</th>\n",
              "      <th>volatility_bbh</th>\n",
              "      <th>volatility_bbl</th>\n",
              "      <th>volatility_bbw</th>\n",
              "      <th>volatility_bbhi</th>\n",
              "      <th>volatility_bbli</th>\n",
              "      <th>volatility_kcc</th>\n",
              "      <th>volatility_kch</th>\n",
              "      <th>volatility_kcl</th>\n",
              "      <th>volatility_kchi</th>\n",
              "      <th>volatility_kcli</th>\n",
              "      <th>volatility_dcl</th>\n",
              "      <th>volatility_dch</th>\n",
              "      <th>volatility_dchi</th>\n",
              "      <th>volatility_dcli</th>\n",
              "      <th>trend_macd</th>\n",
              "      <th>trend_macd_signal</th>\n",
              "      <th>trend_macd_diff</th>\n",
              "      <th>trend_ema_fast</th>\n",
              "      <th>trend_ema_slow</th>\n",
              "      <th>trend_adx</th>\n",
              "      <th>trend_adx_pos</th>\n",
              "      <th>trend_adx_neg</th>\n",
              "      <th>trend_vortex_ind_pos</th>\n",
              "      <th>trend_vortex_ind_neg</th>\n",
              "      <th>trend_vortex_ind_diff</th>\n",
              "      <th>trend_trix</th>\n",
              "      <th>trend_mass_index</th>\n",
              "      <th>trend_cci</th>\n",
              "      <th>trend_dpo</th>\n",
              "      <th>trend_kst</th>\n",
              "      <th>trend_kst_sig</th>\n",
              "      <th>trend_kst_diff</th>\n",
              "      <th>trend_ichimoku_a</th>\n",
              "      <th>trend_ichimoku_b</th>\n",
              "      <th>trend_visual_ichimoku_a</th>\n",
              "      <th>trend_visual_ichimoku_b</th>\n",
              "      <th>trend_aroon_up</th>\n",
              "      <th>trend_aroon_down</th>\n",
              "      <th>trend_aroon_ind</th>\n",
              "      <th>trend_psar</th>\n",
              "      <th>trend_psar_up</th>\n",
              "      <th>trend_psar_down</th>\n",
              "      <th>trend_psar_up_indicator</th>\n",
              "      <th>trend_psar_down_indicator</th>\n",
              "      <th>momentum_rsi</th>\n",
              "      <th>momentum_mfi</th>\n",
              "      <th>momentum_tsi</th>\n",
              "      <th>momentum_uo</th>\n",
              "      <th>momentum_stoch</th>\n",
              "      <th>momentum_stoch_signal</th>\n",
              "      <th>momentum_wr</th>\n",
              "      <th>momentum_ao</th>\n",
              "      <th>momentum_kama</th>\n",
              "      <th>momentum_roc</th>\n",
              "      <th>others_dr</th>\n",
              "      <th>others_dlr</th>\n",
              "      <th>others_cr</th>\n",
              "    </tr>\n",
              "    <tr>\n",
              "      <th>date_time</th>\n",
              "      <th></th>\n",
              "      <th></th>\n",
              "      <th></th>\n",
              "      <th></th>\n",
              "      <th></th>\n",
              "      <th></th>\n",
              "      <th></th>\n",
              "      <th></th>\n",
              "      <th></th>\n",
              "      <th></th>\n",
              "      <th></th>\n",
              "      <th></th>\n",
              "      <th></th>\n",
              "      <th></th>\n",
              "      <th></th>\n",
              "      <th></th>\n",
              "      <th></th>\n",
              "      <th></th>\n",
              "      <th></th>\n",
              "      <th></th>\n",
              "      <th></th>\n",
              "      <th></th>\n",
              "      <th></th>\n",
              "      <th></th>\n",
              "      <th></th>\n",
              "      <th></th>\n",
              "      <th></th>\n",
              "      <th></th>\n",
              "      <th></th>\n",
              "      <th></th>\n",
              "      <th></th>\n",
              "      <th></th>\n",
              "      <th></th>\n",
              "      <th></th>\n",
              "      <th></th>\n",
              "      <th></th>\n",
              "      <th></th>\n",
              "      <th></th>\n",
              "      <th></th>\n",
              "      <th></th>\n",
              "      <th></th>\n",
              "      <th></th>\n",
              "      <th></th>\n",
              "      <th></th>\n",
              "      <th></th>\n",
              "      <th></th>\n",
              "      <th></th>\n",
              "      <th></th>\n",
              "      <th></th>\n",
              "      <th></th>\n",
              "      <th></th>\n",
              "      <th></th>\n",
              "      <th></th>\n",
              "      <th></th>\n",
              "      <th></th>\n",
              "      <th></th>\n",
              "      <th></th>\n",
              "      <th></th>\n",
              "      <th></th>\n",
              "      <th></th>\n",
              "      <th></th>\n",
              "      <th></th>\n",
              "      <th></th>\n",
              "      <th></th>\n",
              "      <th></th>\n",
              "      <th></th>\n",
              "      <th></th>\n",
              "      <th></th>\n",
              "      <th></th>\n",
              "      <th></th>\n",
              "      <th></th>\n",
              "      <th></th>\n",
              "    </tr>\n",
              "  </thead>\n",
              "  <tbody>\n",
              "    <tr>\n",
              "      <th>2009-09-28 09:46:35</th>\n",
              "      <td>NaN</td>\n",
              "      <td>NaN</td>\n",
              "      <td>NaN</td>\n",
              "      <td>NaN</td>\n",
              "      <td>NaN</td>\n",
              "      <td>NaN</td>\n",
              "      <td>NaN</td>\n",
              "      <td>NaN</td>\n",
              "      <td>NaN</td>\n",
              "      <td>NaN</td>\n",
              "      <td>NaN</td>\n",
              "      <td>NaN</td>\n",
              "      <td>NaN</td>\n",
              "      <td>NaN</td>\n",
              "      <td>NaN</td>\n",
              "      <td>NaN</td>\n",
              "      <td>NaN</td>\n",
              "      <td>NaN</td>\n",
              "      <td>NaN</td>\n",
              "      <td>NaN</td>\n",
              "      <td>NaN</td>\n",
              "      <td>NaN</td>\n",
              "      <td>NaN</td>\n",
              "      <td>NaN</td>\n",
              "      <td>NaN</td>\n",
              "      <td>NaN</td>\n",
              "      <td>NaN</td>\n",
              "      <td>NaN</td>\n",
              "      <td>NaN</td>\n",
              "      <td>NaN</td>\n",
              "      <td>NaN</td>\n",
              "      <td>NaN</td>\n",
              "      <td>NaN</td>\n",
              "      <td>NaN</td>\n",
              "      <td>NaN</td>\n",
              "      <td>NaN</td>\n",
              "      <td>NaN</td>\n",
              "      <td>NaN</td>\n",
              "      <td>NaN</td>\n",
              "      <td>NaN</td>\n",
              "      <td>NaN</td>\n",
              "      <td>NaN</td>\n",
              "      <td>NaN</td>\n",
              "      <td>NaN</td>\n",
              "      <td>NaN</td>\n",
              "      <td>NaN</td>\n",
              "      <td>NaN</td>\n",
              "      <td>NaN</td>\n",
              "      <td>NaN</td>\n",
              "      <td>NaN</td>\n",
              "      <td>NaN</td>\n",
              "      <td>NaN</td>\n",
              "      <td>NaN</td>\n",
              "      <td>NaN</td>\n",
              "      <td>NaN</td>\n",
              "      <td>NaN</td>\n",
              "      <td>NaN</td>\n",
              "      <td>NaN</td>\n",
              "      <td>NaN</td>\n",
              "      <td>NaN</td>\n",
              "      <td>NaN</td>\n",
              "      <td>NaN</td>\n",
              "      <td>NaN</td>\n",
              "      <td>NaN</td>\n",
              "      <td>NaN</td>\n",
              "      <td>NaN</td>\n",
              "      <td>NaN</td>\n",
              "      <td>NaN</td>\n",
              "      <td>NaN</td>\n",
              "      <td>NaN</td>\n",
              "      <td>NaN</td>\n",
              "      <td>NaN</td>\n",
              "    </tr>\n",
              "    <tr>\n",
              "      <th>2009-09-28 09:53:49</th>\n",
              "      <td>50.79</td>\n",
              "      <td>51.07</td>\n",
              "      <td>50.710</td>\n",
              "      <td>51.07</td>\n",
              "      <td>19844.0</td>\n",
              "      <td>19844.000000</td>\n",
              "      <td>19844.0</td>\n",
              "      <td>1.000000</td>\n",
              "      <td>NaN</td>\n",
              "      <td>NaN</td>\n",
              "      <td>NaN</td>\n",
              "      <td>-8686.388581</td>\n",
              "      <td>1000.0</td>\n",
              "      <td>0.0</td>\n",
              "      <td>51.070000</td>\n",
              "      <td>51.070000</td>\n",
              "      <td>51.070000</td>\n",
              "      <td>0.000000</td>\n",
              "      <td>0.0</td>\n",
              "      <td>0.0</td>\n",
              "      <td>50.950000</td>\n",
              "      <td>50.950000</td>\n",
              "      <td>50.590000</td>\n",
              "      <td>0.0</td>\n",
              "      <td>0.0</td>\n",
              "      <td>51.07</td>\n",
              "      <td>51.07</td>\n",
              "      <td>1.0</td>\n",
              "      <td>1.0</td>\n",
              "      <td>NaN</td>\n",
              "      <td>NaN</td>\n",
              "      <td>NaN</td>\n",
              "      <td>NaN</td>\n",
              "      <td>NaN</td>\n",
              "      <td>0.0</td>\n",
              "      <td>0.0</td>\n",
              "      <td>0.0</td>\n",
              "      <td>NaN</td>\n",
              "      <td>NaN</td>\n",
              "      <td>NaN</td>\n",
              "      <td>NaN</td>\n",
              "      <td>0.0</td>\n",
              "      <td>NaN</td>\n",
              "      <td>39.762077</td>\n",
              "      <td>-437.753692</td>\n",
              "      <td>-437.753692</td>\n",
              "      <td>0.000000</td>\n",
              "      <td>50.890</td>\n",
              "      <td>50.890</td>\n",
              "      <td>90.806191</td>\n",
              "      <td>90.757522</td>\n",
              "      <td>4.0</td>\n",
              "      <td>4.0</td>\n",
              "      <td>0.0</td>\n",
              "      <td>51.070</td>\n",
              "      <td>NaN</td>\n",
              "      <td>NaN</td>\n",
              "      <td>0.0</td>\n",
              "      <td>0.0</td>\n",
              "      <td>100.0</td>\n",
              "      <td>NaN</td>\n",
              "      <td>NaN</td>\n",
              "      <td>NaN</td>\n",
              "      <td>100.000000</td>\n",
              "      <td>100.000000</td>\n",
              "      <td>-0.000000</td>\n",
              "      <td>0.0</td>\n",
              "      <td>NaN</td>\n",
              "      <td>NaN</td>\n",
              "      <td>-43.775369</td>\n",
              "      <td>NaN</td>\n",
              "      <td>0.000000</td>\n",
              "    </tr>\n",
              "    <tr>\n",
              "      <th>2009-09-28 09:55:26</th>\n",
              "      <td>51.07</td>\n",
              "      <td>51.15</td>\n",
              "      <td>51.050</td>\n",
              "      <td>51.14</td>\n",
              "      <td>20324.0</td>\n",
              "      <td>36103.200000</td>\n",
              "      <td>40168.0</td>\n",
              "      <td>0.898805</td>\n",
              "      <td>NaN</td>\n",
              "      <td>103.326117</td>\n",
              "      <td>103.326117</td>\n",
              "      <td>-8658.926806</td>\n",
              "      <td>1000.0</td>\n",
              "      <td>0.0</td>\n",
              "      <td>51.105000</td>\n",
              "      <td>51.175000</td>\n",
              "      <td>51.035000</td>\n",
              "      <td>0.140000</td>\n",
              "      <td>0.0</td>\n",
              "      <td>0.0</td>\n",
              "      <td>51.031667</td>\n",
              "      <td>51.031667</td>\n",
              "      <td>50.801667</td>\n",
              "      <td>0.0</td>\n",
              "      <td>0.0</td>\n",
              "      <td>51.07</td>\n",
              "      <td>51.14</td>\n",
              "      <td>1.0</td>\n",
              "      <td>0.0</td>\n",
              "      <td>NaN</td>\n",
              "      <td>NaN</td>\n",
              "      <td>NaN</td>\n",
              "      <td>NaN</td>\n",
              "      <td>NaN</td>\n",
              "      <td>0.0</td>\n",
              "      <td>0.0</td>\n",
              "      <td>0.0</td>\n",
              "      <td>NaN</td>\n",
              "      <td>NaN</td>\n",
              "      <td>NaN</td>\n",
              "      <td>NaN</td>\n",
              "      <td>0.0</td>\n",
              "      <td>66.666667</td>\n",
              "      <td>39.727077</td>\n",
              "      <td>-437.368365</td>\n",
              "      <td>-437.561028</td>\n",
              "      <td>0.192663</td>\n",
              "      <td>50.930</td>\n",
              "      <td>50.930</td>\n",
              "      <td>90.806191</td>\n",
              "      <td>90.757522</td>\n",
              "      <td>8.0</td>\n",
              "      <td>4.0</td>\n",
              "      <td>4.0</td>\n",
              "      <td>51.140</td>\n",
              "      <td>NaN</td>\n",
              "      <td>NaN</td>\n",
              "      <td>0.0</td>\n",
              "      <td>0.0</td>\n",
              "      <td>100.0</td>\n",
              "      <td>NaN</td>\n",
              "      <td>100.0</td>\n",
              "      <td>NaN</td>\n",
              "      <td>97.727273</td>\n",
              "      <td>98.863636</td>\n",
              "      <td>-2.272727</td>\n",
              "      <td>0.0</td>\n",
              "      <td>NaN</td>\n",
              "      <td>NaN</td>\n",
              "      <td>0.137067</td>\n",
              "      <td>0.136973</td>\n",
              "      <td>0.137067</td>\n",
              "    </tr>\n",
              "    <tr>\n",
              "      <th>2009-09-28 10:02:52</th>\n",
              "      <td>51.14</td>\n",
              "      <td>51.15</td>\n",
              "      <td>51.129</td>\n",
              "      <td>51.14</td>\n",
              "      <td>19622.0</td>\n",
              "      <td>37037.580952</td>\n",
              "      <td>59790.0</td>\n",
              "      <td>0.619461</td>\n",
              "      <td>NaN</td>\n",
              "      <td>4.227398</td>\n",
              "      <td>53.776757</td>\n",
              "      <td>27.857451</td>\n",
              "      <td>1000.0</td>\n",
              "      <td>0.0</td>\n",
              "      <td>51.116667</td>\n",
              "      <td>51.182663</td>\n",
              "      <td>51.050670</td>\n",
              "      <td>0.131993</td>\n",
              "      <td>0.0</td>\n",
              "      <td>0.0</td>\n",
              "      <td>51.067667</td>\n",
              "      <td>51.067667</td>\n",
              "      <td>50.907333</td>\n",
              "      <td>0.0</td>\n",
              "      <td>0.0</td>\n",
              "      <td>51.07</td>\n",
              "      <td>51.14</td>\n",
              "      <td>1.0</td>\n",
              "      <td>0.0</td>\n",
              "      <td>NaN</td>\n",
              "      <td>NaN</td>\n",
              "      <td>NaN</td>\n",
              "      <td>NaN</td>\n",
              "      <td>NaN</td>\n",
              "      <td>0.0</td>\n",
              "      <td>0.0</td>\n",
              "      <td>0.0</td>\n",
              "      <td>NaN</td>\n",
              "      <td>NaN</td>\n",
              "      <td>NaN</td>\n",
              "      <td>NaN</td>\n",
              "      <td>0.0</td>\n",
              "      <td>61.189802</td>\n",
              "      <td>39.715410</td>\n",
              "      <td>-437.239923</td>\n",
              "      <td>-437.453993</td>\n",
              "      <td>0.214070</td>\n",
              "      <td>50.930</td>\n",
              "      <td>50.930</td>\n",
              "      <td>90.806191</td>\n",
              "      <td>90.757522</td>\n",
              "      <td>8.0</td>\n",
              "      <td>4.0</td>\n",
              "      <td>4.0</td>\n",
              "      <td>51.070</td>\n",
              "      <td>NaN</td>\n",
              "      <td>51.07</td>\n",
              "      <td>0.0</td>\n",
              "      <td>1.0</td>\n",
              "      <td>100.0</td>\n",
              "      <td>NaN</td>\n",
              "      <td>100.0</td>\n",
              "      <td>NaN</td>\n",
              "      <td>97.727273</td>\n",
              "      <td>98.484848</td>\n",
              "      <td>-2.272727</td>\n",
              "      <td>0.0</td>\n",
              "      <td>NaN</td>\n",
              "      <td>NaN</td>\n",
              "      <td>0.000000</td>\n",
              "      <td>0.000000</td>\n",
              "      <td>0.137067</td>\n",
              "    </tr>\n",
              "    <tr>\n",
              "      <th>2009-09-28 10:10:21</th>\n",
              "      <td>51.14</td>\n",
              "      <td>51.26</td>\n",
              "      <td>51.080</td>\n",
              "      <td>51.25</td>\n",
              "      <td>22319.0</td>\n",
              "      <td>56876.692063</td>\n",
              "      <td>82109.0</td>\n",
              "      <td>0.692697</td>\n",
              "      <td>NaN</td>\n",
              "      <td>24.597876</td>\n",
              "      <td>44.050464</td>\n",
              "      <td>48.007235</td>\n",
              "      <td>1000.0</td>\n",
              "      <td>0.0</td>\n",
              "      <td>51.150000</td>\n",
              "      <td>51.278841</td>\n",
              "      <td>51.021159</td>\n",
              "      <td>0.257682</td>\n",
              "      <td>0.0</td>\n",
              "      <td>0.0</td>\n",
              "      <td>51.099917</td>\n",
              "      <td>51.099917</td>\n",
              "      <td>50.934667</td>\n",
              "      <td>0.0</td>\n",
              "      <td>0.0</td>\n",
              "      <td>51.07</td>\n",
              "      <td>51.25</td>\n",
              "      <td>1.0</td>\n",
              "      <td>0.0</td>\n",
              "      <td>NaN</td>\n",
              "      <td>NaN</td>\n",
              "      <td>NaN</td>\n",
              "      <td>NaN</td>\n",
              "      <td>NaN</td>\n",
              "      <td>0.0</td>\n",
              "      <td>0.0</td>\n",
              "      <td>0.0</td>\n",
              "      <td>NaN</td>\n",
              "      <td>NaN</td>\n",
              "      <td>NaN</td>\n",
              "      <td>NaN</td>\n",
              "      <td>0.0</td>\n",
              "      <td>86.047804</td>\n",
              "      <td>39.682077</td>\n",
              "      <td>-436.872945</td>\n",
              "      <td>-437.308731</td>\n",
              "      <td>0.435786</td>\n",
              "      <td>50.985</td>\n",
              "      <td>50.985</td>\n",
              "      <td>90.806191</td>\n",
              "      <td>90.757522</td>\n",
              "      <td>16.0</td>\n",
              "      <td>4.0</td>\n",
              "      <td>12.0</td>\n",
              "      <td>51.129</td>\n",
              "      <td>51.129</td>\n",
              "      <td>NaN</td>\n",
              "      <td>1.0</td>\n",
              "      <td>0.0</td>\n",
              "      <td>100.0</td>\n",
              "      <td>NaN</td>\n",
              "      <td>100.0</td>\n",
              "      <td>NaN</td>\n",
              "      <td>98.181818</td>\n",
              "      <td>97.878788</td>\n",
              "      <td>-1.818182</td>\n",
              "      <td>0.0</td>\n",
              "      <td>NaN</td>\n",
              "      <td>NaN</td>\n",
              "      <td>0.215096</td>\n",
              "      <td>0.214865</td>\n",
              "      <td>0.352457</td>\n",
              "    </tr>\n",
              "  </tbody>\n",
              "</table>\n",
              "</div>"
            ],
            "text/plain": [
              "                      open   high     low  ...  others_dr  others_dlr  others_cr\n",
              "date_time                                  ...                                  \n",
              "2009-09-28 09:46:35    NaN    NaN     NaN  ...        NaN         NaN        NaN\n",
              "2009-09-28 09:53:49  50.79  51.07  50.710  ... -43.775369         NaN   0.000000\n",
              "2009-09-28 09:55:26  51.07  51.15  51.050  ...   0.137067    0.136973   0.137067\n",
              "2009-09-28 10:02:52  51.14  51.15  51.129  ...   0.000000    0.000000   0.137067\n",
              "2009-09-28 10:10:21  51.14  51.26  51.080  ...   0.215096    0.214865   0.352457\n",
              "\n",
              "[5 rows x 72 columns]"
            ]
          },
          "metadata": {
            "tags": []
          },
          "execution_count": 334
        }
      ]
    },
    {
      "cell_type": "code",
      "metadata": {
        "id": "KRgoUw3sK8Qb",
        "colab_type": "code",
        "colab": {
          "base_uri": "https://localhost:8080/",
          "height": 381
        },
        "outputId": "249ea9b2-6c11-48e2-b7b6-4e2cdc06e4c6"
      },
      "source": [
        "#ta_features_2 = ta_features.dropna(axis=1,how='any',thresh=len(ta_features)-10)\n",
        "#ta_features_2 = ta_features_2.dropna()\n",
        "#ta_features_2 = ta_features_2.iloc[:,5:]\n",
        "ta_features.columns\n"
      ],
      "execution_count": 335,
      "outputs": [
        {
          "output_type": "execute_result",
          "data": {
            "text/plain": [
              "Index(['open', 'high', 'low', 'close', 'volume', 'volume_adi', 'volume_obv',\n",
              "       'volume_cmf', 'volume_fi', 'volume_em', 'volume_sma_em', 'volume_vpt',\n",
              "       'volume_nvi', 'volatility_atr', 'volatility_bbm', 'volatility_bbh',\n",
              "       'volatility_bbl', 'volatility_bbw', 'volatility_bbhi',\n",
              "       'volatility_bbli', 'volatility_kcc', 'volatility_kch', 'volatility_kcl',\n",
              "       'volatility_kchi', 'volatility_kcli', 'volatility_dcl',\n",
              "       'volatility_dch', 'volatility_dchi', 'volatility_dcli', 'trend_macd',\n",
              "       'trend_macd_signal', 'trend_macd_diff', 'trend_ema_fast',\n",
              "       'trend_ema_slow', 'trend_adx', 'trend_adx_pos', 'trend_adx_neg',\n",
              "       'trend_vortex_ind_pos', 'trend_vortex_ind_neg', 'trend_vortex_ind_diff',\n",
              "       'trend_trix', 'trend_mass_index', 'trend_cci', 'trend_dpo', 'trend_kst',\n",
              "       'trend_kst_sig', 'trend_kst_diff', 'trend_ichimoku_a',\n",
              "       'trend_ichimoku_b', 'trend_visual_ichimoku_a',\n",
              "       'trend_visual_ichimoku_b', 'trend_aroon_up', 'trend_aroon_down',\n",
              "       'trend_aroon_ind', 'trend_psar', 'trend_psar_up', 'trend_psar_down',\n",
              "       'trend_psar_up_indicator', 'trend_psar_down_indicator', 'momentum_rsi',\n",
              "       'momentum_mfi', 'momentum_tsi', 'momentum_uo', 'momentum_stoch',\n",
              "       'momentum_stoch_signal', 'momentum_wr', 'momentum_ao', 'momentum_kama',\n",
              "       'momentum_roc', 'others_dr', 'others_dlr', 'others_cr'],\n",
              "      dtype='object')"
            ]
          },
          "metadata": {
            "tags": []
          },
          "execution_count": 335
        }
      ]
    },
    {
      "cell_type": "code",
      "metadata": {
        "id": "JAELqopMOhNb",
        "colab_type": "code",
        "colab": {}
      },
      "source": [
        "ta_features_3 = ta_features.loc[:, ['volume_sma_em','volume_adi', 'volatility_atr', 'trend_macd',\n",
        "                    'trend_ema_fast',\n",
        "                    'trend_cci',\n",
        "                    'momentum_rsi', 'momentum_stoch', 'momentum_wr', 'momentum_ao', 'momentum_kama']]"
      ],
      "execution_count": 0,
      "outputs": []
    },
    {
      "cell_type": "code",
      "metadata": {
        "id": "QhLb7M4wQc4U",
        "colab_type": "code",
        "colab": {
          "base_uri": "https://localhost:8080/",
          "height": 803
        },
        "outputId": "a6d5d6fb-58de-4464-f5c7-bc83fe8eb548"
      },
      "source": [
        "ta_features_3 = ta_features_3.dropna(axis=1,how='any',thresh=len(ta_features)-20)\n",
        "ta_features_3 = ta_features_3.dropna()\n",
        "ta_features_3"
      ],
      "execution_count": 337,
      "outputs": [
        {
          "output_type": "execute_result",
          "data": {
            "text/html": [
              "<div>\n",
              "<style scoped>\n",
              "    .dataframe tbody tr th:only-of-type {\n",
              "        vertical-align: middle;\n",
              "    }\n",
              "\n",
              "    .dataframe tbody tr th {\n",
              "        vertical-align: top;\n",
              "    }\n",
              "\n",
              "    .dataframe thead th {\n",
              "        text-align: right;\n",
              "    }\n",
              "</style>\n",
              "<table border=\"1\" class=\"dataframe\">\n",
              "  <thead>\n",
              "    <tr style=\"text-align: right;\">\n",
              "      <th></th>\n",
              "      <th>volume_sma_em</th>\n",
              "      <th>volume_adi</th>\n",
              "      <th>volatility_atr</th>\n",
              "      <th>trend_ema_fast</th>\n",
              "      <th>trend_cci</th>\n",
              "      <th>momentum_rsi</th>\n",
              "      <th>momentum_stoch</th>\n",
              "      <th>momentum_wr</th>\n",
              "      <th>momentum_ao</th>\n",
              "      <th>momentum_kama</th>\n",
              "    </tr>\n",
              "    <tr>\n",
              "      <th>date_time</th>\n",
              "      <th></th>\n",
              "      <th></th>\n",
              "      <th></th>\n",
              "      <th></th>\n",
              "      <th></th>\n",
              "      <th></th>\n",
              "      <th></th>\n",
              "      <th></th>\n",
              "      <th></th>\n",
              "      <th></th>\n",
              "    </tr>\n",
              "  </thead>\n",
              "  <tbody>\n",
              "    <tr>\n",
              "      <th>2009-09-28 11:51:43</th>\n",
              "      <td>22.017403</td>\n",
              "      <td>8.585340e+04</td>\n",
              "      <td>0.112274</td>\n",
              "      <td>51.266403</td>\n",
              "      <td>103.827976</td>\n",
              "      <td>80.693238</td>\n",
              "      <td>94.505028</td>\n",
              "      <td>-5.494972</td>\n",
              "      <td>0.108269</td>\n",
              "      <td>51.342000</td>\n",
              "    </tr>\n",
              "    <tr>\n",
              "      <th>2009-09-28 12:03:21</th>\n",
              "      <td>21.139081</td>\n",
              "      <td>1.011685e+05</td>\n",
              "      <td>0.106917</td>\n",
              "      <td>51.291572</td>\n",
              "      <td>120.355607</td>\n",
              "      <td>83.546586</td>\n",
              "      <td>99.173554</td>\n",
              "      <td>-0.826446</td>\n",
              "      <td>0.114567</td>\n",
              "      <td>51.358978</td>\n",
              "    </tr>\n",
              "    <tr>\n",
              "      <th>2009-09-28 12:33:18</th>\n",
              "      <td>19.699668</td>\n",
              "      <td>1.085860e+05</td>\n",
              "      <td>0.099625</td>\n",
              "      <td>51.312714</td>\n",
              "      <td>112.542746</td>\n",
              "      <td>83.295028</td>\n",
              "      <td>98.493151</td>\n",
              "      <td>-1.506849</td>\n",
              "      <td>0.117836</td>\n",
              "      <td>51.368380</td>\n",
              "    </tr>\n",
              "    <tr>\n",
              "      <th>2009-09-28 13:20:29</th>\n",
              "      <td>19.373130</td>\n",
              "      <td>1.058097e+05</td>\n",
              "      <td>0.096762</td>\n",
              "      <td>51.335374</td>\n",
              "      <td>121.756459</td>\n",
              "      <td>84.820849</td>\n",
              "      <td>91.111111</td>\n",
              "      <td>-8.888889</td>\n",
              "      <td>0.134563</td>\n",
              "      <td>51.380167</td>\n",
              "    </tr>\n",
              "    <tr>\n",
              "      <th>2009-09-28 13:44:27</th>\n",
              "      <td>11.819094</td>\n",
              "      <td>1.129197e+05</td>\n",
              "      <td>0.097046</td>\n",
              "      <td>51.357347</td>\n",
              "      <td>111.531243</td>\n",
              "      <td>85.649586</td>\n",
              "      <td>92.604651</td>\n",
              "      <td>-7.395349</td>\n",
              "      <td>0.148534</td>\n",
              "      <td>51.410104</td>\n",
              "    </tr>\n",
              "    <tr>\n",
              "      <th>...</th>\n",
              "      <td>...</td>\n",
              "      <td>...</td>\n",
              "      <td>...</td>\n",
              "      <td>...</td>\n",
              "      <td>...</td>\n",
              "      <td>...</td>\n",
              "      <td>...</td>\n",
              "      <td>...</td>\n",
              "      <td>...</td>\n",
              "      <td>...</td>\n",
              "    </tr>\n",
              "    <tr>\n",
              "      <th>2019-06-28 15:58:59</th>\n",
              "      <td>6.868165</td>\n",
              "      <td>1.273846e+07</td>\n",
              "      <td>0.123016</td>\n",
              "      <td>116.412902</td>\n",
              "      <td>150.055809</td>\n",
              "      <td>69.638073</td>\n",
              "      <td>95.454545</td>\n",
              "      <td>-4.545455</td>\n",
              "      <td>0.357253</td>\n",
              "      <td>116.422010</td>\n",
              "    </tr>\n",
              "    <tr>\n",
              "      <th>2019-06-28 15:59:02</th>\n",
              "      <td>-4.663667</td>\n",
              "      <td>1.272917e+07</td>\n",
              "      <td>0.121714</td>\n",
              "      <td>116.435532</td>\n",
              "      <td>110.363884</td>\n",
              "      <td>63.760434</td>\n",
              "      <td>72.727273</td>\n",
              "      <td>-27.272727</td>\n",
              "      <td>0.376792</td>\n",
              "      <td>116.424335</td>\n",
              "    </tr>\n",
              "    <tr>\n",
              "      <th>2019-06-28 15:59:45</th>\n",
              "      <td>-5.552428</td>\n",
              "      <td>1.272917e+07</td>\n",
              "      <td>0.111543</td>\n",
              "      <td>116.456219</td>\n",
              "      <td>88.025958</td>\n",
              "      <td>64.086867</td>\n",
              "      <td>75.000000</td>\n",
              "      <td>-25.000000</td>\n",
              "      <td>0.377347</td>\n",
              "      <td>116.429076</td>\n",
              "    </tr>\n",
              "    <tr>\n",
              "      <th>2019-06-28 16:00:00</th>\n",
              "      <td>-7.346738</td>\n",
              "      <td>1.273775e+07</td>\n",
              "      <td>0.105389</td>\n",
              "      <td>116.472186</td>\n",
              "      <td>66.803930</td>\n",
              "      <td>63.471162</td>\n",
              "      <td>72.727273</td>\n",
              "      <td>-27.272727</td>\n",
              "      <td>0.379268</td>\n",
              "      <td>116.433709</td>\n",
              "    </tr>\n",
              "    <tr>\n",
              "      <th>2019-06-28 17:29:22</th>\n",
              "      <td>-4.063664</td>\n",
              "      <td>1.275415e+07</td>\n",
              "      <td>0.098850</td>\n",
              "      <td>116.487234</td>\n",
              "      <td>70.574202</td>\n",
              "      <td>63.845233</td>\n",
              "      <td>75.000000</td>\n",
              "      <td>-25.000000</td>\n",
              "      <td>0.380576</td>\n",
              "      <td>116.449325</td>\n",
              "    </tr>\n",
              "  </tbody>\n",
              "</table>\n",
              "<p>58595 rows × 10 columns</p>\n",
              "</div>"
            ],
            "text/plain": [
              "                     volume_sma_em    volume_adi  ...  momentum_ao  momentum_kama\n",
              "date_time                                         ...                            \n",
              "2009-09-28 11:51:43      22.017403  8.585340e+04  ...     0.108269      51.342000\n",
              "2009-09-28 12:03:21      21.139081  1.011685e+05  ...     0.114567      51.358978\n",
              "2009-09-28 12:33:18      19.699668  1.085860e+05  ...     0.117836      51.368380\n",
              "2009-09-28 13:20:29      19.373130  1.058097e+05  ...     0.134563      51.380167\n",
              "2009-09-28 13:44:27      11.819094  1.129197e+05  ...     0.148534      51.410104\n",
              "...                            ...           ...  ...          ...            ...\n",
              "2019-06-28 15:58:59       6.868165  1.273846e+07  ...     0.357253     116.422010\n",
              "2019-06-28 15:59:02      -4.663667  1.272917e+07  ...     0.376792     116.424335\n",
              "2019-06-28 15:59:45      -5.552428  1.272917e+07  ...     0.377347     116.429076\n",
              "2019-06-28 16:00:00      -7.346738  1.273775e+07  ...     0.379268     116.433709\n",
              "2019-06-28 17:29:22      -4.063664  1.275415e+07  ...     0.380576     116.449325\n",
              "\n",
              "[58595 rows x 10 columns]"
            ]
          },
          "metadata": {
            "tags": []
          },
          "execution_count": 337
        }
      ]
    },
    {
      "cell_type": "code",
      "metadata": {
        "id": "wfxFGLbAqC-t",
        "colab_type": "code",
        "colab": {
          "base_uri": "https://localhost:8080/",
          "height": 55
        },
        "outputId": "71d1f408-803e-4267-987e-460ba22049a1"
      },
      "source": [
        "'''raw_data = pd.DataFrame(close)\n",
        "\n",
        "log_ret = np.log(raw_data['close']).diff()\n",
        "\n",
        "# Momentum\n",
        "raw_data['mom1'] = raw_data['close'].pct_change(periods=1)\n",
        "raw_data['mom2'] = raw_data['close'].pct_change(periods=2)\n",
        "raw_data['mom3'] = raw_data['close'].pct_change(periods=3)\n",
        "\n",
        "# Volatility\n",
        "raw_data['volatility_50'] = log_ret.rolling(window=50, min_periods=50, center=False).std()\n",
        "raw_data['volatility_31'] = log_ret.rolling(window=31, min_periods=31, center=False).std()\n",
        "raw_data['volatility_15'] = log_ret.rolling(window=15, min_periods=15, center=False).std()\n",
        "\n",
        "# Serial Correlation\n",
        "window_autocorr = 50\n",
        "\n",
        "raw_data['autocorr_1'] = log_ret.rolling(window=window_autocorr, min_periods=window_autocorr, center=False).apply(lambda x: x.autocorr(lag=1), raw=False)\n",
        "raw_data['autocorr_2'] = log_ret.rolling(window=window_autocorr, min_periods=window_autocorr, center=False).apply(lambda x: x.autocorr(lag=2), raw=False)\n",
        "raw_data['autocorr_3'] = log_ret.rolling(window=window_autocorr, min_periods=window_autocorr, center=False).apply(lambda x: x.autocorr(lag=3), raw=False)\n",
        "\n",
        "# Remove look ahead bias\n",
        "raw_data = raw_data.shift(1)'''"
      ],
      "execution_count": 338,
      "outputs": [
        {
          "output_type": "execute_result",
          "data": {
            "text/plain": [
              "\"raw_data = pd.DataFrame(close)\\n\\nlog_ret = np.log(raw_data['close']).diff()\\n\\n# Momentum\\nraw_data['mom1'] = raw_data['close'].pct_change(periods=1)\\nraw_data['mom2'] = raw_data['close'].pct_change(periods=2)\\nraw_data['mom3'] = raw_data['close'].pct_change(periods=3)\\n\\n# Volatility\\nraw_data['volatility_50'] = log_ret.rolling(window=50, min_periods=50, center=False).std()\\nraw_data['volatility_31'] = log_ret.rolling(window=31, min_periods=31, center=False).std()\\nraw_data['volatility_15'] = log_ret.rolling(window=15, min_periods=15, center=False).std()\\n\\n# Serial Correlation\\nwindow_autocorr = 50\\n\\nraw_data['autocorr_1'] = log_ret.rolling(window=window_autocorr, min_periods=window_autocorr, center=False).apply(lambda x: x.autocorr(lag=1), raw=False)\\nraw_data['autocorr_2'] = log_ret.rolling(window=window_autocorr, min_periods=window_autocorr, center=False).apply(lambda x: x.autocorr(lag=2), raw=False)\\nraw_data['autocorr_3'] = log_ret.rolling(window=window_autocorr, min_periods=window_autocorr, center=False).apply(lambda x: x.autocorr(lag=3), raw=False)\\n\\n# Remove look ahead bias\\nraw_data = raw_data.shift(1)\""
            ]
          },
          "metadata": {
            "tags": []
          },
          "execution_count": 338
        }
      ]
    },
    {
      "cell_type": "code",
      "metadata": {
        "id": "jRbf20dNtVlS",
        "colab_type": "code",
        "outputId": "6c87cb4b-4586-45e0-8910-7198a91a06c7",
        "colab": {
          "base_uri": "https://localhost:8080/",
          "height": 35
        }
      },
      "source": [
        "'''raw_X = raw_data.iloc[:,1:]\n",
        "raw_X.dropna(inplace=True)\n",
        "raw_X.head()'''"
      ],
      "execution_count": 339,
      "outputs": [
        {
          "output_type": "execute_result",
          "data": {
            "text/plain": [
              "'raw_X = raw_data.iloc[:,1:]\\nraw_X.dropna(inplace=True)\\nraw_X.head()'"
            ]
          },
          "metadata": {
            "tags": []
          },
          "execution_count": 339
        }
      ]
    },
    {
      "cell_type": "markdown",
      "metadata": {
        "id": "9lSqiSDQT-8w",
        "colab_type": "text"
      },
      "source": [
        "PCA"
      ]
    },
    {
      "cell_type": "code",
      "metadata": {
        "id": "2YTsGoXDwAK6",
        "colab_type": "code",
        "outputId": "284c95e5-e279-4909-a626-9d660237990d",
        "colab": {
          "base_uri": "https://localhost:8080/",
          "height": 55
        }
      },
      "source": [
        "# Feature decomposition PCA\n",
        "'''\n",
        "n=5\n",
        "pca = PCA(n)\n",
        "pca.fit(raw_X)\n",
        "pcaX = pca.transform(raw_X)\n",
        "\n",
        "X = pd.DataFrame(index=raw_X.index)\n",
        "for i in range(n):\n",
        "  a = pd.Series(data=pcaX[:,i],index=raw_X.index,name=i)\n",
        "  X = X.join(a)\n",
        "\n",
        "X['side'] = side\n",
        "\n",
        "X.head()'''"
      ],
      "execution_count": 340,
      "outputs": [
        {
          "output_type": "execute_result",
          "data": {
            "text/plain": [
              "\"\\nn=5\\npca = PCA(n)\\npca.fit(raw_X)\\npcaX = pca.transform(raw_X)\\n\\nX = pd.DataFrame(index=raw_X.index)\\nfor i in range(n):\\n  a = pd.Series(data=pcaX[:,i],index=raw_X.index,name=i)\\n  X = X.join(a)\\n\\nX['side'] = side\\n\\nX.head()\""
            ]
          },
          "metadata": {
            "tags": []
          },
          "execution_count": 340
        }
      ]
    },
    {
      "cell_type": "code",
      "metadata": {
        "id": "GDXQQBWtMnT8",
        "colab_type": "code",
        "colab": {}
      },
      "source": [
        "#PCA\n",
        "n=5\n",
        "pca = PCA(n)\n",
        "pca.fit(ta_features_3)\n",
        "pcaX = pca.transform(ta_features_3)\n",
        "\n",
        "X = pd.DataFrame(index=ta_features_3.index)\n",
        "for i in range(n):\n",
        "  a = pd.Series(data=pcaX[:,i],index=ta_features_3.index,name=i)\n",
        "  X = X.join(a)\n",
        "'''\n",
        "#No PCA\n",
        "X = ta_features_3.copy()\n",
        "'''\n",
        "X = X.pct_change()"
      ],
      "execution_count": 0,
      "outputs": []
    },
    {
      "cell_type": "code",
      "metadata": {
        "id": "rNckNz9Efh1x",
        "colab_type": "code",
        "colab": {
          "base_uri": "https://localhost:8080/",
          "height": 228
        },
        "outputId": "a12ef8cd-52b8-498a-990c-b8eceffd3d6c"
      },
      "source": [
        "X['side'] = side\n",
        "\n",
        "X.head()"
      ],
      "execution_count": 342,
      "outputs": [
        {
          "output_type": "execute_result",
          "data": {
            "text/html": [
              "<div>\n",
              "<style scoped>\n",
              "    .dataframe tbody tr th:only-of-type {\n",
              "        vertical-align: middle;\n",
              "    }\n",
              "\n",
              "    .dataframe tbody tr th {\n",
              "        vertical-align: top;\n",
              "    }\n",
              "\n",
              "    .dataframe thead th {\n",
              "        text-align: right;\n",
              "    }\n",
              "</style>\n",
              "<table border=\"1\" class=\"dataframe\">\n",
              "  <thead>\n",
              "    <tr style=\"text-align: right;\">\n",
              "      <th></th>\n",
              "      <th>0</th>\n",
              "      <th>1</th>\n",
              "      <th>2</th>\n",
              "      <th>3</th>\n",
              "      <th>4</th>\n",
              "      <th>side</th>\n",
              "    </tr>\n",
              "    <tr>\n",
              "      <th>date_time</th>\n",
              "      <th></th>\n",
              "      <th></th>\n",
              "      <th></th>\n",
              "      <th></th>\n",
              "      <th></th>\n",
              "      <th></th>\n",
              "    </tr>\n",
              "  </thead>\n",
              "  <tbody>\n",
              "    <tr>\n",
              "      <th>2009-09-28 11:51:43</th>\n",
              "      <td>NaN</td>\n",
              "      <td>NaN</td>\n",
              "      <td>NaN</td>\n",
              "      <td>NaN</td>\n",
              "      <td>NaN</td>\n",
              "      <td>NaN</td>\n",
              "    </tr>\n",
              "    <tr>\n",
              "      <th>2009-09-28 12:03:21</th>\n",
              "      <td>-0.001739</td>\n",
              "      <td>-0.008488</td>\n",
              "      <td>0.166567</td>\n",
              "      <td>0.029110</td>\n",
              "      <td>0.024306</td>\n",
              "      <td>NaN</td>\n",
              "    </tr>\n",
              "    <tr>\n",
              "      <th>2009-09-28 12:33:18</th>\n",
              "      <td>-0.000844</td>\n",
              "      <td>-0.016735</td>\n",
              "      <td>-0.060622</td>\n",
              "      <td>0.078737</td>\n",
              "      <td>0.007844</td>\n",
              "      <td>NaN</td>\n",
              "    </tr>\n",
              "    <tr>\n",
              "      <th>2009-09-28 13:20:29</th>\n",
              "      <td>0.000316</td>\n",
              "      <td>-0.002693</td>\n",
              "      <td>0.043961</td>\n",
              "      <td>-0.516352</td>\n",
              "      <td>0.079297</td>\n",
              "      <td>NaN</td>\n",
              "    </tr>\n",
              "    <tr>\n",
              "      <th>2009-09-28 13:44:27</th>\n",
              "      <td>-0.000809</td>\n",
              "      <td>-0.084058</td>\n",
              "      <td>-0.070272</td>\n",
              "      <td>0.468317</td>\n",
              "      <td>0.040598</td>\n",
              "      <td>NaN</td>\n",
              "    </tr>\n",
              "  </tbody>\n",
              "</table>\n",
              "</div>"
            ],
            "text/plain": [
              "                            0         1         2         3         4  side\n",
              "date_time                                                                  \n",
              "2009-09-28 11:51:43       NaN       NaN       NaN       NaN       NaN   NaN\n",
              "2009-09-28 12:03:21 -0.001739 -0.008488  0.166567  0.029110  0.024306   NaN\n",
              "2009-09-28 12:33:18 -0.000844 -0.016735 -0.060622  0.078737  0.007844   NaN\n",
              "2009-09-28 13:20:29  0.000316 -0.002693  0.043961 -0.516352  0.079297   NaN\n",
              "2009-09-28 13:44:27 -0.000809 -0.084058 -0.070272  0.468317  0.040598   NaN"
            ]
          },
          "metadata": {
            "tags": []
          },
          "execution_count": 342
        }
      ]
    },
    {
      "cell_type": "code",
      "metadata": {
        "id": "kLhM3Oz8M3lt",
        "colab_type": "code",
        "colab": {}
      },
      "source": [
        "X.dropna(inplace=True)\n",
        "\n",
        "# stationary"
      ],
      "execution_count": 0,
      "outputs": []
    },
    {
      "cell_type": "code",
      "metadata": {
        "id": "3PBgcFJGxlI-",
        "colab_type": "code",
        "outputId": "92ac0b2f-d214-4e39-d7aa-4b9a519c1ae1",
        "colab": {
          "base_uri": "https://localhost:8080/",
          "height": 35
        }
      },
      "source": [
        "len(X)"
      ],
      "execution_count": 344,
      "outputs": [
        {
          "output_type": "execute_result",
          "data": {
            "text/plain": [
              "58557"
            ]
          },
          "metadata": {
            "tags": []
          },
          "execution_count": 344
        }
      ]
    },
    {
      "cell_type": "markdown",
      "metadata": {
        "id": "--gobRxAdv5D",
        "colab_type": "text"
      },
      "source": [
        "### 4. Fit a second ML model"
      ]
    },
    {
      "cell_type": "code",
      "metadata": {
        "id": "T0BgIS4xtjZt",
        "colab_type": "code",
        "colab": {}
      },
      "source": [
        "tmp_data = X.copy()\n",
        "tmp_data = tmp_data.join(bin.bin)\n",
        "tmp_data.dropna(inplace=True)\n",
        "\n",
        "X = tmp_data.iloc[:,:-1]\n",
        "y = tmp_data[['bin']]"
      ],
      "execution_count": 0,
      "outputs": []
    },
    {
      "cell_type": "code",
      "metadata": {
        "id": "APLe06kDjArq",
        "colab_type": "code",
        "colab": {
          "base_uri": "https://localhost:8080/",
          "height": 437
        },
        "outputId": "6fbc9a4a-a02e-45f1-e1e8-65a82b4f9533"
      },
      "source": [
        "X"
      ],
      "execution_count": 346,
      "outputs": [
        {
          "output_type": "execute_result",
          "data": {
            "text/html": [
              "<div>\n",
              "<style scoped>\n",
              "    .dataframe tbody tr th:only-of-type {\n",
              "        vertical-align: middle;\n",
              "    }\n",
              "\n",
              "    .dataframe tbody tr th {\n",
              "        vertical-align: top;\n",
              "    }\n",
              "\n",
              "    .dataframe thead th {\n",
              "        text-align: right;\n",
              "    }\n",
              "</style>\n",
              "<table border=\"1\" class=\"dataframe\">\n",
              "  <thead>\n",
              "    <tr style=\"text-align: right;\">\n",
              "      <th></th>\n",
              "      <th>0</th>\n",
              "      <th>1</th>\n",
              "      <th>2</th>\n",
              "      <th>3</th>\n",
              "      <th>4</th>\n",
              "      <th>side</th>\n",
              "    </tr>\n",
              "    <tr>\n",
              "      <th>date_time</th>\n",
              "      <th></th>\n",
              "      <th></th>\n",
              "      <th></th>\n",
              "      <th></th>\n",
              "      <th></th>\n",
              "      <th></th>\n",
              "    </tr>\n",
              "  </thead>\n",
              "  <tbody>\n",
              "    <tr>\n",
              "      <th>2009-09-30 15:05:38</th>\n",
              "      <td>-5.747037e-05</td>\n",
              "      <td>-0.064639</td>\n",
              "      <td>0.306241</td>\n",
              "      <td>0.071582</td>\n",
              "      <td>-0.149135</td>\n",
              "      <td>-1.0</td>\n",
              "    </tr>\n",
              "    <tr>\n",
              "      <th>2009-10-01 09:30:07</th>\n",
              "      <td>1.870053e-04</td>\n",
              "      <td>1.348901</td>\n",
              "      <td>-0.338122</td>\n",
              "      <td>-1.107802</td>\n",
              "      <td>-0.221326</td>\n",
              "      <td>-1.0</td>\n",
              "    </tr>\n",
              "    <tr>\n",
              "      <th>2009-10-01 09:52:26</th>\n",
              "      <td>8.676311e-04</td>\n",
              "      <td>-0.663908</td>\n",
              "      <td>0.670150</td>\n",
              "      <td>-0.018655</td>\n",
              "      <td>0.328264</td>\n",
              "      <td>-1.0</td>\n",
              "    </tr>\n",
              "    <tr>\n",
              "      <th>2009-10-01 10:00:33</th>\n",
              "      <td>-7.153833e-12</td>\n",
              "      <td>0.212891</td>\n",
              "      <td>-0.058428</td>\n",
              "      <td>-0.345114</td>\n",
              "      <td>-0.045121</td>\n",
              "      <td>-1.0</td>\n",
              "    </tr>\n",
              "    <tr>\n",
              "      <th>2009-10-01 11:16:04</th>\n",
              "      <td>-1.198180e-03</td>\n",
              "      <td>-0.521759</td>\n",
              "      <td>-0.203266</td>\n",
              "      <td>-0.377886</td>\n",
              "      <td>0.823353</td>\n",
              "      <td>-1.0</td>\n",
              "    </tr>\n",
              "    <tr>\n",
              "      <th>...</th>\n",
              "      <td>...</td>\n",
              "      <td>...</td>\n",
              "      <td>...</td>\n",
              "      <td>...</td>\n",
              "      <td>...</td>\n",
              "      <td>...</td>\n",
              "    </tr>\n",
              "    <tr>\n",
              "      <th>2019-06-12 11:59:18</th>\n",
              "      <td>2.246395e-03</td>\n",
              "      <td>0.353808</td>\n",
              "      <td>0.519601</td>\n",
              "      <td>-4.243012</td>\n",
              "      <td>0.056936</td>\n",
              "      <td>-1.0</td>\n",
              "    </tr>\n",
              "    <tr>\n",
              "      <th>2019-06-13 09:36:29</th>\n",
              "      <td>1.371066e-03</td>\n",
              "      <td>0.409313</td>\n",
              "      <td>-0.069991</td>\n",
              "      <td>0.481628</td>\n",
              "      <td>-0.014298</td>\n",
              "      <td>-1.0</td>\n",
              "    </tr>\n",
              "    <tr>\n",
              "      <th>2019-06-18 09:50:22</th>\n",
              "      <td>2.245278e-03</td>\n",
              "      <td>1.030479</td>\n",
              "      <td>4.093757</td>\n",
              "      <td>-0.625468</td>\n",
              "      <td>0.001149</td>\n",
              "      <td>-1.0</td>\n",
              "    </tr>\n",
              "    <tr>\n",
              "      <th>2019-06-18 12:22:51</th>\n",
              "      <td>4.317338e-05</td>\n",
              "      <td>0.004212</td>\n",
              "      <td>-0.094392</td>\n",
              "      <td>0.251729</td>\n",
              "      <td>0.012692</td>\n",
              "      <td>1.0</td>\n",
              "    </tr>\n",
              "    <tr>\n",
              "      <th>2019-06-19 14:01:58</th>\n",
              "      <td>1.465777e-03</td>\n",
              "      <td>0.004690</td>\n",
              "      <td>-0.899989</td>\n",
              "      <td>-0.451421</td>\n",
              "      <td>-0.084008</td>\n",
              "      <td>1.0</td>\n",
              "    </tr>\n",
              "  </tbody>\n",
              "</table>\n",
              "<p>6404 rows × 6 columns</p>\n",
              "</div>"
            ],
            "text/plain": [
              "                                0         1         2         3         4  side\n",
              "date_time                                                                      \n",
              "2009-09-30 15:05:38 -5.747037e-05 -0.064639  0.306241  0.071582 -0.149135  -1.0\n",
              "2009-10-01 09:30:07  1.870053e-04  1.348901 -0.338122 -1.107802 -0.221326  -1.0\n",
              "2009-10-01 09:52:26  8.676311e-04 -0.663908  0.670150 -0.018655  0.328264  -1.0\n",
              "2009-10-01 10:00:33 -7.153833e-12  0.212891 -0.058428 -0.345114 -0.045121  -1.0\n",
              "2009-10-01 11:16:04 -1.198180e-03 -0.521759 -0.203266 -0.377886  0.823353  -1.0\n",
              "...                           ...       ...       ...       ...       ...   ...\n",
              "2019-06-12 11:59:18  2.246395e-03  0.353808  0.519601 -4.243012  0.056936  -1.0\n",
              "2019-06-13 09:36:29  1.371066e-03  0.409313 -0.069991  0.481628 -0.014298  -1.0\n",
              "2019-06-18 09:50:22  2.245278e-03  1.030479  4.093757 -0.625468  0.001149  -1.0\n",
              "2019-06-18 12:22:51  4.317338e-05  0.004212 -0.094392  0.251729  0.012692   1.0\n",
              "2019-06-19 14:01:58  1.465777e-03  0.004690 -0.899989 -0.451421 -0.084008   1.0\n",
              "\n",
              "[6404 rows x 6 columns]"
            ]
          },
          "metadata": {
            "tags": []
          },
          "execution_count": 346
        }
      ]
    },
    {
      "cell_type": "code",
      "metadata": {
        "id": "QtC_iYLvyHSz",
        "colab_type": "code",
        "colab": {}
      },
      "source": [
        "X_train, X_test, y_train, y_test = train_test_split(X, y, test_size=0.4, shuffle=False)"
      ],
      "execution_count": 0,
      "outputs": []
    },
    {
      "cell_type": "code",
      "metadata": {
        "id": "eoDiKFRqz5Dd",
        "colab_type": "code",
        "colab": {
          "base_uri": "https://localhost:8080/",
          "height": 72
        },
        "outputId": "f08fc624-b837-4964-ebe9-56d24d501583"
      },
      "source": [
        "avgU = sampling.get_av_uniqueness_from_triple_barrier(events, close, 3).mean()\n",
        "max_samples = avgU[0]\n",
        "max_samples"
      ],
      "execution_count": 348,
      "outputs": [
        {
          "output_type": "stream",
          "text": [
            "2020-01-29 18:37:17.715963 100.0% num_concurrent_events done after 0.07 minutes. Remaining 0.0 minutes.\n",
            "2020-01-29 18:37:20.549472 100.0% _get_average_uniqueness done after 0.05 minutes. Remaining 0.0 minutes.\n"
          ],
          "name": "stderr"
        },
        {
          "output_type": "execute_result",
          "data": {
            "text/plain": [
              "0.28313174769037236"
            ]
          },
          "metadata": {
            "tags": []
          },
          "execution_count": 348
        }
      ]
    },
    {
      "cell_type": "code",
      "metadata": {
        "id": "I2Kd2E7UvOtz",
        "colab_type": "code",
        "colab": {}
      },
      "source": [
        "#clf0 = RandomForestClassifier(n_estimators=1,criterion='entropy',bootstrap = False, class_weight='balanced_subsample')\n",
        "#clf1 = BaggingClassifier(base_estimator=clf0, max_samples=max_samples, max_features=1, n_estimators=1000)\n",
        "#clf1.fit(X_train, y_train.values.ravel())\n",
        "\n",
        "#this is the method in the book"
      ],
      "execution_count": 0,
      "outputs": []
    },
    {
      "cell_type": "code",
      "metadata": {
        "id": "JE-cvkda5wXW",
        "colab_type": "code",
        "colab": {}
      },
      "source": [
        "#y_pred = clf1.predict(X_test)\n",
        "#y_pred_prob = clf1.predict_proba(X_test)[:, 1] # 1로 예상할 확률"
      ],
      "execution_count": 0,
      "outputs": []
    },
    {
      "cell_type": "code",
      "metadata": {
        "id": "zq1n0S81P4ue",
        "colab_type": "code",
        "outputId": "8242e260-5a13-4219-8f4b-04fdfb8952ec",
        "colab": {
          "base_uri": "https://localhost:8080/",
          "height": 417
        }
      },
      "source": [
        "parameters = {'max_depth':[2, 3, 5, 7],\n",
        "              'n_estimators':[100, 512, 1000]}\n",
        "#hyper-parameter tuning\n",
        "\n",
        "rf = RandomForestClassifier(criterion='entropy', class_weight='balanced_subsample')\n",
        "clf = GridSearchCV(rf, parameters, cv=3, n_jobs=3)\n",
        "clf.fit(X_train, y_train.values.ravel())"
      ],
      "execution_count": 351,
      "outputs": [
        {
          "output_type": "execute_result",
          "data": {
            "text/plain": [
              "GridSearchCV(cv=3, error_score=nan,\n",
              "             estimator=RandomForestClassifier(bootstrap=True, ccp_alpha=0.0,\n",
              "                                              class_weight='balanced_subsample',\n",
              "                                              criterion='entropy',\n",
              "                                              max_depth=None,\n",
              "                                              max_features='auto',\n",
              "                                              max_leaf_nodes=None,\n",
              "                                              max_samples=None,\n",
              "                                              min_impurity_decrease=0.0,\n",
              "                                              min_impurity_split=None,\n",
              "                                              min_samples_leaf=1,\n",
              "                                              min_samples_split=2,\n",
              "                                              min_weight_fraction_leaf=0.0,\n",
              "                                              n_estimators=100, n_jobs=None,\n",
              "                                              oob_score=False,\n",
              "                                              random_state=None, verbose=0,\n",
              "                                              warm_start=False),\n",
              "             iid='deprecated', n_jobs=3,\n",
              "             param_grid={'max_depth': [2, 3, 5, 7],\n",
              "                         'n_estimators': [100, 512, 1000]},\n",
              "             pre_dispatch='2*n_jobs', refit=True, return_train_score=False,\n",
              "             scoring=None, verbose=0)"
            ]
          },
          "metadata": {
            "tags": []
          },
          "execution_count": 351
        }
      ]
    },
    {
      "cell_type": "code",
      "metadata": {
        "id": "sp2rqWvWWynv",
        "colab_type": "code",
        "colab": {
          "base_uri": "https://localhost:8080/",
          "height": 163
        },
        "outputId": "c5a7979c-b244-43ad-a470-fbc818d0fc75"
      },
      "source": [
        "clf.best_estimator_"
      ],
      "execution_count": 352,
      "outputs": [
        {
          "output_type": "execute_result",
          "data": {
            "text/plain": [
              "RandomForestClassifier(bootstrap=True, ccp_alpha=0.0,\n",
              "                       class_weight='balanced_subsample', criterion='entropy',\n",
              "                       max_depth=7, max_features='auto', max_leaf_nodes=None,\n",
              "                       max_samples=None, min_impurity_decrease=0.0,\n",
              "                       min_impurity_split=None, min_samples_leaf=1,\n",
              "                       min_samples_split=2, min_weight_fraction_leaf=0.0,\n",
              "                       n_estimators=1000, n_jobs=None, oob_score=False,\n",
              "                       random_state=None, verbose=0, warm_start=False)"
            ]
          },
          "metadata": {
            "tags": []
          },
          "execution_count": 352
        }
      ]
    },
    {
      "cell_type": "markdown",
      "metadata": {
        "id": "andA9X9gTNqb",
        "colab_type": "text"
      },
      "source": [
        "Train metrics"
      ]
    },
    {
      "cell_type": "code",
      "metadata": {
        "id": "7KNvBiDMTcme",
        "colab_type": "code",
        "colab": {}
      },
      "source": [
        "y_pred_prob_0 = clf.predict_proba(X_train)[:, 1]\n",
        "y_pred_0 = clf.predict(X_train)"
      ],
      "execution_count": 0,
      "outputs": []
    },
    {
      "cell_type": "code",
      "metadata": {
        "id": "yvv-fLnQTGBb",
        "colab_type": "code",
        "colab": {
          "base_uri": "https://localhost:8080/",
          "height": 301
        },
        "outputId": "f04bea50-6a46-4853-f0e9-08db0454f877"
      },
      "source": [
        "fpr_rf_0, tpr_rf_0, _ = roc_curve(y_train, y_pred_prob_0)\n",
        "\n",
        "%matplotlib inline\n",
        "\n",
        "plt.figure(1)\n",
        "plt.plot([0, 1], [0, 1], 'k--')\n",
        "plt.plot(fpr_rf_0, tpr_rf_0, label='RF')\n",
        "plt.xlabel('False positive rate')\n",
        "plt.ylabel('True positive rate')\n",
        "plt.title('ROC curve')\n",
        "plt.legend(loc='best')\n",
        "plt.show()"
      ],
      "execution_count": 354,
      "outputs": [
        {
          "output_type": "display_data",
          "data": {
            "image/png": "[encoded data removed]",
            "text/plain": [
              "<Figure size 432x288 with 1 Axes>"
            ]
          },
          "metadata": {
            "tags": []
          }
        }
      ]
    },
    {
      "cell_type": "code",
      "metadata": {
        "id": "qx459WLCTVnW",
        "colab_type": "code",
        "colab": {
          "base_uri": "https://localhost:8080/",
          "height": 503
        },
        "outputId": "b15a9e98-4624-457d-de1d-41719d3dff06"
      },
      "source": [
        "print(classification_report(y_train, y_pred_0))\n",
        "\n",
        "print(\"Accuracy = \", accuracy_score(y_train, y_pred_0))\n",
        "print('')\n",
        "print(\"Confusion Matrix\")\n",
        "mat = confusion_matrix(y_train, y_pred_0)\n",
        "sns.heatmap(mat , annot=True)\n",
        "plt.xlabel('predicted label')\n",
        "plt.ylabel('true label');"
      ],
      "execution_count": 355,
      "outputs": [
        {
          "output_type": "stream",
          "text": [
            "              precision    recall  f1-score   support\n",
            "\n",
            "         0.0       0.87      0.81      0.84      2788\n",
            "         1.0       0.58      0.69      0.63      1054\n",
            "\n",
            "    accuracy                           0.78      3842\n",
            "   macro avg       0.73      0.75      0.74      3842\n",
            "weighted avg       0.79      0.78      0.78      3842\n",
            "\n",
            "Accuracy =  0.7787610619469026\n",
            "\n",
            "Confusion Matrix\n"
          ],
          "name": "stdout"
        },
        {
          "output_type": "display_data",
          "data": {
            "image/png": "[encoded data removed]",
            "text/plain": [
              "<Figure size 432x288 with 2 Axes>"
            ]
          },
          "metadata": {
            "tags": []
          }
        }
      ]
    },
    {
      "cell_type": "code",
      "metadata": {
        "id": "G9oD2-KeZSd9",
        "colab_type": "code",
        "colab": {}
      },
      "source": [
        "y_pred = clf.predict(X_test)\n",
        "y_pred_prob = clf.predict_proba(X_test)[:, 1]"
      ],
      "execution_count": 0,
      "outputs": []
    },
    {
      "cell_type": "code",
      "metadata": {
        "id": "UQKHmmsd0e3F",
        "colab_type": "code",
        "outputId": "1a3d020d-7e60-4ad5-f6be-721cedb80147",
        "colab": {
          "base_uri": "https://localhost:8080/",
          "height": 301
        }
      },
      "source": [
        "fpr_rf, tpr_rf, _ = roc_curve(y_test, y_pred_prob)\n",
        "\n",
        "%matplotlib inline\n",
        "\n",
        "plt.figure(1)\n",
        "plt.plot([0, 1], [0, 1], 'k--')\n",
        "plt.plot(fpr_rf, tpr_rf, label='RF')\n",
        "plt.xlabel('False positive rate')\n",
        "plt.ylabel('True positive rate')\n",
        "plt.title('ROC curve')\n",
        "plt.legend(loc='best')\n",
        "plt.show()"
      ],
      "execution_count": 357,
      "outputs": [
        {
          "output_type": "display_data",
          "data": {
            "image/png": "[encoded data removed]",
            "text/plain": [
              "<Figure size 432x288 with 1 Axes>"
            ]
          },
          "metadata": {
            "tags": []
          }
        }
      ]
    },
    {
      "cell_type": "code",
      "metadata": {
        "id": "9dkg01-O5yWR",
        "colab_type": "code",
        "outputId": "b4f1b011-0aba-46cc-f74c-cacde9b9b91d",
        "colab": {
          "base_uri": "https://localhost:8080/",
          "height": 503
        }
      },
      "source": [
        "print(classification_report(y_test, y_pred))\n",
        "\n",
        "print(\"Accuracy = \", accuracy_score(y_test, y_pred))\n",
        "print('')\n",
        "print(\"Confusion Matrix\")\n",
        "mat = confusion_matrix(y_test, y_pred)\n",
        "sns.heatmap(mat , annot=True)\n",
        "plt.xlabel('predicted label')\n",
        "plt.ylabel('true label');"
      ],
      "execution_count": 358,
      "outputs": [
        {
          "output_type": "stream",
          "text": [
            "              precision    recall  f1-score   support\n",
            "\n",
            "         0.0       0.64      0.67      0.66      1616\n",
            "         1.0       0.39      0.35      0.37       946\n",
            "\n",
            "    accuracy                           0.56      2562\n",
            "   macro avg       0.51      0.51      0.51      2562\n",
            "weighted avg       0.55      0.56      0.55      2562\n",
            "\n",
            "Accuracy =  0.5550351288056206\n",
            "\n",
            "Confusion Matrix\n"
          ],
          "name": "stdout"
        },
        {
          "output_type": "display_data",
          "data": {
            "image/png": "[encoded data removed]",
            "text/plain": [
              "<Figure size 432x288 with 2 Axes>"
            ]
          },
          "metadata": {
            "tags": []
          }
        }
      ]
    },
    {
      "cell_type": "markdown",
      "metadata": {
        "id": "pUmsGwGV6euL",
        "colab_type": "text"
      },
      "source": [
        "### Bet Sizing"
      ]
    },
    {
      "cell_type": "markdown",
      "metadata": {
        "id": "U3aIzcOEaS68",
        "colab_type": "text"
      },
      "source": [
        "When num_classes = 2,\n",
        "\n",
        "$$z = \\frac{p[x=1]−\\frac{1}{2}}{\\sqrt{p[x=1](1−p[x=1])}} $$\n",
        "\n",
        "$$m = 2Z [z] − 1$$"
      ]
    },
    {
      "cell_type": "code",
      "metadata": {
        "id": "KkZB80jPaoG8",
        "colab_type": "code",
        "colab": {
          "base_uri": "https://localhost:8080/",
          "height": 285
        },
        "outputId": "ecb2513a-4784-4209-990c-9d704a88d2c3"
      },
      "source": [
        "import scipy.stats as ss\n",
        "p = np.linspace(0.001,1,1000,endpoint=False)\n",
        "z = (p-0.5)/(np.sqrt(p*(1-p)))\n",
        "Z_z = ss.norm.cdf(z)\n",
        "m = (2 * Z_z -1) # np.sign(x)=1 always? increasing function\n",
        "plt.plot(z,m)\n",
        "plt.xlim(-3,3)\n",
        "plt.xlabel('z:standardized p');\n",
        "plt.ylabel('m:betting size');"
      ],
      "execution_count": 359,
      "outputs": [
        {
          "output_type": "display_data",
          "data": {
            "image/png": "[encoded data removed]",
            "text/plain": [
              "<Figure size 432x288 with 1 Axes>"
            ]
          },
          "metadata": {
            "tags": []
          }
        }
      ]
    },
    {
      "cell_type": "code",
      "metadata": {
        "id": "zUfHMzWr78ar",
        "colab_type": "code",
        "colab": {}
      },
      "source": [
        "from mlfinlab import bet_sizing as bs"
      ],
      "execution_count": 0,
      "outputs": []
    },
    {
      "cell_type": "code",
      "metadata": {
        "id": "HBRzgVhM6g5j",
        "colab_type": "code",
        "colab": {}
      },
      "source": [
        "p = y_pred_prob # from RF (secondary model)"
      ],
      "execution_count": 0,
      "outputs": []
    },
    {
      "cell_type": "code",
      "metadata": {
        "id": "NVf0HXL0WID2",
        "colab_type": "code",
        "colab": {
          "base_uri": "https://localhost:8080/",
          "height": 437
        },
        "outputId": "1f2ec3d8-21e2-4fa3-8911-e8429635e589"
      },
      "source": [
        "X_test"
      ],
      "execution_count": 362,
      "outputs": [
        {
          "output_type": "execute_result",
          "data": {
            "text/html": [
              "<div>\n",
              "<style scoped>\n",
              "    .dataframe tbody tr th:only-of-type {\n",
              "        vertical-align: middle;\n",
              "    }\n",
              "\n",
              "    .dataframe tbody tr th {\n",
              "        vertical-align: top;\n",
              "    }\n",
              "\n",
              "    .dataframe thead th {\n",
              "        text-align: right;\n",
              "    }\n",
              "</style>\n",
              "<table border=\"1\" class=\"dataframe\">\n",
              "  <thead>\n",
              "    <tr style=\"text-align: right;\">\n",
              "      <th></th>\n",
              "      <th>0</th>\n",
              "      <th>1</th>\n",
              "      <th>2</th>\n",
              "      <th>3</th>\n",
              "      <th>4</th>\n",
              "      <th>side</th>\n",
              "    </tr>\n",
              "    <tr>\n",
              "      <th>date_time</th>\n",
              "      <th></th>\n",
              "      <th></th>\n",
              "      <th></th>\n",
              "      <th></th>\n",
              "      <th></th>\n",
              "      <th></th>\n",
              "    </tr>\n",
              "  </thead>\n",
              "  <tbody>\n",
              "    <tr>\n",
              "      <th>2015-07-09 09:56:21</th>\n",
              "      <td>0.003374</td>\n",
              "      <td>0.041781</td>\n",
              "      <td>-0.237891</td>\n",
              "      <td>-0.461607</td>\n",
              "      <td>0.081412</td>\n",
              "      <td>-1.0</td>\n",
              "    </tr>\n",
              "    <tr>\n",
              "      <th>2015-07-09 12:00:31</th>\n",
              "      <td>0.002427</td>\n",
              "      <td>-0.011868</td>\n",
              "      <td>-0.487838</td>\n",
              "      <td>0.038163</td>\n",
              "      <td>-0.000775</td>\n",
              "      <td>-1.0</td>\n",
              "    </tr>\n",
              "    <tr>\n",
              "      <th>2015-07-09 15:59:28</th>\n",
              "      <td>0.017381</td>\n",
              "      <td>0.422409</td>\n",
              "      <td>0.120428</td>\n",
              "      <td>4.355802</td>\n",
              "      <td>-0.009465</td>\n",
              "      <td>1.0</td>\n",
              "    </tr>\n",
              "    <tr>\n",
              "      <th>2015-07-10 09:35:27</th>\n",
              "      <td>-0.012006</td>\n",
              "      <td>-1.547495</td>\n",
              "      <td>-0.096356</td>\n",
              "      <td>-0.275462</td>\n",
              "      <td>-0.018205</td>\n",
              "      <td>1.0</td>\n",
              "    </tr>\n",
              "    <tr>\n",
              "      <th>2015-07-10 11:48:00</th>\n",
              "      <td>-0.005229</td>\n",
              "      <td>-0.003830</td>\n",
              "      <td>-0.004176</td>\n",
              "      <td>6.866708</td>\n",
              "      <td>0.021414</td>\n",
              "      <td>1.0</td>\n",
              "    </tr>\n",
              "    <tr>\n",
              "      <th>...</th>\n",
              "      <td>...</td>\n",
              "      <td>...</td>\n",
              "      <td>...</td>\n",
              "      <td>...</td>\n",
              "      <td>...</td>\n",
              "      <td>...</td>\n",
              "    </tr>\n",
              "    <tr>\n",
              "      <th>2019-06-12 11:59:18</th>\n",
              "      <td>0.002246</td>\n",
              "      <td>0.353808</td>\n",
              "      <td>0.519601</td>\n",
              "      <td>-4.243012</td>\n",
              "      <td>0.056936</td>\n",
              "      <td>-1.0</td>\n",
              "    </tr>\n",
              "    <tr>\n",
              "      <th>2019-06-13 09:36:29</th>\n",
              "      <td>0.001371</td>\n",
              "      <td>0.409313</td>\n",
              "      <td>-0.069991</td>\n",
              "      <td>0.481628</td>\n",
              "      <td>-0.014298</td>\n",
              "      <td>-1.0</td>\n",
              "    </tr>\n",
              "    <tr>\n",
              "      <th>2019-06-18 09:50:22</th>\n",
              "      <td>0.002245</td>\n",
              "      <td>1.030479</td>\n",
              "      <td>4.093757</td>\n",
              "      <td>-0.625468</td>\n",
              "      <td>0.001149</td>\n",
              "      <td>-1.0</td>\n",
              "    </tr>\n",
              "    <tr>\n",
              "      <th>2019-06-18 12:22:51</th>\n",
              "      <td>0.000043</td>\n",
              "      <td>0.004212</td>\n",
              "      <td>-0.094392</td>\n",
              "      <td>0.251729</td>\n",
              "      <td>0.012692</td>\n",
              "      <td>1.0</td>\n",
              "    </tr>\n",
              "    <tr>\n",
              "      <th>2019-06-19 14:01:58</th>\n",
              "      <td>0.001466</td>\n",
              "      <td>0.004690</td>\n",
              "      <td>-0.899989</td>\n",
              "      <td>-0.451421</td>\n",
              "      <td>-0.084008</td>\n",
              "      <td>1.0</td>\n",
              "    </tr>\n",
              "  </tbody>\n",
              "</table>\n",
              "<p>2562 rows × 6 columns</p>\n",
              "</div>"
            ],
            "text/plain": [
              "                            0         1         2         3         4  side\n",
              "date_time                                                                  \n",
              "2015-07-09 09:56:21  0.003374  0.041781 -0.237891 -0.461607  0.081412  -1.0\n",
              "2015-07-09 12:00:31  0.002427 -0.011868 -0.487838  0.038163 -0.000775  -1.0\n",
              "2015-07-09 15:59:28  0.017381  0.422409  0.120428  4.355802 -0.009465   1.0\n",
              "2015-07-10 09:35:27 -0.012006 -1.547495 -0.096356 -0.275462 -0.018205   1.0\n",
              "2015-07-10 11:48:00 -0.005229 -0.003830 -0.004176  6.866708  0.021414   1.0\n",
              "...                       ...       ...       ...       ...       ...   ...\n",
              "2019-06-12 11:59:18  0.002246  0.353808  0.519601 -4.243012  0.056936  -1.0\n",
              "2019-06-13 09:36:29  0.001371  0.409313 -0.069991  0.481628 -0.014298  -1.0\n",
              "2019-06-18 09:50:22  0.002245  1.030479  4.093757 -0.625468  0.001149  -1.0\n",
              "2019-06-18 12:22:51  0.000043  0.004212 -0.094392  0.251729  0.012692   1.0\n",
              "2019-06-19 14:01:58  0.001466  0.004690 -0.899989 -0.451421 -0.084008   1.0\n",
              "\n",
              "[2562 rows x 6 columns]"
            ]
          },
          "metadata": {
            "tags": []
          },
          "execution_count": 362
        }
      ]
    },
    {
      "cell_type": "code",
      "metadata": {
        "id": "75bIPHHR7UUo",
        "colab_type": "code",
        "outputId": "67cadecc-5ea1-452e-c3a6-67361739a46f",
        "colab": {
          "base_uri": "https://localhost:8080/",
          "height": 437
        }
      },
      "source": [
        "new_data = y_test.copy()\n",
        "new_data['p'] = p\n",
        "new_data['pred'] = y_pred\n",
        "new_data"
      ],
      "execution_count": 363,
      "outputs": [
        {
          "output_type": "execute_result",
          "data": {
            "text/html": [
              "<div>\n",
              "<style scoped>\n",
              "    .dataframe tbody tr th:only-of-type {\n",
              "        vertical-align: middle;\n",
              "    }\n",
              "\n",
              "    .dataframe tbody tr th {\n",
              "        vertical-align: top;\n",
              "    }\n",
              "\n",
              "    .dataframe thead th {\n",
              "        text-align: right;\n",
              "    }\n",
              "</style>\n",
              "<table border=\"1\" class=\"dataframe\">\n",
              "  <thead>\n",
              "    <tr style=\"text-align: right;\">\n",
              "      <th></th>\n",
              "      <th>bin</th>\n",
              "      <th>p</th>\n",
              "      <th>pred</th>\n",
              "    </tr>\n",
              "    <tr>\n",
              "      <th>date_time</th>\n",
              "      <th></th>\n",
              "      <th></th>\n",
              "      <th></th>\n",
              "    </tr>\n",
              "  </thead>\n",
              "  <tbody>\n",
              "    <tr>\n",
              "      <th>2015-07-09 09:56:21</th>\n",
              "      <td>0.0</td>\n",
              "      <td>0.497232</td>\n",
              "      <td>0.0</td>\n",
              "    </tr>\n",
              "    <tr>\n",
              "      <th>2015-07-09 12:00:31</th>\n",
              "      <td>0.0</td>\n",
              "      <td>0.516414</td>\n",
              "      <td>1.0</td>\n",
              "    </tr>\n",
              "    <tr>\n",
              "      <th>2015-07-09 15:59:28</th>\n",
              "      <td>1.0</td>\n",
              "      <td>0.626563</td>\n",
              "      <td>1.0</td>\n",
              "    </tr>\n",
              "    <tr>\n",
              "      <th>2015-07-10 09:35:27</th>\n",
              "      <td>1.0</td>\n",
              "      <td>0.462918</td>\n",
              "      <td>0.0</td>\n",
              "    </tr>\n",
              "    <tr>\n",
              "      <th>2015-07-10 11:48:00</th>\n",
              "      <td>1.0</td>\n",
              "      <td>0.406625</td>\n",
              "      <td>0.0</td>\n",
              "    </tr>\n",
              "    <tr>\n",
              "      <th>...</th>\n",
              "      <td>...</td>\n",
              "      <td>...</td>\n",
              "      <td>...</td>\n",
              "    </tr>\n",
              "    <tr>\n",
              "      <th>2019-06-12 11:59:18</th>\n",
              "      <td>0.0</td>\n",
              "      <td>0.478692</td>\n",
              "      <td>0.0</td>\n",
              "    </tr>\n",
              "    <tr>\n",
              "      <th>2019-06-13 09:36:29</th>\n",
              "      <td>0.0</td>\n",
              "      <td>0.527678</td>\n",
              "      <td>1.0</td>\n",
              "    </tr>\n",
              "    <tr>\n",
              "      <th>2019-06-18 09:50:22</th>\n",
              "      <td>0.0</td>\n",
              "      <td>0.520287</td>\n",
              "      <td>1.0</td>\n",
              "    </tr>\n",
              "    <tr>\n",
              "      <th>2019-06-18 12:22:51</th>\n",
              "      <td>0.0</td>\n",
              "      <td>0.396659</td>\n",
              "      <td>0.0</td>\n",
              "    </tr>\n",
              "    <tr>\n",
              "      <th>2019-06-19 14:01:58</th>\n",
              "      <td>1.0</td>\n",
              "      <td>0.460417</td>\n",
              "      <td>0.0</td>\n",
              "    </tr>\n",
              "  </tbody>\n",
              "</table>\n",
              "<p>2562 rows × 3 columns</p>\n",
              "</div>"
            ],
            "text/plain": [
              "                     bin         p  pred\n",
              "date_time                               \n",
              "2015-07-09 09:56:21  0.0  0.497232   0.0\n",
              "2015-07-09 12:00:31  0.0  0.516414   1.0\n",
              "2015-07-09 15:59:28  1.0  0.626563   1.0\n",
              "2015-07-10 09:35:27  1.0  0.462918   0.0\n",
              "2015-07-10 11:48:00  1.0  0.406625   0.0\n",
              "...                  ...       ...   ...\n",
              "2019-06-12 11:59:18  0.0  0.478692   0.0\n",
              "2019-06-13 09:36:29  0.0  0.527678   1.0\n",
              "2019-06-18 09:50:22  0.0  0.520287   1.0\n",
              "2019-06-18 12:22:51  0.0  0.396659   0.0\n",
              "2019-06-19 14:01:58  1.0  0.460417   0.0\n",
              "\n",
              "[2562 rows x 3 columns]"
            ]
          },
          "metadata": {
            "tags": []
          },
          "execution_count": 363
        }
      ]
    },
    {
      "cell_type": "code",
      "metadata": {
        "id": "XcNyLMBr6yFU",
        "colab_type": "code",
        "colab": {}
      },
      "source": [
        "# test에 맞추자\n",
        "new_events = events.loc[new_data.index]\n",
        "bs_df = pd.concat([new_events, new_data],axis=1)"
      ],
      "execution_count": 0,
      "outputs": []
    },
    {
      "cell_type": "code",
      "metadata": {
        "id": "lqyt-EMU8QZZ",
        "colab_type": "code",
        "outputId": "9b902289-f473-4188-f7e6-0185ed198d59",
        "colab": {
          "base_uri": "https://localhost:8080/",
          "height": 437
        }
      },
      "source": [
        "bs_df"
      ],
      "execution_count": 365,
      "outputs": [
        {
          "output_type": "execute_result",
          "data": {
            "text/html": [
              "<div>\n",
              "<style scoped>\n",
              "    .dataframe tbody tr th:only-of-type {\n",
              "        vertical-align: middle;\n",
              "    }\n",
              "\n",
              "    .dataframe tbody tr th {\n",
              "        vertical-align: top;\n",
              "    }\n",
              "\n",
              "    .dataframe thead th {\n",
              "        text-align: right;\n",
              "    }\n",
              "</style>\n",
              "<table border=\"1\" class=\"dataframe\">\n",
              "  <thead>\n",
              "    <tr style=\"text-align: right;\">\n",
              "      <th></th>\n",
              "      <th>t1</th>\n",
              "      <th>trgt</th>\n",
              "      <th>side</th>\n",
              "      <th>pt</th>\n",
              "      <th>sl</th>\n",
              "      <th>bin</th>\n",
              "      <th>p</th>\n",
              "      <th>pred</th>\n",
              "    </tr>\n",
              "    <tr>\n",
              "      <th>date_time</th>\n",
              "      <th></th>\n",
              "      <th></th>\n",
              "      <th></th>\n",
              "      <th></th>\n",
              "      <th></th>\n",
              "      <th></th>\n",
              "      <th></th>\n",
              "      <th></th>\n",
              "    </tr>\n",
              "  </thead>\n",
              "  <tbody>\n",
              "    <tr>\n",
              "      <th>2015-07-09 09:56:21</th>\n",
              "      <td>2015-07-10 09:56:51</td>\n",
              "      <td>0.008702</td>\n",
              "      <td>-1.0</td>\n",
              "      <td>1</td>\n",
              "      <td>2</td>\n",
              "      <td>0.0</td>\n",
              "      <td>0.497232</td>\n",
              "      <td>0.0</td>\n",
              "    </tr>\n",
              "    <tr>\n",
              "      <th>2015-07-09 12:00:31</th>\n",
              "      <td>2015-07-10 12:27:37</td>\n",
              "      <td>0.007981</td>\n",
              "      <td>-1.0</td>\n",
              "      <td>1</td>\n",
              "      <td>2</td>\n",
              "      <td>0.0</td>\n",
              "      <td>0.516414</td>\n",
              "      <td>1.0</td>\n",
              "    </tr>\n",
              "    <tr>\n",
              "      <th>2015-07-09 15:59:28</th>\n",
              "      <td>2015-07-10 09:35:27</td>\n",
              "      <td>0.006833</td>\n",
              "      <td>1.0</td>\n",
              "      <td>1</td>\n",
              "      <td>2</td>\n",
              "      <td>1.0</td>\n",
              "      <td>0.626563</td>\n",
              "      <td>1.0</td>\n",
              "    </tr>\n",
              "    <tr>\n",
              "      <th>2015-07-10 09:35:27</th>\n",
              "      <td>2015-07-13 09:30:23</td>\n",
              "      <td>0.006412</td>\n",
              "      <td>1.0</td>\n",
              "      <td>1</td>\n",
              "      <td>2</td>\n",
              "      <td>1.0</td>\n",
              "      <td>0.462918</td>\n",
              "      <td>0.0</td>\n",
              "    </tr>\n",
              "    <tr>\n",
              "      <th>2015-07-10 11:48:00</th>\n",
              "      <td>2015-07-13 09:30:23</td>\n",
              "      <td>0.005870</td>\n",
              "      <td>1.0</td>\n",
              "      <td>1</td>\n",
              "      <td>2</td>\n",
              "      <td>1.0</td>\n",
              "      <td>0.406625</td>\n",
              "      <td>0.0</td>\n",
              "    </tr>\n",
              "    <tr>\n",
              "      <th>...</th>\n",
              "      <td>...</td>\n",
              "      <td>...</td>\n",
              "      <td>...</td>\n",
              "      <td>...</td>\n",
              "      <td>...</td>\n",
              "      <td>...</td>\n",
              "      <td>...</td>\n",
              "      <td>...</td>\n",
              "    </tr>\n",
              "    <tr>\n",
              "      <th>2019-06-12 11:59:18</th>\n",
              "      <td>2019-06-13 12:16:14</td>\n",
              "      <td>0.005909</td>\n",
              "      <td>-1.0</td>\n",
              "      <td>1</td>\n",
              "      <td>2</td>\n",
              "      <td>0.0</td>\n",
              "      <td>0.478692</td>\n",
              "      <td>0.0</td>\n",
              "    </tr>\n",
              "    <tr>\n",
              "      <th>2019-06-13 09:36:29</th>\n",
              "      <td>2019-06-14 09:48:52</td>\n",
              "      <td>0.005255</td>\n",
              "      <td>-1.0</td>\n",
              "      <td>1</td>\n",
              "      <td>2</td>\n",
              "      <td>0.0</td>\n",
              "      <td>0.527678</td>\n",
              "      <td>1.0</td>\n",
              "    </tr>\n",
              "    <tr>\n",
              "      <th>2019-06-18 09:50:22</th>\n",
              "      <td>2019-06-19 09:57:29</td>\n",
              "      <td>0.005684</td>\n",
              "      <td>-1.0</td>\n",
              "      <td>1</td>\n",
              "      <td>2</td>\n",
              "      <td>0.0</td>\n",
              "      <td>0.520287</td>\n",
              "      <td>1.0</td>\n",
              "    </tr>\n",
              "    <tr>\n",
              "      <th>2019-06-18 12:22:51</th>\n",
              "      <td>2019-06-19 12:33:36</td>\n",
              "      <td>0.007223</td>\n",
              "      <td>1.0</td>\n",
              "      <td>1</td>\n",
              "      <td>2</td>\n",
              "      <td>0.0</td>\n",
              "      <td>0.396659</td>\n",
              "      <td>0.0</td>\n",
              "    </tr>\n",
              "    <tr>\n",
              "      <th>2019-06-19 14:01:58</th>\n",
              "      <td>2019-06-20 09:30:00</td>\n",
              "      <td>0.005663</td>\n",
              "      <td>1.0</td>\n",
              "      <td>1</td>\n",
              "      <td>2</td>\n",
              "      <td>1.0</td>\n",
              "      <td>0.460417</td>\n",
              "      <td>0.0</td>\n",
              "    </tr>\n",
              "  </tbody>\n",
              "</table>\n",
              "<p>2562 rows × 8 columns</p>\n",
              "</div>"
            ],
            "text/plain": [
              "                                     t1      trgt  side  ...  bin         p  pred\n",
              "date_time                                                ...                     \n",
              "2015-07-09 09:56:21 2015-07-10 09:56:51  0.008702  -1.0  ...  0.0  0.497232   0.0\n",
              "2015-07-09 12:00:31 2015-07-10 12:27:37  0.007981  -1.0  ...  0.0  0.516414   1.0\n",
              "2015-07-09 15:59:28 2015-07-10 09:35:27  0.006833   1.0  ...  1.0  0.626563   1.0\n",
              "2015-07-10 09:35:27 2015-07-13 09:30:23  0.006412   1.0  ...  1.0  0.462918   0.0\n",
              "2015-07-10 11:48:00 2015-07-13 09:30:23  0.005870   1.0  ...  1.0  0.406625   0.0\n",
              "...                                 ...       ...   ...  ...  ...       ...   ...\n",
              "2019-06-12 11:59:18 2019-06-13 12:16:14  0.005909  -1.0  ...  0.0  0.478692   0.0\n",
              "2019-06-13 09:36:29 2019-06-14 09:48:52  0.005255  -1.0  ...  0.0  0.527678   1.0\n",
              "2019-06-18 09:50:22 2019-06-19 09:57:29  0.005684  -1.0  ...  0.0  0.520287   1.0\n",
              "2019-06-18 12:22:51 2019-06-19 12:33:36  0.007223   1.0  ...  0.0  0.396659   0.0\n",
              "2019-06-19 14:01:58 2019-06-20 09:30:00  0.005663   1.0  ...  1.0  0.460417   0.0\n",
              "\n",
              "[2562 rows x 8 columns]"
            ]
          },
          "metadata": {
            "tags": []
          },
          "execution_count": 365
        }
      ]
    },
    {
      "cell_type": "code",
      "metadata": {
        "id": "n2ei_4N38huh",
        "colab_type": "code",
        "colab": {}
      },
      "source": [
        "m_prob = bs.bet_size_probability(events = bs_df[['t1']], prob = bs_df.p, num_classes=2, num_threads=3)"
      ],
      "execution_count": 0,
      "outputs": []
    },
    {
      "cell_type": "code",
      "metadata": {
        "id": "HMjvm6oW87-v",
        "colab_type": "code",
        "outputId": "d603d687-3f0d-4a5c-b441-a8a95298d165",
        "colab": {
          "base_uri": "https://localhost:8080/",
          "height": 254
        }
      },
      "source": [
        "m_prob"
      ],
      "execution_count": 367,
      "outputs": [
        {
          "output_type": "execute_result",
          "data": {
            "text/plain": [
              "date_time\n",
              "2015-07-09 09:56:21   -0.004417\n",
              "2015-07-09 12:00:31    0.026203\n",
              "2015-07-09 15:59:28    0.206407\n",
              "2015-07-10 09:35:27   -0.059283\n",
              "2015-07-10 11:48:00   -0.150764\n",
              "                         ...   \n",
              "2019-06-12 11:59:18   -0.034023\n",
              "2019-06-13 09:36:29    0.044213\n",
              "2019-06-18 09:50:22    0.032390\n",
              "2019-06-18 12:22:51   -0.167303\n",
              "2019-06-19 14:01:58   -0.063298\n",
              "Name: signal, Length: 2562, dtype: float64"
            ]
          },
          "metadata": {
            "tags": []
          },
          "execution_count": 367
        }
      ]
    },
    {
      "cell_type": "code",
      "metadata": {
        "id": "zPYerLS9UxSX",
        "colab_type": "code",
        "colab": {
          "base_uri": "https://localhost:8080/",
          "height": 285
        },
        "outputId": "e98edc8a-82aa-4cef-aeb3-75bc779d6318"
      },
      "source": [
        "plt.plot(p, m_prob)\n",
        "plt.xlabel('z');\n",
        "plt.ylabel('m');"
      ],
      "execution_count": 368,
      "outputs": [
        {
          "output_type": "display_data",
          "data": {
            "image/png": "[encoded data removed]",
            "text/plain": [
              "<Figure size 432x288 with 1 Axes>"
            ]
          },
          "metadata": {
            "tags": []
          }
        }
      ]
    },
    {
      "cell_type": "markdown",
      "metadata": {
        "id": "KvmeDg5u9Qhl",
        "colab_type": "text"
      },
      "source": [
        "average"
      ]
    },
    {
      "cell_type": "code",
      "metadata": {
        "id": "CWBHmphD9Tdq",
        "colab_type": "code",
        "outputId": "d1efd149-9893-433e-c457-d34e5a76263a",
        "colab": {
          "base_uri": "https://localhost:8080/",
          "height": 35
        }
      },
      "source": [
        "\n",
        "m_prob_avg = bs.bet_size_probability(events = bs_df[['t1']], prob = bs_df.p, num_classes=2, num_threads=3, average_active=True)\n",
        "m_prob_avg = m_prob_avg.loc[bs_df.index]"
      ],
      "execution_count": 369,
      "outputs": [
        {
          "output_type": "stream",
          "text": [
            "2020-01-29 18:38:54.952523 100.0% mp_avg_active_signals done after 0.16 minutes. Remaining 0.0 minutes.\n"
          ],
          "name": "stderr"
        }
      ]
    },
    {
      "cell_type": "code",
      "metadata": {
        "id": "gRBsu4a5ee-Q",
        "colab_type": "code",
        "colab": {
          "base_uri": "https://localhost:8080/",
          "height": 254
        },
        "outputId": "20eb3890-3488-4805-fb61-2774fea07e8c"
      },
      "source": [
        "m_prob_avg"
      ],
      "execution_count": 370,
      "outputs": [
        {
          "output_type": "execute_result",
          "data": {
            "text/plain": [
              "date_time\n",
              "2015-07-09 09:56:21   -0.004417\n",
              "2015-07-09 12:00:31    0.010893\n",
              "2015-07-09 15:59:28    0.076064\n",
              "2015-07-10 09:35:27   -0.012499\n",
              "2015-07-10 11:48:00   -0.061282\n",
              "                         ...   \n",
              "2019-06-12 11:59:18   -0.061241\n",
              "2019-06-13 09:36:29    0.005095\n",
              "2019-06-18 09:50:22    0.032390\n",
              "2019-06-18 12:22:51   -0.067456\n",
              "2019-06-19 14:01:58   -0.063298\n",
              "Length: 2562, dtype: float64"
            ]
          },
          "metadata": {
            "tags": []
          },
          "execution_count": 370
        }
      ]
    },
    {
      "cell_type": "code",
      "metadata": {
        "id": "6iHplGv6ef_f",
        "colab_type": "code",
        "colab": {
          "base_uri": "https://localhost:8080/",
          "height": 285
        },
        "outputId": "7845db68-84bb-4184-b1db-e63c078c3220"
      },
      "source": [
        "plt.plot(p, m_prob_avg)\n",
        "plt.xlabel('p');\n",
        "plt.ylabel('m');"
      ],
      "execution_count": 371,
      "outputs": [
        {
          "output_type": "display_data",
          "data": {
            "image/png": "[encoded data removed]",
            "text/plain": [
              "<Figure size 432x288 with 1 Axes>"
            ]
          },
          "metadata": {
            "tags": []
          }
        }
      ]
    },
    {
      "cell_type": "markdown",
      "metadata": {
        "id": "qVOn6vVtK7ui",
        "colab_type": "text"
      },
      "source": [
        "discrete"
      ]
    },
    {
      "cell_type": "code",
      "metadata": {
        "id": "AArwEUGZ9USQ",
        "colab_type": "code",
        "outputId": "31e281c9-b4ae-49a9-eca7-8497dc00ffae",
        "colab": {
          "base_uri": "https://localhost:8080/",
          "height": 35
        }
      },
      "source": [
        "m_prob_discrete = bs.bet_size_probability(events = bs_df[['t1']], prob = bs_df.p, num_classes=2, num_threads=3, average_active=True, step_size=0.01)\n",
        "m_prob_discrete = m_prob_discrete.loc[bs_df.index]"
      ],
      "execution_count": 372,
      "outputs": [
        {
          "output_type": "stream",
          "text": [
            "2020-01-29 18:39:05.562866 100.0% mp_avg_active_signals done after 0.16 minutes. Remaining 0.0 minutes.\n"
          ],
          "name": "stderr"
        }
      ]
    },
    {
      "cell_type": "code",
      "metadata": {
        "id": "X-ROKTxiejod",
        "colab_type": "code",
        "colab": {
          "base_uri": "https://localhost:8080/",
          "height": 254
        },
        "outputId": "17cf3b32-ed63-4eae-d33b-77abf25493cd"
      },
      "source": [
        "m_prob_discrete"
      ],
      "execution_count": 373,
      "outputs": [
        {
          "output_type": "execute_result",
          "data": {
            "text/plain": [
              "date_time\n",
              "2015-07-09 09:56:21   -0.00\n",
              "2015-07-09 12:00:31    0.01\n",
              "2015-07-09 15:59:28    0.08\n",
              "2015-07-10 09:35:27   -0.01\n",
              "2015-07-10 11:48:00   -0.06\n",
              "                       ... \n",
              "2019-06-12 11:59:18   -0.06\n",
              "2019-06-13 09:36:29    0.01\n",
              "2019-06-18 09:50:22    0.03\n",
              "2019-06-18 12:22:51   -0.07\n",
              "2019-06-19 14:01:58   -0.06\n",
              "Length: 2562, dtype: float64"
            ]
          },
          "metadata": {
            "tags": []
          },
          "execution_count": 373
        }
      ]
    },
    {
      "cell_type": "code",
      "metadata": {
        "id": "WKWyZd1belRX",
        "colab_type": "code",
        "colab": {
          "base_uri": "https://localhost:8080/",
          "height": 285
        },
        "outputId": "bb9a14b8-04ba-48b3-980b-9fe76cb7bc4c"
      },
      "source": [
        "plt.plot(p, m_prob_discrete)\n",
        "plt.xlabel('z');\n",
        "plt.ylabel('m');"
      ],
      "execution_count": 374,
      "outputs": [
        {
          "output_type": "display_data",
          "data": {
            "image/png": "[encoded data removed]",
            "text/plain": [
              "<Figure size 432x288 with 1 Axes>"
            ]
          },
          "metadata": {
            "tags": []
          }
        }
      ]
    },
    {
      "cell_type": "markdown",
      "metadata": {
        "id": "2Islsd4M729B",
        "colab_type": "text"
      },
      "source": [
        "# Bet Sizing (reserve)"
      ]
    },
    {
      "cell_type": "markdown",
      "metadata": {
        "id": "Vd1vjCy2bFCj",
        "colab_type": "text"
      },
      "source": [
        "$c_t = c_{t,l} - c_{t,s} $ \n",
        "\n",
        "where $c_{t,l}$ is the number of concurrent long bets at\n",
        "time $t$, and $c_{t,s}$ is the number of concurrent short bets at time $t$"
      ]
    },
    {
      "cell_type": "markdown",
      "metadata": {
        "id": "a0TNtSZObFbu",
        "colab_type": "text"
      },
      "source": [
        "$$m_t = \\begin{cases}\n",
        "  \\frac{F[c_t]-F[0]}{1-F[0]} & \\text{if}\\ c_t \\ge 0 \\\\\n",
        "  \\frac{F[c_t]-F[0]}{F[0]} & \\text{if}\\ c_t < 0\n",
        "\\end{cases}$$"
      ]
    },
    {
      "cell_type": "markdown",
      "metadata": {
        "id": "3MRoxXDfbI6c",
        "colab_type": "text"
      },
      "source": [
        "where $F[x]$ is CDF of the fitted mixture of two Gaussians for a value x."
      ]
    },
    {
      "cell_type": "markdown",
      "metadata": {
        "id": "DxE91yzBFKHg",
        "colab_type": "text"
      },
      "source": [
        "EF3M Algorithm\n",
        "\n",
        "\n",
        "\n",
        "https://github.com/hudson-and-thames/research/blob/master/Chapter10/ef3m_testing.ipynb"
      ]
    },
    {
      "cell_type": "code",
      "metadata": {
        "id": "dIgIVhFu70XZ",
        "colab_type": "code",
        "outputId": "a545de18-015e-48f4-e961-90744b12302e",
        "colab": {
          "base_uri": "https://localhost:8080/",
          "height": 35
        }
      },
      "source": [
        "m_reserve = bs.bet_sizing.bet_size_reserve(events_t1=bs_df['t1'], sides=bs_df.side, return_parameters=True, fit_runs=50)"
      ],
      "execution_count": 375,
      "outputs": [
        {
          "output_type": "stream",
          "text": [
            "|#########################| Completed 50 of 50 fitting rounds."
          ],
          "name": "stderr"
        }
      ]
    },
    {
      "cell_type": "code",
      "metadata": {
        "id": "D7T72qjx75c5",
        "colab_type": "code",
        "outputId": "6bc656ba-6610-4c7e-bb4f-ee6ade14311f",
        "colab": {
          "base_uri": "https://localhost:8080/",
          "height": 437
        }
      },
      "source": [
        "m_reserve[0]"
      ],
      "execution_count": 376,
      "outputs": [
        {
          "output_type": "execute_result",
          "data": {
            "text/html": [
              "<div>\n",
              "<style scoped>\n",
              "    .dataframe tbody tr th:only-of-type {\n",
              "        vertical-align: middle;\n",
              "    }\n",
              "\n",
              "    .dataframe tbody tr th {\n",
              "        vertical-align: top;\n",
              "    }\n",
              "\n",
              "    .dataframe thead th {\n",
              "        text-align: right;\n",
              "    }\n",
              "</style>\n",
              "<table border=\"1\" class=\"dataframe\">\n",
              "  <thead>\n",
              "    <tr style=\"text-align: right;\">\n",
              "      <th></th>\n",
              "      <th>t1</th>\n",
              "      <th>side</th>\n",
              "      <th>active_long</th>\n",
              "      <th>active_short</th>\n",
              "      <th>c_t</th>\n",
              "      <th>bet_size</th>\n",
              "    </tr>\n",
              "    <tr>\n",
              "      <th>date_time</th>\n",
              "      <th></th>\n",
              "      <th></th>\n",
              "      <th></th>\n",
              "      <th></th>\n",
              "      <th></th>\n",
              "      <th></th>\n",
              "    </tr>\n",
              "  </thead>\n",
              "  <tbody>\n",
              "    <tr>\n",
              "      <th>2015-07-09 09:56:21</th>\n",
              "      <td>2015-07-10 09:56:51</td>\n",
              "      <td>-1.0</td>\n",
              "      <td>0</td>\n",
              "      <td>1</td>\n",
              "      <td>-1</td>\n",
              "      <td>-0.151881</td>\n",
              "    </tr>\n",
              "    <tr>\n",
              "      <th>2015-07-09 12:00:31</th>\n",
              "      <td>2015-07-10 12:27:37</td>\n",
              "      <td>-1.0</td>\n",
              "      <td>0</td>\n",
              "      <td>2</td>\n",
              "      <td>-2</td>\n",
              "      <td>-0.305209</td>\n",
              "    </tr>\n",
              "    <tr>\n",
              "      <th>2015-07-09 15:59:28</th>\n",
              "      <td>2015-07-10 09:35:27</td>\n",
              "      <td>1.0</td>\n",
              "      <td>1</td>\n",
              "      <td>2</td>\n",
              "      <td>-1</td>\n",
              "      <td>-0.151881</td>\n",
              "    </tr>\n",
              "    <tr>\n",
              "      <th>2015-07-10 09:35:27</th>\n",
              "      <td>2015-07-13 09:30:23</td>\n",
              "      <td>1.0</td>\n",
              "      <td>1</td>\n",
              "      <td>2</td>\n",
              "      <td>-1</td>\n",
              "      <td>-0.151881</td>\n",
              "    </tr>\n",
              "    <tr>\n",
              "      <th>2015-07-10 11:48:00</th>\n",
              "      <td>2015-07-13 09:30:23</td>\n",
              "      <td>1.0</td>\n",
              "      <td>2</td>\n",
              "      <td>1</td>\n",
              "      <td>1</td>\n",
              "      <td>0.213848</td>\n",
              "    </tr>\n",
              "    <tr>\n",
              "      <th>...</th>\n",
              "      <td>...</td>\n",
              "      <td>...</td>\n",
              "      <td>...</td>\n",
              "      <td>...</td>\n",
              "      <td>...</td>\n",
              "      <td>...</td>\n",
              "    </tr>\n",
              "    <tr>\n",
              "      <th>2019-06-12 11:59:18</th>\n",
              "      <td>2019-06-13 12:16:14</td>\n",
              "      <td>-1.0</td>\n",
              "      <td>3</td>\n",
              "      <td>1</td>\n",
              "      <td>2</td>\n",
              "      <td>0.405916</td>\n",
              "    </tr>\n",
              "    <tr>\n",
              "      <th>2019-06-13 09:36:29</th>\n",
              "      <td>2019-06-14 09:48:52</td>\n",
              "      <td>-1.0</td>\n",
              "      <td>0</td>\n",
              "      <td>2</td>\n",
              "      <td>-2</td>\n",
              "      <td>-0.305209</td>\n",
              "    </tr>\n",
              "    <tr>\n",
              "      <th>2019-06-18 09:50:22</th>\n",
              "      <td>2019-06-19 09:57:29</td>\n",
              "      <td>-1.0</td>\n",
              "      <td>0</td>\n",
              "      <td>1</td>\n",
              "      <td>-1</td>\n",
              "      <td>-0.151881</td>\n",
              "    </tr>\n",
              "    <tr>\n",
              "      <th>2019-06-18 12:22:51</th>\n",
              "      <td>2019-06-19 12:33:36</td>\n",
              "      <td>1.0</td>\n",
              "      <td>1</td>\n",
              "      <td>1</td>\n",
              "      <td>0</td>\n",
              "      <td>0.000000</td>\n",
              "    </tr>\n",
              "    <tr>\n",
              "      <th>2019-06-19 14:01:58</th>\n",
              "      <td>2019-06-20 09:30:00</td>\n",
              "      <td>1.0</td>\n",
              "      <td>1</td>\n",
              "      <td>0</td>\n",
              "      <td>1</td>\n",
              "      <td>0.213848</td>\n",
              "    </tr>\n",
              "  </tbody>\n",
              "</table>\n",
              "<p>2562 rows × 6 columns</p>\n",
              "</div>"
            ],
            "text/plain": [
              "                                     t1  side  ...  c_t  bet_size\n",
              "date_time                                      ...               \n",
              "2015-07-09 09:56:21 2015-07-10 09:56:51  -1.0  ...   -1 -0.151881\n",
              "2015-07-09 12:00:31 2015-07-10 12:27:37  -1.0  ...   -2 -0.305209\n",
              "2015-07-09 15:59:28 2015-07-10 09:35:27   1.0  ...   -1 -0.151881\n",
              "2015-07-10 09:35:27 2015-07-13 09:30:23   1.0  ...   -1 -0.151881\n",
              "2015-07-10 11:48:00 2015-07-13 09:30:23   1.0  ...    1  0.213848\n",
              "...                                 ...   ...  ...  ...       ...\n",
              "2019-06-12 11:59:18 2019-06-13 12:16:14  -1.0  ...    2  0.405916\n",
              "2019-06-13 09:36:29 2019-06-14 09:48:52  -1.0  ...   -2 -0.305209\n",
              "2019-06-18 09:50:22 2019-06-19 09:57:29  -1.0  ...   -1 -0.151881\n",
              "2019-06-18 12:22:51 2019-06-19 12:33:36   1.0  ...    0  0.000000\n",
              "2019-06-19 14:01:58 2019-06-20 09:30:00   1.0  ...    1  0.213848\n",
              "\n",
              "[2562 rows x 6 columns]"
            ]
          },
          "metadata": {
            "tags": []
          },
          "execution_count": 376
        }
      ]
    },
    {
      "cell_type": "code",
      "metadata": {
        "id": "m6vfUje3CBPE",
        "colab_type": "code",
        "colab": {}
      },
      "source": [
        "BetSizeReserve = m_reserve[0].bet_size"
      ],
      "execution_count": 0,
      "outputs": []
    },
    {
      "cell_type": "code",
      "metadata": {
        "id": "NucjJ_DN9vl_",
        "colab_type": "code",
        "outputId": "857112fb-67d7-4389-c24c-9b703b3b8027",
        "colab": {
          "base_uri": "https://localhost:8080/",
          "height": 108
        }
      },
      "source": [
        "m_reserve[1]\n",
        "#parameter for two Gaussian mixture"
      ],
      "execution_count": 378,
      "outputs": [
        {
          "output_type": "execute_result",
          "data": {
            "text/plain": [
              "{'mu_1': -1.44884,\n",
              " 'mu_2': 3.70815,\n",
              " 'p_1': 0.92822,\n",
              " 'sigma_1': 4.10739,\n",
              " 'sigma_2': 2.85453}"
            ]
          },
          "metadata": {
            "tags": []
          },
          "execution_count": 378
        }
      ]
    },
    {
      "cell_type": "markdown",
      "metadata": {
        "id": "6dfB2jjncf5r",
        "colab_type": "text"
      },
      "source": [
        "# Bet sizing (budget)"
      ]
    },
    {
      "cell_type": "markdown",
      "metadata": {
        "id": "Xm_2_ENYbPge",
        "colab_type": "text"
      },
      "source": [
        "$$ m_t = c_{t,l}\\frac{1}{max_i[c_{i,l}]} − c_{t,s}\\frac{1}{max_i[c_{i,s}]} $$"
      ]
    },
    {
      "cell_type": "code",
      "metadata": {
        "id": "S2NP_MKf_5s7",
        "colab_type": "code",
        "outputId": "8f98bd12-5f4a-49cd-f9b4-691110ae3611",
        "colab": {
          "base_uri": "https://localhost:8080/",
          "height": 437
        }
      },
      "source": [
        "m_budget = bs.bet_sizing.bet_size_budget(bs_df.t1, bs_df.side)\n",
        "m_budget"
      ],
      "execution_count": 379,
      "outputs": [
        {
          "output_type": "execute_result",
          "data": {
            "text/html": [
              "<div>\n",
              "<style scoped>\n",
              "    .dataframe tbody tr th:only-of-type {\n",
              "        vertical-align: middle;\n",
              "    }\n",
              "\n",
              "    .dataframe tbody tr th {\n",
              "        vertical-align: top;\n",
              "    }\n",
              "\n",
              "    .dataframe thead th {\n",
              "        text-align: right;\n",
              "    }\n",
              "</style>\n",
              "<table border=\"1\" class=\"dataframe\">\n",
              "  <thead>\n",
              "    <tr style=\"text-align: right;\">\n",
              "      <th></th>\n",
              "      <th>t1</th>\n",
              "      <th>side</th>\n",
              "      <th>active_long</th>\n",
              "      <th>active_short</th>\n",
              "      <th>bet_size</th>\n",
              "    </tr>\n",
              "    <tr>\n",
              "      <th>date_time</th>\n",
              "      <th></th>\n",
              "      <th></th>\n",
              "      <th></th>\n",
              "      <th></th>\n",
              "      <th></th>\n",
              "    </tr>\n",
              "  </thead>\n",
              "  <tbody>\n",
              "    <tr>\n",
              "      <th>2015-07-09 09:56:21</th>\n",
              "      <td>2015-07-10 09:56:51</td>\n",
              "      <td>-1.0</td>\n",
              "      <td>0</td>\n",
              "      <td>1</td>\n",
              "      <td>-0.035714</td>\n",
              "    </tr>\n",
              "    <tr>\n",
              "      <th>2015-07-09 12:00:31</th>\n",
              "      <td>2015-07-10 12:27:37</td>\n",
              "      <td>-1.0</td>\n",
              "      <td>0</td>\n",
              "      <td>2</td>\n",
              "      <td>-0.071429</td>\n",
              "    </tr>\n",
              "    <tr>\n",
              "      <th>2015-07-09 15:59:28</th>\n",
              "      <td>2015-07-10 09:35:27</td>\n",
              "      <td>1.0</td>\n",
              "      <td>1</td>\n",
              "      <td>2</td>\n",
              "      <td>0.000000</td>\n",
              "    </tr>\n",
              "    <tr>\n",
              "      <th>2015-07-10 09:35:27</th>\n",
              "      <td>2015-07-13 09:30:23</td>\n",
              "      <td>1.0</td>\n",
              "      <td>1</td>\n",
              "      <td>2</td>\n",
              "      <td>0.000000</td>\n",
              "    </tr>\n",
              "    <tr>\n",
              "      <th>2015-07-10 11:48:00</th>\n",
              "      <td>2015-07-13 09:30:23</td>\n",
              "      <td>1.0</td>\n",
              "      <td>2</td>\n",
              "      <td>1</td>\n",
              "      <td>0.107143</td>\n",
              "    </tr>\n",
              "    <tr>\n",
              "      <th>...</th>\n",
              "      <td>...</td>\n",
              "      <td>...</td>\n",
              "      <td>...</td>\n",
              "      <td>...</td>\n",
              "      <td>...</td>\n",
              "    </tr>\n",
              "    <tr>\n",
              "      <th>2019-06-12 11:59:18</th>\n",
              "      <td>2019-06-13 12:16:14</td>\n",
              "      <td>-1.0</td>\n",
              "      <td>3</td>\n",
              "      <td>1</td>\n",
              "      <td>0.178571</td>\n",
              "    </tr>\n",
              "    <tr>\n",
              "      <th>2019-06-13 09:36:29</th>\n",
              "      <td>2019-06-14 09:48:52</td>\n",
              "      <td>-1.0</td>\n",
              "      <td>0</td>\n",
              "      <td>2</td>\n",
              "      <td>-0.071429</td>\n",
              "    </tr>\n",
              "    <tr>\n",
              "      <th>2019-06-18 09:50:22</th>\n",
              "      <td>2019-06-19 09:57:29</td>\n",
              "      <td>-1.0</td>\n",
              "      <td>0</td>\n",
              "      <td>1</td>\n",
              "      <td>-0.035714</td>\n",
              "    </tr>\n",
              "    <tr>\n",
              "      <th>2019-06-18 12:22:51</th>\n",
              "      <td>2019-06-19 12:33:36</td>\n",
              "      <td>1.0</td>\n",
              "      <td>1</td>\n",
              "      <td>1</td>\n",
              "      <td>0.035714</td>\n",
              "    </tr>\n",
              "    <tr>\n",
              "      <th>2019-06-19 14:01:58</th>\n",
              "      <td>2019-06-20 09:30:00</td>\n",
              "      <td>1.0</td>\n",
              "      <td>1</td>\n",
              "      <td>0</td>\n",
              "      <td>0.071429</td>\n",
              "    </tr>\n",
              "  </tbody>\n",
              "</table>\n",
              "<p>2562 rows × 5 columns</p>\n",
              "</div>"
            ],
            "text/plain": [
              "                                     t1  side  ...  active_short  bet_size\n",
              "date_time                                      ...                        \n",
              "2015-07-09 09:56:21 2015-07-10 09:56:51  -1.0  ...             1 -0.035714\n",
              "2015-07-09 12:00:31 2015-07-10 12:27:37  -1.0  ...             2 -0.071429\n",
              "2015-07-09 15:59:28 2015-07-10 09:35:27   1.0  ...             2  0.000000\n",
              "2015-07-10 09:35:27 2015-07-13 09:30:23   1.0  ...             2  0.000000\n",
              "2015-07-10 11:48:00 2015-07-13 09:30:23   1.0  ...             1  0.107143\n",
              "...                                 ...   ...  ...           ...       ...\n",
              "2019-06-12 11:59:18 2019-06-13 12:16:14  -1.0  ...             1  0.178571\n",
              "2019-06-13 09:36:29 2019-06-14 09:48:52  -1.0  ...             2 -0.071429\n",
              "2019-06-18 09:50:22 2019-06-19 09:57:29  -1.0  ...             1 -0.035714\n",
              "2019-06-18 12:22:51 2019-06-19 12:33:36   1.0  ...             1  0.035714\n",
              "2019-06-19 14:01:58 2019-06-20 09:30:00   1.0  ...             0  0.071429\n",
              "\n",
              "[2562 rows x 5 columns]"
            ]
          },
          "metadata": {
            "tags": []
          },
          "execution_count": 379
        }
      ]
    },
    {
      "cell_type": "code",
      "metadata": {
        "id": "04NQKAnVBjKt",
        "colab_type": "code",
        "colab": {}
      },
      "source": [
        "BetSizeBudget = m_budget.bet_size"
      ],
      "execution_count": 0,
      "outputs": []
    },
    {
      "cell_type": "markdown",
      "metadata": {
        "id": "lAjfISA7_qvn",
        "colab_type": "text"
      },
      "source": [
        "# Overview"
      ]
    },
    {
      "cell_type": "code",
      "metadata": {
        "id": "F_2osvUt941C",
        "colab_type": "code",
        "outputId": "6b0c97a9-3f54-417e-8cee-5c0e446ce365",
        "colab": {
          "base_uri": "https://localhost:8080/",
          "height": 437
        }
      },
      "source": [
        "bet_size_0 = pd.DataFrame({'BetSizeProb':m_prob,'BetSizeProbAvg':m_prob_avg,'BetSizeProbDiscrete':m_prob_discrete})\n",
        "bet_size_1 = bet_size_0.join(BetSizeReserve)\n",
        "bet_size = bet_size_1.join(BetSizeBudget,rsuffix='2')\n",
        "bet_size = bet_size.rename(columns={'bet_size':'BetSizeReserve', 'bet_size2':'BetSizeBudget'})\n",
        "bet_size"
      ],
      "execution_count": 381,
      "outputs": [
        {
          "output_type": "execute_result",
          "data": {
            "text/html": [
              "<div>\n",
              "<style scoped>\n",
              "    .dataframe tbody tr th:only-of-type {\n",
              "        vertical-align: middle;\n",
              "    }\n",
              "\n",
              "    .dataframe tbody tr th {\n",
              "        vertical-align: top;\n",
              "    }\n",
              "\n",
              "    .dataframe thead th {\n",
              "        text-align: right;\n",
              "    }\n",
              "</style>\n",
              "<table border=\"1\" class=\"dataframe\">\n",
              "  <thead>\n",
              "    <tr style=\"text-align: right;\">\n",
              "      <th></th>\n",
              "      <th>BetSizeProb</th>\n",
              "      <th>BetSizeProbAvg</th>\n",
              "      <th>BetSizeProbDiscrete</th>\n",
              "      <th>BetSizeReserve</th>\n",
              "      <th>BetSizeBudget</th>\n",
              "    </tr>\n",
              "    <tr>\n",
              "      <th>date_time</th>\n",
              "      <th></th>\n",
              "      <th></th>\n",
              "      <th></th>\n",
              "      <th></th>\n",
              "      <th></th>\n",
              "    </tr>\n",
              "  </thead>\n",
              "  <tbody>\n",
              "    <tr>\n",
              "      <th>2015-07-09 09:56:21</th>\n",
              "      <td>-0.004417</td>\n",
              "      <td>-0.004417</td>\n",
              "      <td>-0.00</td>\n",
              "      <td>-0.151881</td>\n",
              "      <td>-0.035714</td>\n",
              "    </tr>\n",
              "    <tr>\n",
              "      <th>2015-07-09 12:00:31</th>\n",
              "      <td>0.026203</td>\n",
              "      <td>0.010893</td>\n",
              "      <td>0.01</td>\n",
              "      <td>-0.305209</td>\n",
              "      <td>-0.071429</td>\n",
              "    </tr>\n",
              "    <tr>\n",
              "      <th>2015-07-09 15:59:28</th>\n",
              "      <td>0.206407</td>\n",
              "      <td>0.076064</td>\n",
              "      <td>0.08</td>\n",
              "      <td>-0.151881</td>\n",
              "      <td>0.000000</td>\n",
              "    </tr>\n",
              "    <tr>\n",
              "      <th>2015-07-10 09:35:27</th>\n",
              "      <td>-0.059283</td>\n",
              "      <td>-0.012499</td>\n",
              "      <td>-0.01</td>\n",
              "      <td>-0.151881</td>\n",
              "      <td>0.000000</td>\n",
              "    </tr>\n",
              "    <tr>\n",
              "      <th>2015-07-10 11:48:00</th>\n",
              "      <td>-0.150764</td>\n",
              "      <td>-0.061282</td>\n",
              "      <td>-0.06</td>\n",
              "      <td>0.213848</td>\n",
              "      <td>0.107143</td>\n",
              "    </tr>\n",
              "    <tr>\n",
              "      <th>...</th>\n",
              "      <td>...</td>\n",
              "      <td>...</td>\n",
              "      <td>...</td>\n",
              "      <td>...</td>\n",
              "      <td>...</td>\n",
              "    </tr>\n",
              "    <tr>\n",
              "      <th>2019-06-12 11:59:18</th>\n",
              "      <td>-0.034023</td>\n",
              "      <td>-0.061241</td>\n",
              "      <td>-0.06</td>\n",
              "      <td>0.405916</td>\n",
              "      <td>0.178571</td>\n",
              "    </tr>\n",
              "    <tr>\n",
              "      <th>2019-06-13 09:36:29</th>\n",
              "      <td>0.044213</td>\n",
              "      <td>0.005095</td>\n",
              "      <td>0.01</td>\n",
              "      <td>-0.305209</td>\n",
              "      <td>-0.071429</td>\n",
              "    </tr>\n",
              "    <tr>\n",
              "      <th>2019-06-18 09:50:22</th>\n",
              "      <td>0.032390</td>\n",
              "      <td>0.032390</td>\n",
              "      <td>0.03</td>\n",
              "      <td>-0.151881</td>\n",
              "      <td>-0.035714</td>\n",
              "    </tr>\n",
              "    <tr>\n",
              "      <th>2019-06-18 12:22:51</th>\n",
              "      <td>-0.167303</td>\n",
              "      <td>-0.067456</td>\n",
              "      <td>-0.07</td>\n",
              "      <td>0.000000</td>\n",
              "      <td>0.035714</td>\n",
              "    </tr>\n",
              "    <tr>\n",
              "      <th>2019-06-19 14:01:58</th>\n",
              "      <td>-0.063298</td>\n",
              "      <td>-0.063298</td>\n",
              "      <td>-0.06</td>\n",
              "      <td>0.213848</td>\n",
              "      <td>0.071429</td>\n",
              "    </tr>\n",
              "  </tbody>\n",
              "</table>\n",
              "<p>2562 rows × 5 columns</p>\n",
              "</div>"
            ],
            "text/plain": [
              "                     BetSizeProb  BetSizeProbAvg  ...  BetSizeReserve  BetSizeBudget\n",
              "date_time                                         ...                               \n",
              "2015-07-09 09:56:21    -0.004417       -0.004417  ...       -0.151881      -0.035714\n",
              "2015-07-09 12:00:31     0.026203        0.010893  ...       -0.305209      -0.071429\n",
              "2015-07-09 15:59:28     0.206407        0.076064  ...       -0.151881       0.000000\n",
              "2015-07-10 09:35:27    -0.059283       -0.012499  ...       -0.151881       0.000000\n",
              "2015-07-10 11:48:00    -0.150764       -0.061282  ...        0.213848       0.107143\n",
              "...                          ...             ...  ...             ...            ...\n",
              "2019-06-12 11:59:18    -0.034023       -0.061241  ...        0.405916       0.178571\n",
              "2019-06-13 09:36:29     0.044213        0.005095  ...       -0.305209      -0.071429\n",
              "2019-06-18 09:50:22     0.032390        0.032390  ...       -0.151881      -0.035714\n",
              "2019-06-18 12:22:51    -0.167303       -0.067456  ...        0.000000       0.035714\n",
              "2019-06-19 14:01:58    -0.063298       -0.063298  ...        0.213848       0.071429\n",
              "\n",
              "[2562 rows x 5 columns]"
            ]
          },
          "metadata": {
            "tags": []
          },
          "execution_count": 381
        }
      ]
    },
    {
      "cell_type": "code",
      "metadata": {
        "id": "lSK9HdDhRJIB",
        "colab_type": "code",
        "colab": {}
      },
      "source": [
        "bet_size.dropna(inplace=True)"
      ],
      "execution_count": 0,
      "outputs": []
    },
    {
      "cell_type": "markdown",
      "metadata": {
        "id": "tzyV4XujNPeK",
        "colab_type": "text"
      },
      "source": [
        "Plot"
      ]
    },
    {
      "cell_type": "code",
      "metadata": {
        "id": "JLUEVfuhKMbc",
        "colab_type": "code",
        "outputId": "c484e802-96c9-4f18-e24a-95c71d60bb2b",
        "colab": {
          "base_uri": "https://localhost:8080/",
          "height": 412
        }
      },
      "source": [
        "fig, ax = plt.subplots(figsize=(10,6))\n",
        "bet_size_3 = bet_size.drop(['BetSizeProbAvg','BetSizeProbDiscrete'],axis=1)\n",
        "ax.plot(bet_size_3[-100:])\n",
        "\n",
        "ax.legend(labels=bet_size_3.columns,loc='upper left', fontsize=12, title=\"Bet size type\", title_fontsize=10)\n",
        "ax.set_title(\"Bet Size 100 points\", fontsize=14)"
      ],
      "execution_count": 383,
      "outputs": [
        {
          "output_type": "execute_result",
          "data": {
            "text/plain": [
              "Text(0.5, 1.0, 'Bet Size 100 points')"
            ]
          },
          "metadata": {
            "tags": []
          },
          "execution_count": 383
        },
        {
          "output_type": "display_data",
          "data": {
            "image/png": "[encoded data removed]",
            "text/plain": [
              "<Figure size 720x432 with 1 Axes>"
            ]
          },
          "metadata": {
            "tags": []
          }
        }
      ]
    },
    {
      "cell_type": "code",
      "metadata": {
        "id": "yaSu4zBICuFN",
        "colab_type": "code",
        "outputId": "6ebd0c6d-f3a5-4a62-ec6e-cd4c5acd8241",
        "colab": {
          "base_uri": "https://localhost:8080/",
          "height": 412
        }
      },
      "source": [
        "fig, ax = plt.subplots(figsize=(10,6))\n",
        "bet_size_4 = bet_size.iloc[:,:3]\n",
        "ax.plot(bet_size_4[-100:])\n",
        "\n",
        "ax.legend(labels=bet_size_4.columns,loc='upper left', fontsize=12, title=\"Bet size type\", title_fontsize=10)\n",
        "ax.set_title(\"Bet Size Prob 100 points\", fontsize=14)"
      ],
      "execution_count": 384,
      "outputs": [
        {
          "output_type": "execute_result",
          "data": {
            "text/plain": [
              "Text(0.5, 1.0, 'Bet Size Prob 100 points')"
            ]
          },
          "metadata": {
            "tags": []
          },
          "execution_count": 384
        },
        {
          "output_type": "display_data",
          "data": {
            "image/png": "[encoded data removed]",
            "text/plain": [
              "<Figure size 720x432 with 1 Axes>"
            ]
          },
          "metadata": {
            "tags": []
          }
        }
      ]
    },
    {
      "cell_type": "code",
      "metadata": {
        "id": "1LRuhbKtNx2N",
        "colab_type": "code",
        "outputId": "c533d7cb-cec2-490c-bd76-ec99502a23b5",
        "colab": {
          "base_uri": "https://localhost:8080/",
          "height": 432
        }
      },
      "source": [
        "fig, ax = plt.subplots(figsize=(10,6))\n",
        "for c in ['BetSizeProb','BetSizeReserve', 'BetSizeBudget']:\n",
        "    ax.hist(bet_size_3[c],  label=c, alpha=0.6, bins=100)\n",
        "ax.legend(loc='upper left', fontsize=12, title=\"Bet size type\", title_fontsize=10)\n",
        "ax.set_xlabel(\"Bet Size, $m_t$\", fontsize=12)\n",
        "ax.set_ylabel(\"Value count\", fontsize=12)\n",
        "ax.set_title(\"Bet Size Distribution\", fontsize=14)"
      ],
      "execution_count": 385,
      "outputs": [
        {
          "output_type": "execute_result",
          "data": {
            "text/plain": [
              "Text(0.5, 1.0, 'Bet Size Distribution')"
            ]
          },
          "metadata": {
            "tags": []
          },
          "execution_count": 385
        },
        {
          "output_type": "display_data",
          "data": {
            "image/png": "[encoded data removed]",
            "text/plain": [
              "<Figure size 720x432 with 1 Axes>"
            ]
          },
          "metadata": {
            "tags": []
          }
        }
      ]
    },
    {
      "cell_type": "code",
      "metadata": {
        "id": "f0LAHHJkNaa1",
        "colab_type": "code",
        "outputId": "a8c4ccc3-745e-49e7-ff9f-3b43bf661aa8",
        "colab": {
          "base_uri": "https://localhost:8080/",
          "height": 432
        }
      },
      "source": [
        "fig, ax = plt.subplots(figsize=(10,6))\n",
        "for c in ['BetSizeProb','BetSizeProbAvg', 'BetSizeProbDiscrete']:\n",
        "    ax.hist(bet_size_4[c],  label=c, alpha=0.6, bins=100)\n",
        "ax.legend(loc='upper left', fontsize=12, title=\"Bet size type\", title_fontsize=10)\n",
        "ax.set_xlabel(\"Bet Size, $m_t$\", fontsize=12)\n",
        "ax.set_ylabel(\"Value count\", fontsize=12)\n",
        "ax.set_title(\"Bet Size Distribution\", fontsize=14)"
      ],
      "execution_count": 386,
      "outputs": [
        {
          "output_type": "execute_result",
          "data": {
            "text/plain": [
              "Text(0.5, 1.0, 'Bet Size Distribution')"
            ]
          },
          "metadata": {
            "tags": []
          },
          "execution_count": 386
        },
        {
          "output_type": "display_data",
          "data": {
            "image/png": "[encoded data removed]",
            "text/plain": [
              "<Figure size 720x432 with 1 Axes>"
            ]
          },
          "metadata": {
            "tags": []
          }
        }
      ]
    },
    {
      "cell_type": "code",
      "metadata": {
        "id": "NK_HVmubO9hn",
        "colab_type": "code",
        "colab": {}
      },
      "source": [
        ""
      ],
      "execution_count": 0,
      "outputs": []
    },
    {
      "cell_type": "markdown",
      "metadata": {
        "id": "d7YIGyDtPH92",
        "colab_type": "text"
      },
      "source": [
        "# REFERENCE"
      ]
    },
    {
      "cell_type": "markdown",
      "metadata": {
        "id": "ym6rl-oGPJIT",
        "colab_type": "text"
      },
      "source": [
        "Marcos Lopez de Prado. Advances in Financial Machine Learning. Wiley, 2018\n",
        "\n",
        "https://github.com/hudson-and-thames/research"
      ]
    },
    {
      "cell_type": "markdown",
      "metadata": {
        "id": "nPcMO2z3PUCY",
        "colab_type": "text"
      },
      "source": [
        "Marcos Lopez de Prado and Matthew D. Foreman. “A mixture ofGaussians approach to mathematical portfolio oversight: the EF3M algorithm”. In: Quantitative Finance14.5 (2014), pp. 913–930."
      ]
    },
    {
      "cell_type": "code",
      "metadata": {
        "id": "PYHTGOzHrnWA",
        "colab_type": "code",
        "colab": {}
      },
      "source": [
        ""
      ],
      "execution_count": 0,
      "outputs": []
    }
  ]
}