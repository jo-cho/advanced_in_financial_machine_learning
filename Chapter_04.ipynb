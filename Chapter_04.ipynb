{
  "nbformat": 4,
  "nbformat_minor": 0,
  "metadata": {
    "colab": {
      "name": "Chapter 4.ipynb",
      "provenance": [],
      "collapsed_sections": [],
      "include_colab_link": true
    },
    "kernelspec": {
      "name": "python3",
      "display_name": "Python 3"
    }
  },
  "cells": [
    {
      "cell_type": "markdown",
      "metadata": {
        "id": "view-in-github",
        "colab_type": "text"
      },
      "source": [
        "<a href=\"https://colab.research.google.com/github/jo-cho/advanced_in_financial_machine_learning/blob/master/Chapter_4.ipynb\" target=\"_parent\"><img src=\"https://colab.research.google.com/assets/colab-badge.svg\" alt=\"Open In Colab\"/></a>"
      ]
    },
    {
      "cell_type": "code",
      "metadata": {
        "id": "k-uSzxrsUYZs",
        "colab_type": "code",
        "colab": {}
      },
      "source": [
        ""
      ],
      "execution_count": 0,
      "outputs": []
    },
    {
      "cell_type": "markdown",
      "metadata": {
        "id": "G4mzVeH2Uc5y",
        "colab_type": "text"
      },
      "source": [
        "# Chapter 4 Exercise"
      ]
    },
    {
      "cell_type": "code",
      "metadata": {
        "id": "CdcGIjGUUhIG",
        "colab_type": "code",
        "outputId": "a5d1d0a1-9c71-421b-b485-1474f064f41e",
        "colab": {
          "base_uri": "https://localhost:8080/",
          "height": 139
        }
      },
      "source": [
        "import numpy as np\n",
        "import pandas as pd\n",
        "!pip install -q mlfinlab\n",
        "import mlfinlab\n",
        "import matplotlib.pyplot as plt\n",
        "import seaborn as sns; sns.set()\n",
        "from google.colab import drive\n",
        "drive.mount('/content/drive')"
      ],
      "execution_count": 0,
      "outputs": [
        {
          "output_type": "stream",
          "text": [
            "\u001b[?25l\r\u001b[K     |██▊                             | 10kB 20.5MB/s eta 0:00:01\r\u001b[K     |█████▌                          | 20kB 3.4MB/s eta 0:00:01\r\u001b[K     |████████▎                       | 30kB 4.8MB/s eta 0:00:01\r\u001b[K     |███████████                     | 40kB 3.1MB/s eta 0:00:01\r\u001b[K     |█████████████▉                  | 51kB 3.8MB/s eta 0:00:01\r\u001b[K     |████████████████▋               | 61kB 4.5MB/s eta 0:00:01\r\u001b[K     |███████████████████▍            | 71kB 5.2MB/s eta 0:00:01\r\u001b[K     |██████████████████████▏         | 81kB 5.9MB/s eta 0:00:01\r\u001b[K     |█████████████████████████       | 92kB 6.5MB/s eta 0:00:01\r\u001b[K     |███████████████████████████▊    | 102kB 5.1MB/s eta 0:00:01\r\u001b[K     |██████████████████████████████▌ | 112kB 5.1MB/s eta 0:00:01\r\u001b[K     |████████████████████████████████| 122kB 5.1MB/s \n",
            "\u001b[?25hGo to this URL in a browser: https://accounts.google.com/o/oauth2/auth?client_id=947318989803-6bn6qk8qdgf4n4g3pfee6491hc0brc4i.apps.googleusercontent.com&redirect_uri=urn%3aietf%3awg%3aoauth%3a2.0%3aoob&response_type=code&scope=email%20https%3a%2f%2fwww.googleapis.com%2fauth%2fdocs.test%20https%3a%2f%2fwww.googleapis.com%2fauth%2fdrive%20https%3a%2f%2fwww.googleapis.com%2fauth%2fdrive.photos.readonly%20https%3a%2f%2fwww.googleapis.com%2fauth%2fpeopleapi.readonly\n",
            "\n",
            "Enter your authorization code:\n",
            "··········\n",
            "Mounted at /content/drive\n"
          ],
          "name": "stdout"
        }
      ]
    },
    {
      "cell_type": "code",
      "metadata": {
        "id": "lNxwxAK_UyMO",
        "colab_type": "code",
        "colab": {}
      },
      "source": [
        "from mlfinlab import data_structures, features, filters, labeling"
      ],
      "execution_count": 0,
      "outputs": []
    },
    {
      "cell_type": "markdown",
      "metadata": {
        "id": "A9LgnV6qUkb0",
        "colab_type": "text"
      },
      "source": [
        "## 4.1."
      ]
    },
    {
      "cell_type": "markdown",
      "metadata": {
        "id": "M2oJnrkEVUD3",
        "colab_type": "text"
      },
      "source": [
        "## (a) t1(vertical barrier touch 시간) 뽑아내기"
      ]
    },
    {
      "cell_type": "code",
      "metadata": {
        "id": "3-Jr93c0VHzb",
        "colab_type": "code",
        "outputId": "6c938a61-be5c-4a74-a75e-d18171dbef6a",
        "colab": {
          "base_uri": "https://localhost:8080/",
          "height": 303
        }
      },
      "source": [
        "#달러 바 만들기\n",
        "raw_dollar_bars = data_structures.get_dollar_bars('/content/drive/My Drive/Colab Notebooks/csv/clean_IVE_tickbidask2.csv', threshold=1000000)\n",
        "#threshold = 1백만\n",
        "\n",
        "#df 다듬기\n",
        "dollar_bars = raw_dollar_bars.set_index(pd.to_datetime(raw_dollar_bars.date_time))\n",
        "dollar_bars = dollar_bars.drop(columns='date_time')\n",
        "dollar_bars.head()"
      ],
      "execution_count": 0,
      "outputs": [
        {
          "output_type": "stream",
          "text": [
            "Reading data in batches:\n",
            "Batch number: 0\n",
            "Returning bars \n",
            "\n"
          ],
          "name": "stdout"
        },
        {
          "output_type": "execute_result",
          "data": {
            "text/html": [
              "<div>\n",
              "<style scoped>\n",
              "    .dataframe tbody tr th:only-of-type {\n",
              "        vertical-align: middle;\n",
              "    }\n",
              "\n",
              "    .dataframe tbody tr th {\n",
              "        vertical-align: top;\n",
              "    }\n",
              "\n",
              "    .dataframe thead th {\n",
              "        text-align: right;\n",
              "    }\n",
              "</style>\n",
              "<table border=\"1\" class=\"dataframe\">\n",
              "  <thead>\n",
              "    <tr style=\"text-align: right;\">\n",
              "      <th></th>\n",
              "      <th>open</th>\n",
              "      <th>high</th>\n",
              "      <th>low</th>\n",
              "      <th>close</th>\n",
              "      <th>volume</th>\n",
              "    </tr>\n",
              "    <tr>\n",
              "      <th>date_time</th>\n",
              "      <th></th>\n",
              "      <th></th>\n",
              "      <th></th>\n",
              "      <th></th>\n",
              "      <th></th>\n",
              "    </tr>\n",
              "  </thead>\n",
              "  <tbody>\n",
              "    <tr>\n",
              "      <th>2009-09-28 09:46:35</th>\n",
              "      <td>50.79</td>\n",
              "      <td>51.07</td>\n",
              "      <td>50.710</td>\n",
              "      <td>51.07</td>\n",
              "      <td>19844</td>\n",
              "    </tr>\n",
              "    <tr>\n",
              "      <th>2009-09-28 09:53:49</th>\n",
              "      <td>51.07</td>\n",
              "      <td>51.15</td>\n",
              "      <td>51.050</td>\n",
              "      <td>51.14</td>\n",
              "      <td>20324</td>\n",
              "    </tr>\n",
              "    <tr>\n",
              "      <th>2009-09-28 09:55:26</th>\n",
              "      <td>51.14</td>\n",
              "      <td>51.15</td>\n",
              "      <td>51.129</td>\n",
              "      <td>51.14</td>\n",
              "      <td>19622</td>\n",
              "    </tr>\n",
              "    <tr>\n",
              "      <th>2009-09-28 10:02:52</th>\n",
              "      <td>51.14</td>\n",
              "      <td>51.26</td>\n",
              "      <td>51.080</td>\n",
              "      <td>51.25</td>\n",
              "      <td>22319</td>\n",
              "    </tr>\n",
              "    <tr>\n",
              "      <th>2009-09-28 10:10:21</th>\n",
              "      <td>51.25</td>\n",
              "      <td>51.29</td>\n",
              "      <td>51.190</td>\n",
              "      <td>51.29</td>\n",
              "      <td>21519</td>\n",
              "    </tr>\n",
              "  </tbody>\n",
              "</table>\n",
              "</div>"
            ],
            "text/plain": [
              "                      open   high     low  close  volume\n",
              "date_time                                               \n",
              "2009-09-28 09:46:35  50.79  51.07  50.710  51.07   19844\n",
              "2009-09-28 09:53:49  51.07  51.15  51.050  51.14   20324\n",
              "2009-09-28 09:55:26  51.14  51.15  51.129  51.14   19622\n",
              "2009-09-28 10:02:52  51.14  51.26  51.080  51.25   22319\n",
              "2009-09-28 10:10:21  51.25  51.29  51.190  51.29   21519"
            ]
          },
          "metadata": {
            "tags": []
          },
          "execution_count": 3
        }
      ]
    },
    {
      "cell_type": "code",
      "metadata": {
        "id": "VHmOHhq9VPOi",
        "colab_type": "code",
        "outputId": "6e0e9057-33f7-4c1f-fe02-eafc836b00e7",
        "colab": {
          "base_uri": "https://localhost:8080/",
          "height": 34
        }
      },
      "source": [
        "len(dollar_bars)"
      ],
      "execution_count": 0,
      "outputs": [
        {
          "output_type": "execute_result",
          "data": {
            "text/plain": [
              "59578"
            ]
          },
          "metadata": {
            "tags": []
          },
          "execution_count": 4
        }
      ]
    },
    {
      "cell_type": "code",
      "metadata": {
        "id": "AiBiXDS3Va6m",
        "colab_type": "code",
        "outputId": "21cbea85-8853-4205-fbcb-a3376f2f9136",
        "colab": {
          "base_uri": "https://localhost:8080/",
          "height": 34
        }
      },
      "source": [
        "dollar_bars = dollar_bars.reset_index().drop_duplicates(subset='date_time', keep='last').set_index('date_time')\n",
        "dollar_bars.head()\n",
        "len(dollar_bars)"
      ],
      "execution_count": 0,
      "outputs": [
        {
          "output_type": "execute_result",
          "data": {
            "text/plain": [
              "58607"
            ]
          },
          "metadata": {
            "tags": []
          },
          "execution_count": 5
        }
      ]
    },
    {
      "cell_type": "code",
      "metadata": {
        "id": "snODH4d2ZVLR",
        "colab_type": "code",
        "colab": {}
      },
      "source": [
        "close = dollar_bars.close"
      ],
      "execution_count": 0,
      "outputs": []
    },
    {
      "cell_type": "code",
      "metadata": {
        "id": "Zryt2n1FVsGR",
        "colab_type": "code",
        "colab": {}
      },
      "source": [
        "def getDailyVol(close,span0=100):\n",
        "    # daily vol reindexed to close\n",
        "    df0=close.index.searchsorted(close.index-pd.Timedelta(days=1))\n",
        "    #bp()\n",
        "    df0=df0[df0>0]\n",
        "    #bp()\n",
        "    df0=(pd.Series(close.index[df0-1],\n",
        "                   index=close.index[close.shape[0]-df0.shape[0]:]))\n",
        "    #bp()\n",
        "    try:\n",
        "        df0=close.loc[df0.index]/close.loc[df0.values].values-1 # daily rets\n",
        "    except Exception as e:\n",
        "        print(e)\n",
        "        print('adjusting shape of close.loc[df0.index]')\n",
        "        cut = close.loc[df0.index].shape[0] - close.loc[df0.values].shape[0]\n",
        "        df0=close.loc[df0.index].iloc[:-cut]/close.loc[df0.values].values-1\n",
        "    df0=df0.ewm(span=span0).std().rename('dailyVol')\n",
        "    return df0"
      ],
      "execution_count": 0,
      "outputs": []
    },
    {
      "cell_type": "code",
      "metadata": {
        "id": "5y0YR3ddW9QS",
        "colab_type": "code",
        "colab": {}
      },
      "source": [
        "DailyVol = getDailyVol(close=dollar_bars.close)\n",
        "DailyVol = DailyVol.dropna()\n",
        "h = DailyVol.mean()"
      ],
      "execution_count": 0,
      "outputs": []
    },
    {
      "cell_type": "code",
      "metadata": {
        "id": "7nlboG7fY-IY",
        "colab_type": "code",
        "colab": {}
      },
      "source": [
        "tEvents = filters.cusum_filter(close,h)"
      ],
      "execution_count": 0,
      "outputs": []
    },
    {
      "cell_type": "code",
      "metadata": {
        "id": "moO-OAfIZcIr",
        "colab_type": "code",
        "colab": {}
      },
      "source": [
        "t1 = labeling.add_vertical_barrier(tEvents,close,num_days=1)"
      ],
      "execution_count": 0,
      "outputs": []
    },
    {
      "cell_type": "code",
      "metadata": {
        "id": "Eimta3CwZmQv",
        "colab_type": "code",
        "outputId": "6f5d8b55-4677-4515-f72a-2ac345523803",
        "colab": {
          "base_uri": "https://localhost:8080/",
          "height": 221
        }
      },
      "source": [
        "t1"
      ],
      "execution_count": 0,
      "outputs": [
        {
          "output_type": "execute_result",
          "data": {
            "text/plain": [
              "2009-09-28 12:33:18   2009-09-29 12:34:54\n",
              "2009-09-29 09:27:39   2009-09-30 09:32:03\n",
              "2009-09-29 12:00:17   2009-09-30 12:48:14\n",
              "2009-09-30 09:44:47   2009-10-01 09:52:26\n",
              "2009-09-30 09:56:31   2009-10-01 10:00:15\n",
              "                              ...        \n",
              "2019-06-18 09:39:43   2019-06-19 09:57:29\n",
              "2019-06-20 09:30:00   2019-06-21 09:30:00\n",
              "2019-06-20 12:20:48   2019-06-21 12:28:50\n",
              "2019-06-20 15:50:44   2019-06-21 15:59:41\n",
              "2019-06-25 09:42:50   2019-06-26 09:54:29\n",
              "Name: date_time, Length: 3164, dtype: datetime64[ns]"
            ]
          },
          "metadata": {
            "tags": []
          },
          "execution_count": 11
        }
      ]
    },
    {
      "cell_type": "markdown",
      "metadata": {
        "id": "O6xbevewZtJA",
        "colab_type": "text"
      },
      "source": [
        "### (b) number of concurrent events"
      ]
    },
    {
      "cell_type": "code",
      "metadata": {
        "id": "sNXS1XBtZpt-",
        "colab_type": "code",
        "colab": {}
      },
      "source": [
        "from mlfinlab import sample_weights, sampling"
      ],
      "execution_count": 0,
      "outputs": []
    },
    {
      "cell_type": "code",
      "metadata": {
        "id": "BXfjGPPccZ0v",
        "colab_type": "code",
        "colab": {}
      },
      "source": [
        "molecule = np.array(close.index[0:1000]) #조금만 해보자"
      ],
      "execution_count": 0,
      "outputs": []
    },
    {
      "cell_type": "code",
      "metadata": {
        "id": "r_ucQvDQa0wH",
        "colab_type": "code",
        "colab": {}
      },
      "source": [
        "c = sampling.num_concurrent_events(close.index,t1,molecule)"
      ],
      "execution_count": 0,
      "outputs": []
    },
    {
      "cell_type": "code",
      "metadata": {
        "id": "1QWOxLDGc3gw",
        "colab_type": "code",
        "outputId": "92e65f52-8cd3-4898-e0b6-070d293b12bd",
        "colab": {
          "base_uri": "https://localhost:8080/",
          "height": 238
        }
      },
      "source": [
        "c"
      ],
      "execution_count": 0,
      "outputs": [
        {
          "output_type": "execute_result",
          "data": {
            "text/plain": [
              "date_time\n",
              "2009-09-28 12:33:18    1\n",
              "2009-09-28 13:20:29    1\n",
              "2009-09-28 13:44:27    1\n",
              "2009-09-28 14:05:46    1\n",
              "2009-09-28 14:11:43    1\n",
              "                      ..\n",
              "2010-01-19 15:08:50    1\n",
              "2010-01-19 15:34:01    1\n",
              "2010-01-20 09:32:42    1\n",
              "2010-01-20 09:57:21    1\n",
              "2010-01-20 10:54:08    2\n",
              "Length: 991, dtype: int64"
            ]
          },
          "metadata": {
            "tags": []
          },
          "execution_count": 15
        }
      ]
    },
    {
      "cell_type": "markdown",
      "metadata": {
        "id": "0g0_NMQlc8HG",
        "colab_type": "text"
      },
      "source": [
        "### (c) concurrent event 수와 수익률 표준편차와의 관계"
      ]
    },
    {
      "cell_type": "code",
      "metadata": {
        "id": "hIvordPCdELL",
        "colab_type": "code",
        "colab": {}
      },
      "source": [
        "\n",
        "coEvents_std = (pd.DataFrame().assign(numCoEvents = c, std = close.pct_change().dropna().ewm(50).std()))"
      ],
      "execution_count": 0,
      "outputs": []
    },
    {
      "cell_type": "code",
      "metadata": {
        "id": "HUkJviVmeAFq",
        "colab_type": "code",
        "outputId": "ca1fe66c-39aa-4fb1-e28c-e8a52f5d1ead",
        "colab": {
          "base_uri": "https://localhost:8080/",
          "height": 450
        }
      },
      "source": [
        "coEvents_std"
      ],
      "execution_count": 0,
      "outputs": [
        {
          "output_type": "execute_result",
          "data": {
            "text/html": [
              "<div>\n",
              "<style scoped>\n",
              "    .dataframe tbody tr th:only-of-type {\n",
              "        vertical-align: middle;\n",
              "    }\n",
              "\n",
              "    .dataframe tbody tr th {\n",
              "        vertical-align: top;\n",
              "    }\n",
              "\n",
              "    .dataframe thead th {\n",
              "        text-align: right;\n",
              "    }\n",
              "</style>\n",
              "<table border=\"1\" class=\"dataframe\">\n",
              "  <thead>\n",
              "    <tr style=\"text-align: right;\">\n",
              "      <th></th>\n",
              "      <th>numCoEvents</th>\n",
              "      <th>std</th>\n",
              "    </tr>\n",
              "    <tr>\n",
              "      <th>date_time</th>\n",
              "      <th></th>\n",
              "      <th></th>\n",
              "    </tr>\n",
              "  </thead>\n",
              "  <tbody>\n",
              "    <tr>\n",
              "      <th>2009-09-28 12:33:18</th>\n",
              "      <td>1</td>\n",
              "      <td>0.000854</td>\n",
              "    </tr>\n",
              "    <tr>\n",
              "      <th>2009-09-28 13:20:29</th>\n",
              "      <td>1</td>\n",
              "      <td>0.000821</td>\n",
              "    </tr>\n",
              "    <tr>\n",
              "      <th>2009-09-28 13:44:27</th>\n",
              "      <td>1</td>\n",
              "      <td>0.000847</td>\n",
              "    </tr>\n",
              "    <tr>\n",
              "      <th>2009-09-28 14:05:46</th>\n",
              "      <td>1</td>\n",
              "      <td>0.000975</td>\n",
              "    </tr>\n",
              "    <tr>\n",
              "      <th>2009-09-28 14:11:43</th>\n",
              "      <td>1</td>\n",
              "      <td>0.001049</td>\n",
              "    </tr>\n",
              "    <tr>\n",
              "      <th>...</th>\n",
              "      <td>...</td>\n",
              "      <td>...</td>\n",
              "    </tr>\n",
              "    <tr>\n",
              "      <th>2010-01-19 15:08:50</th>\n",
              "      <td>1</td>\n",
              "      <td>0.002140</td>\n",
              "    </tr>\n",
              "    <tr>\n",
              "      <th>2010-01-19 15:34:01</th>\n",
              "      <td>1</td>\n",
              "      <td>0.002138</td>\n",
              "    </tr>\n",
              "    <tr>\n",
              "      <th>2010-01-20 09:32:42</th>\n",
              "      <td>1</td>\n",
              "      <td>0.002358</td>\n",
              "    </tr>\n",
              "    <tr>\n",
              "      <th>2010-01-20 09:57:21</th>\n",
              "      <td>1</td>\n",
              "      <td>0.002347</td>\n",
              "    </tr>\n",
              "    <tr>\n",
              "      <th>2010-01-20 10:54:08</th>\n",
              "      <td>2</td>\n",
              "      <td>0.002455</td>\n",
              "    </tr>\n",
              "  </tbody>\n",
              "</table>\n",
              "<p>991 rows × 2 columns</p>\n",
              "</div>"
            ],
            "text/plain": [
              "                     numCoEvents       std\n",
              "date_time                                 \n",
              "2009-09-28 12:33:18            1  0.000854\n",
              "2009-09-28 13:20:29            1  0.000821\n",
              "2009-09-28 13:44:27            1  0.000847\n",
              "2009-09-28 14:05:46            1  0.000975\n",
              "2009-09-28 14:11:43            1  0.001049\n",
              "...                          ...       ...\n",
              "2010-01-19 15:08:50            1  0.002140\n",
              "2010-01-19 15:34:01            1  0.002138\n",
              "2010-01-20 09:32:42            1  0.002358\n",
              "2010-01-20 09:57:21            1  0.002347\n",
              "2010-01-20 10:54:08            2  0.002455\n",
              "\n",
              "[991 rows x 2 columns]"
            ]
          },
          "metadata": {
            "tags": []
          },
          "execution_count": 17
        }
      ]
    },
    {
      "cell_type": "code",
      "metadata": {
        "id": "AM-6uO-veD9f",
        "colab_type": "code",
        "outputId": "c46c2f4a-78a1-4e5a-9608-c32d37de9776",
        "colab": {
          "base_uri": "https://localhost:8080/",
          "height": 409
        }
      },
      "source": [
        "fig, ax = plt.subplots(figsize=(9,6))\n",
        "\n",
        "coEvents_std.numCoEvents.plot(legend=True, ax=ax)\n",
        "coEvents_std['std'].plot(secondary_y=True, legend=True, ax=ax)"
      ],
      "execution_count": 0,
      "outputs": [
        {
          "output_type": "execute_result",
          "data": {
            "text/plain": [
              "<matplotlib.axes._subplots.AxesSubplot at 0x7fd51f5b3400>"
            ]
          },
          "metadata": {
            "tags": []
          },
          "execution_count": 18
        },
        {
          "output_type": "display_data",
          "data": {
            "image/png": "[encoded data removed]",
            "text/plain": [
              "<Figure size 648x432 with 2 Axes>"
            ]
          },
          "metadata": {
            "tags": []
          }
        }
      ]
    },
    {
      "cell_type": "markdown",
      "metadata": {
        "id": "VnPs4WWBfF5c",
        "colab_type": "text"
      },
      "source": [
        "### (d) plotting"
      ]
    },
    {
      "cell_type": "code",
      "metadata": {
        "id": "L3PagxZneYRa",
        "colab_type": "code",
        "colab": {}
      },
      "source": [
        "import plotnine as pn"
      ],
      "execution_count": 0,
      "outputs": []
    },
    {
      "cell_type": "code",
      "metadata": {
        "id": "brzOafuKfkMd",
        "colab_type": "code",
        "outputId": "728c71f9-b6ab-465f-e0e8-92b913a8b280",
        "colab": {
          "base_uri": "https://localhost:8080/",
          "height": 668
        }
      },
      "source": [
        "(pn.ggplot(coEvents_std, pn.aes('numCoEvents', 'std'))\n",
        " +pn.geom_point()\n",
        " +pn.stat_smooth())"
      ],
      "execution_count": 0,
      "outputs": [
        {
          "output_type": "stream",
          "text": [
            "/usr/local/lib/python3.6/dist-packages/plotnine/scales/scale.py:93: MatplotlibDeprecationWarning: \n",
            "The iterable function was deprecated in Matplotlib 3.1 and will be removed in 3.3. Use np.iterable instead.\n",
            "  if cbook.iterable(self.breaks) and cbook.iterable(self.labels):\n",
            "/usr/local/lib/python3.6/dist-packages/statsmodels/nonparametric/smoothers_lowess.py:165: RuntimeWarning: invalid value encountered in greater_equal\n",
            "  res = _lowess(y, x, frac=frac, it=it, delta=delta)\n",
            "/usr/local/lib/python3.6/dist-packages/plotnine/stats/smoothers.py:146: UserWarning: Confidence intervals are not yet implementedfor lowess smoothings.\n",
            "  warnings.warn(\"Confidence intervals are not yet implemented\"\n",
            "/usr/local/lib/python3.6/dist-packages/plotnine/utils.py:553: MatplotlibDeprecationWarning: \n",
            "The iterable function was deprecated in Matplotlib 3.1 and will be removed in 3.3. Use np.iterable instead.\n",
            "  return cbook.iterable(var) and not is_string(var)\n",
            "/usr/local/lib/python3.6/dist-packages/plotnine/layer.py:449: UserWarning: geom_smooth : Removed 991 rows containing missing values.\n",
            "  self.data = self.geom.handle_na(self.data)\n"
          ],
          "name": "stderr"
        },
        {
          "output_type": "display_data",
          "data": {
            "image/png": "[encoded data removed]",
            "text/plain": [
              "<Figure size 640x480 with 1 Axes>"
            ]
          },
          "metadata": {
            "tags": []
          }
        },
        {
          "output_type": "execute_result",
          "data": {
            "text/plain": [
              "<ggplot: (8784560748159)>"
            ]
          },
          "metadata": {
            "tags": []
          },
          "execution_count": 20
        }
      ]
    },
    {
      "cell_type": "code",
      "metadata": {
        "id": "HUk2jMtYfp8v",
        "colab_type": "code",
        "colab": {}
      },
      "source": [
        "#overlap이 많이 됐을 때 수익률 분산이 큼\n"
      ],
      "execution_count": 0,
      "outputs": []
    },
    {
      "cell_type": "markdown",
      "metadata": {
        "id": "WpG5w5bzgKdo",
        "colab_type": "text"
      },
      "source": [
        "# 4.2. uniqueness 구하기, ar(1) 측정"
      ]
    },
    {
      "cell_type": "code",
      "metadata": {
        "id": "IsYHQ2C6htWM",
        "colab_type": "code",
        "colab": {}
      },
      "source": [
        "pt_sl=[1,1]\n",
        "target = DailyVol"
      ],
      "execution_count": 0,
      "outputs": []
    },
    {
      "cell_type": "code",
      "metadata": {
        "id": "f7cfjQehhQmi",
        "colab_type": "code",
        "outputId": "28bec6b7-6338-4e74-985b-64127655b89d",
        "colab": {
          "base_uri": "https://localhost:8080/",
          "height": 136
        }
      },
      "source": [
        "tripple_barrier_events = labeling.get_events(close, tEvents,pt_sl,target,min_ret=0.01,num_threads=1,vertical_barrier_times=False,side_prediction= None)"
      ],
      "execution_count": 0,
      "outputs": [
        {
          "output_type": "stream",
          "text": [
            "/usr/local/lib/python3.6/dist-packages/mlfinlab/labeling/labeling.py:124: FutureWarning: \n",
            "Passing list-likes to .loc or [] with any missing label will raise\n",
            "KeyError in the future, you can use .reindex() as an alternative.\n",
            "\n",
            "See the documentation here:\n",
            "https://pandas.pydata.org/pandas-docs/stable/user_guide/indexing.html#deprecate-loc-reindex-listlike\n",
            "  target = target.loc[t_events]\n"
          ],
          "name": "stderr"
        }
      ]
    },
    {
      "cell_type": "code",
      "metadata": {
        "id": "P5cqG2T1gSzC",
        "colab_type": "code",
        "colab": {}
      },
      "source": [
        "tW = sampling.get_av_uniqueness_from_triple_barrier(tripple_barrier_events,close,1)"
      ],
      "execution_count": 0,
      "outputs": []
    },
    {
      "cell_type": "code",
      "metadata": {
        "id": "vSeHBSJpidNd",
        "colab_type": "code",
        "outputId": "91766c44-c5c6-47cc-a276-4eb4caec9763",
        "colab": {
          "base_uri": "https://localhost:8080/",
          "height": 419
        }
      },
      "source": [
        "tW"
      ],
      "execution_count": 0,
      "outputs": [
        {
          "output_type": "execute_result",
          "data": {
            "text/html": [
              "<div>\n",
              "<style scoped>\n",
              "    .dataframe tbody tr th:only-of-type {\n",
              "        vertical-align: middle;\n",
              "    }\n",
              "\n",
              "    .dataframe tbody tr th {\n",
              "        vertical-align: top;\n",
              "    }\n",
              "\n",
              "    .dataframe thead th {\n",
              "        text-align: right;\n",
              "    }\n",
              "</style>\n",
              "<table border=\"1\" class=\"dataframe\">\n",
              "  <thead>\n",
              "    <tr style=\"text-align: right;\">\n",
              "      <th></th>\n",
              "      <th>tW</th>\n",
              "    </tr>\n",
              "  </thead>\n",
              "  <tbody>\n",
              "    <tr>\n",
              "      <th>2009-10-02 09:32:42</th>\n",
              "      <td>0.812500</td>\n",
              "    </tr>\n",
              "    <tr>\n",
              "      <th>2009-10-02 10:34:31</th>\n",
              "      <td>0.920000</td>\n",
              "    </tr>\n",
              "    <tr>\n",
              "      <th>2009-10-05 12:55:39</th>\n",
              "      <td>0.900000</td>\n",
              "    </tr>\n",
              "    <tr>\n",
              "      <th>2009-10-06 09:31:29</th>\n",
              "      <td>0.344048</td>\n",
              "    </tr>\n",
              "    <tr>\n",
              "      <th>2009-10-06 11:16:28</th>\n",
              "      <td>0.311538</td>\n",
              "    </tr>\n",
              "    <tr>\n",
              "      <th>...</th>\n",
              "      <td>...</td>\n",
              "    </tr>\n",
              "    <tr>\n",
              "      <th>2019-05-15 09:30:00</th>\n",
              "      <td>0.269271</td>\n",
              "    </tr>\n",
              "    <tr>\n",
              "      <th>2019-05-15 10:38:24</th>\n",
              "      <td>0.262644</td>\n",
              "    </tr>\n",
              "    <tr>\n",
              "      <th>2019-05-16 10:01:27</th>\n",
              "      <td>0.454610</td>\n",
              "    </tr>\n",
              "    <tr>\n",
              "      <th>2019-05-17 09:30:00</th>\n",
              "      <td>0.333333</td>\n",
              "    </tr>\n",
              "    <tr>\n",
              "      <th>2019-06-05 09:30:00</th>\n",
              "      <td>1.000000</td>\n",
              "    </tr>\n",
              "  </tbody>\n",
              "</table>\n",
              "<p>1088 rows × 1 columns</p>\n",
              "</div>"
            ],
            "text/plain": [
              "                           tW\n",
              "2009-10-02 09:32:42  0.812500\n",
              "2009-10-02 10:34:31  0.920000\n",
              "2009-10-05 12:55:39  0.900000\n",
              "2009-10-06 09:31:29  0.344048\n",
              "2009-10-06 11:16:28  0.311538\n",
              "...                       ...\n",
              "2019-05-15 09:30:00  0.269271\n",
              "2019-05-15 10:38:24  0.262644\n",
              "2019-05-16 10:01:27  0.454610\n",
              "2019-05-17 09:30:00  0.333333\n",
              "2019-06-05 09:30:00  1.000000\n",
              "\n",
              "[1088 rows x 1 columns]"
            ]
          },
          "metadata": {
            "tags": []
          },
          "execution_count": 24
        }
      ]
    },
    {
      "cell_type": "code",
      "metadata": {
        "id": "tifh5KTgigtT",
        "colab_type": "code",
        "colab": {}
      },
      "source": [
        "from statsmodels.tsa.ar_model import AR, ARResults"
      ],
      "execution_count": 0,
      "outputs": []
    },
    {
      "cell_type": "code",
      "metadata": {
        "id": "2JZkNBL8iyhO",
        "colab_type": "code",
        "outputId": "d0d94113-f378-44d0-963c-52d98c25e64c",
        "colab": {
          "base_uri": "https://localhost:8080/",
          "height": 71
        }
      },
      "source": [
        "ar = AR(tW)\n",
        "modelar = ar.fit(1)"
      ],
      "execution_count": 0,
      "outputs": [
        {
          "output_type": "stream",
          "text": [
            "/usr/local/lib/python3.6/dist-packages/statsmodels/tsa/base/tsa_model.py:219: ValueWarning: A date index has been provided, but it has no associated frequency information and so will be ignored when e.g. forecasting.\n",
            "  ' ignored when e.g. forecasting.', ValueWarning)\n"
          ],
          "name": "stderr"
        }
      ]
    },
    {
      "cell_type": "code",
      "metadata": {
        "id": "ifilmpwzne9F",
        "colab_type": "code",
        "outputId": "ad0ccd76-2ba4-4961-af3a-7d9dd12907c8",
        "colab": {
          "base_uri": "https://localhost:8080/",
          "height": 68
        }
      },
      "source": [
        "modelar.params"
      ],
      "execution_count": 0,
      "outputs": [
        {
          "output_type": "execute_result",
          "data": {
            "text/plain": [
              "const    0.094741\n",
              "L1.tW    0.724575\n",
              "dtype: float64"
            ]
          },
          "metadata": {
            "tags": []
          },
          "execution_count": 27
        }
      ]
    },
    {
      "cell_type": "code",
      "metadata": {
        "id": "c7l4m8iejjBc",
        "colab_type": "code",
        "outputId": "d2a677bd-e2fc-438c-ab1e-73e306948771",
        "colab": {
          "base_uri": "https://localhost:8080/",
          "height": 136
        }
      },
      "source": [
        "print(modelar.pvalues,2*'\\n', modelar.tvalues)\n",
        "#yes"
      ],
      "execution_count": 0,
      "outputs": [
        {
          "output_type": "stream",
          "text": [
            "const     1.213312e-27\n",
            "L1.tW    8.382844e-261\n",
            "dtype: float64 \n",
            "\n",
            " const    10.895326\n",
            "L1.tW    34.498724\n",
            "dtype: float64\n"
          ],
          "name": "stdout"
        }
      ]
    },
    {
      "cell_type": "markdown",
      "metadata": {
        "id": "RZMaFrTvoaAh",
        "colab_type": "text"
      },
      "source": [
        "# 4.3 Fit a random forest to a financial dataset where $I^{−1}\\sum_{i=1}^{I} \\bar{u}_i \\ll 1$"
      ]
    },
    {
      "cell_type": "markdown",
      "metadata": {
        "id": "3CNqfX4SgPLf",
        "colab_type": "text"
      },
      "source": [
        "## (a) out-of-bag mean accuracy"
      ]
    },
    {
      "cell_type": "code",
      "metadata": {
        "id": "fZLje9DxgEJ4",
        "colab_type": "code",
        "outputId": "6136cc32-86d8-4d2b-81ef-a08724d7d716",
        "colab": {
          "base_uri": "https://localhost:8080/",
          "height": 136
        }
      },
      "source": [
        "from sklearn.model_selection import train_test_split\n",
        "from sklearn.ensemble import RandomForestClassifier, RandomForestRegressor\n",
        "\n",
        "Xy = (pd.DataFrame().assign(close=close,close_lag=close.shift(1))).dropna()\n",
        "## i'm not sure what this is. 저 수식을 만족시키는 건가?\n",
        "\n",
        "y = Xy.loc[:,'close'].values\n",
        "X = Xy.loc[:,'close_lag'].values.reshape(-1,1)\n",
        "\n",
        "X_train, X_test, y_train, y_test = train_test_split(X, y, test_size=0.25,shuffle=False)\n",
        "\n",
        "n_estimator = 50\n",
        "rf = RandomForestRegressor(max_depth=2, n_estimators=n_estimator,\n",
        "                           criterion='mse', oob_score=True,\n",
        "                           )\n",
        "rf.fit(X_train, y_train)"
      ],
      "execution_count": 0,
      "outputs": [
        {
          "output_type": "execute_result",
          "data": {
            "text/plain": [
              "RandomForestRegressor(bootstrap=True, criterion='mse', max_depth=2,\n",
              "                      max_features='auto', max_leaf_nodes=None,\n",
              "                      min_impurity_decrease=0.0, min_impurity_split=None,\n",
              "                      min_samples_leaf=1, min_samples_split=2,\n",
              "                      min_weight_fraction_leaf=0.0, n_estimators=50,\n",
              "                      n_jobs=None, oob_score=True, random_state=None, verbose=0,\n",
              "                      warm_start=False)"
            ]
          },
          "metadata": {
            "tags": []
          },
          "execution_count": 31
        }
      ]
    },
    {
      "cell_type": "code",
      "metadata": {
        "id": "pcI7l7iap-8_",
        "colab_type": "code",
        "outputId": "7e03a38c-1ab3-42d8-e9f5-ce8333054637",
        "colab": {
          "base_uri": "https://localhost:8080/",
          "height": 34
        }
      },
      "source": [
        "rf.oob_score_"
      ],
      "execution_count": 0,
      "outputs": [
        {
          "output_type": "execute_result",
          "data": {
            "text/plain": [
              "0.929785556021754"
            ]
          },
          "metadata": {
            "tags": []
          },
          "execution_count": 30
        }
      ]
    },
    {
      "cell_type": "markdown",
      "metadata": {
        "id": "jimDpx9PwuDl",
        "colab_type": "text"
      },
      "source": [
        "- OOB Score가 뭘까?\n",
        "\n",
        "https://towardsdatascience.com/what-is-out-of-bag-oob-score-in-random-forest-a7fa23d710\n",
        "\n",
        "https://en.wikipedia.org/wiki/Out-of-bag_error\n",
        "\n",
        "- 왜 하라고 한 걸까?"
      ]
    },
    {
      "cell_type": "markdown",
      "metadata": {
        "id": "bHdCUSnpqN9Y",
        "colab_type": "text"
      },
      "source": [
        "## (b) k-fold cross-validation (no shuffle) mean accuracy"
      ]
    },
    {
      "cell_type": "code",
      "metadata": {
        "id": "xdXBH8PZrF9M",
        "colab_type": "code",
        "colab": {}
      },
      "source": [
        "\n",
        "from sklearn.model_selection import cross_validate\n",
        "\n",
        "n_estimator = 50\n",
        "rf = RandomForestRegressor(max_depth=1, n_estimators=n_estimator,\n",
        "                           criterion='mse', oob_score=True,\n",
        "                           )\n",
        "\n",
        "scores = cross_validate(rf, X, y, cv=5, return_estimator=True)"
      ],
      "execution_count": 0,
      "outputs": []
    },
    {
      "cell_type": "code",
      "metadata": {
        "id": "y1rqjqhq53Az",
        "colab_type": "code",
        "outputId": "9330f86a-eb99-4bfb-8a2f-46a938083212",
        "colab": {
          "base_uri": "https://localhost:8080/",
          "height": 34
        }
      },
      "source": [
        "oob_scores = [est.oob_score_ for est in scores['estimator']]\n",
        "np.mean(oob_scores)\n",
        "#이 과정은 아직 이해가 가지 않아 베꼈다."
      ],
      "execution_count": 0,
      "outputs": [
        {
          "output_type": "execute_result",
          "data": {
            "text/plain": [
              "0.7662238411646467"
            ]
          },
          "metadata": {
            "tags": []
          },
          "execution_count": 36
        }
      ]
    },
    {
      "cell_type": "markdown",
      "metadata": {
        "id": "0XqCF2Of6Itp",
        "colab_type": "text"
      },
      "source": [
        "## (c) comparison"
      ]
    },
    {
      "cell_type": "markdown",
      "metadata": {
        "id": "EfRu2ZMU6gI0",
        "colab_type": "text"
      },
      "source": [
        "Out of bag accuracy is higher than cross-validation b/c the incorrect assumption of IID draws leads to oversampling of redudant samples.\n",
        "\n",
        "For random forests this means that the trees too similar. The random sampling also means that in-bag and out-of-bag samples will be similar inflating the oob_score_. In this example the cross-validation is less-biased.\n",
        "\n",
        "from BlackArbsCEO"
      ]
    },
    {
      "cell_type": "markdown",
      "metadata": {
        "id": "I-gAb8TL6eop",
        "colab_type": "text"
      },
      "source": [
        "# 4.4 exponential time decay factor"
      ]
    },
    {
      "cell_type": "code",
      "metadata": {
        "id": "eWckaSo08VAx",
        "colab_type": "code",
        "colab": {}
      },
      "source": [
        "#original one\n",
        "\n",
        "def getTimeDecay(tW,clfLastW=1.):\n",
        "# apply piecewise-linear decay to observed uniqueness (tW)\n",
        "# newest observation gets weight=1, oldest observation gets weight=clfLastW\n",
        "  clfW=tW.sort_index().cumsum()\n",
        "  if clfLastW>=0:\n",
        "    slope=(1.-clfLastW)/clfW.iloc[-1]\n",
        "  else:\n",
        "    slope=1./((clfLastW+1)*clfW.iloc[-1])\n",
        "\n",
        "  const=1.-slope*clfW.iloc[-1]\n",
        "  clfW=const+slope*clfW\n",
        "  clfW[clfW<0]=0\n",
        "  print (const,slope)\n",
        "  return clfW"
      ],
      "execution_count": 0,
      "outputs": []
    },
    {
      "cell_type": "code",
      "metadata": {
        "id": "BJZ7DbzP9AHn",
        "colab_type": "code",
        "colab": {}
      },
      "source": [
        "def getExTimeDecay(tW,clfLastW=1.,exponent=1):\n",
        "    # apply exponential decay to observed uniqueness (tW)\n",
        "    # newest observation gets weight=1, oldest observation gets weight=clfLastW\n",
        "    clfW=tW.sort_index().cumsum()\n",
        "    if clfLastW>=0: \n",
        "      slope=((1.-clfLastW)/clfW.iloc[-1])**exponent\n",
        "    else: \n",
        "      slope=(1./((clfLastW+1)*clfW.iloc[-1]))**exponent\n",
        "    const=1.-slope*clfW.iloc[-1]\n",
        "    clfW=const+slope*clfW\n",
        "    clfW[clfW<0]=0\n",
        "    print(const,slope)\n",
        "    return clfW"
      ],
      "execution_count": 0,
      "outputs": []
    },
    {
      "cell_type": "code",
      "metadata": {
        "id": "8SYySYXH8Z4d",
        "colab_type": "code",
        "outputId": "64104f70-55ce-4de1-8168-14c16f4df2fa",
        "colab": {
          "base_uri": "https://localhost:8080/",
          "height": 470
        }
      },
      "source": [
        "getTimeDecay(tW,1)"
      ],
      "execution_count": 0,
      "outputs": [
        {
          "output_type": "stream",
          "text": [
            "tW    1.0\n",
            "Name: 2019-06-05 09:30:00, dtype: float64 tW    0.0\n",
            "Name: 2019-06-05 09:30:00, dtype: float64\n"
          ],
          "name": "stdout"
        },
        {
          "output_type": "execute_result",
          "data": {
            "text/html": [
              "<div>\n",
              "<style scoped>\n",
              "    .dataframe tbody tr th:only-of-type {\n",
              "        vertical-align: middle;\n",
              "    }\n",
              "\n",
              "    .dataframe tbody tr th {\n",
              "        vertical-align: top;\n",
              "    }\n",
              "\n",
              "    .dataframe thead th {\n",
              "        text-align: right;\n",
              "    }\n",
              "</style>\n",
              "<table border=\"1\" class=\"dataframe\">\n",
              "  <thead>\n",
              "    <tr style=\"text-align: right;\">\n",
              "      <th></th>\n",
              "      <th>tW</th>\n",
              "    </tr>\n",
              "  </thead>\n",
              "  <tbody>\n",
              "    <tr>\n",
              "      <th>2009-10-02 09:32:42</th>\n",
              "      <td>1.0</td>\n",
              "    </tr>\n",
              "    <tr>\n",
              "      <th>2009-10-02 10:34:31</th>\n",
              "      <td>1.0</td>\n",
              "    </tr>\n",
              "    <tr>\n",
              "      <th>2009-10-05 12:55:39</th>\n",
              "      <td>1.0</td>\n",
              "    </tr>\n",
              "    <tr>\n",
              "      <th>2009-10-06 09:31:29</th>\n",
              "      <td>1.0</td>\n",
              "    </tr>\n",
              "    <tr>\n",
              "      <th>2009-10-06 11:16:28</th>\n",
              "      <td>1.0</td>\n",
              "    </tr>\n",
              "    <tr>\n",
              "      <th>...</th>\n",
              "      <td>...</td>\n",
              "    </tr>\n",
              "    <tr>\n",
              "      <th>2019-05-15 09:30:00</th>\n",
              "      <td>1.0</td>\n",
              "    </tr>\n",
              "    <tr>\n",
              "      <th>2019-05-15 10:38:24</th>\n",
              "      <td>1.0</td>\n",
              "    </tr>\n",
              "    <tr>\n",
              "      <th>2019-05-16 10:01:27</th>\n",
              "      <td>1.0</td>\n",
              "    </tr>\n",
              "    <tr>\n",
              "      <th>2019-05-17 09:30:00</th>\n",
              "      <td>1.0</td>\n",
              "    </tr>\n",
              "    <tr>\n",
              "      <th>2019-06-05 09:30:00</th>\n",
              "      <td>1.0</td>\n",
              "    </tr>\n",
              "  </tbody>\n",
              "</table>\n",
              "<p>1088 rows × 1 columns</p>\n",
              "</div>"
            ],
            "text/plain": [
              "                      tW\n",
              "2009-10-02 09:32:42  1.0\n",
              "2009-10-02 10:34:31  1.0\n",
              "2009-10-05 12:55:39  1.0\n",
              "2009-10-06 09:31:29  1.0\n",
              "2009-10-06 11:16:28  1.0\n",
              "...                  ...\n",
              "2019-05-15 09:30:00  1.0\n",
              "2019-05-15 10:38:24  1.0\n",
              "2019-05-16 10:01:27  1.0\n",
              "2019-05-17 09:30:00  1.0\n",
              "2019-06-05 09:30:00  1.0\n",
              "\n",
              "[1088 rows x 1 columns]"
            ]
          },
          "metadata": {
            "tags": []
          },
          "execution_count": 44
        }
      ]
    },
    {
      "cell_type": "code",
      "metadata": {
        "id": "4xaUNNB_9LS_",
        "colab_type": "code",
        "outputId": "3b9b40d6-5c09-4e60-df5f-2851fde913be",
        "colab": {
          "base_uri": "https://localhost:8080/",
          "height": 470
        }
      },
      "source": [
        "getExTimeDecay(tW,1,1)"
      ],
      "execution_count": 0,
      "outputs": [
        {
          "output_type": "stream",
          "text": [
            "tW    1.0\n",
            "Name: 2019-06-05 09:30:00, dtype: float64 tW    0.0\n",
            "Name: 2019-06-05 09:30:00, dtype: float64\n"
          ],
          "name": "stdout"
        },
        {
          "output_type": "execute_result",
          "data": {
            "text/html": [
              "<div>\n",
              "<style scoped>\n",
              "    .dataframe tbody tr th:only-of-type {\n",
              "        vertical-align: middle;\n",
              "    }\n",
              "\n",
              "    .dataframe tbody tr th {\n",
              "        vertical-align: top;\n",
              "    }\n",
              "\n",
              "    .dataframe thead th {\n",
              "        text-align: right;\n",
              "    }\n",
              "</style>\n",
              "<table border=\"1\" class=\"dataframe\">\n",
              "  <thead>\n",
              "    <tr style=\"text-align: right;\">\n",
              "      <th></th>\n",
              "      <th>tW</th>\n",
              "    </tr>\n",
              "  </thead>\n",
              "  <tbody>\n",
              "    <tr>\n",
              "      <th>2009-10-02 09:32:42</th>\n",
              "      <td>1.0</td>\n",
              "    </tr>\n",
              "    <tr>\n",
              "      <th>2009-10-02 10:34:31</th>\n",
              "      <td>1.0</td>\n",
              "    </tr>\n",
              "    <tr>\n",
              "      <th>2009-10-05 12:55:39</th>\n",
              "      <td>1.0</td>\n",
              "    </tr>\n",
              "    <tr>\n",
              "      <th>2009-10-06 09:31:29</th>\n",
              "      <td>1.0</td>\n",
              "    </tr>\n",
              "    <tr>\n",
              "      <th>2009-10-06 11:16:28</th>\n",
              "      <td>1.0</td>\n",
              "    </tr>\n",
              "    <tr>\n",
              "      <th>...</th>\n",
              "      <td>...</td>\n",
              "    </tr>\n",
              "    <tr>\n",
              "      <th>2019-05-15 09:30:00</th>\n",
              "      <td>1.0</td>\n",
              "    </tr>\n",
              "    <tr>\n",
              "      <th>2019-05-15 10:38:24</th>\n",
              "      <td>1.0</td>\n",
              "    </tr>\n",
              "    <tr>\n",
              "      <th>2019-05-16 10:01:27</th>\n",
              "      <td>1.0</td>\n",
              "    </tr>\n",
              "    <tr>\n",
              "      <th>2019-05-17 09:30:00</th>\n",
              "      <td>1.0</td>\n",
              "    </tr>\n",
              "    <tr>\n",
              "      <th>2019-06-05 09:30:00</th>\n",
              "      <td>1.0</td>\n",
              "    </tr>\n",
              "  </tbody>\n",
              "</table>\n",
              "<p>1088 rows × 1 columns</p>\n",
              "</div>"
            ],
            "text/plain": [
              "                      tW\n",
              "2009-10-02 09:32:42  1.0\n",
              "2009-10-02 10:34:31  1.0\n",
              "2009-10-05 12:55:39  1.0\n",
              "2009-10-06 09:31:29  1.0\n",
              "2009-10-06 11:16:28  1.0\n",
              "...                  ...\n",
              "2019-05-15 09:30:00  1.0\n",
              "2019-05-15 10:38:24  1.0\n",
              "2019-05-16 10:01:27  1.0\n",
              "2019-05-17 09:30:00  1.0\n",
              "2019-06-05 09:30:00  1.0\n",
              "\n",
              "[1088 rows x 1 columns]"
            ]
          },
          "metadata": {
            "tags": []
          },
          "execution_count": 67
        }
      ]
    },
    {
      "cell_type": "code",
      "metadata": {
        "id": "vRODJaP25-CK",
        "colab_type": "code",
        "outputId": "96583392-6e56-416b-b224-eb663d8535ba",
        "colab": {
          "base_uri": "https://localhost:8080/",
          "height": 255
        }
      },
      "source": [
        "#mlfinlab함수 , exponential은 없음.\n",
        "\n",
        "sample_weights.get_weights_by_time_decay(tripple_barrier_events,close,3,1)"
      ],
      "execution_count": 0,
      "outputs": [
        {
          "output_type": "stream",
          "text": [
            "2019-11-24 15:09:55.117027 100.0% num_concurrent_events done after 0.02 minutes. Remaining 0.0 minutes.\n",
            "2019-11-24 15:09:55.947356 100.0% _get_average_uniqueness done after 0.01 minutes. Remaining 0.0 minutes.\n"
          ],
          "name": "stderr"
        },
        {
          "output_type": "execute_result",
          "data": {
            "text/plain": [
              "2009-10-02 09:32:42    1.0\n",
              "2009-10-02 10:34:31    1.0\n",
              "2009-10-05 12:55:39    1.0\n",
              "2009-10-06 09:31:29    1.0\n",
              "2009-10-06 11:16:28    1.0\n",
              "                      ... \n",
              "2019-05-15 09:30:00    1.0\n",
              "2019-05-15 10:38:24    1.0\n",
              "2019-05-16 10:01:27    1.0\n",
              "2019-05-17 09:30:00    1.0\n",
              "2019-06-05 09:30:00    1.0\n",
              "Name: tW, Length: 1088, dtype: float64"
            ]
          },
          "metadata": {
            "tags": []
          },
          "execution_count": 50
        }
      ]
    },
    {
      "cell_type": "code",
      "metadata": {
        "id": "COslEu9I_05e",
        "colab_type": "code",
        "outputId": "d48f5345-888b-455e-da71-690b481a7b6d",
        "colab": {
          "base_uri": "https://localhost:8080/",
          "height": 336
        }
      },
      "source": [
        "#c=1\n",
        "plt.plot(getExTimeDecay(tW,1,1))"
      ],
      "execution_count": 0,
      "outputs": [
        {
          "output_type": "stream",
          "text": [
            "tW    1.0\n",
            "Name: 2019-06-05 09:30:00, dtype: float64 tW    0.0\n",
            "Name: 2019-06-05 09:30:00, dtype: float64\n"
          ],
          "name": "stdout"
        },
        {
          "output_type": "execute_result",
          "data": {
            "text/plain": [
              "[<matplotlib.lines.Line2D at 0x7fd5056bd7f0>]"
            ]
          },
          "metadata": {
            "tags": []
          },
          "execution_count": 80
        },
        {
          "output_type": "display_data",
          "data": {
            "image/png": "[encoded data removed]",
            "text/plain": [
              "<Figure size 432x288 with 1 Axes>"
            ]
          },
          "metadata": {
            "tags": []
          }
        }
      ]
    },
    {
      "cell_type": "code",
      "metadata": {
        "id": "CtS-Wbg09sMH",
        "colab_type": "code",
        "outputId": "fb2c8a6c-8af4-4b49-c5c9-d605f6a008ed",
        "colab": {
          "base_uri": "https://localhost:8080/",
          "height": 336
        }
      },
      "source": [
        "#c=0.6\n",
        "plt.plot(getExTimeDecay(tW,0.6,1))"
      ],
      "execution_count": 0,
      "outputs": [
        {
          "output_type": "stream",
          "text": [
            "tW    0.6\n",
            "Name: 2019-06-05 09:30:00, dtype: float64 tW    0.001069\n",
            "Name: 2019-06-05 09:30:00, dtype: float64\n"
          ],
          "name": "stdout"
        },
        {
          "output_type": "execute_result",
          "data": {
            "text/plain": [
              "[<matplotlib.lines.Line2D at 0x7fd5055a96a0>]"
            ]
          },
          "metadata": {
            "tags": []
          },
          "execution_count": 84
        },
        {
          "output_type": "display_data",
          "data": {
            "image/png": "[encoded data removed]",
            "text/plain": [
              "<Figure size 432x288 with 1 Axes>"
            ]
          },
          "metadata": {
            "tags": []
          }
        }
      ]
    },
    {
      "cell_type": "code",
      "metadata": {
        "id": "JJOeNAXJ_jXQ",
        "colab_type": "code",
        "outputId": "f0165d62-6761-4d24-d62d-4040c9c83a8d",
        "colab": {
          "base_uri": "https://localhost:8080/",
          "height": 319
        }
      },
      "source": [
        "#mlfinlab\n",
        "plt.plot(sample_weights.get_weights_by_time_decay(tripple_barrier_events,close,3,0.6))"
      ],
      "execution_count": 0,
      "outputs": [
        {
          "output_type": "stream",
          "text": [
            "2019-11-24 15:21:48.761523 100.0% num_concurrent_events done after 0.02 minutes. Remaining 0.0 minutes.\n",
            "2019-11-24 15:21:49.614056 100.0% _get_average_uniqueness done after 0.01 minutes. Remaining 0.0 minutes.\n"
          ],
          "name": "stderr"
        },
        {
          "output_type": "execute_result",
          "data": {
            "text/plain": [
              "[<matplotlib.lines.Line2D at 0x7fd50557a240>]"
            ]
          },
          "metadata": {
            "tags": []
          },
          "execution_count": 85
        },
        {
          "output_type": "display_data",
          "data": {
            "image/png": "[encoded data removed]",
            "text/plain": [
              "<Figure size 432x288 with 1 Axes>"
            ]
          },
          "metadata": {
            "tags": []
          }
        }
      ]
    },
    {
      "cell_type": "code",
      "metadata": {
        "id": "6vV61HpSAW4d",
        "colab_type": "code",
        "outputId": "a1a4dafe-085e-4a5f-c031-c7515b965243",
        "colab": {
          "base_uri": "https://localhost:8080/",
          "height": 370
        }
      },
      "source": [
        "plt.plot(sample_weights.get_weights_by_time_decay(tripple_barrier_events,close,3,0)),\n",
        "plt.plot(getExTimeDecay(tW,0,1))"
      ],
      "execution_count": 0,
      "outputs": [
        {
          "output_type": "stream",
          "text": [
            "2019-11-24 15:22:56.227088 33.33% num_concurrent_events done after 0.02 minutes. Remaining 0.03 minutes.\r2019-11-24 15:22:56.284989 66.67% num_concurrent_events done after 0.02 minutes. Remaining 0.01 minutes.\r2019-11-24 15:22:56.301029 100.0% num_concurrent_events done after 0.02 minutes. Remaining 0.0 minutes.\n"
          ],
          "name": "stderr"
        },
        {
          "output_type": "stream",
          "text": [
            "tW    0.0\n",
            "Name: 2019-06-05 09:30:00, dtype: float64 tW    0.002672\n",
            "Name: 2019-06-05 09:30:00, dtype: float64\n"
          ],
          "name": "stdout"
        },
        {
          "output_type": "stream",
          "text": [
            "2019-11-24 15:22:57.025052 33.33% _get_average_uniqueness done after 0.01 minutes. Remaining 0.02 minutes.\r2019-11-24 15:22:57.064459 66.67% _get_average_uniqueness done after 0.01 minutes. Remaining 0.0 minutes.\r2019-11-24 15:22:57.141752 100.0% _get_average_uniqueness done after 0.01 minutes. Remaining 0.0 minutes.\n"
          ],
          "name": "stderr"
        },
        {
          "output_type": "execute_result",
          "data": {
            "text/plain": [
              "[<matplotlib.lines.Line2D at 0x7fd5053e8668>]"
            ]
          },
          "metadata": {
            "tags": []
          },
          "execution_count": 90
        },
        {
          "output_type": "display_data",
          "data": {
            "image/png": "[encoded data removed]",
            "text/plain": [
              "<Figure size 432x288 with 1 Axes>"
            ]
          },
          "metadata": {
            "tags": []
          }
        }
      ]
    },
    {
      "cell_type": "code",
      "metadata": {
        "id": "J73oRALMAn0e",
        "colab_type": "code",
        "outputId": "64e5d04a-c7a0-44f4-a9e8-e992512f333b",
        "colab": {
          "base_uri": "https://localhost:8080/",
          "height": 370
        }
      },
      "source": [
        "plt.plot(sample_weights.get_weights_by_time_decay(tripple_barrier_events,close,3,-0.4)),\n",
        "plt.plot(getExTimeDecay(tW,-0.4,1))"
      ],
      "execution_count": 0,
      "outputs": [
        {
          "output_type": "stream",
          "text": [
            "2019-11-24 15:23:25.794530 100.0% num_concurrent_events done after 0.02 minutes. Remaining 0.0 minutes.\n",
            "2019-11-24 15:23:26.665069 100.0% _get_average_uniqueness done after 0.01 minutes. Remaining 0.0 minutes.\n"
          ],
          "name": "stderr"
        },
        {
          "output_type": "stream",
          "text": [
            "tW   -0.666667\n",
            "Name: 2019-06-05 09:30:00, dtype: float64 tW    0.004454\n",
            "Name: 2019-06-05 09:30:00, dtype: float64\n"
          ],
          "name": "stdout"
        },
        {
          "output_type": "execute_result",
          "data": {
            "text/plain": [
              "[<matplotlib.lines.Line2D at 0x7fd5053f99b0>]"
            ]
          },
          "metadata": {
            "tags": []
          },
          "execution_count": 91
        },
        {
          "output_type": "display_data",
          "data": {
            "image/png": "[encoded data removed]",
            "text/plain": [
              "<Figure size 432x288 with 1 Axes>"
            ]
          },
          "metadata": {
            "tags": []
          }
        }
      ]
    },
    {
      "cell_type": "code",
      "metadata": {
        "id": "D2a2lZReA3G2",
        "colab_type": "code",
        "outputId": "5ed2b44d-5184-4e6f-fb1e-c3c10b0d1b89",
        "colab": {
          "base_uri": "https://localhost:8080/",
          "height": 591
        }
      },
      "source": [
        "plt.plot(getExTimeDecay(tW,-0.75,1))\n",
        "plt.plot(getExTimeDecay(tW,-0.25,1))\n",
        "plt.plot(getExTimeDecay(tW,0,1))\n",
        "plt.plot(getExTimeDecay(tW,0.25,1))\n",
        "plt.plot(getExTimeDecay(tW,0.75,1))\n",
        "plt.plot(getExTimeDecay(tW,1,1))"
      ],
      "execution_count": 0,
      "outputs": [
        {
          "output_type": "stream",
          "text": [
            "tW   -3.0\n",
            "Name: 2019-06-05 09:30:00, dtype: float64 tW    0.010689\n",
            "Name: 2019-06-05 09:30:00, dtype: float64\n",
            "tW   -0.333333\n",
            "Name: 2019-06-05 09:30:00, dtype: float64 tW    0.003563\n",
            "Name: 2019-06-05 09:30:00, dtype: float64\n",
            "tW    0.0\n",
            "Name: 2019-06-05 09:30:00, dtype: float64 tW    0.002672\n",
            "Name: 2019-06-05 09:30:00, dtype: float64\n",
            "tW    0.25\n",
            "Name: 2019-06-05 09:30:00, dtype: float64 tW    0.002004\n",
            "Name: 2019-06-05 09:30:00, dtype: float64\n",
            "tW    0.75\n",
            "Name: 2019-06-05 09:30:00, dtype: float64 tW    0.000668\n",
            "Name: 2019-06-05 09:30:00, dtype: float64\n",
            "tW    1.0\n",
            "Name: 2019-06-05 09:30:00, dtype: float64 tW    0.0\n",
            "Name: 2019-06-05 09:30:00, dtype: float64\n"
          ],
          "name": "stdout"
        },
        {
          "output_type": "execute_result",
          "data": {
            "text/plain": [
              "[<matplotlib.lines.Line2D at 0x7fd50527ba90>]"
            ]
          },
          "metadata": {
            "tags": []
          },
          "execution_count": 94
        },
        {
          "output_type": "display_data",
          "data": {
            "image/png": "[encoded data removed]",
            "text/plain": [
              "<Figure size 432x288 with 1 Axes>"
            ]
          },
          "metadata": {
            "tags": []
          }
        }
      ]
    },
    {
      "cell_type": "markdown",
      "metadata": {
        "id": "2KOGNuCIAvBS",
        "colab_type": "text"
      },
      "source": [
        "# 4.5 \n",
        "### label 0이 2/3 1이 1/3이라고 하자."
      ]
    },
    {
      "cell_type": "markdown",
      "metadata": {
        "id": "3BoRQyRCEkJG",
        "colab_type": "text"
      },
      "source": [
        "## (a) without balancing class weight"
      ]
    },
    {
      "cell_type": "markdown",
      "metadata": {
        "id": "oCPg20h9E53r",
        "colab_type": "text"
      },
      "source": [
        "The classifier will maximize accuracy by **over-predicting** the dominant class\n",
        "\n"
      ]
    },
    {
      "cell_type": "markdown",
      "metadata": {
        "id": "uRK_DLtZEz6l",
        "colab_type": "text"
      },
      "source": [
        "## (b)\n",
        "A label 1 means a true positive, and a label 0 means a false positive. By\n",
        "applying balanced class weights, we are forcing the classifier to pay more\n",
        "attention to the true positives, and less attention to the false positives. Why\n",
        "does that make sense?"
      ]
    },
    {
      "cell_type": "markdown",
      "metadata": {
        "id": "Ba51Ins1FUQJ",
        "colab_type": "text"
      },
      "source": [
        "Tying the output to real-life purpose means that too many false positives result in bad trades/investments which means lost capital. From a ML perspective without balanced class weights we will maximize accuracy by simply predicting the dominant class. **We need to improve precision: TP/(TP+FP) relative to recall: TP/(TP+FN)** not just overall accuracy (TP+TN)/(TP+FP+TN+FN)."
      ]
    },
    {
      "cell_type": "markdown",
      "metadata": {
        "id": "pgVl8sAMF46o",
        "colab_type": "text"
      },
      "source": [
        "### (c)"
      ]
    },
    {
      "cell_type": "markdown",
      "metadata": {
        "id": "xnd5w6tIEziS",
        "colab_type": "text"
      },
      "source": [
        "would be more evenly distributed"
      ]
    },
    {
      "cell_type": "markdown",
      "metadata": {
        "id": "zWk-Ut0kGCX_",
        "colab_type": "text"
      },
      "source": [
        "# 4.6"
      ]
    },
    {
      "cell_type": "markdown",
      "metadata": {
        "id": "beGNUd_QGEEH",
        "colab_type": "text"
      },
      "source": [
        "# 4.7"
      ]
    },
    {
      "cell_type": "markdown",
      "metadata": {
        "id": "6yTIXEMF-36c",
        "colab_type": "text"
      },
      "source": [
        ""
      ]
    }
  ]
}